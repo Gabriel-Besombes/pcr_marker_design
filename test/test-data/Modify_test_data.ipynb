{
 "cells": [
  {
   "cell_type": "markdown",
   "metadata": {},
   "source": [
    "# Modify test data   \n",
    "    \n",
    "### Info\n",
    "- oct 2018\n",
    "- Gabriel Besombes\n",
    "\n",
    "### Explaination\n",
    "- Modify data in AcCHR1_test.vcf.gz"
   ]
  },
  {
   "cell_type": "markdown",
   "metadata": {},
   "source": [
    "#   "
   ]
  },
  {
   "cell_type": "markdown",
   "metadata": {},
   "source": [
    "## Imports\n",
    "---"
   ]
  },
  {
   "cell_type": "code",
   "execution_count": 1,
   "metadata": {},
   "outputs": [],
   "source": [
    "import vcf"
   ]
  },
  {
   "cell_type": "markdown",
   "metadata": {},
   "source": [
    "---\n",
    "#   "
   ]
  },
  {
   "cell_type": "markdown",
   "metadata": {},
   "source": [
    "## Adding data to AcCHR1_test.vcf.gz\n",
    "---"
   ]
  },
  {
   "cell_type": "markdown",
   "metadata": {},
   "source": [
    "##### Open vcf file"
   ]
  },
  {
   "cell_type": "code",
   "execution_count": 45,
   "metadata": {},
   "outputs": [],
   "source": [
    "vcf_file = vcf.Reader(filename='AcCHR1_test.vcf.gz')"
   ]
  },
  {
   "cell_type": "markdown",
   "metadata": {},
   "source": [
    "##### Test it"
   ]
  },
  {
   "cell_type": "code",
   "execution_count": 46,
   "metadata": {},
   "outputs": [
    {
     "data": {
      "text/plain": [
       "OrderedDict([('GT', Format(id='GT', num=1, type='String', desc='Genotype')),\n",
       "             ('GQ',\n",
       "              Format(id='GQ', num=1, type='Float', desc='Genotype Quality, the Phred-scaled marginal (or unconditional) probability of the called genotype')),\n",
       "             ('GL',\n",
       "              Format(id='GL', num=-2, type='Float', desc='Genotype Likelihood, log10-scaled likelihoods of the data given the called genotype for each possible genotype generated from the reference and alternate alleles given the sample ploidy')),\n",
       "             ('DP', Format(id='DP', num=1, type='Integer', desc='Read Depth')),\n",
       "             ('RO',\n",
       "              Format(id='RO', num=1, type='Integer', desc='Reference allele observation count')),\n",
       "             ('QR',\n",
       "              Format(id='QR', num=1, type='Integer', desc='Sum of quality of the reference observations')),\n",
       "             ('AO',\n",
       "              Format(id='AO', num=-1, type='Integer', desc='Alternate allele observation count')),\n",
       "             ('QA',\n",
       "              Format(id='QA', num=-1, type='Integer', desc='Sum of quality of the alternate observations'))])"
      ]
     },
     "execution_count": 46,
     "metadata": {},
     "output_type": "execute_result"
    }
   ],
   "source": [
    "vcf_file.formats"
   ]
  },
  {
   "cell_type": "markdown",
   "metadata": {},
   "source": [
    "##### Open a writer"
   ]
  },
  {
   "cell_type": "code",
   "execution_count": 47,
   "metadata": {},
   "outputs": [],
   "source": [
    "vcf_out = vcf.Writer(open('test_out.vcf', 'w'), vcf_file)"
   ]
  },
  {
   "cell_type": "markdown",
   "metadata": {},
   "source": [
    "##### Copy everything from AcCHR1_test.vcf.gz"
   ]
  },
  {
   "cell_type": "code",
   "execution_count": 48,
   "metadata": {},
   "outputs": [
    {
     "name": "stdout",
     "output_type": "stream",
     "text": [
      "Record(CHROM=CHR1, POS=130, REF=GAAAAAAAG, ALT=[GAAAAAAAAG, GAAAAAAAAAG])\n",
      "Record(CHROM=CHR1, POS=361, REF=GGTAAGGCTAACCACAGGTACATCCAAGCTTCTC, ALT=[GC])\n",
      "Record(CHROM=CHR1, POS=436, REF=A, ALT=[C])\n",
      "Record(CHROM=CHR1, POS=499, REF=CGC, ALT=[CGGC])\n",
      "Record(CHROM=CHR1, POS=535, REF=C, ALT=[T])\n",
      "Record(CHROM=CHR1, POS=542, REF=C, ALT=[T])\n",
      "Record(CHROM=CHR1, POS=558, REF=T, ALT=[G])\n",
      "Record(CHROM=CHR1, POS=803, REF=A, ALT=[T])\n",
      "Record(CHROM=CHR1, POS=922, REF=T, ALT=[C])\n",
      "Record(CHROM=CHR1, POS=1018, REF=A, ALT=[T])\n",
      "Record(CHROM=CHR1, POS=1024, REF=G, ALT=[A])\n",
      "Record(CHROM=CHR1, POS=1051, REF=TAC, ALT=[TC])\n",
      "Record(CHROM=CHR1, POS=1103, REF=C, ALT=[T])\n",
      "Record(CHROM=CHR1, POS=1218, REF=T, ALT=[C])\n",
      "Record(CHROM=CHR1, POS=1525, REF=T, ALT=[C])\n",
      "Record(CHROM=CHR1, POS=1604, REF=A, ALT=[G])\n",
      "Record(CHROM=CHR1, POS=1634, REF=G, ALT=[A])\n",
      "Record(CHROM=CHR1, POS=1793, REF=TAAAAAAAAAAAAT, ALT=[TAAAAAAAAAAAAAT, TAAAAAAAAAAAT, TAAAAAAAAAAAAAAT])\n",
      "Record(CHROM=CHR1, POS=1893, REF=T, ALT=[A])\n",
      "Record(CHROM=CHR1, POS=1896, REF=A, ALT=[C])\n",
      "Record(CHROM=CHR1, POS=2085, REF=G, ALT=[C])\n",
      "Record(CHROM=CHR1, POS=2143, REF=G, ALT=[A])\n",
      "Record(CHROM=CHR1, POS=2152, REF=AAC, ALT=[CAT, TAC])\n",
      "Record(CHROM=CHR1, POS=2174, REF=C, ALT=[A])\n",
      "Record(CHROM=CHR1, POS=2208, REF=C, ALT=[T])\n",
      "Record(CHROM=CHR1, POS=2217, REF=C, ALT=[T])\n",
      "Record(CHROM=CHR1, POS=2218, REF=T, ALT=[A])\n",
      "Record(CHROM=CHR1, POS=2241, REF=G, ALT=[A])\n",
      "Record(CHROM=CHR1, POS=2258, REF=G, ALT=[A])\n",
      "Record(CHROM=CHR1, POS=2296, REF=T, ALT=[G])\n",
      "Record(CHROM=CHR1, POS=2318, REF=T, ALT=[A])\n",
      "Record(CHROM=CHR1, POS=2334, REF=C, ALT=[T])\n",
      "Record(CHROM=CHR1, POS=2349, REF=CAAAAAAAAAAC, ALT=[CAAAAAAAAAC])\n",
      "Record(CHROM=CHR1, POS=2372, REF=A, ALT=[G])\n",
      "Record(CHROM=CHR1, POS=2392, REF=T, ALT=[A])\n",
      "Record(CHROM=CHR1, POS=2416, REF=T, ALT=[A])\n",
      "Record(CHROM=CHR1, POS=2493, REF=A, ALT=[G])\n",
      "Record(CHROM=CHR1, POS=2514, REF=CATG, ALT=[CG])\n",
      "Record(CHROM=CHR1, POS=2567, REF=T, ALT=[C])\n",
      "Record(CHROM=CHR1, POS=2794, REF=G, ALT=[A])\n",
      "Record(CHROM=CHR1, POS=2873, REF=A, ALT=['ATGTGCTGCAAATGCTTAGGAACTGCATAG'])\n",
      "Record(CHROM=CHR1, POS=2908, REF=T, ALT=[G])\n",
      "Record(CHROM=CHR1, POS=2927, REF=A, ALT=[G])\n",
      "Record(CHROM=CHR1, POS=2966, REF=G, ALT=[A])\n",
      "Record(CHROM=CHR1, POS=2994, REF=G, ALT=[A])\n",
      "Record(CHROM=CHR1, POS=2998, REF=TGAGAGAGAGAGAGAGAG, ALT=[TGAGAGAGAGAGAGAGAGAGAG, TGAGAGAGAGAGAGAGAGAGAGAGAGAGAGAG, TGAGAGAGAGAGAGAGAGAG, TGAGAATGAGAGAGAGAGAGAGAGAGAG, TGAGAGAGAGAGAGAGAGAGAGAGAGAGAG])\n",
      "Record(CHROM=CHR1, POS=3090, REF=G, ALT=['ATGCTTCAAGTCG'])\n",
      "Record(CHROM=CHR1, POS=3162, REF=G, ALT=[C])\n",
      "Record(CHROM=CHR1, POS=3223, REF=T, ALT=[A])\n",
      "Record(CHROM=CHR1, POS=3307, REF=GAA, ALT=[GA])\n",
      "Record(CHROM=CHR1, POS=3424, REF=TT, ALT=[GA])\n",
      "Record(CHROM=CHR1, POS=3548, REF=T, ALT=[C])\n",
      "Record(CHROM=CHR1, POS=3589, REF=T, ALT=[C])\n",
      "Record(CHROM=CHR1, POS=3637, REF=T, ALT=[C])\n",
      "Record(CHROM=CHR1, POS=3718, REF=G, ALT=[A])\n",
      "Record(CHROM=CHR1, POS=3744, REF=G, ALT=[A])\n",
      "Record(CHROM=CHR1, POS=3768, REF=G, ALT=[A])\n",
      "Record(CHROM=CHR1, POS=3891, REF=TC, ALT=[GT])\n",
      "Record(CHROM=CHR1, POS=4164, REF=A, ALT=[C])\n",
      "Record(CHROM=CHR1, POS=4183, REF=CGAAAGACAGAAAGACAA, ALT=[CGAAAGACAGAAAGACAGAAAGACAA])\n",
      "Record(CHROM=CHR1, POS=4312, REF=G, ALT=[A])\n",
      "Record(CHROM=CHR1, POS=4327, REF=G, ALT=[T])\n",
      "Record(CHROM=CHR1, POS=4358, REF=G, ALT=[T])\n",
      "Record(CHROM=CHR1, POS=4432, REF=A, ALT=[T])\n",
      "Record(CHROM=CHR1, POS=4498, REF=GAAAAAAAAT, ALT=[GAAAAAAAAAT])\n",
      "Record(CHROM=CHR1, POS=4515, REF=T, ALT=[C])\n",
      "Record(CHROM=CHR1, POS=4522, REF=A, ALT=[G])\n",
      "Record(CHROM=CHR1, POS=4545, REF=TAC, ALT=[TAAC])\n",
      "Record(CHROM=CHR1, POS=4724, REF=G, ALT=[C])\n",
      "Record(CHROM=CHR1, POS=4749, REF=G, ALT=[A])\n",
      "Record(CHROM=CHR1, POS=4948, REF=C, ALT=[T])\n",
      "Record(CHROM=CHR1, POS=5028, REF=C, ALT=[A])\n",
      "Record(CHROM=CHR1, POS=5065, REF=C, ALT=[T])\n",
      "Record(CHROM=CHR1, POS=5228, REF=C, ALT=[T])\n",
      "Record(CHROM=CHR1, POS=5394, REF=C, ALT=[A])\n",
      "Record(CHROM=CHR1, POS=5425, REF=C, ALT=[A])\n",
      "Record(CHROM=CHR1, POS=5440, REF=ACC, ALT=[ACCC])\n",
      "Record(CHROM=CHR1, POS=5444, REF=CA, ALT=[CC, CCAA])\n",
      "Record(CHROM=CHR1, POS=5446, REF=A, ALT=[C])\n",
      "Record(CHROM=CHR1, POS=5500, REF=C, ALT=[T])\n",
      "Record(CHROM=CHR1, POS=5624, REF=T, ALT=[C, G])\n",
      "Record(CHROM=CHR1, POS=5822, REF=T, ALT=[A])\n",
      "Record(CHROM=CHR1, POS=5844, REF=CAGCGAGCGAGCGAGCGA, ALT=[CAGCGAGCGAGCGA])\n",
      "Record(CHROM=CHR1, POS=5910, REF=G, ALT=[C])\n",
      "Record(CHROM=CHR1, POS=5915, REF=TGAGAGAGAGAGAGAGAGAT, ALT=[TGAGAGAGAGAGAGAGAGAGAGAGAGAT, TGAGAGAGAGAGAGAGAGAGAGAGAT, TGAGAGAGAGAGAGAGAGAGAGAGAGAGAGAT, TGAGAGAGAGAGAGAGAGAGAGAGAGAGAGAGAGAT, TGAGAGAGAGAGAGAGAGAGAGAGAGAGAGAGAGAGAT])\n",
      "Record(CHROM=CHR1, POS=6058, REF=G, ALT=[T])\n",
      "Record(CHROM=CHR1, POS=6220, REF=ATTTTTA, ALT=[ATTTTA])\n",
      "Record(CHROM=CHR1, POS=6287, REF=A, ALT=[G])\n",
      "Record(CHROM=CHR1, POS=6332, REF=T, ALT=[C])\n",
      "Record(CHROM=CHR1, POS=6334, REF=G, ALT=[T])\n",
      "Record(CHROM=CHR1, POS=6370, REF=A, ALT=[G])\n",
      "Record(CHROM=CHR1, POS=6409, REF=AA, ALT=[TG])\n",
      "Record(CHROM=CHR1, POS=6470, REF=A, ALT=[G])\n",
      "Record(CHROM=CHR1, POS=6547, REF=C, ALT=[T])\n",
      "Record(CHROM=CHR1, POS=6568, REF=G, ALT=[T])\n",
      "Record(CHROM=CHR1, POS=6615, REF=A, ALT=[G])\n",
      "Record(CHROM=CHR1, POS=6632, REF=C, ALT=[T])\n",
      "Record(CHROM=CHR1, POS=6668, REF=C, ALT=[T])\n",
      "Record(CHROM=CHR1, POS=6669, REF=G, ALT=[A])\n",
      "Record(CHROM=CHR1, POS=6675, REF=C, ALT=[T])\n",
      "Record(CHROM=CHR1, POS=6701, REF=ATCTCTCTCTCT, ALT=[ATCTCTCTCT])\n",
      "Record(CHROM=CHR1, POS=6722, REF=G, ALT=[A])\n",
      "Record(CHROM=CHR1, POS=6783, REF=ACT, ALT=[AT])\n",
      "Record(CHROM=CHR1, POS=6792, REF=TAA, ALT=[TA])\n",
      "Record(CHROM=CHR1, POS=6850, REF=GA, ALT=[TT])\n",
      "Record(CHROM=CHR1, POS=6858, REF=T, ALT=[C])\n",
      "Record(CHROM=CHR1, POS=6905, REF=T, ALT=[A])\n",
      "Record(CHROM=CHR1, POS=6910, REF=TAAGATATC, ALT=[TGTTTCATGTTACTA])\n",
      "Record(CHROM=CHR1, POS=6929, REF=C, ALT=[T])\n",
      "Record(CHROM=CHR1, POS=6968, REF=C, ALT=[A])\n",
      "Record(CHROM=CHR1, POS=7022, REF=A, ALT=[G])\n",
      "Record(CHROM=CHR1, POS=7055, REF=A, ALT=[C])\n",
      "Record(CHROM=CHR1, POS=7190, REF=CTT, ALT=[CTTT])\n",
      "Record(CHROM=CHR1, POS=7214, REF=A, ALT=[G])\n",
      "Record(CHROM=CHR1, POS=7390, REF=C, ALT=[T])\n",
      "Record(CHROM=CHR1, POS=7503, REF=A, ALT=[G])\n",
      "Record(CHROM=CHR1, POS=7571, REF=G, ALT=[T])\n",
      "Record(CHROM=CHR1, POS=7577, REF=C, ALT=[T])\n",
      "Record(CHROM=CHR1, POS=7634, REF=G, ALT=[A])\n",
      "Record(CHROM=CHR1, POS=7812, REF=A, ALT=[T])\n",
      "Record(CHROM=CHR1, POS=7826, REF=A, ALT=[T])\n",
      "Record(CHROM=CHR1, POS=7844, REF=CC, ALT=[CTTC])\n",
      "Record(CHROM=CHR1, POS=7892, REF=C, ALT=[A])\n",
      "Record(CHROM=CHR1, POS=8065, REF=G, ALT=[T])\n",
      "Record(CHROM=CHR1, POS=8138, REF=T, ALT=[G])\n",
      "Record(CHROM=CHR1, POS=8143, REF=G, ALT=[T])\n",
      "Record(CHROM=CHR1, POS=8206, REF=G, ALT=[T])\n",
      "Record(CHROM=CHR1, POS=8273, REF=A, ALT=[C])\n",
      "Record(CHROM=CHR1, POS=8308, REF=C, ALT=[T])\n",
      "Record(CHROM=CHR1, POS=8331, REF=G, ALT=[T])\n",
      "Record(CHROM=CHR1, POS=8342, REF=G, ALT=[A])\n",
      "Record(CHROM=CHR1, POS=8382, REF=G, ALT=[A])\n",
      "Record(CHROM=CHR1, POS=8396, REF=A, ALT=[G])\n",
      "Record(CHROM=CHR1, POS=8520, REF=G, ALT=[A])\n",
      "Record(CHROM=CHR1, POS=8542, REF=G, ALT=[A])\n",
      "Record(CHROM=CHR1, POS=8625, REF=T, ALT=[A])\n",
      "Record(CHROM=CHR1, POS=8661, REF=CGACC, ALT=[TGACA, TGACC])\n",
      "Record(CHROM=CHR1, POS=8709, REF=T, ALT=[C])\n",
      "Record(CHROM=CHR1, POS=8790, REF=C, ALT=[T])\n",
      "Record(CHROM=CHR1, POS=8823, REF=T, ALT=[G])\n",
      "Record(CHROM=CHR1, POS=8914, REF=T, ALT=[C])\n",
      "Record(CHROM=CHR1, POS=9030, REF=T, ALT=[G])\n",
      "Record(CHROM=CHR1, POS=9111, REF=ATAGT, ALT=[GTAGC])\n",
      "Record(CHROM=CHR1, POS=9138, REF=C, ALT=[T])\n",
      "Record(CHROM=CHR1, POS=9153, REF=C, ALT=[T])\n",
      "Record(CHROM=CHR1, POS=9222, REF=A, ALT=[T])\n",
      "Record(CHROM=CHR1, POS=9238, REF=TGG, ALT=[TGGG])\n",
      "Record(CHROM=CHR1, POS=9242, REF=A, ALT=[G])\n",
      "Record(CHROM=CHR1, POS=9311, REF=A, ALT=[C])\n",
      "Record(CHROM=CHR1, POS=9371, REF=G, ALT=[A])\n",
      "Record(CHROM=CHR1, POS=9414, REF=C, ALT=[A])\n",
      "Record(CHROM=CHR1, POS=9425, REF=A, ALT=[G])\n",
      "Record(CHROM=CHR1, POS=9470, REF=G, ALT=[A])\n",
      "Record(CHROM=CHR1, POS=9534, REF=C, ALT=[G])\n",
      "Record(CHROM=CHR1, POS=9593, REF=A, ALT=[G])\n",
      "Record(CHROM=CHR1, POS=9792, REF=G, ALT=[A])\n"
     ]
    }
   ],
   "source": [
    "for record in vcf_file:\n",
    "    if record.POS == 2873:\n",
    "        record.ALT = ['ATGTGCTGCAAATGCTTAGGAACTGCATAG']\n",
    "    elif record.POS == 3040:\n",
    "        record.POS = 3090\n",
    "        record.ALT = ['ATGCTTCAAGTCG']\n",
    "    vcf_out.write_record(record)\n",
    "    print(record)"
   ]
  },
  {
   "cell_type": "markdown",
   "metadata": {},
   "source": [
    "##### Add new data"
   ]
  },
  {
   "cell_type": "code",
   "execution_count": 49,
   "metadata": {},
   "outputs": [],
   "source": [
    "vcf_out.close()"
   ]
  },
  {
   "cell_type": "code",
   "execution_count": 53,
   "metadata": {},
   "outputs": [
    {
     "data": {
      "text/plain": [
       "615"
      ]
     },
     "execution_count": 53,
     "metadata": {},
     "output_type": "execute_result"
    }
   ],
   "source": [
    "len('GGTTGGTCTATTCATCATTGCTCCTAACGCATTCCTCATGGCAATCTGCATTGCTGCCTCAATTTCTTTAGAAGCTTCCAGAGTTGTTGAATTGGCAGCGGCAACTACAGTCGCAACTGTTCCTAGCTTTGCAGAACCATTCCCACTCAAGGAATTCACGGACTCTTTATGTGCCTTCAGAACCAACTGTGTCGCACTGGGTTTTAAAGGAAATAAATAAATATGGAATAAAACATTGATATTACAAATAAAGGGTGCTTCTAGCTGAGTAGTCCTCCGATAAAGCACACGCATACAAAGGAATGAGAGAGAGAGAGAGAGGCGCTACCACATATAAAAGGGACAGCAAACATTTTAACATGAGCAAATCAGTGACACTAGGTAGGTGTTAGCACAAAAATGAACCTTGTTTACATCTGTTCACCACATCCTAGAACATCTTAGACACACACTGCAATAACATATGAGGTGGAGCATGGCACAGTGATACTGCAACAGTAGGATTCCCTGTAACTCTAATGCAACTTTTCATGTACTCAGCCTCTCAAATGATATCGCATGACAAAGTAAAATTAGGTTTTTTTAACTTTTAAACAATAAAACATGAAATTGGAA')"
   ]
  },
  {
   "cell_type": "code",
   "execution_count": 52,
   "metadata": {},
   "outputs": [
    {
     "data": {
      "text/plain": [
       "307"
      ]
     },
     "execution_count": 52,
     "metadata": {},
     "output_type": "execute_result"
    }
   ],
   "source": [
    "3307-3000"
   ]
  },
  {
   "cell_type": "code",
   "execution_count": 54,
   "metadata": {},
   "outputs": [
    {
     "data": {
      "text/plain": [
       "\u001b[0;31mType:\u001b[0m        module\n",
       "\u001b[0;31mString form:\u001b[0m <module 'vcf' from '/workspace/appscratch/miniconda/cfljam_PyGenetics/lib/python3.6/site-packages/vcf/__init__.py'>\n",
       "\u001b[0;31mFile:\u001b[0m        /workspace/appscratch/miniconda/cfljam_PyGenetics/lib/python3.6/site-packages/vcf/__init__.py\n",
       "\u001b[0;31mDocstring:\u001b[0m  \n",
       "A VCFv4.0 and 4.1 parser for Python.\n",
       "\n",
       "Online version of PyVCF documentation is available at http://pyvcf.rtfd.org/\n"
      ]
     },
     "metadata": {},
     "output_type": "display_data"
    }
   ],
   "source": [
    "?vcf"
   ]
  },
  {
   "cell_type": "code",
   "execution_count": null,
   "metadata": {},
   "outputs": [],
   "source": []
  }
 ],
 "metadata": {
  "kernelspec": {
   "display_name": "Python 3",
   "language": "python",
   "name": "python3"
  },
  "language_info": {
   "codemirror_mode": {
    "name": "ipython",
    "version": 3
   },
   "file_extension": ".py",
   "mimetype": "text/x-python",
   "name": "python",
   "nbconvert_exporter": "python",
   "pygments_lexer": "ipython3",
   "version": "3.6.3"
  }
 },
 "nbformat": 4,
 "nbformat_minor": 2
}
