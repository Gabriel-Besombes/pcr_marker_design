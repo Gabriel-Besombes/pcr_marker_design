{
 "cells": [
  {
   "cell_type": "markdown",
   "metadata": {},
   "source": [
    "# Prepare Vcf Test Data\n",
    "\n",
    "- Prepare slices of filtered vcf from kiwifruit and potato\n",
    "- Goldilocks scale...not too big or too small either\n",
    "- for kiwi base filtering on https://github.com/Actinidia/WGS_monkeys/blob/master/15.QCfilter/Filtering_SNPs_from20MonkeysData.ipynb\n",
    "- QUAL > 25 and AF > 0.05\n",
    "\n",
    "--------------\n",
    "\n",
    "## Kiwifruit-Round 1\n",
    "\n",
    "-target genic regions\n",
    "- start with Myb210"
   ]
  },
  {
   "cell_type": "code",
   "execution_count": 1,
   "metadata": {
    "collapsed": false
   },
   "outputs": [
    {
     "name": "stdout",
     "output_type": "stream",
     "text": [
      "# conda environments:\r\n",
      "#\r\n",
      "PCRtest                  /home/cfljam/miniconda3/envs/PCRtest\r\n",
      "py27                     /home/cfljam/miniconda3/envs/py27\r\n",
      "py3r-env              *  /home/cfljam/miniconda3/envs/py3r-env\r\n",
      "root                     /home/cfljam/miniconda3\r\n",
      "\r\n"
     ]
    }
   ],
   "source": [
    "conda info -e"
   ]
  },
  {
   "cell_type": "code",
   "execution_count": 1,
   "metadata": {
    "collapsed": false
   },
   "outputs": [
    {
     "name": "stdout",
     "output_type": "stream",
     "text": [
      "/workspace/3/CommonWorkspace/genome_analysis/plant/Actinidia/chinensis/20Monkeys/WGS_monkeys/00.data/FilteredVCF/20Monkey_chr9_bwt2.12.vcf.gz\r\n"
     ]
    }
   ],
   "source": [
    "ls /workspace/3/CommonWorkspace/genome_analysis/plant\\\n",
    "/Actinidia/chinensis/20Monkeys/WGS_monkeys/00.data/FilteredVCF/*chr9_bwt2.12.vcf.gz"
   ]
  },
  {
   "cell_type": "markdown",
   "metadata": {},
   "source": [
    "## Cut Out and Filter Myb210"
   ]
  },
  {
   "cell_type": "code",
   "execution_count": 1,
   "metadata": {
    "collapsed": false
   },
   "outputs": [
    {
     "name": "stdout",
     "output_type": "stream",
     "text": []
    }
   ],
   "source": [
    "module purge"
   ]
  },
  {
   "cell_type": "code",
   "execution_count": 6,
   "metadata": {
    "collapsed": false
   },
   "outputs": [
    {
     "name": "stdout",
     "output_type": "stream",
     "text": [
      "Job <187920> is submitted to default queue <normal>.\n"
     ]
    }
   ],
   "source": [
    "bsub \"vcftools --gzvcf  \\\n",
    "/workspace/3/CommonWorkspace/genome_analysis/plant/Actinidia/chinensis/20Monkeys/WGS_monkeys/00.data/FilteredVCF/20Monkey_chr9_bwt2.12.vcf.gz \\\n",
    "--chr 9 --from-bp 1390000  --to-bp 1410000 --recode --recode-INFO-all \\\n",
    "--maf 0.05 --minQ 30 \\\n",
    "--stdout | bgzip > Chr9_Myb210.vcf.gz\""
   ]
  },
  {
   "cell_type": "markdown",
   "metadata": {},
   "source": [
    "20 kb 542 variants\n",
    "\n",
    "~ 1 variant/36 bp"
   ]
  },
  {
   "cell_type": "code",
   "execution_count": 25,
   "metadata": {
    "collapsed": false
   },
   "outputs": [
    {
     "data": {
      "text/plain": [
       "36.90036900369004"
      ]
     },
     "execution_count": 25,
     "metadata": {},
     "output_type": "execute_result"
    }
   ],
   "source": [
    "20000.0/542.0"
   ]
  },
  {
   "cell_type": "code",
   "execution_count": 7,
   "metadata": {
    "collapsed": false
   },
   "outputs": [
    {
     "name": "stdout",
     "output_type": "stream",
     "text": [
      "total variant sites:\t542\n",
      "of which 510 (0.940959) are biallelic and 32 (0.0590406) are multiallelic\n",
      "total variant alleles:\t575\n",
      "unique variant alleles:\t610\n",
      "\n",
      "snps:\t536\n",
      "mnps:\t17\n",
      "indels:\t57\n",
      "complex:\t35\n",
      "\n",
      "mismatches:\t572\n",
      "\n",
      "ts/tv ratio:\t1.84577\n",
      "deamination ratio:\t1.63121\n",
      "biallelic snps:\t436 @ 2.18248\n",
      "\n",
      "ins/del length frequency distribution\n",
      "length\tins\tdel\tins/del\n",
      "1\t23\t21\t1.09524\n",
      "2\t5\t1\t5\n",
      "3\t1\t1\t1\n",
      "4\t\t1\t\n",
      "5\t1\t\t\n",
      "6\t1\t\t\n",
      "7\t1\t\t\n",
      "8\t\t\t\n",
      "9\t\t\t\n",
      "10\t1\t\t\n",
      "\n",
      "insertion alleles / deletion alleles:\t1.375\n",
      "inserted bases / deleted bases:\t2.13333\n",
      "\n",
      "mnp length frequency distribution\n",
      "length\tcount\n",
      "2\t16\n",
      "3\t\n",
      "4\t1\n",
      "total bases in mnps:\t36\n"
     ]
    },
    {
     "name": "stderr",
     "output_type": "stream",
     "text": [
      "[tabix] the index file exists. Please use '-f' to overwrite.\n"
     ]
    }
   ],
   "source": [
    "tabix -f Chr9_Myb210.vcf.gz\n",
    "vcfstats Chr9_Myb210.vcf.gz"
   ]
  },
  {
   "cell_type": "markdown",
   "metadata": {
    "collapsed": false
   },
   "source": [
    "### Kiwifruit Round 2\n",
    "\n",
    "- use Chr 1 first 10 kb\n",
    "- use PS1\n",
    "- phased & unphased"
   ]
  },
  {
   "cell_type": "code",
   "execution_count": 32,
   "metadata": {
    "collapsed": false
   },
   "outputs": [
    {
     "name": "stdout",
     "output_type": "stream",
     "text": [
      "PS1_1.68.5.fasta\r\n"
     ]
    }
   ],
   "source": [
    "FASTA=/output/genomic/plant/Actinidia/chinensis/CK51F3_01/Genome/Assembly/PseudoSanger/PS1/Pseudochromosomes/Version1/Latest_Version/AllChromosomes/PS1_1.68.5.fasta\n",
    "basename $FASTA"
   ]
  },
  {
   "cell_type": "markdown",
   "metadata": {},
   "source": [
    "## Location of Filtered & Phased VCF"
   ]
  },
  {
   "cell_type": "code",
   "execution_count": 4,
   "metadata": {
    "collapsed": false
   },
   "outputs": [
    {
     "name": "stdout",
     "output_type": "stream",
     "text": [
      "/workspace/cfljam/WGS_monkeys/17.SNP_phasing/filtered/13Monkeys_CHR1_PS1_1.68.5_bwaMEM.Q20.vcf.gz\r\n"
     ]
    }
   ],
   "source": [
    "ls /workspace/cfljam/WGS_monkeys/17.SNP_phasing/filtered/13Monkeys_CHR1_PS1_1.68.5_bwaMEM.Q20.vcf.gz"
   ]
  },
  {
   "cell_type": "code",
   "execution_count": 5,
   "metadata": {
    "collapsed": false
   },
   "outputs": [
    {
     "name": "stdout",
     "output_type": "stream",
     "text": [
      "/workspace/cfljam/WGS_monkeys/17.SNP_phasing/phased/phased_13Monkeys_CHR1_PS1_1.68.5_bwaMEM.Q20.vcf.gz.vcf.gz\r\n"
     ]
    }
   ],
   "source": [
    "ls /workspace/cfljam/WGS_monkeys/17.SNP_phasing/phased/phased_13Monkeys_CHR1_PS1_1.68.5_bwaMEM.Q20.vcf.gz.vcf.gz"
   ]
  },
  {
   "cell_type": "code",
   "execution_count": 9,
   "metadata": {
    "collapsed": false
   },
   "outputs": [
    {
     "name": "stdout",
     "output_type": "stream",
     "text": []
    }
   ],
   "source": [
    "vcftools  --gzvcf /workspace/cfljam/WGS_monkeys/17.SNP_phasing/filtered/13Monkeys_CHR1_PS1_1.68.5_bwaMEM.Q20.vcf.gz \\\n",
    "    --stdout \\\n",
    "    --chr  CHR1 \\\n",
    "    --to-bp 10000 \\\n",
    "    --recode \\\n",
    "    --recode-INFO-all | bgzip > ../test/test-data/AcCHR1_test.vcf.gz"
   ]
  },
  {
   "cell_type": "code",
   "execution_count": 10,
   "metadata": {
    "collapsed": false
   },
   "outputs": [
    {
     "name": "stdout",
     "output_type": "stream",
     "text": []
    }
   ],
   "source": [
    "vcftools  --gzvcf /workspace/cfljam/WGS_monkeys/17.SNP_phasing/phased/phased_13Monkeys_CHR1_PS1_1.68.5_bwaMEM.Q20.vcf.gz.vcf.gz \\\n",
    "    --stdout \\\n",
    "    --chr  CHR1 \\\n",
    "    --to-bp 10000 \\\n",
    "    --recode \\\n",
    "    --recode-INFO-all | bgzip > ../test/test-data/AcCHR1_test.phased.vcf.gz"
   ]
  },
  {
   "cell_type": "markdown",
   "metadata": {},
   "source": [
    "## Index and Check Number of records"
   ]
  },
  {
   "cell_type": "code",
   "execution_count": 23,
   "metadata": {
    "collapsed": false
   },
   "outputs": [
    {
     "name": "stdout",
     "output_type": "stream",
     "text": []
    }
   ],
   "source": [
    "tabix ../test/test-data/AcCHR1_test.phased.vcf.gz"
   ]
  },
  {
   "cell_type": "code",
   "execution_count": 24,
   "metadata": {
    "collapsed": false
   },
   "outputs": [
    {
     "name": "stdout",
     "output_type": "stream",
     "text": []
    }
   ],
   "source": [
    "tabix ../test/test-data/AcCHR1_test.vcf.gz"
   ]
  },
  {
   "cell_type": "code",
   "execution_count": 29,
   "metadata": {
    "collapsed": false
   },
   "outputs": [
    {
     "name": "stdout",
     "output_type": "stream",
     "text": [
      "156\r\n",
      "156\r\n"
     ]
    }
   ],
   "source": [
    "zcat ../test/test-data/AcCHR1_test.vcf.gz | grep -v \"^#\" | wc -l \n",
    "zcat ../test/test-data/AcCHR1_test.phased.vcf.gz | grep -v \"^#\" | wc -l "
   ]
  },
  {
   "cell_type": "markdown",
   "metadata": {},
   "source": [
    "## Cut Out Fasta"
   ]
  },
  {
   "cell_type": "code",
   "execution_count": 36,
   "metadata": {
    "collapsed": false
   },
   "outputs": [
    {
     "name": "stdout",
     "output_type": "stream",
     "text": [
      "CHR1\t1\t10000\r\n",
      "\r\n"
     ]
    }
   ],
   "source": [
    "cat CHR1_test.bed"
   ]
  },
  {
   "cell_type": "code",
   "execution_count": 37,
   "metadata": {
    "collapsed": false
   },
   "outputs": [
    {
     "name": "stdout",
     "output_type": "stream",
     "text": []
    }
   ],
   "source": [
    "bedtools getfasta  -fi $FASTA  -bed CHR1_test.bed > ../test/test-data/AcCHR1_test.fasta"
   ]
  }
 ],
 "metadata": {
  "kernelspec": {
   "display_name": "Bash",
   "language": "bash",
   "name": "bash"
  },
  "language_info": {
   "codemirror_mode": "shell",
   "file_extension": ".sh",
   "mimetype": "text/x-sh",
   "name": "bash"
  }
 },
 "nbformat": 4,
 "nbformat_minor": 0
}
