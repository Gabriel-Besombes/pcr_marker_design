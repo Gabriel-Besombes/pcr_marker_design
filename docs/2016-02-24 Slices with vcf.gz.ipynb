{
 "cells": [
  {
   "cell_type": "markdown",
   "metadata": {},
   "source": [
    "# Slice vcf with Various Modules\n",
    "\n",
    "- pybedtools\n",
    "- htseq\n",
    "- pyvcf"
   ]
  },
  {
   "cell_type": "markdown",
   "metadata": {},
   "source": [
    "HTSeq\n",
    "-----\n",
    "\n",
    "- Slicing is quite complex and we dont get easy access to call details\n",
    "\n",
    "pybedtools\n",
    "----------\n",
    "\n",
    "- quite flaky with access to large vcf.gz tabixed files\n",
    "- just use it for interval algebra, if necessary\n",
    "\n",
    "pycvf\n",
    "-----\n",
    "\n",
    "- works a treat\n",
    "- issues with running fetch in Python 2 dues to some Cython bugginess. Tests only pass in Py3"
   ]
  },
  {
   "cell_type": "code",
   "execution_count": 74,
   "metadata": {
    "collapsed": true
   },
   "outputs": [],
   "source": [
    "from pyfaidx import Fasta\n",
    "from pybedtools import BedTool\n",
    "import vcf"
   ]
  },
  {
   "cell_type": "code",
   "execution_count": 3,
   "metadata": {
    "collapsed": false
   },
   "outputs": [
    {
     "name": "stdout",
     "output_type": "stream",
     "text": [
      "-rwxrwxrwx  1 johnmccallum  staff   506M  8 Apr  2015 \u001b[31m../test/test-data/vcf/20Monkey_chr22_bwt2.vcf.gz\u001b[m\u001b[m*\r\n",
      "-rwxrwxrwx  1 johnmccallum  staff   796M 27 Feb 08:16 \u001b[31m../test/test-data/vcf/20Monkey_chr9_bwa.vcf.gz\u001b[m\u001b[m*\r\n",
      "-rw-r--r--  1 johnmccallum  staff   5.4K 28 Feb 07:51 ../test/test-data/vcf/20Monkey_chr9_bwa.vcf.gz.tbi\r\n",
      "-rwxrwxrwx  1 johnmccallum  staff   4.2M  8 Apr  2015 \u001b[31m../test/test-data/vcf/Hort16A_x_Russell.RefHort16A.filterD1Q20d6.vcf.gz\u001b[m\u001b[m*\r\n"
     ]
    }
   ],
   "source": [
    "ls -lh ../test/test-data/vcf/*vcf*"
   ]
  },
  {
   "cell_type": "code",
   "execution_count": 4,
   "metadata": {
    "collapsed": false
   },
   "outputs": [
    {
     "name": "stdout",
     "output_type": "stream",
     "text": [
      "MD5 (../test/test-data/vcf/20Monkey_chr22_bwt2.vcf.gz) = f6475bca32701b2469b8916231b76c74\n",
      "MD5 (../test/test-data/vcf/20Monkey_chr9_bwa.vcf.gz) = 912171805eb4b91d1e38a4d5d5a3929e\n",
      "MD5 (../test/test-data/vcf/20Monkey_chr9_bwa.vcf.gz.tbi) = f8e742e04b8708a43b4f5fe04f4be1bf\n",
      "MD5 (../test/test-data/vcf/Hort16A_x_Russell.RefHort16A.filterD1Q20d6.vcf.gz) = cd3cac9b08ed524954d929b5e352f48c\n",
      "MD5 (../test/test-data/vcf/Kiwifruit_pseudomolecule.fa.gz) = 7f8dbe4675232f48b7fed274304ce2e0\n"
     ]
    }
   ],
   "source": [
    "!for FILE in $(ls ../test/test-data/vcf/*.gz*); do md5 $FILE; done"
   ]
  },
  {
   "cell_type": "code",
   "execution_count": 5,
   "metadata": {
    "collapsed": false
   },
   "outputs": [
    {
     "name": "stdout",
     "output_type": "stream",
     "text": [
      "Using Anaconda Cloud api site https://api.anaconda.org\r\n",
      "# conda environments:\r\n",
      "#\r\n",
      "HTS                      /Users/johnmccallum/miniconda3/envs/HTS\r\n",
      "_build                   /Users/johnmccallum/miniconda3/envs/_build\r\n",
      "py2PCR                   /Users/johnmccallum/miniconda3/envs/py2PCR\r\n",
      "py3-r-env                /Users/johnmccallum/miniconda3/envs/py3-r-env\r\n",
      "py3markers            *  /Users/johnmccallum/miniconda3/envs/py3markers\r\n",
      "root                     /Users/johnmccallum/miniconda3\r\n",
      "\r\n"
     ]
    }
   ],
   "source": [
    "!conda info -e"
   ]
  },
  {
   "cell_type": "markdown",
   "metadata": {},
   "source": [
    "### Load up an indexed reference and vcf"
   ]
  },
  {
   "cell_type": "code",
   "execution_count": 6,
   "metadata": {
    "collapsed": false
   },
   "outputs": [],
   "source": [
    "myfa= Fasta(\"../test/test-data/Kiwifruit_pseudomolecule.fa\")\n",
    "myvcf=vcf.Reader(filename='../test/test-data/vcf/20Monkey_chr9_bwa.vcf.gz')"
   ]
  },
  {
   "cell_type": "code",
   "execution_count": 10,
   "metadata": {
    "collapsed": false
   },
   "outputs": [
    {
     "name": "stdout",
     "output_type": "stream",
     "text": [
      "#CHROM\tPOS\tID\tREF\tALT\tQUAL\tFILTER\tINFO\tFORMAT\tA-chinensis_Female_\tAcMale_CK15_\tPFR_001_\tPFR_002_\tPFR_003_\tPFR_004_\tPFR_005_\tPFR_006_\tPFR_007_\tPFR_008_\tPFR_009\tPFR_010\tPFR_011\tPFR_012\tPFR_013\tPFR_014\tPFR_015\tPFR_016\tPFR_019\tPFR_021\r\n",
      "9\t1\t.\tA\tT\t21.9677\t.\tAB=0;ABP=0;AC=4;AF=0.111111;AN=36;AO=4;CIGAR=1X;DP=49;DPB=49;DPRA=0.711111;EPP=5.18177;EPPR=31.4368;GTI=2;LEN=1;MEANALT=1;MQM=31;MQMR=30.9318;NS=18;NUMALT=1;ODDS=4.00257;PAIRED=0.75;PAIREDR=0.772727;PAO=0;PQA=0;PQR=0;PRO=0;QA=126;QR=1524;RO=44;RPP=11.6962;RPPR=98.5551;RUN=1;SAF=3;SAP=5.18177;SAR=1;SRF=34;SRP=31.4368;SRR=10;TYPE=snp;technology.Illumina=1\tGT:GQ:DP:RO:QR:AO:QA:GL\t0/0:24.0547:3:3:119:0:0:0,-0.90309,-10\t0/0:30.0753:6:5:195:0:0:0,-1.50515,-10\t0/0:30.0753:5:5:172:0:0:0,-1.50515,-10\t0/0:21.0444:2:2:68:0:0:0,-0.60206,-6.46\t0/0:18.0341:1:1:35:0:0:0,-0.30103,-3.5\t0/0:24.0547:3:3:107:0:0:0,-0.90309,-9.98667\t1/1:0.000823243:2:0:0:2:64:-6.08,-0.60206,0\t0/0:33.0856:6:6:232:0:0:0,-1.80618,-10\t.\t0/0:18.0341:1:1:41:0:0:0,-0.30103,-4.1\t0/0:21.0444:2:2:28:0:0:0,-0.60206,-2.66\t0/0:21.0444:2:2:57:0:0:0,-0.60206,-5.415\t0/0:18.0341:1:1:37:0:0:0,-0.30103,-3.7\t0/0:30.0753:5:5:154:0:0:0,-1.50515,-10\t0/0:27.065:4:4:135:0:0:0,-1.20412,-10\t.\t0/0:18.0341:1:1:34:0:0:0,-0.30103,-3.4\t1/1:0.000823243:2:0:0:2:62:-5.89,-0.60206,0\t0/0:21.0444:2:2:76:0:0:0,-0.60206,-7.22\t0/0:18.0341:1:1:34:0:0:0,-0.30103,-3.4\r\n",
      "9\t8\t.\tC\tA,T\t17.2127\t.\tAB=0.3,0.5;ABP=6.48466,3.0103;AC=1,1;AF=0.025,0.025;AN=40;AO=3,4;CIGAR=1X,1X;DP=175;DPB=175;DPRA=1.13208,0.976351;EPP=9.52472,11.6962;EPPR=6.31921;GTI=1;LEN=1,1;MEANALT=1,1;MQM=37,52.25;MQMR=36.0595;NS=20;NUMALT=2;ODDS=3.13732;PAIRED=0,1;PAIREDR=0.559524;PAO=0,0;PQA=0,0;PQR=0;PRO=0;QA=81,101;QR=5793;RO=168;RPP=9.52472,11.6962;RPPR=367.818;RUN=1,1;SAF=0,4;SAP=9.52472,11.6962;SAR=3,0;SRF=92;SRP=6.31921;SRR=76;TYPE=snp,snp;technology.Illumina=1,1\tGT:GQ:DP:RO:QR:AO:QA:GL\t0/2:17.2127:6:3:115:0,3:0,99:-8.73485,-9.63794,-10,0,-10,-10\t0/1:0.18084:10:7:268:3,0:81,0:-6.62888,0,-10,-8.73609,-10,-10\t0/0:62.3367:11:11:384:0,0:0,0:0,-3.31133,-10,-3.31133,-10,-10\t0/0:47.2852:6:6:201:0,0:0,0:0,-1.80618,-10,-1.80618,-10,-10\t0/0:50.2955:7:7:247:0,0:0,0:0,-2.10721,-10,-2.10721,-10,-10\t0/0:56.3161:9:9:280:0,0:0,0:0,-2.70927,-10,-2.70927,-10,-10\t0/0:59.3264:10:10:349:0,0:0,0:0,-3.0103,-10,-3.0103,-10,-10\t0/0:98.4597:23:23:842:0,0:0,0:0,-6.92369,-10,-6.92369,-10,-10\t0/0:62.3367:11:11:408:0,0:0,0:0,-3.31133,-10,-3.31133,-10,-10\t0/0:47.2852:6:6:209:0,0:0,0:0,-1.80618,-10,-1.80618,-10,-10\t0/0:47.2852:6:6:190:0,0:0,0:0,-1.80618,-10,-1.80618,-10,-10\t0/0:53.3058:8:8:253:0,0:0,0:0,-2.40824,-10,-2.40824,-10,-10\t0/0:55.6301:11:10:308:0,1:0,2:0,-3.0103,-10,-2.06994,-10,-10\t0/0:59.3264:10:10:361:0,0:0,0:0,-3.0103,-10,-3.0103,-10,-10\t0/0:53.3058:8:8:283:0,0:0,0:0,-2.40824,-10,-2.40824,-10,-10\t0/0:35.244:2:2:68:0,0:0,0:0,-0.60206,-6.46,-0.60206,-6.46,-6.46\t0/0:53.3058:8:8:269:0,0:0,0:0,-2.40824,-10,-2.40824,-10,-10\t0/0:62.3367:11:11:320:0,0:0,0:0,-3.31133,-10,-3.31133,-10,-10\t0/0:50.2955:7:7:258:0,0:0,0:0,-2.10721,-10,-2.10721,-10,-10\t0/0:44.2749:5:5:180:0,0:0,0:0,-1.50515,-10,-1.50515,-10,-10\r\n",
      "9\t9\t.\tT\tA\t0.180374\t.\tAB=0.2;ABP=10.8276;AC=1;AF=0.025;AN=40;AO=2;CIGAR=1X;DP=203;DPB=203;DPRA=0.984456;EPP=7.35324;EPPR=4.107;GTI=0;LEN=1;MEANALT=2;MQM=37;MQMR=36.7727;NS=20;NUMALT=1;ODDS=3.16045;PAIRED=0;PAIREDR=0.540404;PAO=0;PQA=0;PQR=0;PRO=0;QA=68;QR=6769;RO=198;RPP=7.35324;RPPR=432.962;RUN=1;SAF=0;SAP=7.35324;SAR=2;SRF=104;SRP=4.107;SRR=94;TYPE=snp;technology.Illumina=1\tGT:GQ:DP:RO:QR:AO:QA:GL\t0/0:78.934:9:7:228:0:0:0,-2.10721,-10\t0/1:0.180372:10:7:270:2:68:-5.10703,0,-10\t0/0:93.9853:12:12:425:0:0:0,-3.61236,-10\t0/0:81.9443:8:8:269:0:0:0,-2.40824,-10\t0/0:81.9443:8:8:278:0:0:0,-2.40824,-10\t0/0:90.9751:11:11:354:0:0:0,-3.31133,-10\t0/0:87.9648:10:10:336:0:0:0,-3.0103,-10\t0/0:129.368:24:24:850:0:0:0,-7.22472,-10\t0/0:90.9751:11:11:410:0:0:0,-3.31133,-10\t0/0:75.9237:6:6:198:0:0:0,-1.80618,-10\t0/0:81.9443:8:8:265:0:0:0,-2.40824,-10\t0/0:81.9443:8:8:263:0:0:0,-2.40824,-10\t0/0:93.9853:12:12:374:0:0:0,-3.61236,-10\t0/0:93.9853:12:12:427:0:0:0,-3.61236,-10\t0/0:84.9546:9:9:317:0:0:0,-2.70927,-10\t0/0:63.8825:2:2:68:0:0:0,-0.60206,-6.46\t0/0:90.9751:11:11:348:0:0:0,-3.31133,-10\t0/0:96.9954:13:13:409:0:0:0,-3.91339,-10\t0/0:93.9853:12:12:428:0:0:0,-3.61236,-10\t0/0:78.934:7:7:252:0:0:0,-2.10721,-10\r\n",
      "9\t12\t.\tC\tT\t2.28978\t.\tAB=0.190476;ABP=20.4855;AC=2;AF=0.05;AN=40;AO=4;CIGAR=1X;DP=252;DPB=252;DPRA=0.818182;EPP=3.0103;EPPR=3.01916;GTI=0;LEN=1;MEANALT=2.5;MQM=42.75;MQMR=38.151;NS=20;NUMALT=1;ODDS=0.517541;PAIRED=0.25;PAIREDR=0.538776;PAO=0;PQA=0;PQR=0;PRO=0;QA=135;QR=8334;RO=245;RPP=11.6962;RPPR=475.957;RUN=1;SAF=2;SAP=3.0103;SAR=2;SRF=129;SRP=4.50817;SRR=116;TYPE=snp;technology.Illumina=1\tGT:GQ:DP:RO:QR:AO:QA:GL\t0/1:2.11281:10:6:219:2:66:-4.96392,0,-10\t0/1:2.05039:11:8:277:2:69:-4.82958,0,-10\t0/0:81.1549:13:13:433:0:0:0,-3.91339,-10\t0/0:84.1652:14:14:466:0:0:0,-4.21442,-10\t0/0:66.1034:8:8:297:0:0:0,-2.40824,-10\t0/0:81.1549:13:13:425:0:0:0,-3.91339,-10\t0/0:84.1652:14:14:491:0:0:0,-4.21442,-10\t0/0:126.146:28:28:982:0:0:0,-8.42884,-10\t0/0:75.1343:11:11:416:0:0:0,-3.31133,-10\t0/0:69.1137:9:9:310:0:0:0,-2.70927,-10\t0/0:72.124:10:10:312:0:0:0,-3.0103,-10\t0/0:72.124:10:10:336:0:0:0,-3.0103,-10\t0/0:90.1858:16:16:478:0:0:0,-4.81648,-10\t0/0:84.1652:14:14:478:0:0:0,-4.21442,-10\t0/0:87.1755:15:15:512:0:0:0,-4.51545,-10\t0/0:54.0622:4:4:139:0:0:0,-1.20412,-10\t0/0:81.1549:13:13:413:0:0:0,-3.91339,-10\t0/0:93.196:17:17:575:0:0:0,-5.11751,-10\t0/0:81.1549:13:13:451:0:0:0,-3.91339,-10\t0/0:69.1137:9:9:324:0:0:0,-2.70927,-10\r\n",
      "9\t13\t.\tC\tA,T\t44.1654\t.\tAB=0.227273,0.25;ABP=17.2236,9.52472;AC=1,1;AF=0.025,0.025;AN=40;AO=5,3;CIGAR=1X,1X;DP=263;DPB=263;DPRA=0.821577,0.896266;EPP=6.91895,9.52472;EPPR=7.93458;GTI=1;LEN=1,1;MEANALT=2,2;MQM=50.8,37;MQMR=38.2283;NS=20;NUMALT=2;ODDS=4.77931;PAIRED=0.6,0;PAIREDR=0.535433;PAO=0,0;PQA=0,0;PQR=0;PRO=0;QA=172,81;QR=8813;RO=254;RPP=13.8677,9.52472;RPPR=409.298;RUN=1,1;SAF=4,0;SAP=6.91895,9.52472;SAR=1,3;SRF=133;SRP=4.24137;SRR=121;TYPE=snp,snp;technology.Illumina=1,1\tGT:GQ:DP:RO:QR:AO:QA:GL\t0/1:44.1654:10:5:190:4,0:133,0:-10,0,-10,-10,-10,-10\t0/2:0.0203464:12:8:309:1,3:39,81:-6.10615,-4.32118,-10,0,-10,-10\t0/0:74.8364:13:13:460:0,0:0,0:0,-3.91339,-10,-3.91339,-10,-10\t0/0:77.8467:14:14:461:0,0:0,0:0,-4.21442,-10,-4.21442,-10,-10\t0/0:59.7849:8:8:297:0,0:0,0:0,-2.40824,-10,-2.40824,-10,-10\t0/0:77.8467:14:14:476:0,0:0,0:0,-4.21442,-10,-4.21442,-10,-10\t0/0:80.857:15:15:529:0,0:0,0:0,-4.51545,-10,-4.51545,-10,-10\t0/0:119.913:28:28:977:0,0:0,0:0,-8.42884,-10,-8.42884,-10,-10\t0/0:68.8158:11:11:413:0,0:0,0:0,-3.31133,-10,-3.31133,-10,-10\t0/0:65.8055:10:10:362:0,0:0,0:0,-3.0103,-10,-3.0103,-10,-10\t0/0:68.8158:11:11:373:0,0:0,0:0,-3.31133,-10,-3.31133,-10,-10\t0/0:65.8055:10:10:333:0,0:0,0:0,-3.0103,-10,-3.0103,-10,-10\t0/0:86.8776:17:17:519:0,0:0,0:0,-5.11751,-10,-5.11751,-10,-10\t0/0:80.857:15:15:523:0,0:0,0:0,-4.51545,-10,-4.51545,-10,-10\t0/0:80.857:15:15:519:0,0:0,0:0,-4.51545,-10,-4.51545,-10,-10\t0/0:53.7643:6:6:214:0,0:0,0:0,-1.80618,-10,-1.80618,-10,-10\t0/0:74.8364:13:13:424:0,0:0,0:0,-3.91339,-10,-3.91339,-10,-10\t0/0:92.8981:19:19:646:0,0:0,0:0,-5.71957,-10,-5.71957,-10,-10\t0/0:74.8364:13:13:460:0,0:0,0:0,-3.91339,-10,-3.91339,-10,-10\t0/0:62.7952:9:9:328:0,0:0,0:0,-2.70927,-10,-2.70927,-10,-10\r\n",
      "9\t14\t.\tT\tA\t61.7888\t.\tAB=0.24;ABP=17.6895;AC=2;AF=0.05;AN=40;AO=6;CIGAR=1X;DP=284;DPB=284;DPRA=0.868726;EPP=3.0103;EPPR=14.3712;GTI=0;LEN=1;MEANALT=1.5;MQM=44.6667;MQMR=38.7391;NS=20;NUMALT=1;ODDS=2.40676;PAIRED=0.333333;PAIREDR=0.532609;PAO=0;PQA=0;PQR=0;PRO=0;QA=210;QR=9688;RO=276;RPP=16.0391;RPPR=404.859;RUN=1;SAF=3;SAP=3.0103;SAR=3;SRF=144;SRP=4.14324;SRR=132;TYPE=snp;technology.Illumina=1\tGT:GQ:DP:RO:QR:AO:QA:GL\t0/1:61.6926:11:7:263:4:136:-10,0,-10\t0/1:10.8271:14:11:406:2:74:-4.7987,0,-10\t0/0:77.0607:13:13:457:0:0:0,-3.91339,-10\t0/0:86.0916:16:16:557:0:0:0,-4.81648,-10\t0/0:62.0092:8:8:296:0:0:0,-2.40824,-10\t0/0:80.071:14:14:479:0:0:0,-4.21442,-10\t0/0:83.0813:15:15:543:0:0:0,-4.51545,-10\t0/0:127.496:30:30:1061:0:0:0,-9.0309,-10\t0/0:77.0607:13:13:484:0:0:0,-3.91339,-10\t0/0:71.0401:11:11:371:0:0:0,-3.31133,-10\t0/0:80.071:14:14:477:0:0:0,-4.21442,-10\t0/0:68.0298:10:10:326:0:0:0,-3.0103,-10\t0/0:89.1019:18:17:561:0:0:0,-5.11751,-10\t0/0:83.0813:15:15:541:0:0:0,-4.51545,-10\t0/0:83.0813:15:15:542:0:0:0,-4.51545,-10\t0/0:58.9989:7:7:244:0:0:0,-2.10721,-10\t0/0:80.071:14:14:451:0:0:0,-4.21442,-10\t0/0:98.132:20:20:694:0:0:0,-6.0206,-10\t0/0:83.0813:15:15:534:0:0:0,-4.51545,-10\t0/0:71.0401:11:11:401:0:0:0,-3.31133,-10\r\n",
      "9\t15\t.\tT\tG,A\t1824.46\t.\tAB=0.295455,0.454545;ABP=19.0002,3.20771;AC=8,1;AF=0.2,0.025;AN=40;AO=65,5;CIGAR=1X,1X;DP=301;DPB=301;DPRA=1.38557,0.760163;EPP=27.3642,6.91895;EPPR=11.5819;GTI=0;LEN=1,1;MEANALT=1.2,1;MQM=33.1692,55.4;MQMR=40.1623;NS=20;NUMALT=2;ODDS=2.72535;PAIRED=0.538462,0.8;PAIREDR=0.5;PAO=0,0;PQA=0,0;PQR=0;PRO=0;QA=2316,167;QR=7990;RO=228;RPP=35.1147,13.8677;RPPR=399.361;RUN=1,1;SAF=36,4;SAP=4.64726,6.91895;SAR=29,1;SRF=111;SRP=3.35316;SRR=117;TYPE=snp,snp;technology.Illumina=1,1\tGT:GQ:DP:RO:QR:AO:QA:GL\t0/2:38.4633:11:6:224:0,5:0,167:-10,-10,-10,0,-10,-10\t0/1:54.3259:14:10:382:2,0:69,0:-4.46968,0,-10,-7.47998,-10,-10\t0/0:39.2065:14:14:500:0,0:0,0:0,-4.21442,-10,-4.21442,-10,-10\t0/0:48.2374:17:17:598:0,0:0,0:0,-5.11751,-10,-5.11751,-10,-10\t0/0:21.1447:8:8:305:0,0:0,0:0,-2.40824,-10,-2.40824,-10,-10\t0/0:39.2065:15:14:484:0,0:0,0:0,-4.21442,-10,-4.21442,-10,-10\t1/1:21.2558:16:0:0:16,0:567,0:-10,-4.81648,0,-10,-4.81648,-10\t0/1:138.963:30:19:696:11,0:391,0:-10,0,-10,-10,-10,-10\t1/1:12.2249:13:0:0:13,0:478,0:-10,-3.91339,0,-10,-3.91339,-10\t0/0:36.1962:13:13:452:0,0:0,0:0,-3.91339,-10,-3.91339,-10,-10\t0/0:39.2065:14:14:459:0,0:0,0:0,-4.21442,-10,-4.21442,-10,-10\t0/0:30.1756:11:11:389:0,0:0,0:0,-3.31133,-10,-3.31133,-10,-10\t0/0:51.2477:18:18:569:0,0:0,0:0,-5.41854,-10,-5.41854,-10,-10\t0/0:45.2271:16:16:583:0,0:0,0:0,-4.81648,-10,-4.81648,-10,-10\t0/0:51.2477:18:18:615:0,0:0,0:0,-5.41854,-10,-5.41854,-10,-10\t0/0:21.1447:8:8:280:0,0:0,0:0,-2.40824,-10,-2.40824,-10,-10\t0/0:42.2168:15:15:482:0,0:0,0:0,-4.51545,-10,-4.51545,-10,-10\t1/1:42.3279:23:0:0:23,0:811,0:-10,-6.92369,0,-10,-6.92369,-10\t0/0:45.2271:16:16:567:0,0:0,0:0,-4.81648,-10,-4.81648,-10,-10\t0/0:30.1756:11:11:405:0,0:0,0:0,-3.31133,-10,-3.31133,-10,-10\r\n",
      "9\t16\t.\tT\tG\t6.13506\t.\tAB=0.16;ABP=28.1125;AC=2;AF=0.05;AN=40;AO=4;CIGAR=1X;DP=320;DPB=320;DPRA=0.762712;EPP=5.18177;EPPR=28.9912;GTI=1;LEN=1;MEANALT=3;MQM=54.25;MQMR=38.836;NS=20;NUMALT=1;ODDS=1.13151;PAIRED=0.75;PAIREDR=0.501608;PAO=0;PQA=0;PQR=0;PRO=0;QA=139;QR=10918;RO=311;RPP=11.6962;RPPR=449.936;RUN=1;SAF=3;SAP=5.18177;SAR=1;SRF=154;SRP=3.07314;SRR=157;TYPE=snp;technology.Illumina=1\tGT:GQ:DP:RO:QR:AO:QA:GL\t0/1:6.13506:11:6:226:3:101:-8.30901,0,-10\t0/1:0.00687208:14:11:414:1:38:-0.933488,0,-10\t0/0:94.4725:16:16:586:0:0:0,-4.81648,-10\t0/0:97.4827:17:17:599:0:0:0,-5.11751,-10\t0/0:70.3902:8:8:307:0:0:0,-2.40824,-10\t0/0:94.4725:16:16:524:0:0:0,-4.81648,-10\t0/0:97.4827:17:17:599:0:0:0,-5.11751,-10\t0/0:134.166:34:34:1224:0:0:0,-10,-10\t0/0:91.4622:15:15:536:0:0:0,-4.51545,-10\t0/0:88.452:14:14:488:0:0:0,-4.21442,-10\t0/0:94.4725:16:16:536:0:0:0,-4.81648,-10\t0/0:79.4211:11:11:387:0:0:0,-3.31133,-10\t0/0:103.503:19:19:598:0:0:0,-5.71957,-10\t0/0:91.4622:16:15:560:0:0:0,-4.51545,-10\t0/0:103.503:19:19:650:0:0:0,-5.71957,-10\t0/0:70.3902:8:8:284:0:0:0,-2.40824,-10\t0/0:94.4725:16:16:530:0:0:0,-4.81648,-10\t0/0:115.488:23:23:793:0:0:0,-6.92369,-10\t0/0:97.4827:17:17:605:0:0:0,-5.11751,-10\t0/0:85.4417:13:13:472:0:0:0,-3.91339,-10\r\n",
      "9\t17\t.\tC\tT\t57.9275\t.\tAB=0.230769;ABP=19.3799;AC=2;AF=0.05;AN=40;AO=6;CIGAR=1X;DP=336;DPB=336;DPRA=0.754839;EPP=3.0103;EPPR=31.2394;GTI=0;LEN=1;MEANALT=2.5;MQM=44.6667;MQMR=38.9169;NS=20;NUMALT=1;ODDS=2.67888;PAIRED=0.333333;PAIREDR=0.507692;PAO=0;PQA=0;PQR=0;PRO=0;QA=208;QR=11357;RO=325;RPP=16.0391;RPPR=458.158;RUN=1;SAF=3;SAP=3.0103;SAR=3;SRF=162;SRP=3.01698;SRR=163;TYPE=snp;technology.Illumina=1\tGT:GQ:DP:RO:QR:AO:QA:GL\t0/1:11.9224:12:6:233:2:66:-4.97808,0,-10\t0/1:57.9128:14:9:346:4:142:-10,0,-10\t0/0:91.6803:16:16:580:0:0:0,-4.81648,-10\t0/0:100.712:19:19:640:0:0:0,-5.71957,-10\t0/0:67.598:8:8:309:0:0:0,-2.40824,-10\t0/0:91.6803:16:16:548:0:0:0,-4.81648,-10\t0/0:94.6904:17:17:602:0:0:0,-5.11751,-10\t0/0:137.27:35:35:1234:0:0:0,-10,-10\t0/0:91.6803:16:16:579:0:0:0,-4.81648,-10\t0/0:88.67:15:15:527:0:0:0,-4.51545,-10\t0/0:94.6904:17:17:567:0:0:0,-5.11751,-10\t0/0:85.6597:14:14:484:0:0:0,-4.21442,-10\t0/0:100.712:19:19:581:0:0:0,-5.71957,-10\t0/0:91.6803:16:16:586:0:0:0,-4.81648,-10\t0/0:106.728:21:21:701:0:0:0,-6.32163,-10\t0/0:67.598:8:8:282:0:0:0,-2.40824,-10\t0/0:94.6904:17:17:571:0:0:0,-5.11751,-10\t0/0:112.738:23:23:811:0:0:0,-6.92369,-10\t0/0:100.712:19:19:673:0:0:0,-5.71957,-10\t0/0:85.6597:14:14:503:0:0:0,-4.21442,-10\r\n",
      "awk: write error on /dev/stdout\r\n",
      " input record number 120, file \r\n",
      " source line number 1\r\n",
      "Could not write 65536 bytes\r\n"
     ]
    }
   ],
   "source": [
    "!bgzip -dc  ../test/test-data/vcf/20Monkey_chr9_bwa.vcf.gz | awk '!/##/' | head"
   ]
  },
  {
   "cell_type": "markdown",
   "metadata": {},
   "source": [
    "Can access a slice using [fetch](http://pyvcf.readthedocs.org/en/latest/API.html#vcf-reader)\n",
    "\n",
    "Pythonic intervals are start/end, POS is 1-based vcf index"
   ]
  },
  {
   "cell_type": "code",
   "execution_count": 17,
   "metadata": {
    "collapsed": false
   },
   "outputs": [
    {
     "name": "stdout",
     "output_type": "stream",
     "text": [
      "10002 10001 10002 snp ['A', T]\n",
      "10007 10006 10007 snp ['C', A]\n",
      "10013 10012 10013 snp ['T', C]\n",
      "10014 10013 10014 snp ['G', T]\n",
      "10018 10017 10018 snp ['G', T]\n",
      "10020 10019 10020 snp ['T', G, A]\n",
      "10026 10025 10026 snp ['A', T, G]\n",
      "10031 10030 10034 indel ['TACC', GACC, AACC, GACT]\n",
      "10036 10035 10036 snp ['C', T]\n",
      "10038 10037 10038 snp ['C', A]\n",
      "10039 10038 10043 indel ['CTAAT', CTAAG, CTAAA, TTAAG]\n",
      "10048 10047 10048 snp ['G', T]\n",
      "10049 10048 10049 snp ['A', T]\n",
      "10053 10052 10053 snp ['T', A]\n",
      "10054 10053 10054 snp ['T', A]\n",
      "10058 10057 10058 snp ['A', T]\n",
      "10061 10060 10070 indel ['GATTCTCCAT', GATTCTCCAA, GATTCTCCAG, AATTTTCTAA]\n",
      "10079 10078 10079 snp ['T', A]\n",
      "10080 10079 10080 snp ['G', A]\n",
      "10082 10081 10082 snp ['C', T]\n",
      "10087 10086 10087 snp ['T', A]\n",
      "10088 10087 10088 snp ['C', G]\n",
      "10089 10088 10089 snp ['T', A]\n",
      "10100 10099 10100 snp ['T', G, A]\n"
     ]
    }
   ],
   "source": [
    " for X in myvcf.fetch(\"9\",10000,10100):\n",
    "        print(X.POS,X.start,X.end,X.var_type,X.alleles)"
   ]
  },
  {
   "cell_type": "markdown",
   "metadata": {},
   "source": [
    "To get length can just use end - start  \n",
    "\n",
    "Fetch arg has our chromosome/contig ID"
   ]
  },
  {
   "cell_type": "code",
   "execution_count": 40,
   "metadata": {
    "collapsed": false,
    "scrolled": false
   },
   "outputs": [
    {
     "name": "stdout",
     "output_type": "stream",
     "text": [
      "10031 unknown 10030 10034 10034 TACC [GACC, AACC, GACT] ['TACC', GACC, AACC, GACT]\n",
      "10039 unknown 10038 10043 10043 CTAAT [CTAAG, CTAAA, TTAAG] ['CTAAT', CTAAG, CTAAA, TTAAG]\n",
      "10061 unknown 10060 10070 10070 GATTCTCCAT [GATTCTCCAA, GATTCTCCAG, AATTTTCTAA] ['GATTCTCCAT', GATTCTCCAA, GATTCTCCAG, AATTTTCTAA]\n",
      "10168 unknown 10167 10174 10174 GTACGGT [GTACGGG, GTACGGC, GCACGGG, ATATGGG, GTATGGG] ['GTACGGT', GTACGGG, GTACGGC, GCACGGG, ATATGGG, GTATGGG]\n",
      "10250 unknown 10249 10253 10253 TCCC [CCCC, CCCT] ['TCCC', CCCC, CCCT]\n",
      "10280 ins 10279 10288 10288 GAAATGCTA [GAAATGCTAAATGCTA] ['GAAATGCTA', GAAATGCTAAATGCTA]\n",
      "10296 unknown 10295 10301 10301 GTTAGA [ATTAGA, ATTA] ['GTTAGA', ATTAGA, ATTA]\n",
      "10305 del 10304 10307 10307 TAA [TA] ['TAA', TA]\n",
      "10313 unknown 10312 10317 10317 GGTGG [CGTG, CGTGG] ['GGTGG', CGTG, CGTGG]\n",
      "10318 unknown 10317 10327 10327 GTATATATAT [GTATATATATGT, GTGTGTGTGT, GTATATATGT] ['GTATATATAT', GTATATATATGT, GTGTGTGTGT, GTATATATGT]\n",
      "10332 unknown 10331 10334 10334 GTG [GTGTTTATATG, GTT] ['GTG', GTGTTTATATG, GTT]\n",
      "10390 unknown 10389 10415 10415 CTGTAAGGTTGTGTGTAAGGTTGTGT [CTGTAAGGTTGTGTGTTGTGT, ATGTAAGGTTGTGTGTAAGGTTGTGT, CTGTAAGGTTGTGT] ['CTGTAAGGTTGTGTGTAAGGTTGTGT', CTGTAAGGTTGTGTGTTGTGT, ATGTAAGGTTGTGTGTAAGGTTGTGT, CTGTAAGGTTGTGT]\n",
      "10443 unknown 10442 10444 10444 AG [TA, AT] ['AG', TA, AT]\n",
      "10461 unknown 10460 10462 10462 TA [GA, AA, AG] ['TA', GA, AA, AG]\n",
      "10474 ins 10473 10477 10477 AATT [GATC] ['AATT', GATC]\n",
      "10500 unknown 10499 10502 10502 CAT [CT, GAT] ['CAT', CT, GAT]\n",
      "10513 unknown 10512 10517 10517 CATTT [TATTT, TATTCAT] ['CATTT', TATTT, TATTCAT]\n",
      "10521 unknown 10520 10525 10525 TTTAT [TTCATT, TTCAT, TT] ['TTTAT', TTCATT, TTCAT, TT]\n",
      "10534 del 10533 10540 10540 ACTAAAT [ATCAAA] ['ACTAAAT', ATCAAA]\n",
      "10554 unknown 10553 10558 10558 CACAG [CACAA, TACAA] ['CACAG', CACAA, TACAA]\n",
      "10568 unknown 10567 10576 10576 CTGCCTTGT [ATGCACTGC, CTGCCTTGC, ATGCATTGC] ['CTGCCTTGT', ATGCACTGC, CTGCCTTGC, ATGCATTGC]\n",
      "10598 unknown 10597 10604 10604 TAAAAAG [TAGAAAG, TAAAAAAG] ['TAAAAAG', TAGAAAG, TAAAAAAG]\n",
      "10625 del 10624 10628 10628 TTCC [TC] ['TTCC', TC]\n",
      "10638 ins 10637 10640 10640 GAA [GAAA] ['GAA', GAAA]\n",
      "10702 unknown 10701 10716 10716 ATAAAATATTATTAG [ATAAAATATTATTGG, GTAAATTATTGTTGG, GTAAGTTATGGTTGT] ['ATAAAATATTATTAG', ATAAAATATTATTGG, GTAAATTATTGTTGG, GTAAGTTATGGTTGT]\n",
      "10717 ins 10716 10719 10719 ATT [ATG] ['ATT', ATG]\n",
      "10729 unknown 10728 10731 10731 ACC [ACCC, GCC, ACT] ['ACC', ACCC, GCC, ACT]\n",
      "10758 unknown 10757 10762 10762 CAGTA [AAGTA, CAGTG, TAGTA, TAGTG, AAGTG] ['CAGTA', AAGTA, CAGTG, TAGTA, TAGTG, AAGTG]\n",
      "10775 unknown 10774 10779 10779 TGGCC [TGACC, AGGCT, TGACG] ['TGGCC', TGACC, AGGCT, TGACG]\n",
      "10806 ins 10805 10809 10809 ATAA [GTAT] ['ATAA', GTAT]\n",
      "10828 del 10827 10832 10832 TTCAT [TT] ['TTCAT', TT]\n",
      "10854 unknown 10853 10858 10858 TATCT [CATCT, CATCG] ['TATCT', CATCT, CATCG]\n",
      "10972 del 10971 10974 10974 AGG [AG] ['AGG', AG]\n"
     ]
    }
   ],
   "source": [
    "for  X in myvcf.fetch(\"9\",10000,11000):\n",
    "    if (X.var_type=='indel'):\n",
    "        print(X.POS,X.var_subtype,X.start,X.end,X.affected_end,X.REF,X.ALT,X.alleles)"
   ]
  },
  {
   "cell_type": "markdown",
   "metadata": {},
   "source": [
    "Probaby simplest to return a dict from comprehension, so we can the exclude our target.\n",
    "\n",
    "**However** this would be less flexible than making a bed tool\n",
    "\n",
    "would need to \n",
    "\n",
    "- pass in a target in Python Primer 3 target format\n",
    "\n",
    "i.e. 0-based start  length\n",
    "\n",
    "- exclude using "
   ]
  },
  {
   "cell_type": "code",
   "execution_count": 75,
   "metadata": {
    "collapsed": false
   },
   "outputs": [],
   "source": [
    "myintdict={X.start:X.end-X.start for X  in myvcf.fetch(\"9\",10200,10400)}"
   ]
  },
  {
   "cell_type": "markdown",
   "metadata": {},
   "source": [
    "### Create  a BedTool from Vcf interval"
   ]
  },
  {
   "cell_type": "code",
   "execution_count": 107,
   "metadata": {
    "collapsed": false
   },
   "outputs": [
    {
     "data": {
      "text/plain": [
       "['Chr9 10201 10202',\n",
       " 'Chr9 10202 10203',\n",
       " 'Chr9 10206 10207',\n",
       " 'Chr9 10210 10211',\n",
       " 'Chr9 10213 10214',\n",
       " 'Chr9 10215 10216',\n",
       " 'Chr9 10218 10219',\n",
       " 'Chr9 10225 10226',\n",
       " 'Chr9 10226 10227',\n",
       " 'Chr9 10227 10228',\n",
       " 'Chr9 10232 10233',\n",
       " 'Chr9 10233 10234',\n",
       " 'Chr9 10241 10242',\n",
       " 'Chr9 10243 10244',\n",
       " 'Chr9 10247 10248',\n",
       " 'Chr9 10249 10253',\n",
       " 'Chr9 10255 10256',\n",
       " 'Chr9 10257 10258',\n",
       " 'Chr9 10260 10261',\n",
       " 'Chr9 10261 10262',\n",
       " 'Chr9 10262 10263',\n",
       " 'Chr9 10271 10272',\n",
       " 'Chr9 10279 10288',\n",
       " 'Chr9 10295 10301']"
      ]
     },
     "execution_count": 107,
     "metadata": {},
     "output_type": "execute_result"
    }
   ],
   "source": [
    "[\"Chr9\" + \" \" + str(X.start)+ \" \" +  str(X.end) for X  in myvcf.fetch(\"9\",10200,10300)]"
   ]
  },
  {
   "cell_type": "markdown",
   "metadata": {},
   "source": [
    "need to join with newline into a string"
   ]
  },
  {
   "cell_type": "code",
   "execution_count": 110,
   "metadata": {
    "collapsed": false
   },
   "outputs": [
    {
     "data": {
      "text/plain": [
       "'Chr9 10201 10202\\nChr9 10202 10203\\nChr9 10206 10207\\nChr9 10210 10211\\nChr9 10213 10214\\nChr9 10215 10216\\nChr9 10218 10219\\nChr9 10225 10226\\nChr9 10226 10227\\nChr9 10227 10228\\nChr9 10232 10233\\nChr9 10233 10234\\nChr9 10241 10242\\nChr9 10243 10244\\nChr9 10247 10248\\nChr9 10249 10253\\nChr9 10255 10256\\nChr9 10257 10258\\nChr9 10260 10261\\nChr9 10261 10262\\nChr9 10262 10263\\nChr9 10271 10272\\nChr9 10279 10288\\nChr9 10295 10301'"
      ]
     },
     "execution_count": 110,
     "metadata": {},
     "output_type": "execute_result"
    }
   ],
   "source": [
    "testint=[\"Chr9\" + \" \" + str(X.start)+ \" \" +  str(X.end) for X  in myvcf.fetch(\"9\",10200,10300)]\n",
    "\"\\n\".join(testint)"
   ]
  },
  {
   "cell_type": "code",
   "execution_count": 112,
   "metadata": {
    "collapsed": false
   },
   "outputs": [],
   "source": [
    "testbed=BedTool(\"\\n\".join(testint),from_string=True)"
   ]
  },
  {
   "cell_type": "code",
   "execution_count": 113,
   "metadata": {
    "collapsed": false
   },
   "outputs": [
    {
     "name": "stdout",
     "output_type": "stream",
     "text": [
      "Chr9\t10201\t10202\n",
      "Chr9\t10202\t10203\n",
      "Chr9\t10206\t10207\n",
      "Chr9\t10210\t10211\n",
      "Chr9\t10213\t10214\n",
      "Chr9\t10215\t10216\n",
      "Chr9\t10218\t10219\n",
      "Chr9\t10225\t10226\n",
      "Chr9\t10226\t10227\n",
      "Chr9\t10227\t10228\n",
      "Chr9\t10232\t10233\n",
      "Chr9\t10233\t10234\n",
      "Chr9\t10241\t10242\n",
      "Chr9\t10243\t10244\n",
      "Chr9\t10247\t10248\n",
      "Chr9\t10249\t10253\n",
      "Chr9\t10255\t10256\n",
      "Chr9\t10257\t10258\n",
      "Chr9\t10260\t10261\n",
      "Chr9\t10261\t10262\n",
      "Chr9\t10262\t10263\n",
      "Chr9\t10271\t10272\n",
      "Chr9\t10279\t10288\n",
      "Chr9\t10295\t10301\n",
      "\n"
     ]
    }
   ],
   "source": [
    "print(testbed)"
   ]
  },
  {
   "cell_type": "markdown",
   "metadata": {},
   "source": [
    "## Write a class"
   ]
  },
  {
   "cell_type": "code",
   "execution_count": 138,
   "metadata": {
    "collapsed": false
   },
   "outputs": [],
   "source": [
    "class VcfPrimerDesign:\n",
    "    \"\"\"A primer design object that is primed\n",
    "    with genome reference and vcf variant data\n",
    "    \"\"\"\n",
    "    def __init__(self,reference,vcf_file,desc):\n",
    "        \"\"\"\n",
    "        Usage:  PrimerDesign(reference, vcf.gz, description)\n",
    "        Initialise a design object with a  reference assembly and\n",
    "        variant file(s)\n",
    "        \"\"\"\n",
    "        self.reference = Fasta(reference)\n",
    "        self.vcf=vcf.Reader(filename=vcf_file)\n",
    "        self.desc=desc\n",
    "        self.genome=self.reference.filename.replace(\"fa\",\"fa.fai\")\n",
    "    \n",
    "    \n",
    "    def getseqslicedict(self,target,max_size):\n",
    "        \"\"\"Pass a bed target to a designer and get a dictionary\n",
    "        slice that we can pass to P3\n",
    "        \"\"\"\n",
    "        target_int=target.slop(b=max_size,g=self.genome)\n",
    "        target_chrom=target[0].chrom\n",
    "        target_start=target_int[0].start\n",
    "        target_end=target_int[0].end\n",
    "        offset=target_int[0].start\n",
    "        sldic=dict(SEQUENCE_ID=self.desc)\n",
    "        sldic['TARGET_ID']=target_chrom + \"_\" + str(target_start) +\"_\" + str(target_end)\n",
    "        sldic['SEQUENCE_TEMPLATE']=str(self.reference[target_chrom][target_start:target_end].seq)\n",
    "        #slice_annot=[(X.start -offset,X.length) for X in (self.annotations - target) if (X.chrom==target[0].chrom) & \\\n",
    "         #           (X.start > target_int[0].start) & (X.end < target_int[0].end)]\n",
    "        slice_vars=[target_chrom + \" \" + str(X.start)+ \" \" +str(X.end) for X in self.vcf.fetch(target_chrom,target_start,target_end)]\n",
    "        slice_annot=BedTool(\"\\n\".join(slice_vars),from_string=True)\n",
    "        slice_annot=slice_annot-target\n",
    "        sldic['SEQUENCE_EXCLUDED_REGION']=[(X.start,X.length) for X in slice_annot]\n",
    "        sldic['SEQUENCE_TARGET']= (target[0].start -offset,target[0].length)\n",
    "        return sldic\n",
    "\n"
   ]
  },
  {
   "cell_type": "markdown",
   "metadata": {},
   "source": [
    "-----------------\n",
    "\n",
    "Try Out "
   ]
  },
  {
   "cell_type": "code",
   "execution_count": 139,
   "metadata": {
    "collapsed": false
   },
   "outputs": [],
   "source": [
    "mybdesigner=VcfPrimerDesign('../test/test-data/Kiwifruit_pseudomolecule.fa',\n",
    "                            '../test/test-data/vcf/20Monkey_chr9_bwa.vcf.gz','Myb')"
   ]
  },
  {
   "cell_type": "code",
   "execution_count": 141,
   "metadata": {
    "collapsed": false,
    "scrolled": false
   },
   "outputs": [
    {
     "data": {
      "text/plain": [
       "{'SEQUENCE_EXCLUDED_REGION': [(9800, 1),\n",
       "  (9801, 1),\n",
       "  (9804, 1),\n",
       "  (9805, 1),\n",
       "  (9806, 1),\n",
       "  (9807, 1),\n",
       "  (9808, 1),\n",
       "  (9813, 1),\n",
       "  (9814, 1),\n",
       "  (9815, 1),\n",
       "  (9817, 1),\n",
       "  (9818, 1),\n",
       "  (9820, 1),\n",
       "  (9821, 1),\n",
       "  (9828, 1),\n",
       "  (9836, 4),\n",
       "  (9842, 1),\n",
       "  (9846, 1),\n",
       "  (9848, 1),\n",
       "  (9851, 1),\n",
       "  (9854, 6),\n",
       "  (9867, 1),\n",
       "  (9870, 1),\n",
       "  (9874, 3),\n",
       "  (9877, 1),\n",
       "  (9878, 1),\n",
       "  (9879, 1),\n",
       "  (9880, 1),\n",
       "  (9881, 1),\n",
       "  (9882, 1),\n",
       "  (9884, 1),\n",
       "  (9885, 1),\n",
       "  (9887, 1),\n",
       "  (9888, 2),\n",
       "  (9890, 1),\n",
       "  (9891, 1),\n",
       "  (9893, 1),\n",
       "  (9895, 1),\n",
       "  (9896, 1),\n",
       "  (9897, 1),\n",
       "  (9898, 1),\n",
       "  (9903, 1),\n",
       "  (9904, 1),\n",
       "  (9905, 1),\n",
       "  (9906, 1),\n",
       "  (9908, 1),\n",
       "  (9911, 1),\n",
       "  (9912, 4),\n",
       "  (9916, 1),\n",
       "  (9917, 1),\n",
       "  (9918, 1),\n",
       "  (9920, 1),\n",
       "  (9921, 1),\n",
       "  (9922, 1),\n",
       "  (9923, 1),\n",
       "  (9924, 1),\n",
       "  (9925, 1),\n",
       "  (9926, 1),\n",
       "  (9928, 1),\n",
       "  (9929, 1),\n",
       "  (9930, 1),\n",
       "  (9931, 1),\n",
       "  (9933, 1),\n",
       "  (9935, 1),\n",
       "  (9938, 2),\n",
       "  (9942, 1),\n",
       "  (9944, 1),\n",
       "  (9945, 1),\n",
       "  (9946, 1),\n",
       "  (9950, 1),\n",
       "  (9951, 1),\n",
       "  (9952, 1),\n",
       "  (9955, 1),\n",
       "  (9964, 1),\n",
       "  (9967, 1),\n",
       "  (9969, 1),\n",
       "  (9970, 1),\n",
       "  (9973, 1),\n",
       "  (9986, 2),\n",
       "  (9992, 1),\n",
       "  (9997, 1),\n",
       "  (10001, 1),\n",
       "  (10006, 1),\n",
       "  (10012, 1),\n",
       "  (10013, 1),\n",
       "  (10017, 1),\n",
       "  (10019, 1),\n",
       "  (10025, 1),\n",
       "  (10030, 4),\n",
       "  (10035, 1),\n",
       "  (10037, 1),\n",
       "  (10038, 5),\n",
       "  (10047, 1),\n",
       "  (10048, 1),\n",
       "  (10052, 1),\n",
       "  (10053, 1),\n",
       "  (10057, 1),\n",
       "  (10060, 10),\n",
       "  (10078, 1),\n",
       "  (10079, 1),\n",
       "  (10081, 1),\n",
       "  (10086, 1),\n",
       "  (10087, 1),\n",
       "  (10088, 1),\n",
       "  (10099, 1),\n",
       "  (10101, 1),\n",
       "  (10104, 1),\n",
       "  (10105, 1),\n",
       "  (10107, 1),\n",
       "  (10109, 1),\n",
       "  (10112, 1),\n",
       "  (10114, 1),\n",
       "  (10115, 1),\n",
       "  (10120, 1),\n",
       "  (10121, 1),\n",
       "  (10124, 1),\n",
       "  (10132, 1),\n",
       "  (10133, 1),\n",
       "  (10141, 1),\n",
       "  (10145, 1),\n",
       "  (10147, 1),\n",
       "  (10151, 1),\n",
       "  (10155, 1),\n",
       "  (10157, 1),\n",
       "  (10159, 1),\n",
       "  (10160, 1),\n",
       "  (10163, 1),\n",
       "  (10166, 1),\n",
       "  (10167, 7),\n",
       "  (10174, 1),\n",
       "  (10176, 1),\n",
       "  (10179, 1),\n",
       "  (10181, 1),\n",
       "  (10182, 1),\n",
       "  (10186, 1),\n",
       "  (10190, 1),\n",
       "  (10195, 1),\n",
       "  (10196, 1),\n",
       "  (10198, 1)],\n",
       " 'SEQUENCE_ID': 'Myb',\n",
       " 'SEQUENCE_TARGET': (200, 1),\n",
       " 'SEQUENCE_TEMPLATE': 'TGGATGGTCTCAACCCTCAGATAATTCAGTTTAGAGATCCCCTCGTGCGTCTCACGCGCTGATTCCTTCTGTTTGTTTCTCTCTCTCTACCCCTATCCCTCGTGTAGTTCTGGATCTTTGACCTTTGACTGCTTAAAAATAATACATATTTATAAGGGTAAAATACACTGATCGCCCCTGAGGTTTTGGATTAATACACAAAGTACCCTTGATGTTTGATAAATTACAATTACCTCCCCTAATGTTTGAAACTTATAACAGATTCTCCATTTTTACACTGACCATCTCTGAGGTTATGATTGAATACACAAAGCCTAACATGAACACATTTAAGGTAAGTTTTAGTTTTAGTTATCACTAGGTTTAAGTACGGTCTCAAAAAGGAACTAGTAATTTGTGAT',\n",
       " 'TARGET_ID': '9_9800_10201'}"
      ]
     },
     "execution_count": 141,
     "metadata": {},
     "output_type": "execute_result"
    }
   ],
   "source": [
    "my_target=BedTool('9 10000 10001',from_string=True)\n",
    "mybdesigner.getseqslicedict(my_target,200)"
   ]
  },
  {
   "cell_type": "markdown",
   "metadata": {},
   "source": [
    "### Test with some cleaner vcf"
   ]
  },
  {
   "cell_type": "code",
   "execution_count": 1,
   "metadata": {
    "collapsed": true
   },
   "outputs": [],
   "source": [
    "from pcr_marker_design import design as d\n",
    "from pybedtools import BedTool\n",
    "import vcf"
   ]
  },
  {
   "cell_type": "code",
   "execution_count": 2,
   "metadata": {
    "collapsed": false
   },
   "outputs": [],
   "source": [
    "mybdesign=d.VcfPrimerDesign('../test/test-data/Kiwifruit_pseudomolecule_Chr.fa',\n",
    "                                '../test/test-data/Chr9_Myb210.vcf.gz','MybTest')"
   ]
  },
  {
   "cell_type": "code",
   "execution_count": 3,
   "metadata": {
    "collapsed": false
   },
   "outputs": [
    {
     "data": {
      "text/plain": [
       "{'SEQUENCE_EXCLUDED_REGION': [(82, 4),\n",
       "  (92, 1),\n",
       "  (113, 1),\n",
       "  (126, 1),\n",
       "  (127, 1),\n",
       "  (139, 3),\n",
       "  (150, 1),\n",
       "  (164, 2),\n",
       "  (192, 1)],\n",
       " 'SEQUENCE_ID': 'MybTest',\n",
       " 'SEQUENCE_TARGET': (100, 1),\n",
       " 'SEQUENCE_TEMPLATE': 'TAAATTTATAAAAAATATATAAATATATATATATATAAATATATAAATATATATATATATAAATATATAAATATATATATATATATATATATATATATATATGTGAGAAAGTATTGATTAACCATAGCGGAGTAAACAACAGAGTTAGAAAAACTCTTTAAAAAAATGTGCTCTCTTTTGTGTGGGGAAAAAGCGCCACAG',\n",
       " 'TARGET_ID': 'Chr9_1389965_1390166'}"
      ]
     },
     "execution_count": 3,
     "metadata": {},
     "output_type": "execute_result"
    }
   ],
   "source": [
    "mytarget=BedTool(\"Chr9 1390065 1390066\",from_string=True)\n",
    "mybdesign.getseqslicedict(mytarget,100)"
   ]
  },
  {
   "cell_type": "code",
   "execution_count": 4,
   "metadata": {
    "collapsed": false
   },
   "outputs": [],
   "source": [
    "test_seq=\"../test/test-data/Kiwifruit_pseudomolecule_Chr.fa\"\n",
    "vcffile= \"../test/test-data/Chr9_Myb210.vcf.gz\"\n",
    "designer = d.VcfPrimerDesign(test_seq,vcffile,\"MybTest\")"
   ]
  },
  {
   "cell_type": "code",
   "execution_count": 5,
   "metadata": {
    "collapsed": true
   },
   "outputs": [],
   "source": [
    "target=BedTool(\"Chr9 1390065 1390066\",from_string=True)"
   ]
  },
  {
   "cell_type": "code",
   "execution_count": 8,
   "metadata": {
    "collapsed": false
   },
   "outputs": [
    {
     "data": {
      "text/plain": [
       "{'SEQUENCE_EXCLUDED_REGION': [(82, 4),\n",
       "  (92, 1),\n",
       "  (113, 1),\n",
       "  (126, 1),\n",
       "  (127, 1),\n",
       "  (139, 3),\n",
       "  (150, 1),\n",
       "  (164, 2),\n",
       "  (192, 1)],\n",
       " 'SEQUENCE_ID': 'MybTest',\n",
       " 'SEQUENCE_TARGET': (100, 1),\n",
       " 'SEQUENCE_TEMPLATE': 'TAAATTTATAAAAAATATATAAATATATATATATATAAATATATAAATATATATATATATAAATATATAAATATATATATATATATATATATATATATATATGTGAGAAAGTATTGATTAACCATAGCGGAGTAAACAACAGAGTTAGAAAAACTCTTTAAAAAAATGTGCTCTCTTTTGTGTGGGGAAAAAGCGCCACAG',\n",
       " 'TARGET_ID': 'Chr9_1389965_1390166'}"
      ]
     },
     "execution_count": 8,
     "metadata": {},
     "output_type": "execute_result"
    }
   ],
   "source": [
    "designer.getseqslicedict(target,100)"
   ]
  },
  {
   "cell_type": "code",
   "execution_count": 7,
   "metadata": {
    "collapsed": false
   },
   "outputs": [
    {
     "data": {
      "text/plain": [
       "'0.8.4'"
      ]
     },
     "execution_count": 7,
     "metadata": {},
     "output_type": "execute_result"
    }
   ],
   "source": [
    "import pysam\n",
    "pysam.__version__"
   ]
  },
  {
   "cell_type": "markdown",
   "metadata": {},
   "source": [
    "**This ony passes in Python3**\n",
    "\n",
    "-----------\n",
    "\n",
    "Try to Design\n",
    "----------"
   ]
  },
  {
   "cell_type": "code",
   "execution_count": 11,
   "metadata": {
    "collapsed": false
   },
   "outputs": [],
   "source": [
    "from pcr_marker_design import run_p3 as P3"
   ]
  },
  {
   "cell_type": "code",
   "execution_count": null,
   "metadata": {
    "collapsed": true
   },
   "outputs": [],
   "source": [
    "p3_test_globals={\n",
    "        'PRIMER_OPT_SIZE': 20,\n",
    "        'PRIMER_PICK_INTERNAL_OLIGO': 1,\n",
    "        'PRIMER_INTERNAL_MAX_SELF_END': 8,\n",
    "        'PRIMER_MIN_SIZE': 18,\n",
    "        'PRIMER_MAX_SIZE': 25,\n",
    "        'PRIMER_OPT_TM': 60.0,\n",
    "        'PRIMER_MIN_TM': 57.0,\n",
    "        'PRIMER_MAX_TM': 63.0,\n",
    "        'PRIMER_MIN_GC': 20.0,\n",
    "        'PRIMER_MAX_GC': 80.0,\n",
    "        'PRIMER_MAX_POLY_X': 100,\n",
    "        'PRIMER_INTERNAL_MAX_POLY_X': 100,\n",
    "        'PRIMER_SALT_MONOVALENT': 50.0,\n",
    "        'PRIMER_DNA_CONC': 50.0,\n",
    "        'PRIMER_MAX_NS_ACCEPTED': 0,\n",
    "        'PRIMER_MAX_SELF_ANY': 12,\n",
    "        'PRIMER_MAX_SELF_END': 8,\n",
    "        'PRIMER_PAIR_MAX_COMPL_ANY': 12,\n",
    "        'PRIMER_PAIR_MAX_COMPL_END': 8,\n",
    "        'PRIMER_PRODUCT_SIZE_RANGE': [[75,100],[100,125],[125,150],[150,175],[175,200],[200,225]],\n",
    "    }"
   ]
  }
 ],
 "metadata": {
  "kernelspec": {
   "display_name": "Python 3",
   "language": "python",
   "name": "python3"
  },
  "language_info": {
   "codemirror_mode": {
    "name": "ipython",
    "version": 3
   },
   "file_extension": ".py",
   "mimetype": "text/x-python",
   "name": "python",
   "nbconvert_exporter": "python",
   "pygments_lexer": "ipython3",
   "version": "3.5.1"
  }
 },
 "nbformat": 4,
 "nbformat_minor": 0
}
