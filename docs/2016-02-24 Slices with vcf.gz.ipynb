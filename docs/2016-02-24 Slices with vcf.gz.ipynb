{
 "cells": [
  {
   "cell_type": "markdown",
   "metadata": {},
   "source": [
    "# Slice vcf with Various Modules and Prototype Designer for VCF\n",
    "\n",
    "- pybedtools\n",
    "- pyvcf"
   ],
   "outputExpanded": false
  },
  {
   "cell_type": "markdown",
   "metadata": {},
   "source": [
    "HTSeq\n",
    "-----\n",
    "\n",
    "- Slicing is quite complex and we dont get easy access to call details\n",
    "\n",
    "pybedtools\n",
    "----------\n",
    "\n",
    "- quite flaky with access to large vcf.gz tabixed files\n",
    "- just use it for interval algebra, if necessary\n",
    "\n",
    "pycvf\n",
    "-----\n",
    "\n",
    "- works a treat\n",
    "- issues with running fetch in Python 2 dues to some Cython bugginess. Tests only pass in Py3"
   ],
   "outputExpanded": false
  },
  {
   "execution_count": 7,
   "metadata": {
    "collapsed": true
   },
   "outputs": [],
   "cell_type": "code",
   "outputExpanded": false,
   "source": [
    "from pyfaidx import Fasta\n",
    "from pybedtools import BedTool\n",
    "import vcf"
   ]
  },
  {
   "execution_count": 14,
   "metadata": {
    "collapsed": false
   },
   "outputs": [
    {
     "text": [
      "/Users/cfljam/Documents/pcr_marker_design/docs\r\n",
      "../test/test-data/AcCHR1_test.fasta\r\n",
      "../test/test-data/AcCHR1_test.phased.vcf.gz\r\n",
      "../test/test-data/AcCHR1_test.phased.vcf.gz.tbi\r\n",
      "../test/test-data/AcCHR1_test.vcf.gz\r\n",
      "../test/test-data/AcCHR1_test.vcf.gz.tbi\r\n"
     ],
     "name": "stdout",
     "output_type": "stream"
    }
   ],
   "cell_type": "code",
   "outputExpanded": false,
   "source": [
    "!pwd\n",
    "!ls  ../test/test-data/AcCHR1_test*"
   ]
  },
  {
   "cell_type": "markdown",
   "metadata": {},
   "source": [
    "### Load up an indexed reference and vcf"
   ],
   "outputExpanded": false
  },
  {
   "execution_count": 16,
   "metadata": {
    "collapsed": false
   },
   "outputs": [],
   "cell_type": "code",
   "outputExpanded": false,
   "source": [
    "myfa= Fasta(\"../test/test-data/AcCHR1_test.fasta\")\n",
    "myvcf=vcf.Reader(filename='../test/test-data/AcCHR1_test.vcf.gz')"
   ]
  },
  {
   "cell_type": "markdown",
   "metadata": {},
   "source": [
    "Can access a slice using [fetch](http://pyvcf.readthedocs.org/en/latest/API.html#vcf-reader)\n",
    "\nPythonic intervals are start/end, POS is 1-based vcf index"
   ],
   "outputExpanded": false
  },
  {
   "execution_count": 17,
   "metadata": {
    "collapsed": false
   },
   "outputs": [
    {
     "text": [
      "361 360 394 indel ['GGTAAGGCTAACCACAGGTACATCCAAGCTTCTC', GC]\n",
      "436 435 436 snp ['A', C]\n",
      "499 498 501 indel ['CGC', CGGC]\n",
      "535 534 535 snp ['C', T]\n",
      "542 541 542 snp ['C', T]\n",
      "558 557 558 snp ['T', G]\n",
      "803 802 803 snp ['A', T]\n"
     ],
     "name": "stdout",
     "output_type": "stream"
    }
   ],
   "cell_type": "code",
   "outputExpanded": false,
   "source": [
    " for X in myvcf.fetch(\"CHR1\",200,900):\n",
    "        print(X.POS,X.start,X.end,X.var_type,X.alleles)"
   ]
  },
  {
   "cell_type": "markdown",
   "metadata": {},
   "source": [
    "To get length can just use end - start  \n",
    "\nFetch arg has our chromosome/contig ID"
   ],
   "outputExpanded": false
  },
  {
   "execution_count": 19,
   "metadata": {
    "collapsed": false,
    "scrolled": false
   },
   "outputs": [
    {
     "text": [
      "1051 del 1050 1053 1053 TAC [TC] ['TAC', TC]\n",
      "1793 unknown 1792 1806 1806 TAAAAAAAAAAAAT [TAAAAAAAAAAAAAT, TAAAAAAAAAAAT, TAAAAAAAAAAAAAAT] ['TAAAAAAAAAAAAT', TAAAAAAAAAAAAAT, TAAAAAAAAAAAT, TAAAAAAAAAAAAAAT]\n"
     ],
     "name": "stdout",
     "output_type": "stream"
    }
   ],
   "cell_type": "code",
   "outputExpanded": false,
   "source": [
    "for  X in myvcf.fetch(\"CHR1\",1000,1900):\n",
    "    if (X.var_type=='indel'):\n",
    "        print(X.POS,X.var_subtype,X.start,X.end,X.affected_end,X.REF,X.ALT,X.alleles)"
   ]
  },
  {
   "cell_type": "markdown",
   "metadata": {},
   "source": [
    "Probaby simplest to return a dict from comprehension, so we can the exclude our target.\n",
    "\n",
    "**However** this would be less flexible than making a bed tool\n",
    "\n",
    "would need to \n",
    "\n",
    "- pass in a target in Python Primer 3 target format\n",
    "\n",
    "i.e. 0-based start  length\n",
    "\n- exclude using "
   ],
   "outputExpanded": false
  },
  {
   "execution_count": 22,
   "metadata": {
    "collapsed": false
   },
   "outputs": [
    {
     "execution_count": 22,
     "metadata": {},
     "data": {
      "text/plain": [
       "{2084: 1,\n",
       " 2142: 1,\n",
       " 2151: 3,\n",
       " 2173: 1,\n",
       " 2207: 1,\n",
       " 2216: 1,\n",
       " 2217: 1,\n",
       " 2240: 1,\n",
       " 2257: 1,\n",
       " 2295: 1,\n",
       " 2317: 1,\n",
       " 2333: 1,\n",
       " 2348: 12,\n",
       " 2371: 1,\n",
       " 2391: 1}"
      ]
     },
     "output_type": "execute_result"
    }
   ],
   "cell_type": "code",
   "outputExpanded": true,
   "source": [
    "myintdict={X.start:X.end-X.start for X  in myvcf.fetch(\"CHR1\",2000,2400)}\n",
    "myintdict"
   ]
  },
  {
   "cell_type": "markdown",
   "metadata": {},
   "source": [
    "### Create  a BedTool from Vcf interval"
   ],
   "outputExpanded": false
  },
  {
   "execution_count": 24,
   "metadata": {
    "collapsed": false
   },
   "outputs": [
    {
     "execution_count": 24,
     "metadata": {},
     "data": {
      "text/plain": [
       "['CHR1 2997 3015',\n",
       " 'CHR1 3039 3040',\n",
       " 'CHR1 3161 3162',\n",
       " 'CHR1 3222 3223',\n",
       " 'CHR1 3306 3309',\n",
       " 'CHR1 3423 3425']"
      ]
     },
     "output_type": "execute_result"
    }
   ],
   "cell_type": "code",
   "outputExpanded": false,
   "source": [
    "[\"CHR1\" + \" \" + str(X.start)+ \" \" +  str(X.end) for X  in myvcf.fetch(\"CHR1\",3000,3500)]"
   ]
  },
  {
   "cell_type": "markdown",
   "metadata": {},
   "source": [
    "need to join with newline into a string"
   ],
   "outputExpanded": false
  },
  {
   "execution_count": 25,
   "metadata": {
    "collapsed": false
   },
   "outputs": [
    {
     "execution_count": 25,
     "metadata": {},
     "data": {
      "text/plain": [
       "'CHR1 2997 3015\\nCHR1 3039 3040\\nCHR1 3161 3162\\nCHR1 3222 3223\\nCHR1 3306 3309\\nCHR1 3423 3425'"
      ]
     },
     "output_type": "execute_result"
    }
   ],
   "cell_type": "code",
   "outputExpanded": false,
   "source": [
    "testint=[\"CHR1\" + \" \" + str(X.start)+ \" \" +  str(X.end) for X  in myvcf.fetch(\"CHR1\",3000,3500)]\n",
    "\"\\n\".join(testint)"
   ]
  },
  {
   "execution_count": 26,
   "metadata": {
    "collapsed": false
   },
   "outputs": [],
   "cell_type": "code",
   "outputExpanded": false,
   "source": [
    "testbed=BedTool(\"\\n\".join(testint),from_string=True)"
   ]
  },
  {
   "execution_count": 27,
   "metadata": {
    "collapsed": false
   },
   "outputs": [
    {
     "text": [
      "CHR1\t2997\t3015\n",
      "CHR1\t3039\t3040\n",
      "CHR1\t3161\t3162\n",
      "CHR1\t3222\t3223\n",
      "CHR1\t3306\t3309\n",
      "CHR1\t3423\t3425\n",
      "\n"
     ],
     "name": "stdout",
     "output_type": "stream"
    }
   ],
   "cell_type": "code",
   "outputExpanded": false,
   "source": [
    "print(testbed)"
   ]
  },
  {
   "cell_type": "markdown",
   "metadata": {},
   "source": [
    "## Write a class"
   ],
   "outputExpanded": false
  },
  {
   "execution_count": 34,
   "metadata": {
    "collapsed": false
   },
   "outputs": [],
   "cell_type": "code",
   "outputExpanded": false,
   "source": [
    "class VcfPrimerDesign:\n",
    "    \"\"\"A primer design object that is primed\n",
    "    with genome reference and vcf variant data\n",
    "    \"\"\"\n",
    "    def __init__(self,reference,vcf_file,desc):\n",
    "        \"\"\"\n",
    "        Usage:  PrimerDesign(reference, vcf.gz, description)\n",
    "        Initialise a design object with a  reference assembly and\n",
    "        variant file(s)\n",
    "        \"\"\"\n",
    "        self.reference = Fasta(reference)\n",
    "        self.vcf=vcf.Reader(filename=vcf_file)\n",
    "        self.desc=desc\n",
    "        self.genome=self.reference.filename.replace(\"fasta\",\"fasta.fai\")\n",
    "    \n",
    "    \n",
    "    def getseqslicedict(self,target,max_size):\n",
    "        \"\"\"Pass a bed target to a designer and get a dictionary\n",
    "        slice that we can pass to P3\n",
    "        \"\"\"\n",
    "        target_int=target.slop(b=max_size,g=self.genome)\n",
    "        target_chrom=target[0].chrom\n",
    "        target_start=target_int[0].start\n",
    "        target_end=target_int[0].end\n",
    "        offset=target_int[0].start\n",
    "        sldic=dict(SEQUENCE_ID=self.desc)\n",
    "        sldic['TARGET_ID']=target_chrom + \"_\" + str(target_start) +\"_\" + str(target_end)\n",
    "        sldic['SEQUENCE_TEMPLATE']=str(self.reference[target_chrom][target_start:target_end].seq)\n",
    "        #slice_annot=[(X.start -offset,X.length) for X in (self.annotations - target) if (X.chrom==target[0].chrom) & \\\n",
    "         #           (X.start > target_int[0].start) & (X.end < target_int[0].end)]\n",
    "        slice_vars=[target_chrom + \" \" + str(X.start)+ \" \" +str(X.end) for X in self.vcf.fetch(target_chrom,target_start,target_end)]\n",
    "        slice_annot=BedTool(\"\\n\".join(slice_vars),from_string=True)\n",
    "        slice_annot=slice_annot-target\n",
    "        sldic['SEQUENCE_EXCLUDED_REGION']=[(X.start,X.length) for X in slice_annot]\n",
    "        sldic['SEQUENCE_TARGET']= (target[0].start -offset,target[0].length)\n",
    "        return sldic\n",
    "\n"
   ]
  },
  {
   "cell_type": "markdown",
   "metadata": {},
   "source": [
    "-----------------\n",
    "\nTry Out "
   ],
   "outputExpanded": false
  },
  {
   "execution_count": 47,
   "metadata": {
    "collapsed": false
   },
   "outputs": [],
   "cell_type": "code",
   "outputExpanded": false,
   "source": [
    "mydesigner=VcfPrimerDesign(\"../test/test-data/AcCHR1_test.fasta\",\n",
    "                            '../test/test-data/AcCHR1_test.vcf.gz','TestCHR1')\n",
    "myphaseddesigner=VcfPrimerDesign(\"../test/test-data/AcCHR1_test.fasta\",\n",
    "                            '../test/test-data/AcCHR1_test.phased.vcf.gz','TestCHR1')"
   ]
  },
  {
   "execution_count": 48,
   "metadata": {
    "collapsed": false,
    "scrolled": false
   },
   "outputs": [
    {
     "execution_count": 48,
     "metadata": {},
     "data": {
      "text/plain": [
       "{'SEQUENCE_EXCLUDED_REGION': [(2872, 1),\n",
       "  (2907, 1),\n",
       "  (2926, 1),\n",
       "  (2965, 1),\n",
       "  (2993, 1),\n",
       "  (3039, 1),\n",
       "  (3161, 1)],\n",
       " 'SEQUENCE_ID': 'TestCHR1',\n",
       " 'SEQUENCE_TARGET': (200, 1),\n",
       " 'SEQUENCE_TEMPLATE': 'CAGTCGCAACTGTTCCTAGCTTTGCAGAACCATTCCCACTCAAGGAATTCACGGACTCTTTATGTGCCTTCAGAACCAACTGTGTCGCACTGGGTTTTAAAGGAAATAAATAAATATGGAATAAAACATTGATATTACAAATAAAGGGTGCTTCTAGCTGAGTAGTCCTCCGATAAAGCACACGCATACAAAGGAATGAGAGAGAGAGAGAGAGGCGCTACCACATATAAAAGGGACAGCAAACATTTTAACATGAGCAAATCAGTGACACTAGGTAGGTGTTAGCACAAAAATGAACCTTGTTTACATCTGTTCACCACATCCTAGAACATCTTAGACACACACTGCAATAACATATGAGGTGGAGCATGGCACAGTGATACTGCAACAGTAGGATTCCC',\n",
       " 'TARGET_ID': 'CHR1_2800_3201'}"
      ]
     },
     "output_type": "execute_result"
    }
   ],
   "cell_type": "code",
   "outputExpanded": true,
   "source": [
    "my_target=BedTool('CHR1 3000 3001',from_string=True)\n",
    "mybdesigner.getseqslicedict(my_target,200)"
   ]
  },
  {
   "cell_type": "code",
   "execution_count": 67,
   "metadata": {
    "collapsed": false
   },
   "source": [
    "myphaseddesigner.getseqslicedict(my_target,200)"
   ],
   "outputs": [
    {
     "execution_count": 67,
     "metadata": {},
     "data": {
      "text/plain": [
       "{'SEQUENCE_EXCLUDED_REGION': [(2872, 1),\n",
       "  (2907, 1),\n",
       "  (2926, 1),\n",
       "  (2965, 1),\n",
       "  (2993, 1),\n",
       "  (3039, 1),\n",
       "  (3161, 1)],\n",
       " 'SEQUENCE_ID': 'TestCHR1',\n",
       " 'SEQUENCE_TARGET': (200, 1),\n",
       " 'SEQUENCE_TEMPLATE': 'CAGTCGCAACTGTTCCTAGCTTTGCAGAACCATTCCCACTCAAGGAATTCACGGACTCTTTATGTGCCTTCAGAACCAACTGTGTCGCACTGGGTTTTAAAGGAAATAAATAAATATGGAATAAAACATTGATATTACAAATAAAGGGTGCTTCTAGCTGAGTAGTCCTCCGATAAAGCACACGCATACAAAGGAATGAGAGAGAGAGAGAGAGGCGCTACCACATATAAAAGGGACAGCAAACATTTTAACATGAGCAAATCAGTGACACTAGGTAGGTGTTAGCACAAAAATGAACCTTGTTTACATCTGTTCACCACATCCTAGAACATCTTAGACACACACTGCAATAACATATGAGGTGGAGCATGGCACAGTGATACTGCAACAGTAGGATTCCC',\n",
       " 'TARGET_ID': 'CHR1_2800_3201'}"
      ]
     },
     "output_type": "execute_result"
    }
   ]
  },
  {
   "cell_type": "markdown",
   "metadata": {},
   "source": [
    "### Test with some other vcf"
   ],
   "outputExpanded": false
  },
  {
   "execution_count": 42,
   "metadata": {
    "collapsed": true
   },
   "outputs": [],
   "cell_type": "code",
   "outputExpanded": false,
   "source": [
    "from pcr_marker_design import design as d\n",
    "from pybedtools import BedTool\n",
    "import vcf"
   ]
  },
  {
   "execution_count": 60,
   "metadata": {
    "collapsed": false
   },
   "outputs": [],
   "cell_type": "code",
   "outputExpanded": false,
   "source": [
    "mybdesign=d.VcfPrimerDesign('../test/test-data/CHR9.1.68.5.fasta',\n",
    "                                '../test/test-data/Chr9_Myb210.vcf.gz','MybTest')"
   ]
  },
  {
   "cell_type": "code",
   "execution_count": 63,
   "metadata": {
    "collapsed": false
   },
   "source": [
    "mybdesign.annot.fetch('CHR9',1390500,1390600)"
   ],
   "outputs": [
    {
     "evalue": "could not create iterator for region 'CHR9:1390501-1390600'",
     "traceback": [
      "\u001b[0;31m---------------------------------------------------------------------------\u001b[0m",
      "\u001b[0;31mValueError\u001b[0m                                Traceback (most recent call last)",
      "\u001b[0;32m<ipython-input-63-ca8036c10459>\u001b[0m in \u001b[0;36m<module>\u001b[0;34m()\u001b[0m\n\u001b[0;32m----> 1\u001b[0;31m \u001b[0mmybdesign\u001b[0m\u001b[0;34m.\u001b[0m\u001b[0mannot\u001b[0m\u001b[0;34m.\u001b[0m\u001b[0mfetch\u001b[0m\u001b[0;34m(\u001b[0m\u001b[0;34m'CHR9'\u001b[0m\u001b[0;34m,\u001b[0m\u001b[0;36m1390500\u001b[0m\u001b[0;34m,\u001b[0m\u001b[0;36m1390600\u001b[0m\u001b[0;34m)\u001b[0m\u001b[0;34m\u001b[0m\u001b[0m\n\u001b[0m",
      "\u001b[0;32m/Users/cfljam/miniconda3/envs/PCR/lib/python3.5/site-packages/vcf/parser.py\u001b[0m in \u001b[0;36mfetch\u001b[0;34m(self, chrom, start, end)\u001b[0m\n\u001b[1;32m    629\u001b[0m             \u001b[0mchrom\u001b[0m \u001b[0;34m=\u001b[0m \u001b[0mchrom\u001b[0m\u001b[0;34m[\u001b[0m\u001b[0;36m3\u001b[0m\u001b[0;34m:\u001b[0m\u001b[0;34m]\u001b[0m\u001b[0;34m\u001b[0m\u001b[0m\n\u001b[1;32m    630\u001b[0m \u001b[0;34m\u001b[0m\u001b[0m\n\u001b[0;32m--> 631\u001b[0;31m         \u001b[0mself\u001b[0m\u001b[0;34m.\u001b[0m\u001b[0mreader\u001b[0m \u001b[0;34m=\u001b[0m \u001b[0mself\u001b[0m\u001b[0;34m.\u001b[0m\u001b[0m_tabix\u001b[0m\u001b[0;34m.\u001b[0m\u001b[0mfetch\u001b[0m\u001b[0;34m(\u001b[0m\u001b[0mchrom\u001b[0m\u001b[0;34m,\u001b[0m \u001b[0mstart\u001b[0m\u001b[0;34m,\u001b[0m \u001b[0mend\u001b[0m\u001b[0;34m)\u001b[0m\u001b[0;34m\u001b[0m\u001b[0m\n\u001b[0m\u001b[1;32m    632\u001b[0m         \u001b[0;32mreturn\u001b[0m \u001b[0mself\u001b[0m\u001b[0;34m\u001b[0m\u001b[0m\n\u001b[1;32m    633\u001b[0m \u001b[0;34m\u001b[0m\u001b[0m\n",
      "\u001b[0;32mpysam/ctabix.pyx\u001b[0m in \u001b[0;36mpysam.ctabix.TabixFile.fetch (pysam/ctabix.c:5292)\u001b[0;34m()\u001b[0m\n",
      "\u001b[0;31mValueError\u001b[0m: could not create iterator for region 'CHR9:1390501-1390600'"
     ],
     "ename": "ValueError",
     "output_type": "error"
    }
   ]
  },
  {
   "execution_count": 64,
   "metadata": {
    "collapsed": false
   },
   "outputs": [
    {
     "evalue": "could not create iterator for region 'CHR9:1390523-1390723'",
     "traceback": [
      "\u001b[0;31m---------------------------------------------------------------------------\u001b[0m",
      "\u001b[0;31mValueError\u001b[0m                                Traceback (most recent call last)",
      "\u001b[0;32m<ipython-input-64-1202a8642083>\u001b[0m in \u001b[0;36m<module>\u001b[0;34m()\u001b[0m\n\u001b[1;32m      1\u001b[0m \u001b[0mmytarget\u001b[0m\u001b[0;34m=\u001b[0m\u001b[0mBedTool\u001b[0m\u001b[0;34m(\u001b[0m\u001b[0;34m\"CHR9 1390622 1390623\"\u001b[0m\u001b[0;34m,\u001b[0m\u001b[0mfrom_string\u001b[0m\u001b[0;34m=\u001b[0m\u001b[0;32mTrue\u001b[0m\u001b[0;34m)\u001b[0m\u001b[0;34m\u001b[0m\u001b[0m\n\u001b[0;32m----> 2\u001b[0;31m \u001b[0mmybdesign\u001b[0m\u001b[0;34m.\u001b[0m\u001b[0mgetseqslicedict\u001b[0m\u001b[0;34m(\u001b[0m\u001b[0mmytarget\u001b[0m\u001b[0;34m,\u001b[0m\u001b[0;36m100\u001b[0m\u001b[0;34m)\u001b[0m\u001b[0;34m\u001b[0m\u001b[0m\n\u001b[0m",
      "\u001b[0;32m/Users/cfljam/Documents/pcr_marker_design/pcr_marker_design/design.py\u001b[0m in \u001b[0;36mgetseqslicedict\u001b[0;34m(self, target, max_size)\u001b[0m\n\u001b[1;32m     85\u001b[0m         \u001b[0msldic\u001b[0m\u001b[0;34m[\u001b[0m\u001b[0;34m'TARGET_ID'\u001b[0m\u001b[0;34m]\u001b[0m\u001b[0;34m=\u001b[0m\u001b[0mtarget_chrom\u001b[0m \u001b[0;34m+\u001b[0m \u001b[0;34m\"_\"\u001b[0m \u001b[0;34m+\u001b[0m \u001b[0mstr\u001b[0m\u001b[0;34m(\u001b[0m\u001b[0mtarget_start\u001b[0m\u001b[0;34m)\u001b[0m \u001b[0;34m+\u001b[0m\u001b[0;34m\"_\"\u001b[0m \u001b[0;34m+\u001b[0m \u001b[0mstr\u001b[0m\u001b[0;34m(\u001b[0m\u001b[0mtarget_end\u001b[0m\u001b[0;34m)\u001b[0m\u001b[0;34m\u001b[0m\u001b[0m\n\u001b[1;32m     86\u001b[0m         \u001b[0msldic\u001b[0m\u001b[0;34m[\u001b[0m\u001b[0;34m'SEQUENCE_TEMPLATE'\u001b[0m\u001b[0;34m]\u001b[0m\u001b[0;34m=\u001b[0m\u001b[0mstr\u001b[0m\u001b[0;34m(\u001b[0m\u001b[0mself\u001b[0m\u001b[0;34m.\u001b[0m\u001b[0mreference\u001b[0m\u001b[0;34m[\u001b[0m\u001b[0mtarget_chrom\u001b[0m\u001b[0;34m]\u001b[0m\u001b[0;34m[\u001b[0m\u001b[0mtarget_start\u001b[0m\u001b[0;34m:\u001b[0m\u001b[0mtarget_end\u001b[0m\u001b[0;34m]\u001b[0m\u001b[0;34m.\u001b[0m\u001b[0mseq\u001b[0m\u001b[0;34m)\u001b[0m\u001b[0;34m\u001b[0m\u001b[0m\n\u001b[0;32m---> 87\u001b[0;31m         \u001b[0mslice_vars\u001b[0m\u001b[0;34m=\u001b[0m\u001b[0;34m[\u001b[0m\u001b[0mtarget_chrom\u001b[0m \u001b[0;34m+\u001b[0m \u001b[0;34m\" \"\u001b[0m \u001b[0;34m+\u001b[0m \u001b[0mstr\u001b[0m\u001b[0;34m(\u001b[0m\u001b[0mX\u001b[0m\u001b[0;34m.\u001b[0m\u001b[0mstart\u001b[0m\u001b[0;34m)\u001b[0m\u001b[0;34m+\u001b[0m \u001b[0;34m\" \"\u001b[0m \u001b[0;34m+\u001b[0m\u001b[0mstr\u001b[0m\u001b[0;34m(\u001b[0m\u001b[0mX\u001b[0m\u001b[0;34m.\u001b[0m\u001b[0mend\u001b[0m\u001b[0;34m)\u001b[0m \u001b[0;32mfor\u001b[0m \u001b[0mX\u001b[0m \u001b[0;32min\u001b[0m \u001b[0mself\u001b[0m\u001b[0;34m.\u001b[0m\u001b[0mannot\u001b[0m\u001b[0;34m.\u001b[0m\u001b[0mfetch\u001b[0m\u001b[0;34m(\u001b[0m\u001b[0mtarget_chrom\u001b[0m\u001b[0;34m,\u001b[0m\u001b[0mtarget_start\u001b[0m\u001b[0;34m,\u001b[0m\u001b[0mtarget_end\u001b[0m\u001b[0;34m)\u001b[0m\u001b[0;34m]\u001b[0m\u001b[0;34m\u001b[0m\u001b[0m\n\u001b[0m\u001b[1;32m     88\u001b[0m         \u001b[0mslice_annot\u001b[0m\u001b[0;34m=\u001b[0m\u001b[0mBedTool\u001b[0m\u001b[0;34m(\u001b[0m\u001b[0;34m\"\\n\"\u001b[0m\u001b[0;34m.\u001b[0m\u001b[0mjoin\u001b[0m\u001b[0;34m(\u001b[0m\u001b[0mslice_vars\u001b[0m\u001b[0;34m)\u001b[0m\u001b[0;34m,\u001b[0m\u001b[0mfrom_string\u001b[0m\u001b[0;34m=\u001b[0m\u001b[0;32mTrue\u001b[0m\u001b[0;34m)\u001b[0m\u001b[0;34m\u001b[0m\u001b[0m\n\u001b[1;32m     89\u001b[0m         \u001b[0mslice_annot\u001b[0m\u001b[0;34m=\u001b[0m\u001b[0mslice_annot\u001b[0m\u001b[0;34m-\u001b[0m\u001b[0mtarget\u001b[0m\u001b[0;34m\u001b[0m\u001b[0m\n",
      "\u001b[0;32m/Users/cfljam/miniconda3/envs/PCR/lib/python3.5/site-packages/vcf/parser.py\u001b[0m in \u001b[0;36mfetch\u001b[0;34m(self, chrom, start, end)\u001b[0m\n\u001b[1;32m    629\u001b[0m             \u001b[0mchrom\u001b[0m \u001b[0;34m=\u001b[0m \u001b[0mchrom\u001b[0m\u001b[0;34m[\u001b[0m\u001b[0;36m3\u001b[0m\u001b[0;34m:\u001b[0m\u001b[0;34m]\u001b[0m\u001b[0;34m\u001b[0m\u001b[0m\n\u001b[1;32m    630\u001b[0m \u001b[0;34m\u001b[0m\u001b[0m\n\u001b[0;32m--> 631\u001b[0;31m         \u001b[0mself\u001b[0m\u001b[0;34m.\u001b[0m\u001b[0mreader\u001b[0m \u001b[0;34m=\u001b[0m \u001b[0mself\u001b[0m\u001b[0;34m.\u001b[0m\u001b[0m_tabix\u001b[0m\u001b[0;34m.\u001b[0m\u001b[0mfetch\u001b[0m\u001b[0;34m(\u001b[0m\u001b[0mchrom\u001b[0m\u001b[0;34m,\u001b[0m \u001b[0mstart\u001b[0m\u001b[0;34m,\u001b[0m \u001b[0mend\u001b[0m\u001b[0;34m)\u001b[0m\u001b[0;34m\u001b[0m\u001b[0m\n\u001b[0m\u001b[1;32m    632\u001b[0m         \u001b[0;32mreturn\u001b[0m \u001b[0mself\u001b[0m\u001b[0;34m\u001b[0m\u001b[0m\n\u001b[1;32m    633\u001b[0m \u001b[0;34m\u001b[0m\u001b[0m\n",
      "\u001b[0;32mpysam/ctabix.pyx\u001b[0m in \u001b[0;36mpysam.ctabix.TabixFile.fetch (pysam/ctabix.c:5292)\u001b[0;34m()\u001b[0m\n",
      "\u001b[0;31mValueError\u001b[0m: could not create iterator for region 'CHR9:1390523-1390723'"
     ],
     "ename": "ValueError",
     "output_type": "error"
    }
   ],
   "cell_type": "code",
   "outputExpanded": true,
   "source": [
    "mytarget=BedTool(\"CHR9 1390622 1390623\",from_string=True)\n",
    "mybdesign.getseqslicedict(mytarget,100)"
   ]
  },
  {
   "execution_count": 7,
   "metadata": {
    "collapsed": false
   },
   "outputs": [
    {
     "data": {
      "text/plain": [
       "'0.8.4'"
      ]
     },
     "execution_count": 7,
     "metadata": {},
     "output_type": "execute_result",
     "text": []
    }
   ],
   "cell_type": "code",
   "outputExpanded": false,
   "source": [
    "import pysam\n",
    "pysam.__version__"
   ]
  },
  {
   "cell_type": "markdown",
   "metadata": {},
   "source": [
    "**This ony passes in Python3**\n",
    "\n",
    "-----------\n",
    "\n",
    "Try to Design\n",
    "----------"
   ],
   "outputExpanded": false
  },
  {
   "execution_count": 65,
   "metadata": {
    "collapsed": false
   },
   "outputs": [],
   "cell_type": "code",
   "outputExpanded": false,
   "source": [
    "from pcr_marker_design import run_p3 as P3"
   ]
  },
  {
   "execution_count": 66,
   "metadata": {
    "collapsed": true
   },
   "outputs": [],
   "cell_type": "code",
   "outputExpanded": false,
   "source": [
    "p3_test_globals={\n",
    "        'PRIMER_OPT_SIZE': 20,\n",
    "        'PRIMER_PICK_INTERNAL_OLIGO': 1,\n",
    "        'PRIMER_INTERNAL_MAX_SELF_END': 8,\n",
    "        'PRIMER_MIN_SIZE': 18,\n",
    "        'PRIMER_MAX_SIZE': 25,\n",
    "        'PRIMER_OPT_TM': 60.0,\n",
    "        'PRIMER_MIN_TM': 57.0,\n",
    "        'PRIMER_MAX_TM': 63.0,\n",
    "        'PRIMER_MIN_GC': 20.0,\n",
    "        'PRIMER_MAX_GC': 80.0,\n",
    "        'PRIMER_MAX_POLY_X': 100,\n",
    "        'PRIMER_INTERNAL_MAX_POLY_X': 100,\n",
    "        'PRIMER_SALT_MONOVALENT': 50.0,\n",
    "        'PRIMER_DNA_CONC': 50.0,\n",
    "        'PRIMER_MAX_NS_ACCEPTED': 0,\n",
    "        'PRIMER_MAX_SELF_ANY': 12,\n",
    "        'PRIMER_MAX_SELF_END': 8,\n",
    "        'PRIMER_PAIR_MAX_COMPL_ANY': 12,\n",
    "        'PRIMER_PAIR_MAX_COMPL_END': 8,\n",
    "        'PRIMER_PRODUCT_SIZE_RANGE': [[75,100],[100,125],[125,150],[150,175],[175,200],[200,225]],\n",
    "    }"
   ]
  }
 ],
 "metadata": {
  "kernelspec": {
   "name": "PCR",
   "language": "python",
   "display_name": "PCR"
  },
  "language_info": {
   "codemirror_mode": {
    "name": "ipython",
    "version": 3
   },
   "mimetype": "text/x-python",
   "name": "python",
   "pygments_lexer": "ipython3",
   "file_extension": ".py",
   "version": "3.5.2",
   "nbconvert_exporter": "python"
  },
  "kernel_info": {
   "name": "PCR"
  }
 },
 "nbformat": 4,
 "nbformat_minor": 0
}