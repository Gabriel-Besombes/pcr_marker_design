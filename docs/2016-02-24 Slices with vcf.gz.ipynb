{
 "cells": [
  {
   "cell_type": "markdown",
   "metadata": {},
   "source": [
    "# Slice vcf with Various Modules\n",
    "\n",
    "- pybedtools\n",
    "- htseq\n",
    "- pyvcf"
   ],
   "outputExpanded": false
  },
  {
   "cell_type": "markdown",
   "metadata": {},
   "source": [
    "HTSeq\n",
    "-----\n",
    "\n",
    "- Slicing is quite complex and we dont get easy access to call details\n",
    "\n",
    "pybedtools\n",
    "----------\n",
    "\n",
    "- quite flaky with access to large vcf.gz tabixed files\n",
    "- just use it for interval algebra, if necessary\n",
    "\n",
    "pycvf\n",
    "-----\n",
    "\n",
    "- works a treat\n",
    "- issues with running fetch in Python 2 dues to some Cython bugginess. Tests only pass in Py3"
   ],
   "outputExpanded": false
  },
  {
   "execution_count": 7,
   "metadata": {
    "collapsed": true
   },
   "outputs": [],
   "cell_type": "code",
   "outputExpanded": false,
   "source": [
    "from pyfaidx import Fasta\n",
    "from pybedtools import BedTool\n",
    "import vcf"
   ]
  },
  {
   "execution_count": 14,
   "metadata": {
    "collapsed": false
   },
   "outputs": [
    {
     "text": [
      "/Users/cfljam/Documents/pcr_marker_design/docs\r\n",
      "../test/test-data/AcCHR1_test.fasta\r\n",
      "../test/test-data/AcCHR1_test.phased.vcf.gz\r\n",
      "../test/test-data/AcCHR1_test.phased.vcf.gz.tbi\r\n",
      "../test/test-data/AcCHR1_test.vcf.gz\r\n",
      "../test/test-data/AcCHR1_test.vcf.gz.tbi\r\n"
     ],
     "name": "stdout",
     "output_type": "stream"
    }
   ],
   "cell_type": "code",
   "outputExpanded": false,
   "source": [
    "!pwd\n",
    "!ls  ../test/test-data/AcCHR1_test*"
   ]
  },
  {
   "cell_type": "markdown",
   "metadata": {},
   "source": [
    "### Load up an indexed reference and vcf"
   ],
   "outputExpanded": false
  },
  {
   "execution_count": 16,
   "metadata": {
    "collapsed": false
   },
   "outputs": [],
   "cell_type": "code",
   "outputExpanded": false,
   "source": [
    "myfa= Fasta(\"../test/test-data/AcCHR1_test.fasta\")\n",
    "myvcf=vcf.Reader(filename='../test/test-data/AcCHR1_test.vcf.gz')"
   ]
  },
  {
   "cell_type": "markdown",
   "metadata": {},
   "source": [
    "Can access a slice using [fetch](http://pyvcf.readthedocs.org/en/latest/API.html#vcf-reader)\n",
    "\nPythonic intervals are start/end, POS is 1-based vcf index"
   ],
   "outputExpanded": false
  },
  {
   "execution_count": 17,
   "metadata": {
    "collapsed": false
   },
   "outputs": [
    {
     "text": [
      "361 360 394 indel ['GGTAAGGCTAACCACAGGTACATCCAAGCTTCTC', GC]\n",
      "436 435 436 snp ['A', C]\n",
      "499 498 501 indel ['CGC', CGGC]\n",
      "535 534 535 snp ['C', T]\n",
      "542 541 542 snp ['C', T]\n",
      "558 557 558 snp ['T', G]\n",
      "803 802 803 snp ['A', T]\n"
     ],
     "name": "stdout",
     "output_type": "stream"
    }
   ],
   "cell_type": "code",
   "outputExpanded": false,
   "source": [
    " for X in myvcf.fetch(\"CHR1\",200,900):\n",
    "        print(X.POS,X.start,X.end,X.var_type,X.alleles)"
   ]
  },
  {
   "cell_type": "markdown",
   "metadata": {},
   "source": [
    "To get length can just use end - start  \n",
    "\nFetch arg has our chromosome/contig ID"
   ],
   "outputExpanded": false
  },
  {
   "execution_count": 19,
   "metadata": {
    "collapsed": false,
    "scrolled": false
   },
   "outputs": [
    {
     "text": [
      "1051 del 1050 1053 1053 TAC [TC] ['TAC', TC]\n",
      "1793 unknown 1792 1806 1806 TAAAAAAAAAAAAT [TAAAAAAAAAAAAAT, TAAAAAAAAAAAT, TAAAAAAAAAAAAAAT] ['TAAAAAAAAAAAAT', TAAAAAAAAAAAAAT, TAAAAAAAAAAAT, TAAAAAAAAAAAAAAT]\n"
     ],
     "name": "stdout",
     "output_type": "stream"
    }
   ],
   "cell_type": "code",
   "outputExpanded": false,
   "source": [
    "for  X in myvcf.fetch(\"CHR1\",1000,1900):\n",
    "    if (X.var_type=='indel'):\n",
    "        print(X.POS,X.var_subtype,X.start,X.end,X.affected_end,X.REF,X.ALT,X.alleles)"
   ]
  },
  {
   "cell_type": "markdown",
   "metadata": {},
   "source": [
    "Probaby simplest to return a dict from comprehension, so we can the exclude our target.\n",
    "\n",
    "**However** this would be less flexible than making a bed tool\n",
    "\n",
    "would need to \n",
    "\n",
    "- pass in a target in Python Primer 3 target format\n",
    "\n",
    "i.e. 0-based start  length\n",
    "\n- exclude using "
   ],
   "outputExpanded": false
  },
  {
   "execution_count": 22,
   "metadata": {
    "collapsed": false
   },
   "outputs": [
    {
     "execution_count": 22,
     "metadata": {},
     "data": {
      "text/plain": [
       "{2084: 1,\n",
       " 2142: 1,\n",
       " 2151: 3,\n",
       " 2173: 1,\n",
       " 2207: 1,\n",
       " 2216: 1,\n",
       " 2217: 1,\n",
       " 2240: 1,\n",
       " 2257: 1,\n",
       " 2295: 1,\n",
       " 2317: 1,\n",
       " 2333: 1,\n",
       " 2348: 12,\n",
       " 2371: 1,\n",
       " 2391: 1}"
      ]
     },
     "output_type": "execute_result"
    }
   ],
   "cell_type": "code",
   "outputExpanded": true,
   "source": [
    "myintdict={X.start:X.end-X.start for X  in myvcf.fetch(\"CHR1\",2000,2400)}\n",
    "myintdict"
   ]
  },
  {
   "cell_type": "markdown",
   "metadata": {},
   "source": [
    "### Create  a BedTool from Vcf interval"
   ],
   "outputExpanded": false
  },
  {
   "execution_count": 24,
   "metadata": {
    "collapsed": false
   },
   "outputs": [
    {
     "execution_count": 24,
     "metadata": {},
     "data": {
      "text/plain": [
       "['CHR1 2997 3015',\n",
       " 'CHR1 3039 3040',\n",
       " 'CHR1 3161 3162',\n",
       " 'CHR1 3222 3223',\n",
       " 'CHR1 3306 3309',\n",
       " 'CHR1 3423 3425']"
      ]
     },
     "output_type": "execute_result"
    }
   ],
   "cell_type": "code",
   "outputExpanded": false,
   "source": [
    "[\"CHR1\" + \" \" + str(X.start)+ \" \" +  str(X.end) for X  in myvcf.fetch(\"CHR1\",3000,3500)]"
   ]
  },
  {
   "cell_type": "markdown",
   "metadata": {},
   "source": [
    "need to join with newline into a string"
   ],
   "outputExpanded": false
  },
  {
   "execution_count": 25,
   "metadata": {
    "collapsed": false
   },
   "outputs": [
    {
     "execution_count": 25,
     "metadata": {},
     "data": {
      "text/plain": [
       "'CHR1 2997 3015\\nCHR1 3039 3040\\nCHR1 3161 3162\\nCHR1 3222 3223\\nCHR1 3306 3309\\nCHR1 3423 3425'"
      ]
     },
     "output_type": "execute_result"
    }
   ],
   "cell_type": "code",
   "outputExpanded": false,
   "source": [
    "testint=[\"CHR1\" + \" \" + str(X.start)+ \" \" +  str(X.end) for X  in myvcf.fetch(\"CHR1\",3000,3500)]\n",
    "\"\\n\".join(testint)"
   ]
  },
  {
   "execution_count": 26,
   "metadata": {
    "collapsed": false
   },
   "outputs": [],
   "cell_type": "code",
   "outputExpanded": false,
   "source": [
    "testbed=BedTool(\"\\n\".join(testint),from_string=True)"
   ]
  },
  {
   "execution_count": 27,
   "metadata": {
    "collapsed": false
   },
   "outputs": [
    {
     "text": [
      "CHR1\t2997\t3015\n",
      "CHR1\t3039\t3040\n",
      "CHR1\t3161\t3162\n",
      "CHR1\t3222\t3223\n",
      "CHR1\t3306\t3309\n",
      "CHR1\t3423\t3425\n",
      "\n"
     ],
     "name": "stdout",
     "output_type": "stream"
    }
   ],
   "cell_type": "code",
   "outputExpanded": false,
   "source": [
    "print(testbed)"
   ]
  },
  {
   "cell_type": "markdown",
   "metadata": {},
   "source": [
    "## Write a class"
   ],
   "outputExpanded": false
  },
  {
   "execution_count": 138,
   "metadata": {
    "collapsed": false
   },
   "outputs": [],
   "cell_type": "code",
   "outputExpanded": false,
   "source": [
    "class VcfPrimerDesign:\n",
    "    \"\"\"A primer design object that is primed\n",
    "    with genome reference and vcf variant data\n",
    "    \"\"\"\n",
    "    def __init__(self,reference,vcf_file,desc):\n",
    "        \"\"\"\n",
    "        Usage:  PrimerDesign(reference, vcf.gz, description)\n",
    "        Initialise a design object with a  reference assembly and\n",
    "        variant file(s)\n",
    "        \"\"\"\n",
    "        self.reference = Fasta(reference)\n",
    "        self.vcf=vcf.Reader(filename=vcf_file)\n",
    "        self.desc=desc\n",
    "        self.genome=self.reference.filename.replace(\"fa\",\"fa.fai\")\n",
    "    \n",
    "    \n",
    "    def getseqslicedict(self,target,max_size):\n",
    "        \"\"\"Pass a bed target to a designer and get a dictionary\n",
    "        slice that we can pass to P3\n",
    "        \"\"\"\n",
    "        target_int=target.slop(b=max_size,g=self.genome)\n",
    "        target_chrom=target[0].chrom\n",
    "        target_start=target_int[0].start\n",
    "        target_end=target_int[0].end\n",
    "        offset=target_int[0].start\n",
    "        sldic=dict(SEQUENCE_ID=self.desc)\n",
    "        sldic['TARGET_ID']=target_chrom + \"_\" + str(target_start) +\"_\" + str(target_end)\n",
    "        sldic['SEQUENCE_TEMPLATE']=str(self.reference[target_chrom][target_start:target_end].seq)\n",
    "        #slice_annot=[(X.start -offset,X.length) for X in (self.annotations - target) if (X.chrom==target[0].chrom) & \\\n",
    "         #           (X.start > target_int[0].start) & (X.end < target_int[0].end)]\n",
    "        slice_vars=[target_chrom + \" \" + str(X.start)+ \" \" +str(X.end) for X in self.vcf.fetch(target_chrom,target_start,target_end)]\n",
    "        slice_annot=BedTool(\"\\n\".join(slice_vars),from_string=True)\n",
    "        slice_annot=slice_annot-target\n",
    "        sldic['SEQUENCE_EXCLUDED_REGION']=[(X.start,X.length) for X in slice_annot]\n",
    "        sldic['SEQUENCE_TARGET']= (target[0].start -offset,target[0].length)\n",
    "        return sldic\n",
    "\n"
   ]
  },
  {
   "cell_type": "markdown",
   "metadata": {},
   "source": [
    "-----------------\n",
    "\nTry Out "
   ],
   "outputExpanded": false
  },
  {
   "execution_count": 139,
   "metadata": {
    "collapsed": false
   },
   "outputs": [],
   "cell_type": "code",
   "outputExpanded": false,
   "source": [
    "mybdesigner=VcfPrimerDesign('../test/test-data/Kiwifruit_pseudomolecule.fa',\n",
    "                            '../test/test-data/vcf/20Monkey_chr9_bwa.vcf.gz','Myb')"
   ]
  },
  {
   "execution_count": 141,
   "metadata": {
    "collapsed": false,
    "scrolled": false
   },
   "outputs": [
    {
     "data": {
      "text/plain": [
       "{'SEQUENCE_EXCLUDED_REGION': [(9800, 1),\n",
       "  (9801, 1),\n",
       "  (9804, 1),\n",
       "  (9805, 1),\n",
       "  (9806, 1),\n",
       "  (9807, 1),\n",
       "  (9808, 1),\n",
       "  (9813, 1),\n",
       "  (9814, 1),\n",
       "  (9815, 1),\n",
       "  (9817, 1),\n",
       "  (9818, 1),\n",
       "  (9820, 1),\n",
       "  (9821, 1),\n",
       "  (9828, 1),\n",
       "  (9836, 4),\n",
       "  (9842, 1),\n",
       "  (9846, 1),\n",
       "  (9848, 1),\n",
       "  (9851, 1),\n",
       "  (9854, 6),\n",
       "  (9867, 1),\n",
       "  (9870, 1),\n",
       "  (9874, 3),\n",
       "  (9877, 1),\n",
       "  (9878, 1),\n",
       "  (9879, 1),\n",
       "  (9880, 1),\n",
       "  (9881, 1),\n",
       "  (9882, 1),\n",
       "  (9884, 1),\n",
       "  (9885, 1),\n",
       "  (9887, 1),\n",
       "  (9888, 2),\n",
       "  (9890, 1),\n",
       "  (9891, 1),\n",
       "  (9893, 1),\n",
       "  (9895, 1),\n",
       "  (9896, 1),\n",
       "  (9897, 1),\n",
       "  (9898, 1),\n",
       "  (9903, 1),\n",
       "  (9904, 1),\n",
       "  (9905, 1),\n",
       "  (9906, 1),\n",
       "  (9908, 1),\n",
       "  (9911, 1),\n",
       "  (9912, 4),\n",
       "  (9916, 1),\n",
       "  (9917, 1),\n",
       "  (9918, 1),\n",
       "  (9920, 1),\n",
       "  (9921, 1),\n",
       "  (9922, 1),\n",
       "  (9923, 1),\n",
       "  (9924, 1),\n",
       "  (9925, 1),\n",
       "  (9926, 1),\n",
       "  (9928, 1),\n",
       "  (9929, 1),\n",
       "  (9930, 1),\n",
       "  (9931, 1),\n",
       "  (9933, 1),\n",
       "  (9935, 1),\n",
       "  (9938, 2),\n",
       "  (9942, 1),\n",
       "  (9944, 1),\n",
       "  (9945, 1),\n",
       "  (9946, 1),\n",
       "  (9950, 1),\n",
       "  (9951, 1),\n",
       "  (9952, 1),\n",
       "  (9955, 1),\n",
       "  (9964, 1),\n",
       "  (9967, 1),\n",
       "  (9969, 1),\n",
       "  (9970, 1),\n",
       "  (9973, 1),\n",
       "  (9986, 2),\n",
       "  (9992, 1),\n",
       "  (9997, 1),\n",
       "  (10001, 1),\n",
       "  (10006, 1),\n",
       "  (10012, 1),\n",
       "  (10013, 1),\n",
       "  (10017, 1),\n",
       "  (10019, 1),\n",
       "  (10025, 1),\n",
       "  (10030, 4),\n",
       "  (10035, 1),\n",
       "  (10037, 1),\n",
       "  (10038, 5),\n",
       "  (10047, 1),\n",
       "  (10048, 1),\n",
       "  (10052, 1),\n",
       "  (10053, 1),\n",
       "  (10057, 1),\n",
       "  (10060, 10),\n",
       "  (10078, 1),\n",
       "  (10079, 1),\n",
       "  (10081, 1),\n",
       "  (10086, 1),\n",
       "  (10087, 1),\n",
       "  (10088, 1),\n",
       "  (10099, 1),\n",
       "  (10101, 1),\n",
       "  (10104, 1),\n",
       "  (10105, 1),\n",
       "  (10107, 1),\n",
       "  (10109, 1),\n",
       "  (10112, 1),\n",
       "  (10114, 1),\n",
       "  (10115, 1),\n",
       "  (10120, 1),\n",
       "  (10121, 1),\n",
       "  (10124, 1),\n",
       "  (10132, 1),\n",
       "  (10133, 1),\n",
       "  (10141, 1),\n",
       "  (10145, 1),\n",
       "  (10147, 1),\n",
       "  (10151, 1),\n",
       "  (10155, 1),\n",
       "  (10157, 1),\n",
       "  (10159, 1),\n",
       "  (10160, 1),\n",
       "  (10163, 1),\n",
       "  (10166, 1),\n",
       "  (10167, 7),\n",
       "  (10174, 1),\n",
       "  (10176, 1),\n",
       "  (10179, 1),\n",
       "  (10181, 1),\n",
       "  (10182, 1),\n",
       "  (10186, 1),\n",
       "  (10190, 1),\n",
       "  (10195, 1),\n",
       "  (10196, 1),\n",
       "  (10198, 1)],\n",
       " 'SEQUENCE_ID': 'Myb',\n",
       " 'SEQUENCE_TARGET': (200, 1),\n",
       " 'SEQUENCE_TEMPLATE': 'TGGATGGTCTCAACCCTCAGATAATTCAGTTTAGAGATCCCCTCGTGCGTCTCACGCGCTGATTCCTTCTGTTTGTTTCTCTCTCTCTACCCCTATCCCTCGTGTAGTTCTGGATCTTTGACCTTTGACTGCTTAAAAATAATACATATTTATAAGGGTAAAATACACTGATCGCCCCTGAGGTTTTGGATTAATACACAAAGTACCCTTGATGTTTGATAAATTACAATTACCTCCCCTAATGTTTGAAACTTATAACAGATTCTCCATTTTTACACTGACCATCTCTGAGGTTATGATTGAATACACAAAGCCTAACATGAACACATTTAAGGTAAGTTTTAGTTTTAGTTATCACTAGGTTTAAGTACGGTCTCAAAAAGGAACTAGTAATTTGTGAT',\n",
       " 'TARGET_ID': '9_9800_10201'}"
      ]
     },
     "execution_count": 141,
     "metadata": {},
     "output_type": "execute_result",
     "text": []
    }
   ],
   "cell_type": "code",
   "outputExpanded": false,
   "source": [
    "my_target=BedTool('9 10000 10001',from_string=True)\n",
    "mybdesigner.getseqslicedict(my_target,200)"
   ]
  },
  {
   "cell_type": "markdown",
   "metadata": {},
   "source": [
    "### Test with some cleaner vcf"
   ],
   "outputExpanded": false
  },
  {
   "execution_count": 1,
   "metadata": {
    "collapsed": true
   },
   "outputs": [],
   "cell_type": "code",
   "outputExpanded": false,
   "source": [
    "from pcr_marker_design import design as d\n",
    "from pybedtools import BedTool\n",
    "import vcf"
   ]
  },
  {
   "execution_count": 2,
   "metadata": {
    "collapsed": false
   },
   "outputs": [],
   "cell_type": "code",
   "outputExpanded": false,
   "source": [
    "mybdesign=d.VcfPrimerDesign('../test/test-data/Kiwifruit_pseudomolecule_Chr.fa',\n",
    "                                '../test/test-data/Chr9_Myb210.vcf.gz','MybTest')"
   ]
  },
  {
   "execution_count": 3,
   "metadata": {
    "collapsed": false
   },
   "outputs": [
    {
     "data": {
      "text/plain": [
       "{'SEQUENCE_EXCLUDED_REGION': [(82, 4),\n",
       "  (92, 1),\n",
       "  (113, 1),\n",
       "  (126, 1),\n",
       "  (127, 1),\n",
       "  (139, 3),\n",
       "  (150, 1),\n",
       "  (164, 2),\n",
       "  (192, 1)],\n",
       " 'SEQUENCE_ID': 'MybTest',\n",
       " 'SEQUENCE_TARGET': (100, 1),\n",
       " 'SEQUENCE_TEMPLATE': 'TAAATTTATAAAAAATATATAAATATATATATATATAAATATATAAATATATATATATATAAATATATAAATATATATATATATATATATATATATATATATGTGAGAAAGTATTGATTAACCATAGCGGAGTAAACAACAGAGTTAGAAAAACTCTTTAAAAAAATGTGCTCTCTTTTGTGTGGGGAAAAAGCGCCACAG',\n",
       " 'TARGET_ID': 'Chr9_1389965_1390166'}"
      ]
     },
     "execution_count": 3,
     "metadata": {},
     "output_type": "execute_result",
     "text": []
    }
   ],
   "cell_type": "code",
   "outputExpanded": false,
   "source": [
    "mytarget=BedTool(\"Chr9 1390065 1390066\",from_string=True)\n",
    "mybdesign.getseqslicedict(mytarget,100)"
   ]
  },
  {
   "execution_count": 4,
   "metadata": {
    "collapsed": false
   },
   "outputs": [],
   "cell_type": "code",
   "outputExpanded": false,
   "source": [
    "test_seq=\"../test/test-data/Kiwifruit_pseudomolecule_Chr.fa\"\n",
    "vcffile= \"../test/test-data/Chr9_Myb210.vcf.gz\"\n",
    "designer = d.VcfPrimerDesign(test_seq,vcffile,\"MybTest\")"
   ]
  },
  {
   "execution_count": 5,
   "metadata": {
    "collapsed": true
   },
   "outputs": [],
   "cell_type": "code",
   "outputExpanded": false,
   "source": [
    "target=BedTool(\"Chr9 1390065 1390066\",from_string=True)"
   ]
  },
  {
   "execution_count": 8,
   "metadata": {
    "collapsed": false
   },
   "outputs": [
    {
     "data": {
      "text/plain": [
       "{'SEQUENCE_EXCLUDED_REGION': [(82, 4),\n",
       "  (92, 1),\n",
       "  (113, 1),\n",
       "  (126, 1),\n",
       "  (127, 1),\n",
       "  (139, 3),\n",
       "  (150, 1),\n",
       "  (164, 2),\n",
       "  (192, 1)],\n",
       " 'SEQUENCE_ID': 'MybTest',\n",
       " 'SEQUENCE_TARGET': (100, 1),\n",
       " 'SEQUENCE_TEMPLATE': 'TAAATTTATAAAAAATATATAAATATATATATATATAAATATATAAATATATATATATATAAATATATAAATATATATATATATATATATATATATATATATGTGAGAAAGTATTGATTAACCATAGCGGAGTAAACAACAGAGTTAGAAAAACTCTTTAAAAAAATGTGCTCTCTTTTGTGTGGGGAAAAAGCGCCACAG',\n",
       " 'TARGET_ID': 'Chr9_1389965_1390166'}"
      ]
     },
     "execution_count": 8,
     "metadata": {},
     "output_type": "execute_result",
     "text": []
    }
   ],
   "cell_type": "code",
   "outputExpanded": false,
   "source": [
    "designer.getseqslicedict(target,100)"
   ]
  },
  {
   "execution_count": 7,
   "metadata": {
    "collapsed": false
   },
   "outputs": [
    {
     "data": {
      "text/plain": [
       "'0.8.4'"
      ]
     },
     "execution_count": 7,
     "metadata": {},
     "output_type": "execute_result",
     "text": []
    }
   ],
   "cell_type": "code",
   "outputExpanded": false,
   "source": [
    "import pysam\n",
    "pysam.__version__"
   ]
  },
  {
   "cell_type": "markdown",
   "metadata": {},
   "source": [
    "**This ony passes in Python3**\n",
    "\n",
    "-----------\n",
    "\n",
    "Try to Design\n",
    "----------"
   ],
   "outputExpanded": false
  },
  {
   "execution_count": 11,
   "metadata": {
    "collapsed": false
   },
   "outputs": [],
   "cell_type": "code",
   "outputExpanded": false,
   "source": [
    "from pcr_marker_design import run_p3 as P3"
   ]
  },
  {
   "execution_count": null,
   "metadata": {
    "collapsed": true
   },
   "outputs": [],
   "cell_type": "code",
   "outputExpanded": false,
   "source": [
    "p3_test_globals={\n",
    "        'PRIMER_OPT_SIZE': 20,\n",
    "        'PRIMER_PICK_INTERNAL_OLIGO': 1,\n",
    "        'PRIMER_INTERNAL_MAX_SELF_END': 8,\n",
    "        'PRIMER_MIN_SIZE': 18,\n",
    "        'PRIMER_MAX_SIZE': 25,\n",
    "        'PRIMER_OPT_TM': 60.0,\n",
    "        'PRIMER_MIN_TM': 57.0,\n",
    "        'PRIMER_MAX_TM': 63.0,\n",
    "        'PRIMER_MIN_GC': 20.0,\n",
    "        'PRIMER_MAX_GC': 80.0,\n",
    "        'PRIMER_MAX_POLY_X': 100,\n",
    "        'PRIMER_INTERNAL_MAX_POLY_X': 100,\n",
    "        'PRIMER_SALT_MONOVALENT': 50.0,\n",
    "        'PRIMER_DNA_CONC': 50.0,\n",
    "        'PRIMER_MAX_NS_ACCEPTED': 0,\n",
    "        'PRIMER_MAX_SELF_ANY': 12,\n",
    "        'PRIMER_MAX_SELF_END': 8,\n",
    "        'PRIMER_PAIR_MAX_COMPL_ANY': 12,\n",
    "        'PRIMER_PAIR_MAX_COMPL_END': 8,\n",
    "        'PRIMER_PRODUCT_SIZE_RANGE': [[75,100],[100,125],[125,150],[150,175],[175,200],[200,225]],\n",
    "    }"
   ]
  }
 ],
 "metadata": {
  "kernelspec": {
   "name": "PCR",
   "language": "python",
   "display_name": "PCR"
  },
  "language_info": {
   "codemirror_mode": {
    "name": "ipython",
    "version": 3
   },
   "mimetype": "text/x-python",
   "name": "python",
   "pygments_lexer": "ipython3",
   "file_extension": ".py",
   "version": "3.5.2",
   "nbconvert_exporter": "python"
  },
  "kernel_info": {
   "name": "PCR"
  }
 },
 "nbformat": 4,
 "nbformat_minor": 0
}