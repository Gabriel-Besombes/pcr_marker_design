{
 "cells": [
  {
   "cell_type": "markdown",
   "metadata": {
    "deletable": true,
    "editable": true
   },
   "source": [
    "# Prototyping Usage for VCF Design\n",
    "\n",
    "Use autoreload for develp[ment to reload modules automagically"
   ]
  },
  {
   "cell_type": "code",
   "execution_count": 1,
   "metadata": {
    "collapsed": false,
    "deletable": true,
    "editable": true
   },
   "outputs": [],
   "source": [
    "%load_ext autoreload\n",
    "%autoreload 2"
   ]
  },
  {
   "cell_type": "code",
   "execution_count": 18,
   "metadata": {
    "collapsed": true,
    "deletable": true,
    "editable": true
   },
   "outputs": [],
   "source": [
    "from pcr_marker_design import design as d \n",
    "from pcr_marker_design import run_p3\n",
    "from pybedtools import BedTool"
   ]
  },
  {
   "cell_type": "code",
   "execution_count": 3,
   "metadata": {
    "collapsed": false,
    "deletable": true,
    "editable": true
   },
   "outputs": [
    {
     "name": "stdout",
     "output_type": "stream",
     "text": [
      "384um_251453690362217.txt      Chr9_Myb210.vcf\r\n",
      "AcCHR1_test.fasta              Chr9_Myb210.vcf.gz\r\n",
      "AcCHR1_test.fasta.fai          targets\r\n",
      "AcCHR1_test.phased.vcf.gz      targets.fasta\r\n",
      "AcCHR1_test.phased.vcf.gz.tbi  targets.fasta.fai\r\n",
      "AcCHR1_test.vcf.gz             targets.gff\r\n",
      "AcCHR1_test.vcf.gz.tbi         targets.snps.bed\r\n",
      "CHR9.1.68.5.fasta.gz\r\n"
     ]
    }
   ],
   "source": [
    "ls ../test/test-data"
   ]
  },
  {
   "cell_type": "code",
   "execution_count": 4,
   "metadata": {
    "collapsed": false,
    "deletable": true,
    "editable": true
   },
   "outputs": [],
   "source": [
    "test_seq = \"../test/test-data/AcCHR1_test.fasta\"\n",
    "vcffile = \"../test/test-data/AcCHR1_test.vcf.gz\"\n",
    "designer = d.VcfPrimerDesign(test_seq, vcffile, \"TestCHR1\")"
   ]
  },
  {
   "cell_type": "code",
   "execution_count": 62,
   "metadata": {
    "collapsed": false
   },
   "outputs": [
    {
     "data": {
      "text/plain": [
       "['CK51_02',\n",
       " 'CK51_05',\n",
       " 'CK51_06',\n",
       " 'CK51_09',\n",
       " 'CK51_11',\n",
       " 'Hort16A',\n",
       " 'Hort22d',\n",
       " 'Russell',\n",
       " 'T03.51-11-28f',\n",
       " 'T94.30-03-10f',\n",
       " 'T94.30-04-08b',\n",
       " 'T94.30-04-08c',\n",
       " 'T94.30-04-08d']"
      ]
     },
     "execution_count": 62,
     "metadata": {},
     "output_type": "execute_result"
    }
   ],
   "source": [
    "designer.annot.samples"
   ]
  },
  {
   "cell_type": "code",
   "execution_count": 9,
   "metadata": {
    "collapsed": false,
    "deletable": true,
    "editable": true
   },
   "outputs": [],
   "source": [
    "target = BedTool('CHR1 3000 3001', from_string=True)"
   ]
  },
  {
   "cell_type": "code",
   "execution_count": 43,
   "metadata": {
    "collapsed": false,
    "deletable": true,
    "editable": true
   },
   "outputs": [
    {
     "data": {
      "text/plain": [
       "{'REF_OFFSET': 2900,\n",
       " 'SEQUENCE_EXCLUDED_REGION': [(7, 1), (26, 1), (65, 1), (93, 1), (139, 1)],\n",
       " 'SEQUENCE_ID': 'CHR1:2900-3101',\n",
       " 'SEQUENCE_TARGET': (100, 1),\n",
       " 'SEQUENCE_TEMPLATE': 'AGGAAATAAATAAATATGGAATAAAACATTGATATTACAAATAAAGGGTGCTTCTAGCTGAGTAGTCCTCCGATAAAGCACACGCATACAAAGGAATGAGAGAGAGAGAGAGAGGCGCTACCACATATAAAAGGGACAGCAAACATTTTAACATGAGCAAATCAGTGACACTAGGTAGGTGTTAGCACAAAAATGAACCTT',\n",
       " 'TARGET_ID': 'CHR1:3000-3001'}"
      ]
     },
     "execution_count": 43,
     "metadata": {},
     "output_type": "execute_result"
    }
   ],
   "source": [
    "designer.getseqslicedict(target,100)"
   ]
  },
  {
   "cell_type": "markdown",
   "metadata": {},
   "source": [
    "### Design\n",
    "\n",
    "-set globals defaults"
   ]
  },
  {
   "cell_type": "code",
   "execution_count": 22,
   "metadata": {
    "collapsed": true
   },
   "outputs": [],
   "source": [
    "p3_globals={\n",
    "        'PRIMER_OPT_SIZE': 20,\n",
    "        'PRIMER_PICK_INTERNAL_OLIGO': 0,\n",
    "        'PRIMER_INTERNAL_MAX_SELF_END': 8,\n",
    "        'PRIMER_MIN_SIZE': 18,\n",
    "        'PRIMER_MAX_SIZE': 25,\n",
    "        'PRIMER_OPT_TM': 60.0,\n",
    "        'PRIMER_MIN_TM': 57.0,\n",
    "        'PRIMER_MAX_TM': 63.0,\n",
    "        'PRIMER_MIN_GC': 20.0,\n",
    "        'PRIMER_MAX_GC': 80.0,\n",
    "        'PRIMER_MAX_POLY_X': 100,\n",
    "        'PRIMER_INTERNAL_MAX_POLY_X': 100,\n",
    "        'PRIMER_SALT_MONOVALENT': 50.0,\n",
    "        'PRIMER_DNA_CONC': 50.0,\n",
    "        'PRIMER_MAX_NS_ACCEPTED': 0,\n",
    "        'PRIMER_MAX_SELF_ANY': 12,\n",
    "        'PRIMER_MAX_SELF_END': 8,\n",
    "        'PRIMER_PAIR_MAX_COMPL_ANY': 12,\n",
    "        'PRIMER_PAIR_MAX_COMPL_END': 8,\n",
    "        'PRIMER_PRODUCT_SIZE_RANGE': [60,250],\n",
    "    }"
   ]
  },
  {
   "cell_type": "code",
   "execution_count": 36,
   "metadata": {
    "collapsed": false
   },
   "outputs": [
    {
     "data": {
      "text/plain": [
       "{'REF_OFFSET': 2750,\n",
       " 'SEQUENCE_EXCLUDED_REGION': [(43, 1),\n",
       "  (122, 1),\n",
       "  (157, 1),\n",
       "  (176, 1),\n",
       "  (215, 1),\n",
       "  (243, 1),\n",
       "  (289, 1),\n",
       "  (411, 1),\n",
       "  (472, 1)],\n",
       " 'SEQUENCE_ID': 'CHR1:2750-3251',\n",
       " 'SEQUENCE_TARGET': (250, 1),\n",
       " 'SEQUENCE_TEMPLATE': 'CTCAATTTCTTTAGAAGCTTCCAGAGTTGTTGAATTGGCAGCGGCAACTACAGTCGCAACTGTTCCTAGCTTTGCAGAACCATTCCCACTCAAGGAATTCACGGACTCTTTATGTGCCTTCAGAACCAACTGTGTCGCACTGGGTTTTAAAGGAAATAAATAAATATGGAATAAAACATTGATATTACAAATAAAGGGTGCTTCTAGCTGAGTAGTCCTCCGATAAAGCACACGCATACAAAGGAATGAGAGAGAGAGAGAGAGGCGCTACCACATATAAAAGGGACAGCAAACATTTTAACATGAGCAAATCAGTGACACTAGGTAGGTGTTAGCACAAAAATGAACCTTGTTTACATCTGTTCACCACATCCTAGAACATCTTAGACACACACTGCAATAACATATGAGGTGGAGCATGGCACAGTGATACTGCAACAGTAGGATTCCCTGTAACTCTAATGCAACTTTTCATGTACTCAGCCTCTCAAATGATATCGC',\n",
       " 'TARGET_ID': 'CHR1:3000-3001'}"
      ]
     },
     "execution_count": 36,
     "metadata": {},
     "output_type": "execute_result"
    }
   ],
   "source": [
    "designer.getseqslicedict(target,250)"
   ]
  },
  {
   "cell_type": "code",
   "execution_count": 40,
   "metadata": {
    "collapsed": false,
    "deletable": true,
    "editable": true
   },
   "outputs": [
    {
     "data": {
      "text/plain": [
       "[{'AMPLICON_REGION': 'CHR1:2879-3022',\n",
       "  'PRIMER_LEFT': (2878, 20),\n",
       "  'PRIMER_LEFT_SEQUENCE': 'ACTGTGTCGCACTGGGTTTT',\n",
       "  'PRIMER_RIGHT': (3021, 20),\n",
       "  'PRIMER_RIGHT_SEQUENCE': 'GGTAGCGCCTCTCTCTCTCT',\n",
       "  'SEQUENCE_ID': 'CHR1:2750-3251',\n",
       "  'TARGET_ID': 'CHR1:3000-3001'},\n",
       " {'AMPLICON_REGION': 'CHR1:2878-3022',\n",
       "  'PRIMER_LEFT': (2877, 20),\n",
       "  'PRIMER_LEFT_SEQUENCE': 'AACTGTGTCGCACTGGGTTT',\n",
       "  'PRIMER_RIGHT': (3021, 20),\n",
       "  'PRIMER_RIGHT_SEQUENCE': 'GGTAGCGCCTCTCTCTCTCT',\n",
       "  'SEQUENCE_ID': 'CHR1:2750-3251',\n",
       "  'TARGET_ID': 'CHR1:3000-3001'},\n",
       " {'AMPLICON_REGION': 'CHR1:2879-3026',\n",
       "  'PRIMER_LEFT': (2878, 20),\n",
       "  'PRIMER_LEFT_SEQUENCE': 'ACTGTGTCGCACTGGGTTTT',\n",
       "  'PRIMER_RIGHT': (3025, 20),\n",
       "  'PRIMER_RIGHT_SEQUENCE': 'ATGTGGTAGCGCCTCTCTCT',\n",
       "  'SEQUENCE_ID': 'CHR1:2750-3251',\n",
       "  'TARGET_ID': 'CHR1:3000-3001'},\n",
       " {'AMPLICON_REGION': 'CHR1:2878-3026',\n",
       "  'PRIMER_LEFT': (2877, 20),\n",
       "  'PRIMER_LEFT_SEQUENCE': 'AACTGTGTCGCACTGGGTTT',\n",
       "  'PRIMER_RIGHT': (3025, 20),\n",
       "  'PRIMER_RIGHT_SEQUENCE': 'ATGTGGTAGCGCCTCTCTCT',\n",
       "  'SEQUENCE_ID': 'CHR1:2750-3251',\n",
       "  'TARGET_ID': 'CHR1:3000-3001'}]"
      ]
     },
     "execution_count": 40,
     "metadata": {},
     "output_type": "execute_result"
    }
   ],
   "source": [
    "run_p3.run_P3(global_dict=p3_globals,target_dict=designer.getseqslicedict(target,250))"
   ]
  },
  {
   "cell_type": "markdown",
   "metadata": {},
   "source": [
    "### Check out this Built-in Function!\n",
    "\n"
   ]
  },
  {
   "cell_type": "code",
   "execution_count": 42,
   "metadata": {
    "collapsed": false
   },
   "outputs": [
    {
     "name": "stdout",
     "output_type": "stream",
     "text": [
      ">CHR1:2879-3022\r\n",
      "ACTGTGTCGCACTGGGTTTTAAAGGAAATAAATAAATATGGAATAAAACATTGATATTACAAATAAAGGGTGCTTCTAGC\r\n",
      "TGAGTAGTCCTCCGATAAAGCACACGCATACAAAGGAATGAGAGAGAGAGAGAGAGGCGCTACC\r\n",
      ">CHR1:2878-3022\r\n",
      "AACTGTGTCGCACTGGGTTTTAAAGGAAATAAATAAATATGGAATAAAACATTGATATTACAAATAAAGGGTGCTTCTAG\r\n",
      "CTGAGTAGTCCTCCGATAAAGCACACGCATACAAAGGAATGAGAGAGAGAGAGAGAGGCGCTACC\r\n",
      ">CHR1:2879-3026\r\n",
      "ACTGTGTCGCACTGGGTTTTAAAGGAAATAAATAAATATGGAATAAAACATTGATATTACAAATAAAGGGTGCTTCTAGC\r\n",
      "TGAGTAGTCCTCCGATAAAGCACACGCATACAAAGGAATGAGAGAGAGAGAGAGAGGCGCTACCACAT\r\n",
      ">CHR1:2878-3026\r\n",
      "AACTGTGTCGCACTGGGTTTTAAAGGAAATAAATAAATATGGAATAAAACATTGATATTACAAATAAAGGGTGCTTCTAG\r\n",
      "CTGAGTAGTCCTCCGATAAAGCACACGCATACAAAGGAATGAGAGAGAGAGAGAGAGGCGCTACCACAT\r\n"
     ]
    }
   ],
   "source": [
    "!faidx ../test/test-data/AcCHR1_test.fasta CHR1:2879-3022 CHR1:2878-3022 CHR1:2879-3026 CHR1:2878-3026"
   ]
  },
  {
   "cell_type": "markdown",
   "metadata": {},
   "source": [
    "### Try out Variant Features in PyFaidx"
   ]
  },
  {
   "cell_type": "code",
   "execution_count": 80,
   "metadata": {
    "collapsed": false
   },
   "outputs": [],
   "source": [
    "from pyfaidx import FastaVariant\n",
    "consensus_1=FastaVariant(test_seq,vcffile,het=True, hom=True,sample='CK51_02')\n",
    "consensus_2=FastaVariant(test_seq,vcffile,het=True, hom=True,sample='CK51_09')"
   ]
  },
  {
   "cell_type": "code",
   "execution_count": 75,
   "metadata": {
    "collapsed": false
   },
   "outputs": [
    {
     "data": {
      "text/plain": [
       "(2296, 2318, 2493, 2567, 2908, 2927, 2966, 2994, 3040, 3162)"
      ]
     },
     "execution_count": 75,
     "metadata": {},
     "output_type": "execute_result"
    }
   ],
   "source": [
    "consensus_1['CHR1'].variant_sites[10:20]"
   ]
  },
  {
   "cell_type": "code",
   "execution_count": 76,
   "metadata": {
    "collapsed": false
   },
   "outputs": [
    {
     "data": {
      "text/plain": [
       "(2318, 2416, 2567, 2908, 2927, 2966, 2994, 3040, 3162, 3223)"
      ]
     },
     "execution_count": 76,
     "metadata": {},
     "output_type": "execute_result"
    }
   ],
   "source": [
    "consensus_2['CHR1'].variant_sites[10:20]"
   ]
  },
  {
   "cell_type": "code",
   "execution_count": 83,
   "metadata": {
    "collapsed": true
   },
   "outputs": [],
   "source": [
    "import difflib"
   ]
  },
  {
   "cell_type": "code",
   "execution_count": 82,
   "metadata": {
    "collapsed": false
   },
   "outputs": [
    {
     "data": {
      "text/plain": [
       ">CHR1:2466-2699\n",
       "GAGTTCTGAGTTCCTCGTGTATTTCAAGAAAACAAATCTTTAAACTACATGTGTGATAAGACCCGTATATGTGGAATAGCTTGATGTAGGTCGTTTGGCCTCATTCCCAACAGTCTCCATACTCTACCTACTGCTATCACTCCAAAGCTAAATTAAGTTTGTATAGACATATATACTAGAAAGTAACAGTCCTACCTTCATGACCGTGAGGTCATCCATTGGACCATCGGTTGG"
      ]
     },
     "execution_count": 82,
     "metadata": {},
     "output_type": "execute_result"
    }
   ],
   "source": [
    "consensus_1['CHR1'][2465:2699]"
   ]
  },
  {
   "cell_type": "code",
   "execution_count": 79,
   "metadata": {
    "collapsed": false
   },
   "outputs": [
    {
     "data": {
      "text/plain": [
       ">CHR1:2466-2699\n",
       "GAGTTCTGAGTTCCTCGTGTATTTCAATAAAACAAATCTTTAAACTACATGTGTGATAAGACCCGTATATGTGGAATAGCTTGATGTAGGTCGTTTGGCCTCATTCCCAACAGTCTCCATACTCTACCTACTGCTATCACTCCAAAGCTAAATTAAGTTTGTATAGACATATATACTAGAAAGTAACAGTCCTACCTTCATGACCGTGAGGTCATCCATTGGACCATCGGTTGG"
      ]
     },
     "execution_count": 79,
     "metadata": {},
     "output_type": "execute_result"
    }
   ],
   "source": [
    "consensus_2['CHR1'][2465:2699]"
   ]
  },
  {
   "cell_type": "code",
   "execution_count": 89,
   "metadata": {
    "collapsed": false
   },
   "outputs": [],
   "source": [
    "diff=difflib.ndiff(consensus_1['CHR1'][2465:2699].seq,consensus_2['CHR1'][2465:2699].seq)"
   ]
  },
  {
   "cell_type": "code",
   "execution_count": 90,
   "metadata": {
    "collapsed": false
   },
   "outputs": [
    {
     "name": "stdout",
     "output_type": "stream",
     "text": [
      "  G  A  G  T  T  C  T  G  A  G  T  T  C  C  T  C  G  T  G  T  A  T  T  T  C  A  A- G- A- A- A- A- C- A- A- A  T- C- T- T- T  A  A  A- C- T  A  C  A- T- G- T- G- T- G  A- T  A- A- G- A- C- C- C- G  T- A- T- A- T- G- T- G- G- A- A- T- A- G  C  T  T- G- A  T- G- T  A- G- G- T- C- G- T- T- T- G- G- C- C- T- C  A- T- T- C- C- C  A- A  C- A- G  T- C- T- C- C  A- T- A  C- T- C- T  A- C- C  T- A- C- T  G- C  T- A- T- C- A- C- T- C- C- A- A- A  G- C  T- A- A- A- T- T- A- A  G- T- T- T- G- T  A  T  A- G  A- C- A- T- A- T- A- T- A- C- T- A  G  A- A- A- G- T- A- A  C- A- G- T  C  C- T- A- C- C- T- T- C- A- T  G- A- C- C- G  T- G  A- G- G  T- C  A  T- C- C- A- T- T  G- G- A- C- C- A  T- C  G  G+ A+ A  T- T+ A  G+ C+ T+ T  G+ A+ T+ G+ T+ A+ G+ G+ T+ C+ G+ T+ T+ T+ G+ G+ C+ C+ T+ C+ A+ T+ T+ C+ C+ C+ A+ A+ C+ A+ G+ T+ C+ T+ C+ C+ A+ T+ A+ C+ T+ C+ T+ A+ C+ C+ T+ A+ C+ T+ G+ C+ T+ A+ T+ C+ A+ C+ T+ C+ C+ A+ A+ A+ G+ C+ T+ A+ A+ A+ T+ T+ A+ A+ G+ T+ T+ T+ G+ T+ A+ T+ A+ G+ A+ C+ A+ T+ A+ T+ A+ T+ A+ C+ T+ A+ G+ A+ A+ A+ G+ T+ A+ A+ C+ A+ G+ T+ C+ C+ T+ A+ C+ C+ T+ T+ C+ A+ T+ G+ A+ C+ C+ G+ T+ G+ A+ G+ G+ T+ C+ A+ T+ C+ C+ A+ T+ T+ G+ G+ A+ C+ C+ A+ T+ C+ G+ G+ T+ T+ G+ G\n"
     ]
    }
   ],
   "source": [
    "print(\"\".join(diff))"
   ]
  },
  {
   "cell_type": "code",
   "execution_count": 77,
   "metadata": {
    "collapsed": false
   },
   "outputs": [
    {
     "data": {
      "text/plain": [
       "[{'AMPLICON_REGION': 'CHR1:2465-2699',\n",
       "  'PRIMER_LEFT': (2464, 21),\n",
       "  'PRIMER_LEFT_SEQUENCE': 'AGAGTTCTGAGTTCCTCGTGT',\n",
       "  'PRIMER_RIGHT': (2698, 20),\n",
       "  'PRIMER_RIGHT_SEQUENCE': 'CCAACCGATGGTCCAATGGA',\n",
       "  'SEQUENCE_ID': 'CHR1:2242-2743',\n",
       "  'TARGET_ID': 'CHR1:2492-2493'},\n",
       " {'AMPLICON_REGION': 'CHR1:2464-2699',\n",
       "  'PRIMER_LEFT': (2463, 22),\n",
       "  'PRIMER_LEFT_SEQUENCE': 'AAGAGTTCTGAGTTCCTCGTGT',\n",
       "  'PRIMER_RIGHT': (2698, 20),\n",
       "  'PRIMER_RIGHT_SEQUENCE': 'CCAACCGATGGTCCAATGGA',\n",
       "  'SEQUENCE_ID': 'CHR1:2242-2743',\n",
       "  'TARGET_ID': 'CHR1:2492-2493'},\n",
       " {'AMPLICON_REGION': 'CHR1:2465-2688',\n",
       "  'PRIMER_LEFT': (2464, 21),\n",
       "  'PRIMER_LEFT_SEQUENCE': 'AGAGTTCTGAGTTCCTCGTGT',\n",
       "  'PRIMER_RIGHT': (2687, 20),\n",
       "  'PRIMER_RIGHT_SEQUENCE': 'TCCAATGGATGACCTCACGG',\n",
       "  'SEQUENCE_ID': 'CHR1:2242-2743',\n",
       "  'TARGET_ID': 'CHR1:2492-2493'},\n",
       " {'AMPLICON_REGION': 'CHR1:2463-2699',\n",
       "  'PRIMER_LEFT': (2462, 23),\n",
       "  'PRIMER_LEFT_SEQUENCE': 'AAAGAGTTCTGAGTTCCTCGTGT',\n",
       "  'PRIMER_RIGHT': (2698, 20),\n",
       "  'PRIMER_RIGHT_SEQUENCE': 'CCAACCGATGGTCCAATGGA',\n",
       "  'SEQUENCE_ID': 'CHR1:2242-2743',\n",
       "  'TARGET_ID': 'CHR1:2492-2493'}]"
      ]
     },
     "execution_count": 77,
     "metadata": {},
     "output_type": "execute_result"
    }
   ],
   "source": [
    "run_p3.run_P3(global_dict=p3_globals,\n",
    "              target_dict=designer.getseqslicedict(BedTool('CHR1 2492 2493', from_string=True),250))"
   ]
  }
 ],
 "metadata": {
  "kernelspec": {
   "display_name": "Python 3",
   "language": "python",
   "name": "python3"
  },
  "language_info": {
   "codemirror_mode": {
    "name": "ipython",
    "version": 3
   },
   "file_extension": ".py",
   "mimetype": "text/x-python",
   "name": "python",
   "nbconvert_exporter": "python",
   "pygments_lexer": "ipython3",
   "version": "3.5.3"
  }
 },
 "nbformat": 4,
 "nbformat_minor": 2
}
