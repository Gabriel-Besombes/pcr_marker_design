{
 "cells": [
  {
   "cell_type": "markdown",
   "metadata": {
    "deletable": true,
    "editable": true
   },
   "source": [
    "# Prototyping Usage for VCF Design\n",
    "\n",
    "Use autoreload for develp[ment to reload modules automagically"
   ]
  },
  {
   "cell_type": "code",
   "execution_count": 2,
   "metadata": {
    "collapsed": false,
    "deletable": true,
    "editable": true
   },
   "outputs": [],
   "source": [
    "%load_ext autoreload\n",
    "%autoreload 2"
   ]
  },
  {
   "cell_type": "code",
   "execution_count": 3,
   "metadata": {
    "collapsed": true,
    "deletable": true,
    "editable": true
   },
   "outputs": [],
   "source": [
    "from pcr_marker_design import design as d \n",
    "from pcr_marker_design import run_p3\n",
    "from pybedtools import BedTool"
   ]
  },
  {
   "cell_type": "code",
   "execution_count": 4,
   "metadata": {
    "collapsed": false,
    "deletable": true,
    "editable": true
   },
   "outputs": [
    {
     "name": "stdout",
     "output_type": "stream",
     "text": [
      "384um_251453690362217.txt      Chr9_Myb210.vcf\r\n",
      "AcCHR1_test.fasta              Chr9_Myb210.vcf.gz\r\n",
      "AcCHR1_test.fasta.fai          targets\r\n",
      "AcCHR1_test.phased.vcf.gz      targets.fasta\r\n",
      "AcCHR1_test.phased.vcf.gz.tbi  targets.fasta.fai\r\n",
      "AcCHR1_test.vcf.gz             targets.gff\r\n",
      "AcCHR1_test.vcf.gz.tbi         targets.snps.bed\r\n",
      "CHR9.1.68.5.fasta.gz\r\n"
     ]
    }
   ],
   "source": [
    "ls ../test/test-data"
   ]
  },
  {
   "cell_type": "code",
   "execution_count": 66,
   "metadata": {
    "collapsed": false,
    "deletable": true,
    "editable": true
   },
   "outputs": [
    {
     "name": "stderr",
     "output_type": "stream",
     "text": [
      "/Users/johnmccallum/miniconda3/envs/Py3PCR/lib/python3.5/site-packages/pyfaidx/__init__.py:755: RuntimeWarning: Using sample CK51_02 genotypes.\n",
      "  warnings.warn(\"Using sample {0} genotypes.\".format(self.sample), RuntimeWarning)\n"
     ]
    }
   ],
   "source": [
    "test_seq = \"../test/test-data/AcCHR1_test.fasta\"\n",
    "vcffile = \"../test/test-data/AcCHR1_test.vcf.gz\"\n",
    "designer = d.VcfPrimerDesign(test_seq, vcffile, \"TestCHR1\")"
   ]
  },
  {
   "cell_type": "code",
   "execution_count": 39,
   "metadata": {
    "collapsed": false,
    "deletable": true,
    "editable": true
   },
   "outputs": [
    {
     "data": {
      "text/plain": [
       "['CK51_02',\n",
       " 'CK51_05',\n",
       " 'CK51_06',\n",
       " 'CK51_09',\n",
       " 'CK51_11',\n",
       " 'Hort16A',\n",
       " 'Hort22d',\n",
       " 'Russell',\n",
       " 'T03.51-11-28f',\n",
       " 'T94.30-03-10f',\n",
       " 'T94.30-04-08b',\n",
       " 'T94.30-04-08c',\n",
       " 'T94.30-04-08d']"
      ]
     },
     "execution_count": 39,
     "metadata": {},
     "output_type": "execute_result"
    }
   ],
   "source": [
    "designer.annot.samples"
   ]
  },
  {
   "cell_type": "code",
   "execution_count": 40,
   "metadata": {
    "collapsed": false,
    "deletable": true,
    "editable": true
   },
   "outputs": [],
   "source": [
    "target = BedTool('CHR1 3000 3001', from_string=True)"
   ]
  },
  {
   "cell_type": "code",
   "execution_count": 41,
   "metadata": {
    "collapsed": false,
    "deletable": true,
    "editable": true
   },
   "outputs": [
    {
     "data": {
      "text/plain": [
       "{'REF_OFFSET': 2900,\n",
       " 'SEQUENCE_EXCLUDED_REGION': [(7, 1), (26, 1), (65, 1), (93, 1), (139, 1)],\n",
       " 'SEQUENCE_ID': 'CHR1:2900-3101',\n",
       " 'SEQUENCE_TARGET': (100, 1),\n",
       " 'SEQUENCE_TEMPLATE': 'AGGAAATAAATAAATATGGAATAAAACATTGATATTACAAATAAAGGGTGCTTCTAGCTGAGTAGTCCTCCGATAAAGCACACGCATACAAAGGAATGAGAGAGAGAGAGAGAGGCGCTACCACATATAAAAGGGACAGCAAACATTTTAACATGAGCAAATCAGTGACACTAGGTAGGTGTTAGCACAAAAATGAACCTT',\n",
       " 'TARGET_ID': 'CHR1:3000-3001'}"
      ]
     },
     "execution_count": 41,
     "metadata": {},
     "output_type": "execute_result"
    }
   ],
   "source": [
    "designer.getseqslicedict(target,100)"
   ]
  },
  {
   "cell_type": "markdown",
   "metadata": {
    "deletable": true,
    "editable": true
   },
   "source": [
    "### Design\n",
    "\n",
    "-set globals defaults"
   ]
  },
  {
   "cell_type": "code",
   "execution_count": 42,
   "metadata": {
    "collapsed": true,
    "deletable": true,
    "editable": true
   },
   "outputs": [],
   "source": [
    "p3_globals={\n",
    "        'PRIMER_OPT_SIZE': 20,\n",
    "        'PRIMER_PICK_INTERNAL_OLIGO': 0,\n",
    "        'PRIMER_INTERNAL_MAX_SELF_END': 8,\n",
    "        'PRIMER_MIN_SIZE': 18,\n",
    "        'PRIMER_MAX_SIZE': 25,\n",
    "        'PRIMER_OPT_TM': 60.0,\n",
    "        'PRIMER_MIN_TM': 57.0,\n",
    "        'PRIMER_MAX_TM': 63.0,\n",
    "        'PRIMER_MIN_GC': 20.0,\n",
    "        'PRIMER_MAX_GC': 80.0,\n",
    "        'PRIMER_MAX_POLY_X': 100,\n",
    "        'PRIMER_INTERNAL_MAX_POLY_X': 100,\n",
    "        'PRIMER_SALT_MONOVALENT': 50.0,\n",
    "        'PRIMER_DNA_CONC': 50.0,\n",
    "        'PRIMER_MAX_NS_ACCEPTED': 0,\n",
    "        'PRIMER_MAX_SELF_ANY': 12,\n",
    "        'PRIMER_MAX_SELF_END': 8,\n",
    "        'PRIMER_PAIR_MAX_COMPL_ANY': 12,\n",
    "        'PRIMER_PAIR_MAX_COMPL_END': 8,\n",
    "        'PRIMER_PRODUCT_SIZE_RANGE': [60,250],\n",
    "    }"
   ]
  },
  {
   "cell_type": "code",
   "execution_count": 43,
   "metadata": {
    "collapsed": false,
    "deletable": true,
    "editable": true
   },
   "outputs": [
    {
     "data": {
      "text/plain": [
       "{'REF_OFFSET': 2750,\n",
       " 'SEQUENCE_EXCLUDED_REGION': [(43, 1),\n",
       "  (122, 1),\n",
       "  (157, 1),\n",
       "  (176, 1),\n",
       "  (215, 1),\n",
       "  (243, 1),\n",
       "  (289, 1),\n",
       "  (411, 1),\n",
       "  (472, 1)],\n",
       " 'SEQUENCE_ID': 'CHR1:2750-3251',\n",
       " 'SEQUENCE_TARGET': (250, 1),\n",
       " 'SEQUENCE_TEMPLATE': 'CTCAATTTCTTTAGAAGCTTCCAGAGTTGTTGAATTGGCAGCGGCAACTACAGTCGCAACTGTTCCTAGCTTTGCAGAACCATTCCCACTCAAGGAATTCACGGACTCTTTATGTGCCTTCAGAACCAACTGTGTCGCACTGGGTTTTAAAGGAAATAAATAAATATGGAATAAAACATTGATATTACAAATAAAGGGTGCTTCTAGCTGAGTAGTCCTCCGATAAAGCACACGCATACAAAGGAATGAGAGAGAGAGAGAGAGGCGCTACCACATATAAAAGGGACAGCAAACATTTTAACATGAGCAAATCAGTGACACTAGGTAGGTGTTAGCACAAAAATGAACCTTGTTTACATCTGTTCACCACATCCTAGAACATCTTAGACACACACTGCAATAACATATGAGGTGGAGCATGGCACAGTGATACTGCAACAGTAGGATTCCCTGTAACTCTAATGCAACTTTTCATGTACTCAGCCTCTCAAATGATATCGC',\n",
       " 'TARGET_ID': 'CHR1:3000-3001'}"
      ]
     },
     "execution_count": 43,
     "metadata": {},
     "output_type": "execute_result"
    }
   ],
   "source": [
    "designer.getseqslicedict(target,250)"
   ]
  },
  {
   "cell_type": "code",
   "execution_count": 44,
   "metadata": {
    "collapsed": false,
    "deletable": true,
    "editable": true
   },
   "outputs": [
    {
     "data": {
      "text/plain": [
       "[{'AMPLICON_REGION': 'CHR1:2879-3022',\n",
       "  'PRIMER_LEFT': (2878, 20),\n",
       "  'PRIMER_LEFT_SEQUENCE': 'ACTGTGTCGCACTGGGTTTT',\n",
       "  'PRIMER_RIGHT': (3021, 20),\n",
       "  'PRIMER_RIGHT_SEQUENCE': 'GGTAGCGCCTCTCTCTCTCT',\n",
       "  'SEQUENCE_ID': 'CHR1:2750-3251',\n",
       "  'TARGET_ID': 'CHR1:3000-3001'},\n",
       " {'AMPLICON_REGION': 'CHR1:2878-3022',\n",
       "  'PRIMER_LEFT': (2877, 20),\n",
       "  'PRIMER_LEFT_SEQUENCE': 'AACTGTGTCGCACTGGGTTT',\n",
       "  'PRIMER_RIGHT': (3021, 20),\n",
       "  'PRIMER_RIGHT_SEQUENCE': 'GGTAGCGCCTCTCTCTCTCT',\n",
       "  'SEQUENCE_ID': 'CHR1:2750-3251',\n",
       "  'TARGET_ID': 'CHR1:3000-3001'},\n",
       " {'AMPLICON_REGION': 'CHR1:2879-3026',\n",
       "  'PRIMER_LEFT': (2878, 20),\n",
       "  'PRIMER_LEFT_SEQUENCE': 'ACTGTGTCGCACTGGGTTTT',\n",
       "  'PRIMER_RIGHT': (3025, 20),\n",
       "  'PRIMER_RIGHT_SEQUENCE': 'ATGTGGTAGCGCCTCTCTCT',\n",
       "  'SEQUENCE_ID': 'CHR1:2750-3251',\n",
       "  'TARGET_ID': 'CHR1:3000-3001'},\n",
       " {'AMPLICON_REGION': 'CHR1:2878-3026',\n",
       "  'PRIMER_LEFT': (2877, 20),\n",
       "  'PRIMER_LEFT_SEQUENCE': 'AACTGTGTCGCACTGGGTTT',\n",
       "  'PRIMER_RIGHT': (3025, 20),\n",
       "  'PRIMER_RIGHT_SEQUENCE': 'ATGTGGTAGCGCCTCTCTCT',\n",
       "  'SEQUENCE_ID': 'CHR1:2750-3251',\n",
       "  'TARGET_ID': 'CHR1:3000-3001'}]"
      ]
     },
     "execution_count": 44,
     "metadata": {},
     "output_type": "execute_result"
    }
   ],
   "source": [
    "run_p3.run_P3(global_dict=p3_globals,target_dict=designer.getseqslicedict(target,250))"
   ]
  },
  {
   "cell_type": "markdown",
   "metadata": {
    "deletable": true,
    "editable": true
   },
   "source": [
    "### Check out this Built-in Function!\n",
    "\n"
   ]
  },
  {
   "cell_type": "code",
   "execution_count": 45,
   "metadata": {
    "collapsed": false,
    "deletable": true,
    "editable": true
   },
   "outputs": [],
   "source": [
    "?FastaVariant"
   ]
  },
  {
   "cell_type": "code",
   "execution_count": 46,
   "metadata": {
    "collapsed": false,
    "deletable": true,
    "editable": true
   },
   "outputs": [
    {
     "name": "stdout",
     "output_type": "stream",
     "text": [
      ">CHR1:2879-3022\r\n",
      "ACTGTGTCGCACTGGGTTTTAAAGGAAATAAATAAATATGGAATAAAACATTGATATTACAAATAAAGGGTGCTTCTAGC\r\n",
      "TGAGTAGTCCTCCGATAAAGCACACGCATACAAAGGAATGAGAGAGAGAGAGAGAGGCGCTACC\r\n",
      ">CHR1:2878-3022\r\n",
      "AACTGTGTCGCACTGGGTTTTAAAGGAAATAAATAAATATGGAATAAAACATTGATATTACAAATAAAGGGTGCTTCTAG\r\n",
      "CTGAGTAGTCCTCCGATAAAGCACACGCATACAAAGGAATGAGAGAGAGAGAGAGAGGCGCTACC\r\n",
      ">CHR1:2879-3026\r\n",
      "ACTGTGTCGCACTGGGTTTTAAAGGAAATAAATAAATATGGAATAAAACATTGATATTACAAATAAAGGGTGCTTCTAGC\r\n",
      "TGAGTAGTCCTCCGATAAAGCACACGCATACAAAGGAATGAGAGAGAGAGAGAGAGGCGCTACCACAT\r\n",
      ">CHR1:2878-3026\r\n",
      "AACTGTGTCGCACTGGGTTTTAAAGGAAATAAATAAATATGGAATAAAACATTGATATTACAAATAAAGGGTGCTTCTAG\r\n",
      "CTGAGTAGTCCTCCGATAAAGCACACGCATACAAAGGAATGAGAGAGAGAGAGAGAGGCGCTACCACAT\r\n"
     ]
    }
   ],
   "source": [
    "!faidx ../test/test-data/AcCHR1_test.fasta CHR1:2879-3022 CHR1:2878-3022 CHR1:2879-3026 CHR1:2878-3026"
   ]
  },
  {
   "cell_type": "markdown",
   "metadata": {
    "deletable": true,
    "editable": true
   },
   "source": [
    "### Try out Variant Features in PyFaidx"
   ]
  },
  {
   "cell_type": "code",
   "execution_count": 47,
   "metadata": {
    "collapsed": false,
    "deletable": true,
    "editable": true
   },
   "outputs": [
    {
     "name": "stderr",
     "output_type": "stream",
     "text": [
      "/Users/johnmccallum/miniconda3/envs/Py3PCR/lib/python3.5/site-packages/pyfaidx/__init__.py:755: RuntimeWarning: Using sample CK51_02 genotypes.\n",
      "  warnings.warn(\"Using sample {0} genotypes.\".format(self.sample), RuntimeWarning)\n"
     ]
    }
   ],
   "source": [
    "from pyfaidx import FastaVariant, Fasta\n",
    "ref=Fasta(test_seq,as_raw=True)\n",
    "alt=FastaVariant(test_seq,vcffile,het=True, hom=True,sample=None, as_raw=True)\n",
    "consensus_1=FastaVariant(test_seq,vcffile,het=True, hom=True,sample='CK51_02')\n",
    "consensus_2=FastaVariant(test_seq,vcffile,het=True, hom=True,sample='CK51_09')"
   ]
  },
  {
   "cell_type": "code",
   "execution_count": 48,
   "metadata": {
    "collapsed": false,
    "deletable": true,
    "editable": true
   },
   "outputs": [
    {
     "data": {
      "text/plain": [
       "(436, 542, 1024, 1218, 1604, 1634, 1893, 2085, 2143, 2241)"
      ]
     },
     "execution_count": 48,
     "metadata": {},
     "output_type": "execute_result"
    }
   ],
   "source": [
    "alt['CHR1'].variant_sites[:10]"
   ]
  },
  {
   "cell_type": "code",
   "execution_count": 49,
   "metadata": {
    "collapsed": false,
    "deletable": true,
    "editable": true
   },
   "outputs": [
    {
     "data": {
      "text/plain": [
       "'TCCTAGCTTCTGTTGCTGGA'"
      ]
     },
     "execution_count": 49,
     "metadata": {},
     "output_type": "execute_result"
    }
   ],
   "source": [
    "ref['CHR1'][430:450]"
   ]
  },
  {
   "cell_type": "code",
   "execution_count": 50,
   "metadata": {
    "collapsed": false,
    "deletable": true,
    "editable": true
   },
   "outputs": [
    {
     "data": {
      "text/plain": [
       "'TCCTACCTTCTGTTGCTGGA'"
      ]
     },
     "execution_count": 50,
     "metadata": {},
     "output_type": "execute_result"
    }
   ],
   "source": [
    "alt['CHR1'][430:450]"
   ]
  },
  {
   "cell_type": "code",
   "execution_count": 51,
   "metadata": {
    "collapsed": true,
    "deletable": true,
    "editable": true
   },
   "outputs": [],
   "source": [
    "from pcr_marker_design import umelt_service as um"
   ]
  },
  {
   "cell_type": "code",
   "execution_count": 52,
   "metadata": {
    "collapsed": true,
    "deletable": true,
    "editable": true
   },
   "outputs": [],
   "source": [
    "!export https_proxy=https://proxy.pfr.co.nz:8080"
   ]
  },
  {
   "cell_type": "code",
   "execution_count": 53,
   "metadata": {
    "collapsed": true
   },
   "outputs": [],
   "source": [
    "umelt=um.UmeltService()\n",
    "refmelt= um.MeltSeq(ref['CHR1'][430:450])\n",
    "altmelt= um.MeltSeq(ref['CHR1'][430:450])"
   ]
  },
  {
   "cell_type": "code",
   "execution_count": 54,
   "metadata": {
    "collapsed": true
   },
   "outputs": [],
   "source": [
    "ref_melt_Tm=umelt.get_helicity_info(umelt.get_response(refmelt)).get_melting_temp()"
   ]
  },
  {
   "cell_type": "code",
   "execution_count": 55,
   "metadata": {
    "collapsed": false
   },
   "outputs": [],
   "source": [
    "alt_melt_Tm=umelt.get_helicity_info(umelt.get_response(altmelt)).get_melting_temp()"
   ]
  },
  {
   "cell_type": "code",
   "execution_count": 56,
   "metadata": {
    "collapsed": false,
    "deletable": true,
    "editable": true
   },
   "outputs": [
    {
     "data": {
      "text/plain": [
       "68.905500705218614"
      ]
     },
     "execution_count": 56,
     "metadata": {},
     "output_type": "execute_result"
    }
   ],
   "source": [
    "ref_melt_Tm"
   ]
  },
  {
   "cell_type": "code",
   "execution_count": 57,
   "metadata": {
    "collapsed": false
   },
   "outputs": [
    {
     "data": {
      "text/plain": [
       "68.905500705218614"
      ]
     },
     "execution_count": 57,
     "metadata": {},
     "output_type": "execute_result"
    }
   ],
   "source": [
    "alt_melt_Tm"
   ]
  },
  {
   "cell_type": "code",
   "execution_count": 58,
   "metadata": {
    "collapsed": false,
    "deletable": true,
    "editable": true
   },
   "outputs": [
    {
     "data": {
      "text/plain": [
       "[{'AMPLICON_REGION': 'CHR1:2465-2699',\n",
       "  'PRIMER_LEFT': (2464, 21),\n",
       "  'PRIMER_LEFT_SEQUENCE': 'AGAGTTCTGAGTTCCTCGTGT',\n",
       "  'PRIMER_RIGHT': (2698, 20),\n",
       "  'PRIMER_RIGHT_SEQUENCE': 'CCAACCGATGGTCCAATGGA',\n",
       "  'SEQUENCE_ID': 'CHR1:2242-2743',\n",
       "  'TARGET_ID': 'CHR1:2492-2493'},\n",
       " {'AMPLICON_REGION': 'CHR1:2464-2699',\n",
       "  'PRIMER_LEFT': (2463, 22),\n",
       "  'PRIMER_LEFT_SEQUENCE': 'AAGAGTTCTGAGTTCCTCGTGT',\n",
       "  'PRIMER_RIGHT': (2698, 20),\n",
       "  'PRIMER_RIGHT_SEQUENCE': 'CCAACCGATGGTCCAATGGA',\n",
       "  'SEQUENCE_ID': 'CHR1:2242-2743',\n",
       "  'TARGET_ID': 'CHR1:2492-2493'},\n",
       " {'AMPLICON_REGION': 'CHR1:2465-2688',\n",
       "  'PRIMER_LEFT': (2464, 21),\n",
       "  'PRIMER_LEFT_SEQUENCE': 'AGAGTTCTGAGTTCCTCGTGT',\n",
       "  'PRIMER_RIGHT': (2687, 20),\n",
       "  'PRIMER_RIGHT_SEQUENCE': 'TCCAATGGATGACCTCACGG',\n",
       "  'SEQUENCE_ID': 'CHR1:2242-2743',\n",
       "  'TARGET_ID': 'CHR1:2492-2493'},\n",
       " {'AMPLICON_REGION': 'CHR1:2463-2699',\n",
       "  'PRIMER_LEFT': (2462, 23),\n",
       "  'PRIMER_LEFT_SEQUENCE': 'AAAGAGTTCTGAGTTCCTCGTGT',\n",
       "  'PRIMER_RIGHT': (2698, 20),\n",
       "  'PRIMER_RIGHT_SEQUENCE': 'CCAACCGATGGTCCAATGGA',\n",
       "  'SEQUENCE_ID': 'CHR1:2242-2743',\n",
       "  'TARGET_ID': 'CHR1:2492-2493'}]"
      ]
     },
     "execution_count": 58,
     "metadata": {},
     "output_type": "execute_result"
    }
   ],
   "source": [
    "run_p3.run_P3(global_dict=p3_globals,\n",
    "              target_dict=designer.getseqslicedict(BedTool('CHR1 2492 2493', from_string=True),250))"
   ]
  },
  {
   "cell_type": "markdown",
   "metadata": {
    "deletable": true,
    "editable": true
   },
   "source": [
    "### Flanking= False option"
   ]
  },
  {
   "cell_type": "code",
   "execution_count": 59,
   "metadata": {
    "collapsed": true,
    "deletable": true,
    "editable": true
   },
   "outputs": [],
   "source": [
    "import pandas as pd"
   ]
  },
  {
   "cell_type": "code",
   "execution_count": 24,
   "metadata": {
    "collapsed": false,
    "deletable": true,
    "editable": true
   },
   "outputs": [
    {
     "data": {
      "text/html": [
       "<div>\n",
       "<table border=\"1\" class=\"dataframe\">\n",
       "  <thead>\n",
       "    <tr style=\"text-align: right;\">\n",
       "      <th></th>\n",
       "      <th>AMPLICON_REGION</th>\n",
       "      <th>PRIMER_LEFT</th>\n",
       "      <th>PRIMER_LEFT_SEQUENCE</th>\n",
       "      <th>PRIMER_RIGHT</th>\n",
       "      <th>PRIMER_RIGHT_SEQUENCE</th>\n",
       "      <th>SEQUENCE_ID</th>\n",
       "      <th>TARGET_ID</th>\n",
       "    </tr>\n",
       "  </thead>\n",
       "  <tbody>\n",
       "    <tr>\n",
       "      <th>0</th>\n",
       "      <td>CHR1:2547-2699</td>\n",
       "      <td>(2546, 20)</td>\n",
       "      <td>TGATGTAGGTCGTTTGGCCT</td>\n",
       "      <td>(2698, 20)</td>\n",
       "      <td>CCAACCGATGGTCCAATGGA</td>\n",
       "      <td>CHR1:2400-2700</td>\n",
       "      <td>CHR1:2400-2700</td>\n",
       "    </tr>\n",
       "    <tr>\n",
       "      <th>1</th>\n",
       "      <td>CHR1:2554-2699</td>\n",
       "      <td>(2553, 20)</td>\n",
       "      <td>GGTCGTTTGGCCTAATTCCC</td>\n",
       "      <td>(2698, 20)</td>\n",
       "      <td>CCAACCGATGGTCCAATGGA</td>\n",
       "      <td>CHR1:2400-2700</td>\n",
       "      <td>CHR1:2400-2700</td>\n",
       "    </tr>\n",
       "    <tr>\n",
       "      <th>2</th>\n",
       "      <td>CHR1:2544-2699</td>\n",
       "      <td>(2543, 21)</td>\n",
       "      <td>GCTTGATGTAGGTCGTTTGGC</td>\n",
       "      <td>(2698, 20)</td>\n",
       "      <td>CCAACCGATGGTCCAATGGA</td>\n",
       "      <td>CHR1:2400-2700</td>\n",
       "      <td>CHR1:2400-2700</td>\n",
       "    </tr>\n",
       "    <tr>\n",
       "      <th>3</th>\n",
       "      <td>CHR1:2553-2699</td>\n",
       "      <td>(2552, 21)</td>\n",
       "      <td>AGGTCGTTTGGCCTAATTCCC</td>\n",
       "      <td>(2698, 20)</td>\n",
       "      <td>CCAACCGATGGTCCAATGGA</td>\n",
       "      <td>CHR1:2400-2700</td>\n",
       "      <td>CHR1:2400-2700</td>\n",
       "    </tr>\n",
       "  </tbody>\n",
       "</table>\n",
       "</div>"
      ],
      "text/plain": [
       "  AMPLICON_REGION PRIMER_LEFT   PRIMER_LEFT_SEQUENCE PRIMER_RIGHT  \\\n",
       "0  CHR1:2547-2699  (2546, 20)   TGATGTAGGTCGTTTGGCCT   (2698, 20)   \n",
       "1  CHR1:2554-2699  (2553, 20)   GGTCGTTTGGCCTAATTCCC   (2698, 20)   \n",
       "2  CHR1:2544-2699  (2543, 21)  GCTTGATGTAGGTCGTTTGGC   (2698, 20)   \n",
       "3  CHR1:2553-2699  (2552, 21)  AGGTCGTTTGGCCTAATTCCC   (2698, 20)   \n",
       "\n",
       "  PRIMER_RIGHT_SEQUENCE     SEQUENCE_ID       TARGET_ID  \n",
       "0  CCAACCGATGGTCCAATGGA  CHR1:2400-2700  CHR1:2400-2700  \n",
       "1  CCAACCGATGGTCCAATGGA  CHR1:2400-2700  CHR1:2400-2700  \n",
       "2  CCAACCGATGGTCCAATGGA  CHR1:2400-2700  CHR1:2400-2700  \n",
       "3  CCAACCGATGGTCCAATGGA  CHR1:2400-2700  CHR1:2400-2700  "
      ]
     },
     "execution_count": 24,
     "metadata": {},
     "output_type": "execute_result"
    }
   ],
   "source": [
    "test=run_p3.run_P3(global_dict=p3_globals,\n",
    "              target_dict=designer.getseqslicedict(BedTool('CHR1 2400 2700', from_string=True),250,flanking= False))\n",
    "pd.DataFrame.from_dict(test)"
   ]
  },
  {
   "cell_type": "code",
   "execution_count": 26,
   "metadata": {
    "collapsed": false,
    "deletable": true,
    "editable": true
   },
   "outputs": [
    {
     "data": {
      "text/plain": [
       "[{'AMPLICON_REGION': 'CHR1:2547-2699',\n",
       "  'PRIMER_LEFT': (2546, 20),\n",
       "  'PRIMER_LEFT_SEQUENCE': 'TGATGTAGGTCGTTTGGCCT',\n",
       "  'PRIMER_RIGHT': (2698, 20),\n",
       "  'PRIMER_RIGHT_SEQUENCE': 'CCAACCGATGGTCCAATGGA',\n",
       "  'SEQUENCE_ID': 'CHR1:2400-2700',\n",
       "  'TARGET_ID': 'CHR1:2400-2700'},\n",
       " {'AMPLICON_REGION': 'CHR1:2554-2699',\n",
       "  'PRIMER_LEFT': (2553, 20),\n",
       "  'PRIMER_LEFT_SEQUENCE': 'GGTCGTTTGGCCTAATTCCC',\n",
       "  'PRIMER_RIGHT': (2698, 20),\n",
       "  'PRIMER_RIGHT_SEQUENCE': 'CCAACCGATGGTCCAATGGA',\n",
       "  'SEQUENCE_ID': 'CHR1:2400-2700',\n",
       "  'TARGET_ID': 'CHR1:2400-2700'},\n",
       " {'AMPLICON_REGION': 'CHR1:2544-2699',\n",
       "  'PRIMER_LEFT': (2543, 21),\n",
       "  'PRIMER_LEFT_SEQUENCE': 'GCTTGATGTAGGTCGTTTGGC',\n",
       "  'PRIMER_RIGHT': (2698, 20),\n",
       "  'PRIMER_RIGHT_SEQUENCE': 'CCAACCGATGGTCCAATGGA',\n",
       "  'SEQUENCE_ID': 'CHR1:2400-2700',\n",
       "  'TARGET_ID': 'CHR1:2400-2700'},\n",
       " {'AMPLICON_REGION': 'CHR1:2553-2699',\n",
       "  'PRIMER_LEFT': (2552, 21),\n",
       "  'PRIMER_LEFT_SEQUENCE': 'AGGTCGTTTGGCCTAATTCCC',\n",
       "  'PRIMER_RIGHT': (2698, 20),\n",
       "  'PRIMER_RIGHT_SEQUENCE': 'CCAACCGATGGTCCAATGGA',\n",
       "  'SEQUENCE_ID': 'CHR1:2400-2700',\n",
       "  'TARGET_ID': 'CHR1:2400-2700'}]"
      ]
     },
     "execution_count": 26,
     "metadata": {},
     "output_type": "execute_result"
    }
   ],
   "source": [
    "test"
   ]
  },
  {
   "cell_type": "code",
   "execution_count": 31,
   "metadata": {
    "collapsed": true,
    "deletable": true,
    "editable": true
   },
   "outputs": [],
   "source": [
    "foo='CHR1:100-200'"
   ]
  },
  {
   "cell_type": "code",
   "execution_count": 36,
   "metadata": {
    "collapsed": false
   },
   "outputs": [
    {
     "data": {
      "text/plain": [
       "[99, 199]"
      ]
     },
     "execution_count": 36,
     "metadata": {},
     "output_type": "execute_result"
    }
   ],
   "source": [
    "[int(X)-1 for X in foo.split(':')[1].split('-')]"
   ]
  },
  {
   "cell_type": "code",
   "execution_count": 70,
   "metadata": {
    "collapsed": false
   },
   "outputs": [
    {
     "data": {
      "text/plain": [
       "('CHR1',\n",
       " 2878,\n",
       " 3022,\n",
       " 'ACTGTGTCGCACTGGGTTTTAAAGGAAATAAATAAATATGGAATAAAACATTGATATTACAAATAAAGGGTGCTTCTAGCTGAGTAGTCCTCCGATAAAGCACACGCATACAAAGGAATGAGAGAGAGAGAGAGAGGCGCTACC',\n",
       " 'ACTGTGTCGCACTGGGTTTTAAAGGAAATGAATAAATATGGAATAAAAGATTGATATTACAAATAAAGGGTGCTTCTAGCTGAGTAGACCTCCGATAAAGCACACGCATACAAAGAAATGAGAGAGAGAGAGAGAGGCGCTACC')"
      ]
     },
     "execution_count": 70,
     "metadata": {},
     "output_type": "execute_result"
    }
   ],
   "source": [
    "designer.meltSlice('CHR1:2879-3022')"
   ]
  },
  {
   "cell_type": "code",
   "execution_count": 71,
   "metadata": {
    "collapsed": false
   },
   "outputs": [
    {
     "name": "stdout",
     "output_type": "stream",
     "text": [
      ">CHR1:2879-3022\r\n",
      "ACTGTGTCGCACTGGGTTTTAAAGGAAATAAATAAATATGGAATAAAACATTGATATTACAAATAAAGGGTGCTTCTAGC\r\n",
      "TGAGTAGTCCTCCGATAAAGCACACGCATACAAAGGAATGAGAGAGAGAGAGAGAGGCGCTACC\r\n"
     ]
    }
   ],
   "source": [
    "!faidx ../test/test-data/AcCHR1_test.fasta CHR1:2879-3022"
   ]
  },
  {
   "cell_type": "code",
   "execution_count": 68,
   "metadata": {
    "collapsed": false
   },
   "outputs": [
    {
     "name": "stdout",
     "output_type": "stream",
     "text": [
      "usage: faidx [-h] [-b BED] [-o OUT]\r\n",
      "             [-i {bed,chromsizes,nucleotide,transposed}] [-c] [-r]\r\n",
      "             [-a SIZE_RANGE] [-n | -f] [-x] [-l] [-s DEFAULT_SEQ]\r\n",
      "             [-d DELIMITER] [-g REGEX | -v] [-m | -M] [--no-rebuild]\r\n",
      "             [--version]\r\n",
      "             fasta [regions [regions ...]]\r\n",
      "\r\n",
      "Fetch sequences from FASTA. If no regions are specified, all entries in the\r\n",
      "input file are returned. Input FASTA file must be consistently line-wrapped,\r\n",
      "and line wrapping of output is based on input line lengths.\r\n",
      "\r\n",
      "positional arguments:\r\n",
      "  fasta                 FASTA file\r\n",
      "  regions               space separated regions of sequence to fetch e.g.\r\n",
      "                        chr1:1-1000\r\n",
      "\r\n",
      "optional arguments:\r\n",
      "  -h, --help            show this help message and exit\r\n",
      "  -b BED, --bed BED     bed file of regions\r\n",
      "  -o OUT, --out OUT     output file name (default: stdout)\r\n",
      "  -i {bed,chromsizes,nucleotide,transposed}, --transform {bed,chromsizes,nucleotide,transposed}\r\n",
      "                        transform the requested regions into another format.\r\n",
      "                        default: None\r\n",
      "  -c, --complement      complement the sequence. default: False\r\n",
      "  -r, --reverse         reverse the sequence. default: False\r\n",
      "  -a SIZE_RANGE, --size-range SIZE_RANGE\r\n",
      "                        selected sequences are in the size range [low, high].\r\n",
      "                        example: 1,1000 default: None\r\n",
      "  -n, --no-names        omit sequence names from output. default: False\r\n",
      "  -f, --full-names      output full names including description. default:\r\n",
      "                        False\r\n",
      "  -x, --split-files     write each region to a separate file (names are\r\n",
      "                        derived from regions)\r\n",
      "  -l, --lazy            fill in --default-seq for missing ranges. default:\r\n",
      "                        False\r\n",
      "  -s DEFAULT_SEQ, --default-seq DEFAULT_SEQ\r\n",
      "                        default base for missing positions and masking.\r\n",
      "                        default: N\r\n",
      "  -d DELIMITER, --delimiter DELIMITER\r\n",
      "                        delimiter for splitting names to multiple values\r\n",
      "                        (duplicate names will be discarded). default: None\r\n",
      "  -g REGEX, --regex REGEX\r\n",
      "                        selected sequences are those matching regular\r\n",
      "                        expression. default: .*\r\n",
      "  -v, --invert-match    selected sequences are those not matching 'regions'\r\n",
      "                        argument. default: False\r\n",
      "  -m, --mask-with-default-seq\r\n",
      "                        mask the FASTA file using --default-seq default: False\r\n",
      "  -M, --mask-by-case    mask the FASTA file by changing to lowercase. default:\r\n",
      "                        False\r\n",
      "  --no-rebuild          do not rebuild the .fai index even if it is out of\r\n",
      "                        date. default: False\r\n",
      "  --version             print pyfaidx version number\r\n",
      "\r\n",
      "Please cite: Shirley MD, Ma Z, Pedersen BS, Wheelan SJ. (2015) Efficient\r\n",
      "\"pythonic\" access to FASTA files using pyfaidx. PeerJ PrePrints 3:e1196\r\n",
      "https://dx.doi.org/10.7287/peerj.preprints.970v1\r\n"
     ]
    }
   ],
   "source": [
    "!faidx --help"
   ]
  }
 ],
 "metadata": {
  "anaconda-cloud": {},
  "kernelspec": {
   "display_name": "Python 3",
   "language": "python",
   "name": "python3"
  },
  "language_info": {
   "codemirror_mode": {
    "name": "ipython",
    "version": 3
   },
   "file_extension": ".py",
   "mimetype": "text/x-python",
   "name": "python",
   "nbconvert_exporter": "python",
   "pygments_lexer": "ipython3",
   "version": "3.5.3"
  }
 },
 "nbformat": 4,
 "nbformat_minor": 2
}
