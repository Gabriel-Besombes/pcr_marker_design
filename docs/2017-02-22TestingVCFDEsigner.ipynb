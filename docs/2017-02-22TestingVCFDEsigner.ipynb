{
 "cells": [
  {
   "cell_type": "markdown",
   "metadata": {
    "deletable": true,
    "editable": true
   },
   "source": [
    "# Prototyping Usage for VCF Design\n",
    "\n",
    "### John McCallum Feb 2017\n",
    "\n",
    "Use autoreload for development to reload modules automagically"
   ]
  },
  {
   "cell_type": "code",
   "execution_count": 64,
   "metadata": {
    "collapsed": false,
    "deletable": true,
    "editable": true
   },
   "outputs": [
    {
     "name": "stdout",
     "output_type": "stream",
     "text": [
      "The autoreload extension is already loaded. To reload it, use:\n",
      "  %reload_ext autoreload\n"
     ]
    }
   ],
   "source": [
    "%load_ext autoreload\n",
    "%autoreload 2"
   ]
  },
  {
   "cell_type": "code",
   "execution_count": 63,
   "metadata": {
    "collapsed": false,
    "deletable": true,
    "editable": true
   },
   "outputs": [],
   "source": [
    "from pcr_marker_design import design as d \n",
    "from pcr_marker_design import run_p3\n",
    "from pybedtools import BedTool, Interval\n",
    "from pyfaidx import Fasta , FastaVariant"
   ]
  },
  {
   "cell_type": "code",
   "execution_count": 6,
   "metadata": {
    "collapsed": false,
    "deletable": true,
    "editable": true
   },
   "outputs": [
    {
     "name": "stdout",
     "output_type": "stream",
     "text": [
      "384um_251453690362217.txt      Chr9_Myb210.vcf\r\n",
      "AcCHR1_test.fasta              Chr9_Myb210.vcf.gz\r\n",
      "AcCHR1_test.fasta.fai          targets\r\n",
      "AcCHR1_test.phased.vcf.gz      targets.fasta\r\n",
      "AcCHR1_test.phased.vcf.gz.tbi  targets.fasta.fai\r\n",
      "AcCHR1_test.vcf.gz             targets.gff\r\n",
      "AcCHR1_test.vcf.gz.tbi         targets.snps.bed\r\n",
      "CHR9.1.68.5.fasta.gz\r\n"
     ]
    }
   ],
   "source": [
    "ls ../test/test-data"
   ]
  },
  {
   "cell_type": "code",
   "execution_count": 7,
   "metadata": {
    "collapsed": false,
    "deletable": true,
    "editable": true
   },
   "outputs": [
    {
     "name": "stderr",
     "output_type": "stream",
     "text": [
      "/Users/johnmccallum/miniconda3/envs/Py3PCR/lib/python3.5/site-packages/pyfaidx/__init__.py:755: RuntimeWarning: Using sample CK51_02 genotypes.\n",
      "  warnings.warn(\"Using sample {0} genotypes.\".format(self.sample), RuntimeWarning)\n"
     ]
    }
   ],
   "source": [
    "test_seq = \"../test/test-data/AcCHR1_test.fasta\"\n",
    "vcffile = \"../test/test-data/AcCHR1_test.vcf.gz\"\n",
    "designer = d.VcfPrimerDesign(test_seq, vcffile, \"TestCHR1\")"
   ]
  },
  {
   "cell_type": "code",
   "execution_count": 8,
   "metadata": {
    "collapsed": false,
    "deletable": true,
    "editable": true
   },
   "outputs": [
    {
     "data": {
      "text/plain": [
       "['CK51_02',\n",
       " 'CK51_05',\n",
       " 'CK51_06',\n",
       " 'CK51_09',\n",
       " 'CK51_11',\n",
       " 'Hort16A',\n",
       " 'Hort22d',\n",
       " 'Russell',\n",
       " 'T03.51-11-28f',\n",
       " 'T94.30-03-10f',\n",
       " 'T94.30-04-08b',\n",
       " 'T94.30-04-08c',\n",
       " 'T94.30-04-08d']"
      ]
     },
     "execution_count": 8,
     "metadata": {},
     "output_type": "execute_result"
    }
   ],
   "source": [
    "designer.annot.samples"
   ]
  },
  {
   "cell_type": "markdown",
   "metadata": {},
   "source": [
    "### Create a BedTool Target"
   ]
  },
  {
   "cell_type": "code",
   "execution_count": 9,
   "metadata": {
    "collapsed": false,
    "deletable": true,
    "editable": true
   },
   "outputs": [],
   "source": [
    "target = BedTool('CHR1 3000 3001', from_string=True)"
   ]
  },
  {
   "cell_type": "markdown",
   "metadata": {},
   "source": [
    "### Create a target Interval"
   ]
  },
  {
   "cell_type": "code",
   "execution_count": 91,
   "metadata": {
    "collapsed": true
   },
   "outputs": [],
   "source": [
    "target_interval=Interval('CHR1',3000,3001)"
   ]
  },
  {
   "cell_type": "code",
   "execution_count": 84,
   "metadata": {
    "collapsed": false
   },
   "outputs": [
    {
     "data": {
      "text/plain": [
       "'CHR1'"
      ]
     },
     "execution_count": 84,
     "metadata": {},
     "output_type": "execute_result"
    }
   ],
   "source": [
    "target_interval.chrom"
   ]
  },
  {
   "cell_type": "code",
   "execution_count": 85,
   "metadata": {
    "collapsed": false
   },
   "outputs": [
    {
     "data": {
      "text/plain": [
       "3000"
      ]
     },
     "execution_count": 85,
     "metadata": {},
     "output_type": "execute_result"
    }
   ],
   "source": [
    "target_interval.start"
   ]
  },
  {
   "cell_type": "code",
   "execution_count": 90,
   "metadata": {
    "collapsed": false
   },
   "outputs": [
    {
     "data": {
      "text/plain": [
       "1"
      ]
     },
     "execution_count": 90,
     "metadata": {},
     "output_type": "execute_result"
    }
   ],
   "source": [
    "target_interval.length"
   ]
  },
  {
   "cell_type": "code",
   "execution_count": null,
   "metadata": {
    "collapsed": true
   },
   "outputs": [],
   "source": [
    "BedTool."
   ]
  },
  {
   "cell_type": "markdown",
   "metadata": {},
   "source": [
    "at 2c01be2662fe6466c3826b5a06ec81b9472f9f4c this needs a Bedtool length 1"
   ]
  },
  {
   "cell_type": "code",
   "execution_count": 93,
   "metadata": {
    "collapsed": false,
    "deletable": true,
    "editable": true
   },
   "outputs": [
    {
     "ename": "AttributeError",
     "evalue": "'BedTool' object has no attribute 'chrom'",
     "output_type": "error",
     "traceback": [
      "\u001b[0;31m---------------------------------------------------------------------------\u001b[0m",
      "\u001b[0;31mAttributeError\u001b[0m                            Traceback (most recent call last)",
      "\u001b[0;32m<ipython-input-93-e669310ddfc0>\u001b[0m in \u001b[0;36m<module>\u001b[0;34m()\u001b[0m\n\u001b[0;32m----> 1\u001b[0;31m \u001b[0mdesigner\u001b[0m\u001b[0;34m.\u001b[0m\u001b[0mgetseqslicedict\u001b[0m\u001b[0;34m(\u001b[0m\u001b[0mtarget\u001b[0m\u001b[0;34m,\u001b[0m\u001b[0;36m100\u001b[0m\u001b[0;34m)\u001b[0m\u001b[0;34m\u001b[0m\u001b[0m\n\u001b[0m",
      "\u001b[0;32m/Users/johnmccallum/Documents/pcr_marker_design/pcr_marker_design/design.py\u001b[0m in \u001b[0;36mgetseqslicedict\u001b[0;34m(self, target_interval, max_size, flanking)\u001b[0m\n\u001b[1;32m     90\u001b[0m         \"\"\"\n\u001b[1;32m     91\u001b[0m         \u001b[0;32mif\u001b[0m \u001b[0mflanking\u001b[0m\u001b[0;34m:\u001b[0m\u001b[0;34m\u001b[0m\u001b[0m\n\u001b[0;32m---> 92\u001b[0;31m             target_interval_bed=BedTool(\"\\t\".join(target_interval.chrom,\n\u001b[0m\u001b[1;32m     93\u001b[0m                                                   \u001b[0mtarget_interval\u001b[0m\u001b[0;34m.\u001b[0m\u001b[0mstart\u001b[0m\u001b[0;34m,\u001b[0m\u001b[0;34m\u001b[0m\u001b[0m\n\u001b[1;32m     94\u001b[0m                                                   target_interval.stop),\n",
      "\u001b[0;31mAttributeError\u001b[0m: 'BedTool' object has no attribute 'chrom'"
     ]
    }
   ],
   "source": [
    "designer.getseqslicedict(target,100)"
   ]
  },
  {
   "cell_type": "markdown",
   "metadata": {},
   "source": [
    "Doesn't work with INterval"
   ]
  },
  {
   "cell_type": "code",
   "execution_count": 106,
   "metadata": {
    "collapsed": false
   },
   "outputs": [
    {
     "ename": "NameError",
     "evalue": "name 'target' is not defined",
     "output_type": "error",
     "traceback": [
      "\u001b[0;31m---------------------------------------------------------------------------\u001b[0m",
      "\u001b[0;31mNameError\u001b[0m                                 Traceback (most recent call last)",
      "\u001b[0;32m<ipython-input-106-88b50ae02264>\u001b[0m in \u001b[0;36m<module>\u001b[0;34m()\u001b[0m\n\u001b[0;32m----> 1\u001b[0;31m \u001b[0mdesigner\u001b[0m\u001b[0;34m.\u001b[0m\u001b[0mgetseqslicedict\u001b[0m\u001b[0;34m(\u001b[0m\u001b[0mtarget_interval\u001b[0m\u001b[0;34m,\u001b[0m\u001b[0;36m100\u001b[0m\u001b[0;34m)\u001b[0m\u001b[0;34m\u001b[0m\u001b[0m\n\u001b[0m",
      "\u001b[0;32m/Users/johnmccallum/Documents/pcr_marker_design/pcr_marker_design/design.py\u001b[0m in \u001b[0;36mgetseqslicedict\u001b[0;34m(self, target_interval, max_size, flanking)\u001b[0m\n\u001b[1;32m    106\u001b[0m                       X in self.annot.fetch(target_chrom, target_start, target_end)]\n\u001b[1;32m    107\u001b[0m         \u001b[0mslice_annot\u001b[0m \u001b[0;34m=\u001b[0m \u001b[0mBedTool\u001b[0m\u001b[0;34m(\u001b[0m\u001b[0;34m\"\\n\"\u001b[0m\u001b[0;34m.\u001b[0m\u001b[0mjoin\u001b[0m\u001b[0;34m(\u001b[0m\u001b[0mslice_vars\u001b[0m\u001b[0;34m)\u001b[0m\u001b[0;34m,\u001b[0m \u001b[0mfrom_string\u001b[0m\u001b[0;34m=\u001b[0m\u001b[0;32mTrue\u001b[0m\u001b[0;34m)\u001b[0m\u001b[0;34m\u001b[0m\u001b[0m\n\u001b[0;32m--> 108\u001b[0;31m         \u001b[0mslice_annot\u001b[0m \u001b[0;34m=\u001b[0m \u001b[0mslice_annot\u001b[0m \u001b[0;34m-\u001b[0m \u001b[0mtarget\u001b[0m\u001b[0;34m\u001b[0m\u001b[0m\n\u001b[0m\u001b[1;32m    109\u001b[0m         \u001b[0msldic\u001b[0m\u001b[0;34m[\u001b[0m\u001b[0;34m'SEQUENCE_EXCLUDED_REGION'\u001b[0m\u001b[0;34m]\u001b[0m \u001b[0;34m=\u001b[0m \u001b[0;34m[\u001b[0m\u001b[0;34m(\u001b[0m\u001b[0mX\u001b[0m\u001b[0;34m.\u001b[0m\u001b[0mstart\u001b[0m \u001b[0;34m-\u001b[0m \u001b[0mtarget_start\u001b[0m\u001b[0;34m,\u001b[0m \u001b[0mX\u001b[0m\u001b[0;34m.\u001b[0m\u001b[0mlength\u001b[0m\u001b[0;34m)\u001b[0m \u001b[0;32mfor\u001b[0m \u001b[0mX\u001b[0m \u001b[0;32min\u001b[0m \u001b[0mslice_annot\u001b[0m\u001b[0;34m]\u001b[0m\u001b[0;34m\u001b[0m\u001b[0m\n\u001b[1;32m    110\u001b[0m         \u001b[0;32mif\u001b[0m \u001b[0mflanking\u001b[0m\u001b[0;34m:\u001b[0m\u001b[0;34m\u001b[0m\u001b[0m\n",
      "\u001b[0;31mNameError\u001b[0m: name 'target' is not defined"
     ]
    }
   ],
   "source": [
    "designer.getseqslicedict(target_interval,100)"
   ]
  },
  {
   "cell_type": "code",
   "execution_count": 100,
   "metadata": {
    "collapsed": false
   },
   "outputs": [
    {
     "name": "stdout",
     "output_type": "stream",
     "text": [
      "1dd\t2\t3\n"
     ]
    }
   ],
   "source": [
    "print('\\t'.join(map(str,['1dd','2','3'])))"
   ]
  },
  {
   "cell_type": "markdown",
   "metadata": {
    "deletable": true,
    "editable": true
   },
   "source": [
    "### Design\n",
    "\n",
    "-set globals defaults"
   ]
  },
  {
   "cell_type": "code",
   "execution_count": 11,
   "metadata": {
    "collapsed": true,
    "deletable": true,
    "editable": true
   },
   "outputs": [],
   "source": [
    "p3_globals={\n",
    "        'PRIMER_OPT_SIZE': 20,\n",
    "        'PRIMER_PICK_INTERNAL_OLIGO': 0,\n",
    "        'PRIMER_INTERNAL_MAX_SELF_END': 8,\n",
    "        'PRIMER_MIN_SIZE': 18,\n",
    "        'PRIMER_MAX_SIZE': 25,\n",
    "        'PRIMER_OPT_TM': 60.0,\n",
    "        'PRIMER_MIN_TM': 57.0,\n",
    "        'PRIMER_MAX_TM': 63.0,\n",
    "        'PRIMER_MIN_GC': 20.0,\n",
    "        'PRIMER_MAX_GC': 80.0,\n",
    "        'PRIMER_MAX_POLY_X': 100,\n",
    "        'PRIMER_INTERNAL_MAX_POLY_X': 100,\n",
    "        'PRIMER_SALT_MONOVALENT': 50.0,\n",
    "        'PRIMER_DNA_CONC': 50.0,\n",
    "        'PRIMER_MAX_NS_ACCEPTED': 0,\n",
    "        'PRIMER_MAX_SELF_ANY': 12,\n",
    "        'PRIMER_MAX_SELF_END': 8,\n",
    "        'PRIMER_PAIR_MAX_COMPL_ANY': 12,\n",
    "        'PRIMER_PAIR_MAX_COMPL_END': 8,\n",
    "        'PRIMER_PRODUCT_SIZE_RANGE': [60,250],\n",
    "    }"
   ]
  },
  {
   "cell_type": "code",
   "execution_count": 48,
   "metadata": {
    "collapsed": false,
    "deletable": true,
    "editable": true
   },
   "outputs": [
    {
     "data": {
      "text/plain": [
       "{'REF_OFFSET': 2750,\n",
       " 'SEQUENCE_EXCLUDED_REGION': [(43, 1),\n",
       "  (122, 1),\n",
       "  (157, 1),\n",
       "  (176, 1),\n",
       "  (215, 1),\n",
       "  (243, 1),\n",
       "  (289, 1),\n",
       "  (411, 1),\n",
       "  (472, 1)],\n",
       " 'SEQUENCE_ID': 'CHR1:2750-3251',\n",
       " 'SEQUENCE_TARGET': (250, 1),\n",
       " 'SEQUENCE_TEMPLATE': 'CTCAATTTCTTTAGAAGCTTCCAGAGTTGTTGAATTGGCAGCGGCAACTACAGTCGCAACTGTTCCTAGCTTTGCAGAACCATTCCCACTCAAGGAATTCACGGACTCTTTATGTGCCTTCAGAACCAACTGTGTCGCACTGGGTTTTAAAGGAAATAAATAAATATGGAATAAAACATTGATATTACAAATAAAGGGTGCTTCTAGCTGAGTAGTCCTCCGATAAAGCACACGCATACAAAGGAATGAGAGAGAGAGAGAGAGGCGCTACCACATATAAAAGGGACAGCAAACATTTTAACATGAGCAAATCAGTGACACTAGGTAGGTGTTAGCACAAAAATGAACCTTGTTTACATCTGTTCACCACATCCTAGAACATCTTAGACACACACTGCAATAACATATGAGGTGGAGCATGGCACAGTGATACTGCAACAGTAGGATTCCCTGTAACTCTAATGCAACTTTTCATGTACTCAGCCTCTCAAATGATATCGC',\n",
       " 'TARGET_ID': 'CHR1:3001-3001'}"
      ]
     },
     "execution_count": 48,
     "metadata": {},
     "output_type": "execute_result"
    }
   ],
   "source": [
    "designer.getseqslicedict(target,250)"
   ]
  },
  {
   "cell_type": "code",
   "execution_count": 49,
   "metadata": {
    "collapsed": false,
    "deletable": true,
    "editable": true
   },
   "outputs": [
    {
     "data": {
      "text/plain": [
       "[{'AMPLICON_REGION': 'CHR1:2879-3022',\n",
       "  'PRIMER_LEFT': (2878, 20),\n",
       "  'PRIMER_LEFT_SEQUENCE': 'ACTGTGTCGCACTGGGTTTT',\n",
       "  'PRIMER_RIGHT': (3021, 20),\n",
       "  'PRIMER_RIGHT_SEQUENCE': 'GGTAGCGCCTCTCTCTCTCT',\n",
       "  'SEQUENCE_ID': 'CHR1:2750-3251',\n",
       "  'TARGET_ID': 'CHR1:3001-3001'},\n",
       " {'AMPLICON_REGION': 'CHR1:2878-3022',\n",
       "  'PRIMER_LEFT': (2877, 20),\n",
       "  'PRIMER_LEFT_SEQUENCE': 'AACTGTGTCGCACTGGGTTT',\n",
       "  'PRIMER_RIGHT': (3021, 20),\n",
       "  'PRIMER_RIGHT_SEQUENCE': 'GGTAGCGCCTCTCTCTCTCT',\n",
       "  'SEQUENCE_ID': 'CHR1:2750-3251',\n",
       "  'TARGET_ID': 'CHR1:3001-3001'},\n",
       " {'AMPLICON_REGION': 'CHR1:2879-3026',\n",
       "  'PRIMER_LEFT': (2878, 20),\n",
       "  'PRIMER_LEFT_SEQUENCE': 'ACTGTGTCGCACTGGGTTTT',\n",
       "  'PRIMER_RIGHT': (3025, 20),\n",
       "  'PRIMER_RIGHT_SEQUENCE': 'ATGTGGTAGCGCCTCTCTCT',\n",
       "  'SEQUENCE_ID': 'CHR1:2750-3251',\n",
       "  'TARGET_ID': 'CHR1:3001-3001'},\n",
       " {'AMPLICON_REGION': 'CHR1:2878-3026',\n",
       "  'PRIMER_LEFT': (2877, 20),\n",
       "  'PRIMER_LEFT_SEQUENCE': 'AACTGTGTCGCACTGGGTTT',\n",
       "  'PRIMER_RIGHT': (3025, 20),\n",
       "  'PRIMER_RIGHT_SEQUENCE': 'ATGTGGTAGCGCCTCTCTCT',\n",
       "  'SEQUENCE_ID': 'CHR1:2750-3251',\n",
       "  'TARGET_ID': 'CHR1:3001-3001'}]"
      ]
     },
     "execution_count": 49,
     "metadata": {},
     "output_type": "execute_result"
    }
   ],
   "source": [
    "run_p3.run_P3(global_dict=p3_globals,target_dict=designer.getseqslicedict(target,250))"
   ]
  },
  {
   "cell_type": "markdown",
   "metadata": {
    "deletable": true,
    "editable": true
   },
   "source": [
    "### Check out this Built-in Function!\n",
    "\n",
    "eg\n",
    "\n",
    "```\n",
    "faidx ../test/test-data/AcCHR1_test.fasta CHR1:2879-3022 CHR1:2878-3022 CHR1:2879-3026 CHR1:2878-3026\n",
    "```\n"
   ]
  },
  {
   "cell_type": "markdown",
   "metadata": {
    "deletable": true,
    "editable": true
   },
   "source": [
    "### Try out Variant Features in PyFaidx"
   ]
  },
  {
   "cell_type": "code",
   "execution_count": 50,
   "metadata": {
    "collapsed": false,
    "deletable": true,
    "editable": true
   },
   "outputs": [
    {
     "name": "stderr",
     "output_type": "stream",
     "text": [
      "/Users/johnmccallum/miniconda3/envs/Py3PCR/lib/python3.5/site-packages/pyfaidx/__init__.py:755: RuntimeWarning: Using sample CK51_02 genotypes.\n",
      "  warnings.warn(\"Using sample {0} genotypes.\".format(self.sample), RuntimeWarning)\n"
     ]
    }
   ],
   "source": [
    "from pyfaidx import FastaVariant, Fasta\n",
    "ref=Fasta(test_seq,as_raw=True)\n",
    "alt=FastaVariant(test_seq,vcffile,het=True, hom=True,sample=None, as_raw=True)\n",
    "consensus_1=FastaVariant(test_seq,vcffile,het=True, hom=True,sample='CK51_02')\n",
    "consensus_2=FastaVariant(test_seq,vcffile,het=True, hom=True,sample='CK51_09')"
   ]
  },
  {
   "cell_type": "code",
   "execution_count": 51,
   "metadata": {
    "collapsed": false,
    "deletable": true,
    "editable": true
   },
   "outputs": [
    {
     "data": {
      "text/plain": [
       "(436, 542, 1024, 1218, 1604, 1634, 1893, 2085, 2143, 2241)"
      ]
     },
     "execution_count": 51,
     "metadata": {},
     "output_type": "execute_result"
    }
   ],
   "source": [
    "alt['CHR1'].variant_sites[:10]"
   ]
  },
  {
   "cell_type": "code",
   "execution_count": 52,
   "metadata": {
    "collapsed": false,
    "deletable": true,
    "editable": true
   },
   "outputs": [
    {
     "data": {
      "text/plain": [
       "'TCCTAGCTTCTGTTGCTGGA'"
      ]
     },
     "execution_count": 52,
     "metadata": {},
     "output_type": "execute_result"
    }
   ],
   "source": [
    "ref['CHR1'][430:450]"
   ]
  },
  {
   "cell_type": "code",
   "execution_count": 53,
   "metadata": {
    "collapsed": false,
    "deletable": true,
    "editable": true
   },
   "outputs": [
    {
     "data": {
      "text/plain": [
       "'TCCTACCTTCTGTTGCTGGA'"
      ]
     },
     "execution_count": 53,
     "metadata": {},
     "output_type": "execute_result"
    }
   ],
   "source": [
    "alt['CHR1'][430:450]"
   ]
  },
  {
   "cell_type": "markdown",
   "metadata": {},
   "source": [
    "### Melt the Ref and Alt consensus sequences at uMelt"
   ]
  },
  {
   "cell_type": "code",
   "execution_count": 54,
   "metadata": {
    "collapsed": true,
    "deletable": true,
    "editable": true
   },
   "outputs": [],
   "source": [
    "from pcr_marker_design import umelt_service as um"
   ]
  },
  {
   "cell_type": "code",
   "execution_count": 26,
   "metadata": {
    "collapsed": true,
    "deletable": true,
    "editable": true
   },
   "outputs": [],
   "source": [
    "## !export https_proxy="
   ]
  },
  {
   "cell_type": "code",
   "execution_count": 27,
   "metadata": {
    "collapsed": true,
    "deletable": true,
    "editable": true
   },
   "outputs": [],
   "source": [
    "umelt=um.UmeltService()\n",
    "refmelt= um.MeltSeq(ref['CHR1'][430:450])\n",
    "altmelt= um.MeltSeq(ref['CHR1'][430:450])"
   ]
  },
  {
   "cell_type": "code",
   "execution_count": 28,
   "metadata": {
    "collapsed": true,
    "deletable": true,
    "editable": true
   },
   "outputs": [],
   "source": [
    "ref_melt_Tm=umelt.get_helicity_info(umelt.get_response(refmelt)).get_melting_temp()"
   ]
  },
  {
   "cell_type": "code",
   "execution_count": 29,
   "metadata": {
    "collapsed": false,
    "deletable": true,
    "editable": true
   },
   "outputs": [],
   "source": [
    "alt_melt_Tm=umelt.get_helicity_info(umelt.get_response(altmelt)).get_melting_temp()"
   ]
  },
  {
   "cell_type": "code",
   "execution_count": 30,
   "metadata": {
    "collapsed": false,
    "deletable": true,
    "editable": true
   },
   "outputs": [
    {
     "data": {
      "text/plain": [
       "68.905500705218614"
      ]
     },
     "execution_count": 30,
     "metadata": {},
     "output_type": "execute_result"
    }
   ],
   "source": [
    "ref_melt_Tm"
   ]
  },
  {
   "cell_type": "code",
   "execution_count": 31,
   "metadata": {
    "collapsed": false,
    "deletable": true,
    "editable": true
   },
   "outputs": [
    {
     "data": {
      "text/plain": [
       "68.905500705218614"
      ]
     },
     "execution_count": 31,
     "metadata": {},
     "output_type": "execute_result"
    }
   ],
   "source": [
    "alt_melt_Tm"
   ]
  },
  {
   "cell_type": "code",
   "execution_count": 32,
   "metadata": {
    "collapsed": false,
    "deletable": true,
    "editable": true
   },
   "outputs": [
    {
     "data": {
      "text/plain": [
       "[{'AMPLICON_REGION': 'CHR1:2465-2699',\n",
       "  'PRIMER_LEFT': (2464, 21),\n",
       "  'PRIMER_LEFT_SEQUENCE': 'AGAGTTCTGAGTTCCTCGTGT',\n",
       "  'PRIMER_RIGHT': (2698, 20),\n",
       "  'PRIMER_RIGHT_SEQUENCE': 'CCAACCGATGGTCCAATGGA',\n",
       "  'SEQUENCE_ID': 'CHR1:2242-2743',\n",
       "  'TARGET_ID': 'CHR1:2493-2493'},\n",
       " {'AMPLICON_REGION': 'CHR1:2464-2699',\n",
       "  'PRIMER_LEFT': (2463, 22),\n",
       "  'PRIMER_LEFT_SEQUENCE': 'AAGAGTTCTGAGTTCCTCGTGT',\n",
       "  'PRIMER_RIGHT': (2698, 20),\n",
       "  'PRIMER_RIGHT_SEQUENCE': 'CCAACCGATGGTCCAATGGA',\n",
       "  'SEQUENCE_ID': 'CHR1:2242-2743',\n",
       "  'TARGET_ID': 'CHR1:2493-2493'},\n",
       " {'AMPLICON_REGION': 'CHR1:2465-2688',\n",
       "  'PRIMER_LEFT': (2464, 21),\n",
       "  'PRIMER_LEFT_SEQUENCE': 'AGAGTTCTGAGTTCCTCGTGT',\n",
       "  'PRIMER_RIGHT': (2687, 20),\n",
       "  'PRIMER_RIGHT_SEQUENCE': 'TCCAATGGATGACCTCACGG',\n",
       "  'SEQUENCE_ID': 'CHR1:2242-2743',\n",
       "  'TARGET_ID': 'CHR1:2493-2493'},\n",
       " {'AMPLICON_REGION': 'CHR1:2463-2699',\n",
       "  'PRIMER_LEFT': (2462, 23),\n",
       "  'PRIMER_LEFT_SEQUENCE': 'AAAGAGTTCTGAGTTCCTCGTGT',\n",
       "  'PRIMER_RIGHT': (2698, 20),\n",
       "  'PRIMER_RIGHT_SEQUENCE': 'CCAACCGATGGTCCAATGGA',\n",
       "  'SEQUENCE_ID': 'CHR1:2242-2743',\n",
       "  'TARGET_ID': 'CHR1:2493-2493'}]"
      ]
     },
     "execution_count": 32,
     "metadata": {},
     "output_type": "execute_result"
    }
   ],
   "source": [
    "run_p3.run_P3(global_dict=p3_globals,\n",
    "              target_dict=designer.getseqslicedict(BedTool('CHR1 2492 2493', from_string=True),250))"
   ]
  },
  {
   "cell_type": "markdown",
   "metadata": {
    "deletable": true,
    "editable": true
   },
   "source": [
    "### Try Flanking= False option and Melt Amplicons"
   ]
  },
  {
   "cell_type": "code",
   "execution_count": 55,
   "metadata": {
    "collapsed": true,
    "deletable": true,
    "editable": true
   },
   "outputs": [],
   "source": [
    "import pandas as pd"
   ]
  },
  {
   "cell_type": "code",
   "execution_count": 56,
   "metadata": {
    "collapsed": true,
    "deletable": true,
    "editable": true
   },
   "outputs": [],
   "source": [
    "test=run_p3.run_P3(global_dict=p3_globals,\n",
    "              target_dict=designer.getseqslicedict(BedTool('CHR1 2400 2700', from_string=True),250,flanking= False))"
   ]
  },
  {
   "cell_type": "code",
   "execution_count": 57,
   "metadata": {
    "collapsed": false,
    "deletable": true,
    "editable": true
   },
   "outputs": [
    {
     "data": {
      "text/plain": [
       "[{'AMPLICON_REGION': 'CHR1:2547-2699',\n",
       "  'PRIMER_LEFT': (2546, 20),\n",
       "  'PRIMER_LEFT_SEQUENCE': 'TGATGTAGGTCGTTTGGCCT',\n",
       "  'PRIMER_RIGHT': (2698, 20),\n",
       "  'PRIMER_RIGHT_SEQUENCE': 'CCAACCGATGGTCCAATGGA',\n",
       "  'SEQUENCE_ID': 'CHR1:2400-2700',\n",
       "  'TARGET_ID': 'CHR1:2401-2700'},\n",
       " {'AMPLICON_REGION': 'CHR1:2554-2699',\n",
       "  'PRIMER_LEFT': (2553, 20),\n",
       "  'PRIMER_LEFT_SEQUENCE': 'GGTCGTTTGGCCTAATTCCC',\n",
       "  'PRIMER_RIGHT': (2698, 20),\n",
       "  'PRIMER_RIGHT_SEQUENCE': 'CCAACCGATGGTCCAATGGA',\n",
       "  'SEQUENCE_ID': 'CHR1:2400-2700',\n",
       "  'TARGET_ID': 'CHR1:2401-2700'},\n",
       " {'AMPLICON_REGION': 'CHR1:2544-2699',\n",
       "  'PRIMER_LEFT': (2543, 21),\n",
       "  'PRIMER_LEFT_SEQUENCE': 'GCTTGATGTAGGTCGTTTGGC',\n",
       "  'PRIMER_RIGHT': (2698, 20),\n",
       "  'PRIMER_RIGHT_SEQUENCE': 'CCAACCGATGGTCCAATGGA',\n",
       "  'SEQUENCE_ID': 'CHR1:2400-2700',\n",
       "  'TARGET_ID': 'CHR1:2401-2700'},\n",
       " {'AMPLICON_REGION': 'CHR1:2553-2699',\n",
       "  'PRIMER_LEFT': (2552, 21),\n",
       "  'PRIMER_LEFT_SEQUENCE': 'AGGTCGTTTGGCCTAATTCCC',\n",
       "  'PRIMER_RIGHT': (2698, 20),\n",
       "  'PRIMER_RIGHT_SEQUENCE': 'CCAACCGATGGTCCAATGGA',\n",
       "  'SEQUENCE_ID': 'CHR1:2400-2700',\n",
       "  'TARGET_ID': 'CHR1:2401-2700'}]"
      ]
     },
     "execution_count": 57,
     "metadata": {},
     "output_type": "execute_result"
    }
   ],
   "source": [
    "test"
   ]
  },
  {
   "cell_type": "code",
   "execution_count": 58,
   "metadata": {
    "collapsed": false,
    "deletable": true,
    "editable": true
   },
   "outputs": [
    {
     "data": {
      "text/html": [
       "<div>\n",
       "<table border=\"1\" class=\"dataframe\">\n",
       "  <thead>\n",
       "    <tr style=\"text-align: right;\">\n",
       "      <th></th>\n",
       "      <th>AMPLICON_REGION</th>\n",
       "      <th>PRIMER_LEFT</th>\n",
       "      <th>PRIMER_LEFT_SEQUENCE</th>\n",
       "      <th>PRIMER_RIGHT</th>\n",
       "      <th>PRIMER_RIGHT_SEQUENCE</th>\n",
       "      <th>SEQUENCE_ID</th>\n",
       "      <th>TARGET_ID</th>\n",
       "    </tr>\n",
       "  </thead>\n",
       "  <tbody>\n",
       "    <tr>\n",
       "      <th>0</th>\n",
       "      <td>CHR1:2547-2699</td>\n",
       "      <td>(2546, 20)</td>\n",
       "      <td>TGATGTAGGTCGTTTGGCCT</td>\n",
       "      <td>(2698, 20)</td>\n",
       "      <td>CCAACCGATGGTCCAATGGA</td>\n",
       "      <td>CHR1:2400-2700</td>\n",
       "      <td>CHR1:2401-2700</td>\n",
       "    </tr>\n",
       "    <tr>\n",
       "      <th>1</th>\n",
       "      <td>CHR1:2554-2699</td>\n",
       "      <td>(2553, 20)</td>\n",
       "      <td>GGTCGTTTGGCCTAATTCCC</td>\n",
       "      <td>(2698, 20)</td>\n",
       "      <td>CCAACCGATGGTCCAATGGA</td>\n",
       "      <td>CHR1:2400-2700</td>\n",
       "      <td>CHR1:2401-2700</td>\n",
       "    </tr>\n",
       "    <tr>\n",
       "      <th>2</th>\n",
       "      <td>CHR1:2544-2699</td>\n",
       "      <td>(2543, 21)</td>\n",
       "      <td>GCTTGATGTAGGTCGTTTGGC</td>\n",
       "      <td>(2698, 20)</td>\n",
       "      <td>CCAACCGATGGTCCAATGGA</td>\n",
       "      <td>CHR1:2400-2700</td>\n",
       "      <td>CHR1:2401-2700</td>\n",
       "    </tr>\n",
       "    <tr>\n",
       "      <th>3</th>\n",
       "      <td>CHR1:2553-2699</td>\n",
       "      <td>(2552, 21)</td>\n",
       "      <td>AGGTCGTTTGGCCTAATTCCC</td>\n",
       "      <td>(2698, 20)</td>\n",
       "      <td>CCAACCGATGGTCCAATGGA</td>\n",
       "      <td>CHR1:2400-2700</td>\n",
       "      <td>CHR1:2401-2700</td>\n",
       "    </tr>\n",
       "  </tbody>\n",
       "</table>\n",
       "</div>"
      ],
      "text/plain": [
       "  AMPLICON_REGION PRIMER_LEFT   PRIMER_LEFT_SEQUENCE PRIMER_RIGHT  \\\n",
       "0  CHR1:2547-2699  (2546, 20)   TGATGTAGGTCGTTTGGCCT   (2698, 20)   \n",
       "1  CHR1:2554-2699  (2553, 20)   GGTCGTTTGGCCTAATTCCC   (2698, 20)   \n",
       "2  CHR1:2544-2699  (2543, 21)  GCTTGATGTAGGTCGTTTGGC   (2698, 20)   \n",
       "3  CHR1:2553-2699  (2552, 21)  AGGTCGTTTGGCCTAATTCCC   (2698, 20)   \n",
       "\n",
       "  PRIMER_RIGHT_SEQUENCE     SEQUENCE_ID       TARGET_ID  \n",
       "0  CCAACCGATGGTCCAATGGA  CHR1:2400-2700  CHR1:2401-2700  \n",
       "1  CCAACCGATGGTCCAATGGA  CHR1:2400-2700  CHR1:2401-2700  \n",
       "2  CCAACCGATGGTCCAATGGA  CHR1:2400-2700  CHR1:2401-2700  \n",
       "3  CCAACCGATGGTCCAATGGA  CHR1:2400-2700  CHR1:2401-2700  "
      ]
     },
     "execution_count": 58,
     "metadata": {},
     "output_type": "execute_result"
    }
   ],
   "source": [
    "test_df=pd.DataFrame.from_dict(test)\n",
    "test_df"
   ]
  },
  {
   "cell_type": "code",
   "execution_count": 59,
   "metadata": {
    "collapsed": false,
    "deletable": true,
    "editable": true
   },
   "outputs": [
    {
     "data": {
      "text/plain": [
       "0    CHR1:2547-2699\n",
       "1    CHR1:2554-2699\n",
       "2    CHR1:2544-2699\n",
       "3    CHR1:2553-2699\n",
       "Name: AMPLICON_REGION, dtype: object"
      ]
     },
     "execution_count": 59,
     "metadata": {},
     "output_type": "execute_result"
    }
   ],
   "source": [
    "test_df.AMPLICON_REGION"
   ]
  },
  {
   "cell_type": "code",
   "execution_count": 60,
   "metadata": {
    "collapsed": false,
    "deletable": true,
    "editable": true
   },
   "outputs": [
    {
     "data": {
      "text/plain": [
       "(86.380112834978846, 86.680535966149506)"
      ]
     },
     "execution_count": 60,
     "metadata": {},
     "output_type": "execute_result"
    }
   ],
   "source": [
    "designer.meltSlice(test_df.AMPLICON_REGION[0])"
   ]
  },
  {
   "cell_type": "code",
   "execution_count": 61,
   "metadata": {
    "collapsed": true,
    "deletable": true,
    "editable": true
   },
   "outputs": [],
   "source": [
    "test_df['Melt']=test_df['AMPLICON_REGION'].apply(designer.meltSlice)"
   ]
  },
  {
   "cell_type": "code",
   "execution_count": 62,
   "metadata": {
    "collapsed": false,
    "deletable": true,
    "editable": true
   },
   "outputs": [
    {
     "data": {
      "text/html": [
       "<div>\n",
       "<table border=\"1\" class=\"dataframe\">\n",
       "  <thead>\n",
       "    <tr style=\"text-align: right;\">\n",
       "      <th></th>\n",
       "      <th>AMPLICON_REGION</th>\n",
       "      <th>PRIMER_LEFT</th>\n",
       "      <th>PRIMER_LEFT_SEQUENCE</th>\n",
       "      <th>PRIMER_RIGHT</th>\n",
       "      <th>PRIMER_RIGHT_SEQUENCE</th>\n",
       "      <th>SEQUENCE_ID</th>\n",
       "      <th>TARGET_ID</th>\n",
       "      <th>Melt</th>\n",
       "      <th>TmDiff</th>\n",
       "    </tr>\n",
       "  </thead>\n",
       "  <tbody>\n",
       "    <tr>\n",
       "      <th>0</th>\n",
       "      <td>CHR1:2547-2699</td>\n",
       "      <td>(2546, 20)</td>\n",
       "      <td>TGATGTAGGTCGTTTGGCCT</td>\n",
       "      <td>(2698, 20)</td>\n",
       "      <td>CCAACCGATGGTCCAATGGA</td>\n",
       "      <td>CHR1:2400-2700</td>\n",
       "      <td>CHR1:2401-2700</td>\n",
       "      <td>(86.380112835, 86.6805359661)</td>\n",
       "      <td>0.300423</td>\n",
       "    </tr>\n",
       "    <tr>\n",
       "      <th>1</th>\n",
       "      <td>CHR1:2554-2699</td>\n",
       "      <td>(2553, 20)</td>\n",
       "      <td>GGTCGTTTGGCCTAATTCCC</td>\n",
       "      <td>(2698, 20)</td>\n",
       "      <td>CCAACCGATGGTCCAATGGA</td>\n",
       "      <td>CHR1:2400-2700</td>\n",
       "      <td>CHR1:2401-2700</td>\n",
       "      <td>(86.2299012694, 86.3300423131)</td>\n",
       "      <td>0.100141</td>\n",
       "    </tr>\n",
       "    <tr>\n",
       "      <th>2</th>\n",
       "      <td>CHR1:2544-2699</td>\n",
       "      <td>(2543, 21)</td>\n",
       "      <td>GCTTGATGTAGGTCGTTTGGC</td>\n",
       "      <td>(2698, 20)</td>\n",
       "      <td>CCAACCGATGGTCCAATGGA</td>\n",
       "      <td>CHR1:2400-2700</td>\n",
       "      <td>CHR1:2401-2700</td>\n",
       "      <td>(86.4802538787, 86.730606488)</td>\n",
       "      <td>0.250353</td>\n",
       "    </tr>\n",
       "    <tr>\n",
       "      <th>3</th>\n",
       "      <td>CHR1:2553-2699</td>\n",
       "      <td>(2552, 21)</td>\n",
       "      <td>AGGTCGTTTGGCCTAATTCCC</td>\n",
       "      <td>(2698, 20)</td>\n",
       "      <td>CCAACCGATGGTCCAATGGA</td>\n",
       "      <td>CHR1:2400-2700</td>\n",
       "      <td>CHR1:2401-2700</td>\n",
       "      <td>(86.2799717913, 86.380112835)</td>\n",
       "      <td>0.100141</td>\n",
       "    </tr>\n",
       "  </tbody>\n",
       "</table>\n",
       "</div>"
      ],
      "text/plain": [
       "  AMPLICON_REGION PRIMER_LEFT   PRIMER_LEFT_SEQUENCE PRIMER_RIGHT  \\\n",
       "0  CHR1:2547-2699  (2546, 20)   TGATGTAGGTCGTTTGGCCT   (2698, 20)   \n",
       "1  CHR1:2554-2699  (2553, 20)   GGTCGTTTGGCCTAATTCCC   (2698, 20)   \n",
       "2  CHR1:2544-2699  (2543, 21)  GCTTGATGTAGGTCGTTTGGC   (2698, 20)   \n",
       "3  CHR1:2553-2699  (2552, 21)  AGGTCGTTTGGCCTAATTCCC   (2698, 20)   \n",
       "\n",
       "  PRIMER_RIGHT_SEQUENCE     SEQUENCE_ID       TARGET_ID  \\\n",
       "0  CCAACCGATGGTCCAATGGA  CHR1:2400-2700  CHR1:2401-2700   \n",
       "1  CCAACCGATGGTCCAATGGA  CHR1:2400-2700  CHR1:2401-2700   \n",
       "2  CCAACCGATGGTCCAATGGA  CHR1:2400-2700  CHR1:2401-2700   \n",
       "3  CCAACCGATGGTCCAATGGA  CHR1:2400-2700  CHR1:2401-2700   \n",
       "\n",
       "                             Melt    TmDiff  \n",
       "0   (86.380112835, 86.6805359661)  0.300423  \n",
       "1  (86.2299012694, 86.3300423131)  0.100141  \n",
       "2   (86.4802538787, 86.730606488)  0.250353  \n",
       "3   (86.2799717913, 86.380112835)  0.100141  "
      ]
     },
     "execution_count": 62,
     "metadata": {},
     "output_type": "execute_result"
    }
   ],
   "source": [
    "test_df['TmDiff']=test_df.Melt.apply(lambda X : abs(X[0]-X[1]))\n",
    "test_df"
   ]
  },
  {
   "cell_type": "markdown",
   "metadata": {
    "deletable": true,
    "editable": true
   },
   "source": [
    "### Check on Prototyped melt method"
   ]
  },
  {
   "cell_type": "code",
   "execution_count": 41,
   "metadata": {
    "collapsed": false,
    "deletable": true,
    "editable": true
   },
   "outputs": [
    {
     "data": {
      "text/plain": [
       "(87.381523272214395, 86.980959097320167)"
      ]
     },
     "execution_count": 41,
     "metadata": {},
     "output_type": "execute_result"
    }
   ],
   "source": [
    "designer.meltSlice('CHR1:2879-3022')"
   ]
  },
  {
   "cell_type": "code",
   "execution_count": 42,
   "metadata": {
    "collapsed": false,
    "deletable": true,
    "editable": true
   },
   "outputs": [
    {
     "name": "stdout",
     "output_type": "stream",
     "text": [
      ">CHR1:2879-3022\r\n",
      "ACTGTGTCGCACTGGGTTTTAAAGGAAATAAATAAATATGGAATAAAACATTGATATTACAAATAAAGGGTGCTTCTAGC\r\n",
      "TGAGTAGTCCTCCGATAAAGCACACGCATACAAAGGAATGAGAGAGAGAGAGAGAGGCGCTACC\r\n"
     ]
    }
   ],
   "source": [
    "!/Users/johnmccallum/miniconda3/envs/Py3PCR/bin/faidx ../test/test-data/AcCHR1_test.fasta CHR1:2879-3022"
   ]
  }
 ],
 "metadata": {
  "anaconda-cloud": {},
  "kernelspec": {
   "display_name": "PyPCR",
   "language": "python",
   "name": "pypcr"
  },
  "language_info": {
   "codemirror_mode": {
    "name": "ipython",
    "version": 3
   },
   "file_extension": ".py",
   "mimetype": "text/x-python",
   "name": "python",
   "nbconvert_exporter": "python",
   "pygments_lexer": "ipython3",
   "version": "3.5.3"
  }
 },
 "nbformat": 4,
 "nbformat_minor": 2
}
