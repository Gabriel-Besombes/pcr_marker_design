{
 "cells": [
  {
   "cell_type": "markdown",
   "metadata": {
    "deletable": true,
    "editable": true
   },
   "source": [
    "# Prototyping Usage for VCF Design"
   ]
  },
  {
   "cell_type": "code",
   "execution_count": 1,
   "metadata": {
    "collapsed": false,
    "deletable": true,
    "editable": true
   },
   "outputs": [],
   "source": [
    "%load_ext autoreload\n",
    "%autoreload 2"
   ]
  },
  {
   "cell_type": "code",
   "execution_count": 18,
   "metadata": {
    "collapsed": true,
    "deletable": true,
    "editable": true
   },
   "outputs": [],
   "source": [
    "from pcr_marker_design import design as d \n",
    "from pcr_marker_design import run_p3\n",
    "from pybedtools import BedTool"
   ]
  },
  {
   "cell_type": "code",
   "execution_count": 3,
   "metadata": {
    "collapsed": false,
    "deletable": true,
    "editable": true
   },
   "outputs": [
    {
     "name": "stdout",
     "output_type": "stream",
     "text": [
      "384um_251453690362217.txt      Chr9_Myb210.vcf\r\n",
      "AcCHR1_test.fasta              Chr9_Myb210.vcf.gz\r\n",
      "AcCHR1_test.fasta.fai          targets\r\n",
      "AcCHR1_test.phased.vcf.gz      targets.fasta\r\n",
      "AcCHR1_test.phased.vcf.gz.tbi  targets.fasta.fai\r\n",
      "AcCHR1_test.vcf.gz             targets.gff\r\n",
      "AcCHR1_test.vcf.gz.tbi         targets.snps.bed\r\n",
      "CHR9.1.68.5.fasta.gz\r\n"
     ]
    }
   ],
   "source": [
    "ls ../test/test-data"
   ]
  },
  {
   "cell_type": "code",
   "execution_count": 4,
   "metadata": {
    "collapsed": false,
    "deletable": true,
    "editable": true
   },
   "outputs": [],
   "source": [
    "test_seq = \"../test/test-data/AcCHR1_test.fasta\"\n",
    "vcffile = \"../test/test-data/AcCHR1_test.vcf.gz\"\n",
    "designer = d.VcfPrimerDesign(test_seq, vcffile, \"TestCHR1\")"
   ]
  },
  {
   "cell_type": "code",
   "execution_count": 9,
   "metadata": {
    "collapsed": false,
    "deletable": true,
    "editable": true
   },
   "outputs": [],
   "source": [
    "target = BedTool('CHR1 3000 3001', from_string=True)"
   ]
  },
  {
   "cell_type": "code",
   "execution_count": 21,
   "metadata": {
    "collapsed": false,
    "deletable": true,
    "editable": true
   },
   "outputs": [
    {
     "data": {
      "text/plain": [
       "{'SEQUENCE_EXCLUDED_REGION': [(43, 1),\n",
       "  (122, 1),\n",
       "  (157, 1),\n",
       "  (176, 1),\n",
       "  (215, 1),\n",
       "  (243, 1),\n",
       "  (289, 1),\n",
       "  (411, 1),\n",
       "  (472, 1)],\n",
       " 'SEQUENCE_ID': 'CHR1:2750-3251',\n",
       " 'SEQUENCE_TARGET': (250, 1),\n",
       " 'SEQUENCE_TEMPLATE': 'CTCAATTTCTTTAGAAGCTTCCAGAGTTGTTGAATTGGCAGCGGCAACTACAGTCGCAACTGTTCCTAGCTTTGCAGAACCATTCCCACTCAAGGAATTCACGGACTCTTTATGTGCCTTCAGAACCAACTGTGTCGCACTGGGTTTTAAAGGAAATAAATAAATATGGAATAAAACATTGATATTACAAATAAAGGGTGCTTCTAGCTGAGTAGTCCTCCGATAAAGCACACGCATACAAAGGAATGAGAGAGAGAGAGAGAGGCGCTACCACATATAAAAGGGACAGCAAACATTTTAACATGAGCAAATCAGTGACACTAGGTAGGTGTTAGCACAAAAATGAACCTTGTTTACATCTGTTCACCACATCCTAGAACATCTTAGACACACACTGCAATAACATATGAGGTGGAGCATGGCACAGTGATACTGCAACAGTAGGATTCCCTGTAACTCTAATGCAACTTTTCATGTACTCAGCCTCTCAAATGATATCGC',\n",
       " 'TARGET_ID': 'CHR1:3000-3001'}"
      ]
     },
     "execution_count": 21,
     "metadata": {},
     "output_type": "execute_result"
    }
   ],
   "source": [
    "designer.getseqslicedict(target,250)"
   ]
  },
  {
   "cell_type": "markdown",
   "metadata": {},
   "source": [
    "### Design"
   ]
  },
  {
   "cell_type": "code",
   "execution_count": 22,
   "metadata": {
    "collapsed": true
   },
   "outputs": [],
   "source": [
    "p3_globals={\n",
    "        'PRIMER_OPT_SIZE': 20,\n",
    "        'PRIMER_PICK_INTERNAL_OLIGO': 0,\n",
    "        'PRIMER_INTERNAL_MAX_SELF_END': 8,\n",
    "        'PRIMER_MIN_SIZE': 18,\n",
    "        'PRIMER_MAX_SIZE': 25,\n",
    "        'PRIMER_OPT_TM': 60.0,\n",
    "        'PRIMER_MIN_TM': 57.0,\n",
    "        'PRIMER_MAX_TM': 63.0,\n",
    "        'PRIMER_MIN_GC': 20.0,\n",
    "        'PRIMER_MAX_GC': 80.0,\n",
    "        'PRIMER_MAX_POLY_X': 100,\n",
    "        'PRIMER_INTERNAL_MAX_POLY_X': 100,\n",
    "        'PRIMER_SALT_MONOVALENT': 50.0,\n",
    "        'PRIMER_DNA_CONC': 50.0,\n",
    "        'PRIMER_MAX_NS_ACCEPTED': 0,\n",
    "        'PRIMER_MAX_SELF_ANY': 12,\n",
    "        'PRIMER_MAX_SELF_END': 8,\n",
    "        'PRIMER_PAIR_MAX_COMPL_ANY': 12,\n",
    "        'PRIMER_PAIR_MAX_COMPL_END': 8,\n",
    "        'PRIMER_PRODUCT_SIZE_RANGE': [60,250],\n",
    "    }"
   ]
  },
  {
   "cell_type": "code",
   "execution_count": 37,
   "metadata": {
    "collapsed": false,
    "deletable": true,
    "editable": true
   },
   "outputs": [
    {
     "data": {
      "text/plain": [
       "[{'AMPLICON_REGION': 'CHR1:2878-3021',\n",
       "  'PRIMER_LEFT': (2878, 20),\n",
       "  'PRIMER_LEFT_SEQUENCE': 'ACTGTGTCGCACTGGGTTTT',\n",
       "  'PRIMER_RIGHT': (3021, 20),\n",
       "  'PRIMER_RIGHT_SEQUENCE': 'GGTAGCGCCTCTCTCTCTCT',\n",
       "  'SEQUENCE_ID': 'CHR1:2750-3251',\n",
       "  'TARGET_ID': 'CHR1:3000-3001'},\n",
       " {'AMPLICON_REGION': 'CHR1:2877-3021',\n",
       "  'PRIMER_LEFT': (2877, 20),\n",
       "  'PRIMER_LEFT_SEQUENCE': 'AACTGTGTCGCACTGGGTTT',\n",
       "  'PRIMER_RIGHT': (3021, 20),\n",
       "  'PRIMER_RIGHT_SEQUENCE': 'GGTAGCGCCTCTCTCTCTCT',\n",
       "  'SEQUENCE_ID': 'CHR1:2750-3251',\n",
       "  'TARGET_ID': 'CHR1:3000-3001'},\n",
       " {'AMPLICON_REGION': 'CHR1:2878-3025',\n",
       "  'PRIMER_LEFT': (2878, 20),\n",
       "  'PRIMER_LEFT_SEQUENCE': 'ACTGTGTCGCACTGGGTTTT',\n",
       "  'PRIMER_RIGHT': (3025, 20),\n",
       "  'PRIMER_RIGHT_SEQUENCE': 'ATGTGGTAGCGCCTCTCTCT',\n",
       "  'SEQUENCE_ID': 'CHR1:2750-3251',\n",
       "  'TARGET_ID': 'CHR1:3000-3001'},\n",
       " {'AMPLICON_REGION': 'CHR1:2877-3025',\n",
       "  'PRIMER_LEFT': (2877, 20),\n",
       "  'PRIMER_LEFT_SEQUENCE': 'AACTGTGTCGCACTGGGTTT',\n",
       "  'PRIMER_RIGHT': (3025, 20),\n",
       "  'PRIMER_RIGHT_SEQUENCE': 'ATGTGGTAGCGCCTCTCTCT',\n",
       "  'SEQUENCE_ID': 'CHR1:2750-3251',\n",
       "  'TARGET_ID': 'CHR1:3000-3001'}]"
      ]
     },
     "execution_count": 37,
     "metadata": {},
     "output_type": "execute_result"
    }
   ],
   "source": [
    "run_p3.run_P3(global_dict=p3_globals,target_dict=designer.getseqslicedict(target,250))"
   ]
  },
  {
   "cell_type": "code",
   "execution_count": 36,
   "metadata": {
    "collapsed": false
   },
   "outputs": [
    {
     "data": {
      "text/plain": [
       "{'REF_OFFSET': 2750,\n",
       " 'SEQUENCE_EXCLUDED_REGION': [(43, 1),\n",
       "  (122, 1),\n",
       "  (157, 1),\n",
       "  (176, 1),\n",
       "  (215, 1),\n",
       "  (243, 1),\n",
       "  (289, 1),\n",
       "  (411, 1),\n",
       "  (472, 1)],\n",
       " 'SEQUENCE_ID': 'CHR1:2750-3251',\n",
       " 'SEQUENCE_TARGET': (250, 1),\n",
       " 'SEQUENCE_TEMPLATE': 'CTCAATTTCTTTAGAAGCTTCCAGAGTTGTTGAATTGGCAGCGGCAACTACAGTCGCAACTGTTCCTAGCTTTGCAGAACCATTCCCACTCAAGGAATTCACGGACTCTTTATGTGCCTTCAGAACCAACTGTGTCGCACTGGGTTTTAAAGGAAATAAATAAATATGGAATAAAACATTGATATTACAAATAAAGGGTGCTTCTAGCTGAGTAGTCCTCCGATAAAGCACACGCATACAAAGGAATGAGAGAGAGAGAGAGAGGCGCTACCACATATAAAAGGGACAGCAAACATTTTAACATGAGCAAATCAGTGACACTAGGTAGGTGTTAGCACAAAAATGAACCTTGTTTACATCTGTTCACCACATCCTAGAACATCTTAGACACACACTGCAATAACATATGAGGTGGAGCATGGCACAGTGATACTGCAACAGTAGGATTCCCTGTAACTCTAATGCAACTTTTCATGTACTCAGCCTCTCAAATGATATCGC',\n",
       " 'TARGET_ID': 'CHR1:3000-3001'}"
      ]
     },
     "execution_count": 36,
     "metadata": {},
     "output_type": "execute_result"
    }
   ],
   "source": [
    "designer.getseqslicedict(target,250)"
   ]
  },
  {
   "cell_type": "code",
   "execution_count": 31,
   "metadata": {
    "collapsed": true
   },
   "outputs": [],
   "source": [
    "foo='CHR1:2750-3251'"
   ]
  },
  {
   "cell_type": "code",
   "execution_count": 33,
   "metadata": {
    "collapsed": false
   },
   "outputs": [
    {
     "data": {
      "text/plain": [
       "'CHR1'"
      ]
     },
     "execution_count": 33,
     "metadata": {},
     "output_type": "execute_result"
    }
   ],
   "source": [
    "foo.split(\":\")[0]"
   ]
  }
 ],
 "metadata": {
  "kernelspec": {
   "display_name": "Python 3",
   "language": "python",
   "name": "python3"
  },
  "language_info": {
   "codemirror_mode": {
    "name": "ipython",
    "version": 3
   },
   "file_extension": ".py",
   "mimetype": "text/x-python",
   "name": "python",
   "nbconvert_exporter": "python",
   "pygments_lexer": "ipython3",
   "version": "3.5.3"
  }
 },
 "nbformat": 4,
 "nbformat_minor": 2
}
