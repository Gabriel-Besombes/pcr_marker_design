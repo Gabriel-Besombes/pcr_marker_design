{
 "cells": [
  {
   "cell_type": "markdown",
   "metadata": {
    "deletable": true,
    "editable": true
   },
   "source": [
    "# Prototyping Design_primers for Design from VCF\n",
    "\n",
    "### John McCallum Feb 2017\n",
    "\n",
    "Use autoreload for development to reload modules automagically"
   ]
  },
  {
   "cell_type": "code",
   "execution_count": 1,
   "metadata": {
    "collapsed": false,
    "deletable": true,
    "editable": true
   },
   "outputs": [],
   "source": [
    "%load_ext autoreload\n",
    "%autoreload 2"
   ]
  },
  {
   "cell_type": "code",
   "execution_count": 2,
   "metadata": {
    "collapsed": false,
    "deletable": true,
    "editable": true
   },
   "outputs": [],
   "source": [
    "from pcr_marker_design import design as d \n",
    "from pcr_marker_design import run_p3\n",
    "from pybedtools import BedTool, Interval\n",
    "from pyfaidx import Fasta , FastaVariant\n",
    "import pandas as pd"
   ]
  },
  {
   "cell_type": "code",
   "execution_count": 3,
   "metadata": {
    "collapsed": false,
    "deletable": true,
    "editable": true
   },
   "outputs": [
    {
     "name": "stdout",
     "output_type": "stream",
     "text": [
      "384um_251453690362217.txt      Chr9_Myb210.vcf\r\n",
      "AcCHR1_test.fasta              Chr9_Myb210.vcf.gz\r\n",
      "AcCHR1_test.fasta.fai          targets\r\n",
      "AcCHR1_test.phased.vcf.gz      targets.fasta\r\n",
      "AcCHR1_test.phased.vcf.gz.tbi  targets.fasta.fai\r\n",
      "AcCHR1_test.vcf.gz             targets.gff\r\n",
      "AcCHR1_test.vcf.gz.tbi         targets.snps.bed\r\n",
      "CHR9.1.68.5.fasta.gz\r\n"
     ]
    }
   ],
   "source": [
    "ls ../test/test-data"
   ]
  },
  {
   "cell_type": "code",
   "execution_count": 5,
   "metadata": {
    "collapsed": false,
    "deletable": true,
    "editable": true
   },
   "outputs": [],
   "source": [
    "test_seq = \"../test/test-data/AcCHR1_test.fasta\"\n",
    "vcffile = \"../test/test-data/AcCHR1_test.vcf.gz\"\n",
    "designer = d.VcfPrimerDesign(test_seq, vcffile, \"TestCHR1\")"
   ]
  },
  {
   "cell_type": "markdown",
   "metadata": {},
   "source": [
    "### Create a BedTool Target"
   ]
  },
  {
   "cell_type": "code",
   "execution_count": 52,
   "metadata": {
    "collapsed": true
   },
   "outputs": [],
   "source": [
    "targetBed=BedTool([random.choice(BedTool(vcffile)) for X in [1,3,4]])"
   ]
  },
  {
   "cell_type": "code",
   "execution_count": 104,
   "metadata": {
    "collapsed": false
   },
   "outputs": [
    {
     "data": {
      "text/html": [
       "<div>\n",
       "<table border=\"1\" class=\"dataframe\">\n",
       "  <thead>\n",
       "    <tr style=\"text-align: right;\">\n",
       "      <th></th>\n",
       "      <th>CHR</th>\n",
       "      <th>POS</th>\n",
       "      <th>REF</th>\n",
       "      <th>ALT</th>\n",
       "    </tr>\n",
       "  </thead>\n",
       "  <tbody>\n",
       "    <tr>\n",
       "      <th>0</th>\n",
       "      <td>CHR1</td>\n",
       "      <td>6669</td>\n",
       "      <td>G</td>\n",
       "      <td>A</td>\n",
       "    </tr>\n",
       "    <tr>\n",
       "      <th>1</th>\n",
       "      <td>CHR1</td>\n",
       "      <td>4498</td>\n",
       "      <td>GAAAAAAAAT</td>\n",
       "      <td>GAAAAAAAAAT</td>\n",
       "    </tr>\n",
       "    <tr>\n",
       "      <th>2</th>\n",
       "      <td>CHR1</td>\n",
       "      <td>4948</td>\n",
       "      <td>C</td>\n",
       "      <td>T</td>\n",
       "    </tr>\n",
       "  </tbody>\n",
       "</table>\n",
       "</div>"
      ],
      "text/plain": [
       "    CHR   POS         REF          ALT\n",
       "0  CHR1  6669           G            A\n",
       "1  CHR1  4498  GAAAAAAAAT  GAAAAAAAAAT\n",
       "2  CHR1  4948           C            T"
      ]
     },
     "execution_count": 104,
     "metadata": {},
     "output_type": "execute_result"
    }
   ],
   "source": [
    "Tdf=targetBed.to_dataframe()[[0,1,3,4]]\n",
    "Tdf.columns=['CHR','POS','REF','ALT']\n",
    "Tdf"
   ]
  },
  {
   "cell_type": "code",
   "execution_count": 84,
   "metadata": {
    "collapsed": false
   },
   "outputs": [
    {
     "name": "stdout",
     "output_type": "stream",
     "text": [
      "CHR1\t6669\t.\tG\tA\t254.986\t.\tAB=0.413793;ABP=4.88226;AC=1;AF=0.0384615;AN=26;AO=12;CIGAR=1X;DP=368;DPB=368;DPRA=1.02655;EPP=3.0103;EPPR=13.7701;GTI=0;LEN=1;MEANALT=1;MQM=60;MQMR=60;NS=13;NUMALT=1;ODDS=20.758;PAIRED=1;PAIREDR=0.991573;PAO=0;PQA=0;PQR=0;PRO=0;QA=436;QR=12158;RO=356;RPP=3.0103;RPPR=4.98658;RUN=1;SAF=4;SAP=5.9056;SAR=8;SRF=110;SRP=115.829;SRR=246;TYPE=snp;technology.Illumina=1\tGT:GQ:DP:RO:QR:AO:QA:GL\t0/0:99:36:36:1277:0:0:0,-9.77628,-10\t0/0:95.558:21:21:746:0:0:0,-5.71503,-10\t0/0:99:36:36:1260:0:0:0,-9.77219,-10\t0/0:99:41:41:1432:0:0:0,-10,-10\t0/0:99:28:28:908:0:0:0,-7.45519,-10\t0/0:99:27:27:889:0:0:0,-7.23979,-10\t0/0:99:27:27:923:0:0:0,-7.33558,-10\t0/1:0:29:17:599:12:436:-10,0,-10\t0/0:90.1507:19:19:639:0:0:0,-5.17431,-10\t0/0:99:24:24:769:0:0:0,-6.50756,-10\t0/0:99:25:25:873:0:0:0,-6.78862,-10\t0/0:98.2818:22:22:785:0:0:0,-5.98746,-10\t0/0:99:33:33:1058:0:0:0,-8.88142,-10\n",
      "CHR1\t4498\t.\tGAAAAAAAAT\tGAAAAAAAAAT\t1027.82\t.\tAB=0.385965;ABP=15.8868;AC=2;AF=0.0769231;AN=26;AO=45;CIGAR=1M1I9M;DP=739;DPB=866.1;DPRA=0.891938;EPP=3.44459;EPPR=30.1987;GTI=0;LEN=1;MEANALT=2;MQM=60;MQMR=60;NS=13;NUMALT=1;ODDS=34.6562;PAIRED=1;PAIREDR=0.983728;PAO=82.5;PQA=2578.5;PQR=2578.5;PRO=82.5;QA=1594;QR=24797;RO=676;RPP=3.05855;RPPR=3.47286;RUN=1;SAF=25;SAP=4.21667;SAR=20;SRF=350;SRP=4.86055;SRR=326;TYPE=ins;technology.Illumina=1\tGT:GQ:DP:RO:QR:AO:QA:GL\t0/0:99:45:44:1596:0:0:0,-10,-10\t0/0:99:44:43:1585:0:0:0,-10,-10\t0/0:99:71:69:2567:0:0:0,-10,-10\t0/0:99:62:59:2201:0:0:0,-10,-10\t0/0:99:56:54:1960:0:0:0,-10,-10\t0/0:99:68:66:2416:0:0:0,-10,-10\t0/0:99:63:63:2305:0:0:0,-10,-10\t0/0:99:42:41:1590:1:25:0,-9.1474,-10\t0/0:99:47:47:1539:0:0:0,-10,-10\t0/0:99:53:51:1874:0:0:0,-10,-10\t0/1:99:49:27:1011:21:773:-10,0,-10\t0/0:99:74:73:2687:0:0:0,-10,-10\t0/1:99:65:39:1466:23:796:-10,0,-10\n",
      "CHR1\t4948\t.\tC\tT\t10212.4\t.\tAB=0.4875;ABP=3.55317;AC=9;AF=0.346154;AN=26;AO=349;CIGAR=1X;DP=955;DPB=955;DPRA=1.18418;EPP=15.6098;EPPR=6.45953;GTI=0;LEN=1;MEANALT=1;MQM=60;MQMR=59.9967;NS=13;NUMALT=1;ODDS=30.762;PAIRED=0.979943;PAIREDR=0.981818;PAO=0;PQA=0;PQR=0;PRO=0;QA=12764;QR=22227;RO=605;RPP=3.76316;RPPR=3.61688;RUN=1;SAF=174;SAP=3.01652;SAR=175;SRF=273;SRP=15.5043;SRR=332;TYPE=snp;technology.Illumina=1\tGT:GQ:DP:RO:QR:AO:QA:GL\t0/0:99:54:54:1956:0:0:0,-10,-10\t1/1:0:61:0:0:61:2272:-10,-10,0\t1/1:0:93:0:0:93:3376:-10,-10,0\t0/1:0:93:44:1662:49:1861:-10,0,-10\t0/1:0:90:47:1740:43:1575:-10,0,-10\t0/0:0:86:86:3141:0:0:0,-10,-10\t0/1:0:76:38:1390:38:1392:-10,0,-10\t0/0:99:47:47:1791:0:0:0,-10,-10\t0/1:0:73:36:1206:37:1258:-10,0,-10\t0/0:0:69:69:2537:0:0:0,-10,-10\t0/0:0:70:69:2624:0:0:0,-10,-10\t0/1:0:68:40:1500:28:1030:-10,0,-10\t0/0:0:75:75:2680:0:0:0,-10,-10\n",
      "\n"
     ]
    }
   ],
   "source": [
    "print(targetBed)"
   ]
  },
  {
   "cell_type": "markdown",
   "metadata": {},
   "source": [
    "### Indexing into fasta reference\n",
    "\n",
    "note start and end"
   ]
  },
  {
   "cell_type": "code",
   "execution_count": 78,
   "metadata": {
    "collapsed": false
   },
   "outputs": [
    {
     "data": {
      "text/plain": [
       ">CHR1:6670-6670\n",
       "G"
      ]
     },
     "execution_count": 78,
     "metadata": {},
     "output_type": "execute_result"
    }
   ],
   "source": [
    "designer.reference['CHR1'][6669:6670]"
   ]
  },
  {
   "cell_type": "code",
   "execution_count": 62,
   "metadata": {
    "collapsed": false
   },
   "outputs": [
    {
     "data": {
      "text/plain": [
       "Interval(CHR1:6669-6670)"
      ]
     },
     "execution_count": 62,
     "metadata": {},
     "output_type": "execute_result"
    }
   ],
   "source": [
    "targetBed[0]"
   ]
  },
  {
   "cell_type": "code",
   "execution_count": 63,
   "metadata": {
    "collapsed": false
   },
   "outputs": [
    {
     "data": {
      "text/plain": [
       "6669"
      ]
     },
     "execution_count": 63,
     "metadata": {},
     "output_type": "execute_result"
    }
   ],
   "source": [
    "targetBed[0].start"
   ]
  },
  {
   "cell_type": "code",
   "execution_count": 65,
   "metadata": {
    "collapsed": false
   },
   "outputs": [
    {
     "data": {
      "text/plain": [
       "6670"
      ]
     },
     "execution_count": 65,
     "metadata": {},
     "output_type": "execute_result"
    }
   ],
   "source": [
    "targetBed[0].end"
   ]
  },
  {
   "cell_type": "markdown",
   "metadata": {},
   "source": [
    "## Generate Primer3 Dict"
   ]
  },
  {
   "cell_type": "code",
   "execution_count": 85,
   "metadata": {
    "collapsed": false,
    "deletable": true,
    "editable": true
   },
   "outputs": [
    {
     "data": {
      "text/plain": [
       "{'REF_OFFSET': 6549,\n",
       " 'SEQUENCE_EXCLUDED_REGION': [(18, 1),\n",
       "  (65, 1),\n",
       "  (82, 1),\n",
       "  (118, 1),\n",
       "  (119, 1),\n",
       "  (125, 1),\n",
       "  (151, 12),\n",
       "  (172, 1),\n",
       "  (233, 3)],\n",
       " 'SEQUENCE_ID': 'CHR1:6549-6790',\n",
       " 'SEQUENCE_TARGET': (120, 1),\n",
       " 'SEQUENCE_TEMPLATE': 'CAAAATATCTAGAAAAGGAACTCTCAGAAAGATTCATGAGCGCTCTTTCAGAAATGCAATTTCTATAATTTTTGCAATTTCCGGAAGCTATTAGGGCTTCTTACGGAGGCGAGGGGCCGAGGCCCCGAAGAGTGGTTTTTTACTGGTGATATCTCTCTCTCTAAGATTCATGCAGATGAGAATGTCTCTAATATGTTGACGAAGCAAGTTATTAGAGATAAGTTCAAGCATTACTTGGACT',\n",
       " 'TARGET_ID': 'CHR1:6669-6669'}"
      ]
     },
     "execution_count": 85,
     "metadata": {},
     "output_type": "execute_result"
    }
   ],
   "source": [
    "designer.getseqslicedict(targetBed[0],120)"
   ]
  },
  {
   "cell_type": "code",
   "execution_count": 86,
   "metadata": {
    "collapsed": false
   },
   "outputs": [],
   "source": [
    "p3_globals={\n",
    "        'PRIMER_OPT_SIZE': 20,\n",
    "        'PRIMER_PICK_INTERNAL_OLIGO': 0,\n",
    "        'PRIMER_INTERNAL_MAX_SELF_END': 8,\n",
    "        'PRIMER_MIN_SIZE': 18,\n",
    "        'PRIMER_MAX_SIZE': 25,\n",
    "        'PRIMER_OPT_TM': 60.0,\n",
    "        'PRIMER_MIN_TM': 57.0,\n",
    "        'PRIMER_MAX_TM': 63.0,\n",
    "        'PRIMER_MIN_GC': 20.0,\n",
    "        'PRIMER_MAX_GC': 80.0,\n",
    "        'PRIMER_MAX_POLY_X': 100,\n",
    "        'PRIMER_INTERNAL_MAX_POLY_X': 100,\n",
    "        'PRIMER_SALT_MONOVALENT': 50.0,\n",
    "        'PRIMER_DNA_CONC': 50.0,\n",
    "        'PRIMER_MAX_NS_ACCEPTED': 0,\n",
    "        'PRIMER_MAX_SELF_ANY': 12,\n",
    "        'PRIMER_MAX_SELF_END': 8,\n",
    "        'PRIMER_PAIR_MAX_COMPL_ANY': 12,\n",
    "        'PRIMER_PAIR_MAX_COMPL_END': 8,\n",
    "        'PRIMER_PRODUCT_SIZE_RANGE': [60,250],\n",
    "    }"
   ]
  },
  {
   "cell_type": "markdown",
   "metadata": {},
   "source": [
    "### Design a single target"
   ]
  },
  {
   "cell_type": "code",
   "execution_count": 109,
   "metadata": {
    "collapsed": false
   },
   "outputs": [
    {
     "data": {
      "text/plain": [
       "[{'AMPLICON_REGION': 'CHR1:4464-4603',\n",
       "  'PRIMER_LEFT': (4463, 20),\n",
       "  'PRIMER_LEFT_SEQUENCE': 'AGGCAGTGGAAAACAAGACA',\n",
       "  'PRIMER_RIGHT': (4602, 22),\n",
       "  'PRIMER_RIGHT_SEQUENCE': 'TGGAATGAGAGATGGGTGATCT',\n",
       "  'SEQUENCE_ID': 'CHR1:4378-4619',\n",
       "  'TARGET_ID': 'CHR1:4498-4498'},\n",
       " {'AMPLICON_REGION': 'CHR1:4434-4603',\n",
       "  'PRIMER_LEFT': (4433, 21),\n",
       "  'PRIMER_LEFT_SEQUENCE': 'TGGCTCGTTTCTCCTAATCCT',\n",
       "  'PRIMER_RIGHT': (4602, 22),\n",
       "  'PRIMER_RIGHT_SEQUENCE': 'TGGAATGAGAGATGGGTGATCT',\n",
       "  'SEQUENCE_ID': 'CHR1:4378-4619',\n",
       "  'TARGET_ID': 'CHR1:4498-4498'},\n",
       " {'AMPLICON_REGION': 'CHR1:4464-4614',\n",
       "  'PRIMER_LEFT': (4463, 20),\n",
       "  'PRIMER_LEFT_SEQUENCE': 'AGGCAGTGGAAAACAAGACA',\n",
       "  'PRIMER_RIGHT': (4613, 23),\n",
       "  'PRIMER_RIGHT_SEQUENCE': 'AGCTGAGGAAATGGAATGAGAGA',\n",
       "  'SEQUENCE_ID': 'CHR1:4378-4619',\n",
       "  'TARGET_ID': 'CHR1:4498-4498'},\n",
       " {'AMPLICON_REGION': 'CHR1:4464-4609',\n",
       "  'PRIMER_LEFT': (4463, 20),\n",
       "  'PRIMER_LEFT_SEQUENCE': 'AGGCAGTGGAAAACAAGACA',\n",
       "  'PRIMER_RIGHT': (4608, 23),\n",
       "  'PRIMER_RIGHT_SEQUENCE': 'AGGAAATGGAATGAGAGATGGGT',\n",
       "  'SEQUENCE_ID': 'CHR1:4378-4619',\n",
       "  'TARGET_ID': 'CHR1:4498-4498'}]"
      ]
     },
     "execution_count": 109,
     "metadata": {},
     "output_type": "execute_result"
    }
   ],
   "source": [
    "run_p3.run_P3(global_dict=p3_globals,\n",
    "              target_dict=designer.getseqslicedict(targetBed[1],120))"
   ]
  },
  {
   "cell_type": "markdown",
   "metadata": {},
   "source": [
    "### Design to all "
   ]
  },
  {
   "cell_type": "code",
   "execution_count": 126,
   "metadata": {
    "collapsed": false
   },
   "outputs": [
    {
     "data": {
      "text/plain": [
       "[6669, 4498, 4948]"
      ]
     },
     "execution_count": 126,
     "metadata": {},
     "output_type": "execute_result"
    }
   ],
   "source": [
    "[X.start for X in targetBed]"
   ]
  },
  {
   "cell_type": "code",
   "execution_count": 127,
   "metadata": {
    "collapsed": true
   },
   "outputs": [],
   "source": [
    "f=lambda x: run_p3.run_P3(global_dict=p3_globals,\n",
    "              target_dict=designer.getseqslicedict(x,120))"
   ]
  },
  {
   "cell_type": "markdown",
   "metadata": {},
   "source": [
    "generate lists of amplicons\n",
    "\n",
    "NB need to the comprhension to flatten the nested lists"
   ]
  },
  {
   "cell_type": "code",
   "execution_count": 144,
   "metadata": {
    "collapsed": true
   },
   "outputs": [],
   "source": [
    "amps=[y for x in [f(X) for X in targetBed] for y in x]"
   ]
  },
  {
   "cell_type": "code",
   "execution_count": 146,
   "metadata": {
    "collapsed": false
   },
   "outputs": [
    {
     "data": {
      "text/html": [
       "<div>\n",
       "<table border=\"1\" class=\"dataframe\">\n",
       "  <thead>\n",
       "    <tr style=\"text-align: right;\">\n",
       "      <th></th>\n",
       "      <th>AMPLICON_REGION</th>\n",
       "      <th>PRIMER_LEFT</th>\n",
       "      <th>PRIMER_LEFT_SEQUENCE</th>\n",
       "      <th>PRIMER_RIGHT</th>\n",
       "      <th>PRIMER_RIGHT_SEQUENCE</th>\n",
       "      <th>SEQUENCE_ID</th>\n",
       "      <th>TARGET_ID</th>\n",
       "    </tr>\n",
       "  </thead>\n",
       "  <tbody>\n",
       "    <tr>\n",
       "      <th>0</th>\n",
       "      <td>CHR1:6640-6755</td>\n",
       "      <td>(6639, 20)</td>\n",
       "      <td>TTAGGGCTTCTTACGGAGGC</td>\n",
       "      <td>(6754, 24)</td>\n",
       "      <td>TGCTTCGTCAACATATTAGAGACA</td>\n",
       "      <td>CHR1:6549-6790</td>\n",
       "      <td>CHR1:6669-6669</td>\n",
       "    </tr>\n",
       "    <tr>\n",
       "      <th>1</th>\n",
       "      <td>CHR1:6645-6755</td>\n",
       "      <td>(6644, 19)</td>\n",
       "      <td>GCTTCTTACGGAGGCGAGG</td>\n",
       "      <td>(6754, 24)</td>\n",
       "      <td>TGCTTCGTCAACATATTAGAGACA</td>\n",
       "      <td>CHR1:6549-6790</td>\n",
       "      <td>CHR1:6669-6669</td>\n",
       "    </tr>\n",
       "    <tr>\n",
       "      <th>2</th>\n",
       "      <td>CHR1:6644-6755</td>\n",
       "      <td>(6643, 19)</td>\n",
       "      <td>GGCTTCTTACGGAGGCGAG</td>\n",
       "      <td>(6754, 24)</td>\n",
       "      <td>TGCTTCGTCAACATATTAGAGACA</td>\n",
       "      <td>CHR1:6549-6790</td>\n",
       "      <td>CHR1:6669-6669</td>\n",
       "    </tr>\n",
       "    <tr>\n",
       "      <th>3</th>\n",
       "      <td>CHR1:6640-6756</td>\n",
       "      <td>(6639, 20)</td>\n",
       "      <td>TTAGGGCTTCTTACGGAGGC</td>\n",
       "      <td>(6755, 25)</td>\n",
       "      <td>TTGCTTCGTCAACATATTAGAGACA</td>\n",
       "      <td>CHR1:6549-6790</td>\n",
       "      <td>CHR1:6669-6669</td>\n",
       "    </tr>\n",
       "    <tr>\n",
       "      <th>4</th>\n",
       "      <td>CHR1:4464-4603</td>\n",
       "      <td>(4463, 20)</td>\n",
       "      <td>AGGCAGTGGAAAACAAGACA</td>\n",
       "      <td>(4602, 22)</td>\n",
       "      <td>TGGAATGAGAGATGGGTGATCT</td>\n",
       "      <td>CHR1:4378-4619</td>\n",
       "      <td>CHR1:4498-4498</td>\n",
       "    </tr>\n",
       "    <tr>\n",
       "      <th>5</th>\n",
       "      <td>CHR1:4434-4603</td>\n",
       "      <td>(4433, 21)</td>\n",
       "      <td>TGGCTCGTTTCTCCTAATCCT</td>\n",
       "      <td>(4602, 22)</td>\n",
       "      <td>TGGAATGAGAGATGGGTGATCT</td>\n",
       "      <td>CHR1:4378-4619</td>\n",
       "      <td>CHR1:4498-4498</td>\n",
       "    </tr>\n",
       "    <tr>\n",
       "      <th>6</th>\n",
       "      <td>CHR1:4464-4614</td>\n",
       "      <td>(4463, 20)</td>\n",
       "      <td>AGGCAGTGGAAAACAAGACA</td>\n",
       "      <td>(4613, 23)</td>\n",
       "      <td>AGCTGAGGAAATGGAATGAGAGA</td>\n",
       "      <td>CHR1:4378-4619</td>\n",
       "      <td>CHR1:4498-4498</td>\n",
       "    </tr>\n",
       "    <tr>\n",
       "      <th>7</th>\n",
       "      <td>CHR1:4464-4609</td>\n",
       "      <td>(4463, 20)</td>\n",
       "      <td>AGGCAGTGGAAAACAAGACA</td>\n",
       "      <td>(4608, 23)</td>\n",
       "      <td>AGGAAATGGAATGAGAGATGGGT</td>\n",
       "      <td>CHR1:4378-4619</td>\n",
       "      <td>CHR1:4498-4498</td>\n",
       "    </tr>\n",
       "    <tr>\n",
       "      <th>8</th>\n",
       "      <td>CHR1:4883-4969</td>\n",
       "      <td>(4882, 20)</td>\n",
       "      <td>CTTGCGTTTTGGGCACTTCA</td>\n",
       "      <td>(4968, 20)</td>\n",
       "      <td>AAGTGCTTGAAGTTTGCCCT</td>\n",
       "      <td>CHR1:4828-5069</td>\n",
       "      <td>CHR1:4948-4948</td>\n",
       "    </tr>\n",
       "    <tr>\n",
       "      <th>9</th>\n",
       "      <td>CHR1:4882-4969</td>\n",
       "      <td>(4881, 20)</td>\n",
       "      <td>ACTTGCGTTTTGGGCACTTC</td>\n",
       "      <td>(4968, 20)</td>\n",
       "      <td>AAGTGCTTGAAGTTTGCCCT</td>\n",
       "      <td>CHR1:4828-5069</td>\n",
       "      <td>CHR1:4948-4948</td>\n",
       "    </tr>\n",
       "    <tr>\n",
       "      <th>10</th>\n",
       "      <td>CHR1:4891-4969</td>\n",
       "      <td>(4890, 20)</td>\n",
       "      <td>TTGGGCACTTCACGTGTTCT</td>\n",
       "      <td>(4968, 20)</td>\n",
       "      <td>AAGTGCTTGAAGTTTGCCCT</td>\n",
       "      <td>CHR1:4828-5069</td>\n",
       "      <td>CHR1:4948-4948</td>\n",
       "    </tr>\n",
       "    <tr>\n",
       "      <th>11</th>\n",
       "      <td>CHR1:4881-4969</td>\n",
       "      <td>(4880, 20)</td>\n",
       "      <td>CACTTGCGTTTTGGGCACTT</td>\n",
       "      <td>(4968, 20)</td>\n",
       "      <td>AAGTGCTTGAAGTTTGCCCT</td>\n",
       "      <td>CHR1:4828-5069</td>\n",
       "      <td>CHR1:4948-4948</td>\n",
       "    </tr>\n",
       "  </tbody>\n",
       "</table>\n",
       "</div>"
      ],
      "text/plain": [
       "   AMPLICON_REGION PRIMER_LEFT   PRIMER_LEFT_SEQUENCE PRIMER_RIGHT  \\\n",
       "0   CHR1:6640-6755  (6639, 20)   TTAGGGCTTCTTACGGAGGC   (6754, 24)   \n",
       "1   CHR1:6645-6755  (6644, 19)    GCTTCTTACGGAGGCGAGG   (6754, 24)   \n",
       "2   CHR1:6644-6755  (6643, 19)    GGCTTCTTACGGAGGCGAG   (6754, 24)   \n",
       "3   CHR1:6640-6756  (6639, 20)   TTAGGGCTTCTTACGGAGGC   (6755, 25)   \n",
       "4   CHR1:4464-4603  (4463, 20)   AGGCAGTGGAAAACAAGACA   (4602, 22)   \n",
       "5   CHR1:4434-4603  (4433, 21)  TGGCTCGTTTCTCCTAATCCT   (4602, 22)   \n",
       "6   CHR1:4464-4614  (4463, 20)   AGGCAGTGGAAAACAAGACA   (4613, 23)   \n",
       "7   CHR1:4464-4609  (4463, 20)   AGGCAGTGGAAAACAAGACA   (4608, 23)   \n",
       "8   CHR1:4883-4969  (4882, 20)   CTTGCGTTTTGGGCACTTCA   (4968, 20)   \n",
       "9   CHR1:4882-4969  (4881, 20)   ACTTGCGTTTTGGGCACTTC   (4968, 20)   \n",
       "10  CHR1:4891-4969  (4890, 20)   TTGGGCACTTCACGTGTTCT   (4968, 20)   \n",
       "11  CHR1:4881-4969  (4880, 20)   CACTTGCGTTTTGGGCACTT   (4968, 20)   \n",
       "\n",
       "        PRIMER_RIGHT_SEQUENCE     SEQUENCE_ID       TARGET_ID  \n",
       "0    TGCTTCGTCAACATATTAGAGACA  CHR1:6549-6790  CHR1:6669-6669  \n",
       "1    TGCTTCGTCAACATATTAGAGACA  CHR1:6549-6790  CHR1:6669-6669  \n",
       "2    TGCTTCGTCAACATATTAGAGACA  CHR1:6549-6790  CHR1:6669-6669  \n",
       "3   TTGCTTCGTCAACATATTAGAGACA  CHR1:6549-6790  CHR1:6669-6669  \n",
       "4      TGGAATGAGAGATGGGTGATCT  CHR1:4378-4619  CHR1:4498-4498  \n",
       "5      TGGAATGAGAGATGGGTGATCT  CHR1:4378-4619  CHR1:4498-4498  \n",
       "6     AGCTGAGGAAATGGAATGAGAGA  CHR1:4378-4619  CHR1:4498-4498  \n",
       "7     AGGAAATGGAATGAGAGATGGGT  CHR1:4378-4619  CHR1:4498-4498  \n",
       "8        AAGTGCTTGAAGTTTGCCCT  CHR1:4828-5069  CHR1:4948-4948  \n",
       "9        AAGTGCTTGAAGTTTGCCCT  CHR1:4828-5069  CHR1:4948-4948  \n",
       "10       AAGTGCTTGAAGTTTGCCCT  CHR1:4828-5069  CHR1:4948-4948  \n",
       "11       AAGTGCTTGAAGTTTGCCCT  CHR1:4828-5069  CHR1:4948-4948  "
      ]
     },
     "execution_count": 146,
     "metadata": {},
     "output_type": "execute_result"
    }
   ],
   "source": [
    "TAmp=pd.DataFrame(amps)\n",
    "TAmp"
   ]
  },
  {
   "cell_type": "code",
   "execution_count": 152,
   "metadata": {
    "collapsed": true
   },
   "outputs": [],
   "source": [
    "%%bash\n",
    "export https_proxy=https://proxy.pfr.co.nz:8080\n",
    "export http_proxy=http://proxy.pfr.co.nz:8080"
   ]
  },
  {
   "cell_type": "code",
   "execution_count": 153,
   "metadata": {
    "collapsed": false
   },
   "outputs": [
    {
     "ename": "ConnectionError",
     "evalue": "HTTPSConnectionPool(host='www.dna.utah.edu', port=443): Max retries exceeded with url: /db/services/cgi-bin/udesign.cgi?rs=0&dmso=0&cation=20&seq=TTAGGGCTTCTTACGGAGGCGAGGGGCCGAGGCCCCGAAGAGTGGTTTTTTACTGGTGATATCTCTCTCTCTAAGATTCATGCAGATGAGAATGTCTCTAATATGTTGACGAAGCA&mg=2 (Caused by NewConnectionError('<requests.packages.urllib3.connection.VerifiedHTTPSConnection object at 0x10dd98a90>: Failed to establish a new connection: [Errno 60] Operation timed out',))",
     "output_type": "error",
     "traceback": [
      "\u001b[0;31m---------------------------------------------------------------------------\u001b[0m",
      "\u001b[0;31mTimeoutError\u001b[0m                              Traceback (most recent call last)",
      "\u001b[0;32m/Users/cfljam/miniconda3/envs/PCR/lib/python3.5/site-packages/requests/packages/urllib3/connection.py\u001b[0m in \u001b[0;36m_new_conn\u001b[0;34m(self)\u001b[0m\n\u001b[1;32m    137\u001b[0m             conn = connection.create_connection(\n\u001b[0;32m--> 138\u001b[0;31m                 (self.host, self.port), self.timeout, **extra_kw)\n\u001b[0m\u001b[1;32m    139\u001b[0m \u001b[0;34m\u001b[0m\u001b[0m\n",
      "\u001b[0;32m/Users/cfljam/miniconda3/envs/PCR/lib/python3.5/site-packages/requests/packages/urllib3/util/connection.py\u001b[0m in \u001b[0;36mcreate_connection\u001b[0;34m(address, timeout, source_address, socket_options)\u001b[0m\n\u001b[1;32m     97\u001b[0m     \u001b[0;32mif\u001b[0m \u001b[0merr\u001b[0m \u001b[0;32mis\u001b[0m \u001b[0;32mnot\u001b[0m \u001b[0;32mNone\u001b[0m\u001b[0;34m:\u001b[0m\u001b[0;34m\u001b[0m\u001b[0m\n\u001b[0;32m---> 98\u001b[0;31m         \u001b[0;32mraise\u001b[0m \u001b[0merr\u001b[0m\u001b[0;34m\u001b[0m\u001b[0m\n\u001b[0m\u001b[1;32m     99\u001b[0m \u001b[0;34m\u001b[0m\u001b[0m\n",
      "\u001b[0;32m/Users/cfljam/miniconda3/envs/PCR/lib/python3.5/site-packages/requests/packages/urllib3/util/connection.py\u001b[0m in \u001b[0;36mcreate_connection\u001b[0;34m(address, timeout, source_address, socket_options)\u001b[0m\n\u001b[1;32m     87\u001b[0m                 \u001b[0msock\u001b[0m\u001b[0;34m.\u001b[0m\u001b[0mbind\u001b[0m\u001b[0;34m(\u001b[0m\u001b[0msource_address\u001b[0m\u001b[0;34m)\u001b[0m\u001b[0;34m\u001b[0m\u001b[0m\n\u001b[0;32m---> 88\u001b[0;31m             \u001b[0msock\u001b[0m\u001b[0;34m.\u001b[0m\u001b[0mconnect\u001b[0m\u001b[0;34m(\u001b[0m\u001b[0msa\u001b[0m\u001b[0;34m)\u001b[0m\u001b[0;34m\u001b[0m\u001b[0m\n\u001b[0m\u001b[1;32m     89\u001b[0m             \u001b[0;32mreturn\u001b[0m \u001b[0msock\u001b[0m\u001b[0;34m\u001b[0m\u001b[0m\n",
      "\u001b[0;31mTimeoutError\u001b[0m: [Errno 60] Operation timed out",
      "\nDuring handling of the above exception, another exception occurred:\n",
      "\u001b[0;31mNewConnectionError\u001b[0m                        Traceback (most recent call last)",
      "\u001b[0;32m/Users/cfljam/miniconda3/envs/PCR/lib/python3.5/site-packages/requests/packages/urllib3/connectionpool.py\u001b[0m in \u001b[0;36murlopen\u001b[0;34m(self, method, url, body, headers, retries, redirect, assert_same_host, timeout, pool_timeout, release_conn, chunked, **response_kw)\u001b[0m\n\u001b[1;32m    593\u001b[0m                                                   \u001b[0mbody\u001b[0m\u001b[0;34m=\u001b[0m\u001b[0mbody\u001b[0m\u001b[0;34m,\u001b[0m \u001b[0mheaders\u001b[0m\u001b[0;34m=\u001b[0m\u001b[0mheaders\u001b[0m\u001b[0;34m,\u001b[0m\u001b[0;34m\u001b[0m\u001b[0m\n\u001b[0;32m--> 594\u001b[0;31m                                                   chunked=chunked)\n\u001b[0m\u001b[1;32m    595\u001b[0m \u001b[0;34m\u001b[0m\u001b[0m\n",
      "\u001b[0;32m/Users/cfljam/miniconda3/envs/PCR/lib/python3.5/site-packages/requests/packages/urllib3/connectionpool.py\u001b[0m in \u001b[0;36m_make_request\u001b[0;34m(self, conn, method, url, timeout, chunked, **httplib_request_kw)\u001b[0m\n\u001b[1;32m    349\u001b[0m         \u001b[0;32mtry\u001b[0m\u001b[0;34m:\u001b[0m\u001b[0;34m\u001b[0m\u001b[0m\n\u001b[0;32m--> 350\u001b[0;31m             \u001b[0mself\u001b[0m\u001b[0;34m.\u001b[0m\u001b[0m_validate_conn\u001b[0m\u001b[0;34m(\u001b[0m\u001b[0mconn\u001b[0m\u001b[0;34m)\u001b[0m\u001b[0;34m\u001b[0m\u001b[0m\n\u001b[0m\u001b[1;32m    351\u001b[0m         \u001b[0;32mexcept\u001b[0m \u001b[0;34m(\u001b[0m\u001b[0mSocketTimeout\u001b[0m\u001b[0;34m,\u001b[0m \u001b[0mBaseSSLError\u001b[0m\u001b[0;34m)\u001b[0m \u001b[0;32mas\u001b[0m \u001b[0me\u001b[0m\u001b[0;34m:\u001b[0m\u001b[0;34m\u001b[0m\u001b[0m\n",
      "\u001b[0;32m/Users/cfljam/miniconda3/envs/PCR/lib/python3.5/site-packages/requests/packages/urllib3/connectionpool.py\u001b[0m in \u001b[0;36m_validate_conn\u001b[0;34m(self, conn)\u001b[0m\n\u001b[1;32m    834\u001b[0m         \u001b[0;32mif\u001b[0m \u001b[0;32mnot\u001b[0m \u001b[0mgetattr\u001b[0m\u001b[0;34m(\u001b[0m\u001b[0mconn\u001b[0m\u001b[0;34m,\u001b[0m \u001b[0;34m'sock'\u001b[0m\u001b[0;34m,\u001b[0m \u001b[0;32mNone\u001b[0m\u001b[0;34m)\u001b[0m\u001b[0;34m:\u001b[0m  \u001b[0;31m# AppEngine might not have  `.sock`\u001b[0m\u001b[0;34m\u001b[0m\u001b[0m\n\u001b[0;32m--> 835\u001b[0;31m             \u001b[0mconn\u001b[0m\u001b[0;34m.\u001b[0m\u001b[0mconnect\u001b[0m\u001b[0;34m(\u001b[0m\u001b[0;34m)\u001b[0m\u001b[0;34m\u001b[0m\u001b[0m\n\u001b[0m\u001b[1;32m    836\u001b[0m \u001b[0;34m\u001b[0m\u001b[0m\n",
      "\u001b[0;32m/Users/cfljam/miniconda3/envs/PCR/lib/python3.5/site-packages/requests/packages/urllib3/connection.py\u001b[0m in \u001b[0;36mconnect\u001b[0;34m(self)\u001b[0m\n\u001b[1;32m    280\u001b[0m         \u001b[0;31m# Add certificate verification\u001b[0m\u001b[0;34m\u001b[0m\u001b[0;34m\u001b[0m\u001b[0m\n\u001b[0;32m--> 281\u001b[0;31m         \u001b[0mconn\u001b[0m \u001b[0;34m=\u001b[0m \u001b[0mself\u001b[0m\u001b[0;34m.\u001b[0m\u001b[0m_new_conn\u001b[0m\u001b[0;34m(\u001b[0m\u001b[0;34m)\u001b[0m\u001b[0;34m\u001b[0m\u001b[0m\n\u001b[0m\u001b[1;32m    282\u001b[0m \u001b[0;34m\u001b[0m\u001b[0m\n",
      "\u001b[0;32m/Users/cfljam/miniconda3/envs/PCR/lib/python3.5/site-packages/requests/packages/urllib3/connection.py\u001b[0m in \u001b[0;36m_new_conn\u001b[0;34m(self)\u001b[0m\n\u001b[1;32m    146\u001b[0m             raise NewConnectionError(\n\u001b[0;32m--> 147\u001b[0;31m                 self, \"Failed to establish a new connection: %s\" % e)\n\u001b[0m\u001b[1;32m    148\u001b[0m \u001b[0;34m\u001b[0m\u001b[0m\n",
      "\u001b[0;31mNewConnectionError\u001b[0m: <requests.packages.urllib3.connection.VerifiedHTTPSConnection object at 0x10dd98a90>: Failed to establish a new connection: [Errno 60] Operation timed out",
      "\nDuring handling of the above exception, another exception occurred:\n",
      "\u001b[0;31mMaxRetryError\u001b[0m                             Traceback (most recent call last)",
      "\u001b[0;32m/Users/cfljam/miniconda3/envs/PCR/lib/python3.5/site-packages/requests/adapters.py\u001b[0m in \u001b[0;36msend\u001b[0;34m(self, request, stream, timeout, verify, cert, proxies)\u001b[0m\n\u001b[1;32m    422\u001b[0m                     \u001b[0mretries\u001b[0m\u001b[0;34m=\u001b[0m\u001b[0mself\u001b[0m\u001b[0;34m.\u001b[0m\u001b[0mmax_retries\u001b[0m\u001b[0;34m,\u001b[0m\u001b[0;34m\u001b[0m\u001b[0m\n\u001b[0;32m--> 423\u001b[0;31m                     \u001b[0mtimeout\u001b[0m\u001b[0;34m=\u001b[0m\u001b[0mtimeout\u001b[0m\u001b[0;34m\u001b[0m\u001b[0m\n\u001b[0m\u001b[1;32m    424\u001b[0m                 )\n",
      "\u001b[0;32m/Users/cfljam/miniconda3/envs/PCR/lib/python3.5/site-packages/requests/packages/urllib3/connectionpool.py\u001b[0m in \u001b[0;36murlopen\u001b[0;34m(self, method, url, body, headers, retries, redirect, assert_same_host, timeout, pool_timeout, release_conn, chunked, **response_kw)\u001b[0m\n\u001b[1;32m    642\u001b[0m             retries = retries.increment(method, url, error=e, _pool=self,\n\u001b[0;32m--> 643\u001b[0;31m                                         _stacktrace=sys.exc_info()[2])\n\u001b[0m\u001b[1;32m    644\u001b[0m             \u001b[0mretries\u001b[0m\u001b[0;34m.\u001b[0m\u001b[0msleep\u001b[0m\u001b[0;34m(\u001b[0m\u001b[0;34m)\u001b[0m\u001b[0;34m\u001b[0m\u001b[0m\n",
      "\u001b[0;32m/Users/cfljam/miniconda3/envs/PCR/lib/python3.5/site-packages/requests/packages/urllib3/util/retry.py\u001b[0m in \u001b[0;36mincrement\u001b[0;34m(self, method, url, response, error, _pool, _stacktrace)\u001b[0m\n\u001b[1;32m    362\u001b[0m         \u001b[0;32mif\u001b[0m \u001b[0mnew_retry\u001b[0m\u001b[0;34m.\u001b[0m\u001b[0mis_exhausted\u001b[0m\u001b[0;34m(\u001b[0m\u001b[0;34m)\u001b[0m\u001b[0;34m:\u001b[0m\u001b[0;34m\u001b[0m\u001b[0m\n\u001b[0;32m--> 363\u001b[0;31m             \u001b[0;32mraise\u001b[0m \u001b[0mMaxRetryError\u001b[0m\u001b[0;34m(\u001b[0m\u001b[0m_pool\u001b[0m\u001b[0;34m,\u001b[0m \u001b[0murl\u001b[0m\u001b[0;34m,\u001b[0m \u001b[0merror\u001b[0m \u001b[0;32mor\u001b[0m \u001b[0mResponseError\u001b[0m\u001b[0;34m(\u001b[0m\u001b[0mcause\u001b[0m\u001b[0;34m)\u001b[0m\u001b[0;34m)\u001b[0m\u001b[0;34m\u001b[0m\u001b[0m\n\u001b[0m\u001b[1;32m    364\u001b[0m \u001b[0;34m\u001b[0m\u001b[0m\n",
      "\u001b[0;31mMaxRetryError\u001b[0m: HTTPSConnectionPool(host='www.dna.utah.edu', port=443): Max retries exceeded with url: /db/services/cgi-bin/udesign.cgi?rs=0&dmso=0&cation=20&seq=TTAGGGCTTCTTACGGAGGCGAGGGGCCGAGGCCCCGAAGAGTGGTTTTTTACTGGTGATATCTCTCTCTCTAAGATTCATGCAGATGAGAATGTCTCTAATATGTTGACGAAGCA&mg=2 (Caused by NewConnectionError('<requests.packages.urllib3.connection.VerifiedHTTPSConnection object at 0x10dd98a90>: Failed to establish a new connection: [Errno 60] Operation timed out',))",
      "\nDuring handling of the above exception, another exception occurred:\n",
      "\u001b[0;31mConnectionError\u001b[0m                           Traceback (most recent call last)",
      "\u001b[0;32m<ipython-input-153-14e6ebf59fa4>\u001b[0m in \u001b[0;36m<module>\u001b[0;34m()\u001b[0m\n\u001b[0;32m----> 1\u001b[0;31m \u001b[0mdesigner\u001b[0m\u001b[0;34m.\u001b[0m\u001b[0mmeltSlice\u001b[0m\u001b[0;34m(\u001b[0m\u001b[0;34m'CHR1:6640-6755'\u001b[0m\u001b[0;34m)\u001b[0m\u001b[0;34m\u001b[0m\u001b[0m\n\u001b[0m",
      "\u001b[0;32m/Users/cfljam/Documents/pcr_marker_design/pcr_marker_design/design.py\u001b[0m in \u001b[0;36mmeltSlice\u001b[0;34m(self, region)\u001b[0m\n\u001b[1;32m    137\u001b[0m         \u001b[0mrefmelt\u001b[0m \u001b[0;34m=\u001b[0m \u001b[0mum\u001b[0m\u001b[0;34m.\u001b[0m\u001b[0mMeltSeq\u001b[0m\u001b[0;34m(\u001b[0m\u001b[0mref_seq\u001b[0m\u001b[0;34m)\u001b[0m\u001b[0;34m\u001b[0m\u001b[0m\n\u001b[1;32m    138\u001b[0m         \u001b[0maltmelt\u001b[0m\u001b[0;34m=\u001b[0m\u001b[0mum\u001b[0m\u001b[0;34m.\u001b[0m\u001b[0mMeltSeq\u001b[0m\u001b[0;34m(\u001b[0m\u001b[0malt_seq\u001b[0m\u001b[0;34m)\u001b[0m\u001b[0;34m\u001b[0m\u001b[0m\n\u001b[0;32m--> 139\u001b[0;31m         \u001b[0mref_melt_Tm\u001b[0m \u001b[0;34m=\u001b[0m \u001b[0mumelt\u001b[0m\u001b[0;34m.\u001b[0m\u001b[0mget_helicity_info\u001b[0m\u001b[0;34m(\u001b[0m\u001b[0mumelt\u001b[0m\u001b[0;34m.\u001b[0m\u001b[0mget_response\u001b[0m\u001b[0;34m(\u001b[0m\u001b[0mrefmelt\u001b[0m\u001b[0;34m)\u001b[0m\u001b[0;34m)\u001b[0m\u001b[0;34m.\u001b[0m\u001b[0mget_melting_temp\u001b[0m\u001b[0;34m(\u001b[0m\u001b[0;34m)\u001b[0m\u001b[0;34m\u001b[0m\u001b[0m\n\u001b[0m\u001b[1;32m    140\u001b[0m         \u001b[0malt_melt_Tm\u001b[0m \u001b[0;34m=\u001b[0m \u001b[0mumelt\u001b[0m\u001b[0;34m.\u001b[0m\u001b[0mget_helicity_info\u001b[0m\u001b[0;34m(\u001b[0m\u001b[0mumelt\u001b[0m\u001b[0;34m.\u001b[0m\u001b[0mget_response\u001b[0m\u001b[0;34m(\u001b[0m\u001b[0maltmelt\u001b[0m\u001b[0;34m)\u001b[0m\u001b[0;34m)\u001b[0m\u001b[0;34m.\u001b[0m\u001b[0mget_melting_temp\u001b[0m\u001b[0;34m(\u001b[0m\u001b[0;34m)\u001b[0m\u001b[0;34m\u001b[0m\u001b[0m\n\u001b[1;32m    141\u001b[0m         \u001b[0;32mreturn\u001b[0m \u001b[0;34m(\u001b[0m\u001b[0mref_melt_Tm\u001b[0m\u001b[0;34m,\u001b[0m\u001b[0malt_melt_Tm\u001b[0m\u001b[0;34m)\u001b[0m\u001b[0;34m\u001b[0m\u001b[0m\n",
      "\u001b[0;32m/Users/cfljam/Documents/pcr_marker_design/pcr_marker_design/umelt_service.py\u001b[0m in \u001b[0;36mget_response\u001b[0;34m(self, sequence)\u001b[0m\n\u001b[1;32m    121\u001b[0m \u001b[0;34m\u001b[0m\u001b[0m\n\u001b[1;32m    122\u001b[0m         \u001b[0;31m# TODO: add in error handling\u001b[0m\u001b[0;34m\u001b[0m\u001b[0;34m\u001b[0m\u001b[0m\n\u001b[0;32m--> 123\u001b[0;31m         \u001b[0mresponse\u001b[0m \u001b[0;34m=\u001b[0m \u001b[0mrequests\u001b[0m\u001b[0;34m.\u001b[0m\u001b[0mget\u001b[0m\u001b[0;34m(\u001b[0m\u001b[0mself\u001b[0m\u001b[0;34m.\u001b[0m\u001b[0murl\u001b[0m\u001b[0;34m,\u001b[0m \u001b[0mparams\u001b[0m\u001b[0;34m=\u001b[0m\u001b[0mvalues\u001b[0m\u001b[0;34m,\u001b[0m \u001b[0mtimeout\u001b[0m\u001b[0;34m=\u001b[0m\u001b[0mself\u001b[0m\u001b[0;34m.\u001b[0m\u001b[0mtimeout\u001b[0m\u001b[0;34m,\u001b[0m \u001b[0mverify\u001b[0m\u001b[0;34m=\u001b[0m\u001b[0;32mFalse\u001b[0m\u001b[0;34m)\u001b[0m\u001b[0;34m\u001b[0m\u001b[0m\n\u001b[0m\u001b[1;32m    124\u001b[0m         \u001b[0;31m# TODO: replace 'verify = False' with something\u001b[0m\u001b[0;34m\u001b[0m\u001b[0;34m\u001b[0m\u001b[0m\n\u001b[1;32m    125\u001b[0m         \u001b[0;31m# that's not a massive security hole\u001b[0m\u001b[0;34m\u001b[0m\u001b[0;34m\u001b[0m\u001b[0m\n",
      "\u001b[0;32m/Users/cfljam/miniconda3/envs/PCR/lib/python3.5/site-packages/requests/api.py\u001b[0m in \u001b[0;36mget\u001b[0;34m(url, params, **kwargs)\u001b[0m\n\u001b[1;32m     68\u001b[0m \u001b[0;34m\u001b[0m\u001b[0m\n\u001b[1;32m     69\u001b[0m     \u001b[0mkwargs\u001b[0m\u001b[0;34m.\u001b[0m\u001b[0msetdefault\u001b[0m\u001b[0;34m(\u001b[0m\u001b[0;34m'allow_redirects'\u001b[0m\u001b[0;34m,\u001b[0m \u001b[0;32mTrue\u001b[0m\u001b[0;34m)\u001b[0m\u001b[0;34m\u001b[0m\u001b[0m\n\u001b[0;32m---> 70\u001b[0;31m     \u001b[0;32mreturn\u001b[0m \u001b[0mrequest\u001b[0m\u001b[0;34m(\u001b[0m\u001b[0;34m'get'\u001b[0m\u001b[0;34m,\u001b[0m \u001b[0murl\u001b[0m\u001b[0;34m,\u001b[0m \u001b[0mparams\u001b[0m\u001b[0;34m=\u001b[0m\u001b[0mparams\u001b[0m\u001b[0;34m,\u001b[0m \u001b[0;34m**\u001b[0m\u001b[0mkwargs\u001b[0m\u001b[0;34m)\u001b[0m\u001b[0;34m\u001b[0m\u001b[0m\n\u001b[0m\u001b[1;32m     71\u001b[0m \u001b[0;34m\u001b[0m\u001b[0m\n\u001b[1;32m     72\u001b[0m \u001b[0;34m\u001b[0m\u001b[0m\n",
      "\u001b[0;32m/Users/cfljam/miniconda3/envs/PCR/lib/python3.5/site-packages/requests/api.py\u001b[0m in \u001b[0;36mrequest\u001b[0;34m(method, url, **kwargs)\u001b[0m\n\u001b[1;32m     54\u001b[0m     \u001b[0;31m# cases, and look like a memory leak in others.\u001b[0m\u001b[0;34m\u001b[0m\u001b[0;34m\u001b[0m\u001b[0m\n\u001b[1;32m     55\u001b[0m     \u001b[0;32mwith\u001b[0m \u001b[0msessions\u001b[0m\u001b[0;34m.\u001b[0m\u001b[0mSession\u001b[0m\u001b[0;34m(\u001b[0m\u001b[0;34m)\u001b[0m \u001b[0;32mas\u001b[0m \u001b[0msession\u001b[0m\u001b[0;34m:\u001b[0m\u001b[0;34m\u001b[0m\u001b[0m\n\u001b[0;32m---> 56\u001b[0;31m         \u001b[0;32mreturn\u001b[0m \u001b[0msession\u001b[0m\u001b[0;34m.\u001b[0m\u001b[0mrequest\u001b[0m\u001b[0;34m(\u001b[0m\u001b[0mmethod\u001b[0m\u001b[0;34m=\u001b[0m\u001b[0mmethod\u001b[0m\u001b[0;34m,\u001b[0m \u001b[0murl\u001b[0m\u001b[0;34m=\u001b[0m\u001b[0murl\u001b[0m\u001b[0;34m,\u001b[0m \u001b[0;34m**\u001b[0m\u001b[0mkwargs\u001b[0m\u001b[0;34m)\u001b[0m\u001b[0;34m\u001b[0m\u001b[0m\n\u001b[0m\u001b[1;32m     57\u001b[0m \u001b[0;34m\u001b[0m\u001b[0m\n\u001b[1;32m     58\u001b[0m \u001b[0;34m\u001b[0m\u001b[0m\n",
      "\u001b[0;32m/Users/cfljam/miniconda3/envs/PCR/lib/python3.5/site-packages/requests/sessions.py\u001b[0m in \u001b[0;36mrequest\u001b[0;34m(self, method, url, params, data, headers, cookies, files, auth, timeout, allow_redirects, proxies, hooks, stream, verify, cert, json)\u001b[0m\n\u001b[1;32m    486\u001b[0m         }\n\u001b[1;32m    487\u001b[0m         \u001b[0msend_kwargs\u001b[0m\u001b[0;34m.\u001b[0m\u001b[0mupdate\u001b[0m\u001b[0;34m(\u001b[0m\u001b[0msettings\u001b[0m\u001b[0;34m)\u001b[0m\u001b[0;34m\u001b[0m\u001b[0m\n\u001b[0;32m--> 488\u001b[0;31m         \u001b[0mresp\u001b[0m \u001b[0;34m=\u001b[0m \u001b[0mself\u001b[0m\u001b[0;34m.\u001b[0m\u001b[0msend\u001b[0m\u001b[0;34m(\u001b[0m\u001b[0mprep\u001b[0m\u001b[0;34m,\u001b[0m \u001b[0;34m**\u001b[0m\u001b[0msend_kwargs\u001b[0m\u001b[0;34m)\u001b[0m\u001b[0;34m\u001b[0m\u001b[0m\n\u001b[0m\u001b[1;32m    489\u001b[0m \u001b[0;34m\u001b[0m\u001b[0m\n\u001b[1;32m    490\u001b[0m         \u001b[0;32mreturn\u001b[0m \u001b[0mresp\u001b[0m\u001b[0;34m\u001b[0m\u001b[0m\n",
      "\u001b[0;32m/Users/cfljam/miniconda3/envs/PCR/lib/python3.5/site-packages/requests/sessions.py\u001b[0m in \u001b[0;36msend\u001b[0;34m(self, request, **kwargs)\u001b[0m\n\u001b[1;32m    607\u001b[0m \u001b[0;34m\u001b[0m\u001b[0m\n\u001b[1;32m    608\u001b[0m         \u001b[0;31m# Send the request\u001b[0m\u001b[0;34m\u001b[0m\u001b[0;34m\u001b[0m\u001b[0m\n\u001b[0;32m--> 609\u001b[0;31m         \u001b[0mr\u001b[0m \u001b[0;34m=\u001b[0m \u001b[0madapter\u001b[0m\u001b[0;34m.\u001b[0m\u001b[0msend\u001b[0m\u001b[0;34m(\u001b[0m\u001b[0mrequest\u001b[0m\u001b[0;34m,\u001b[0m \u001b[0;34m**\u001b[0m\u001b[0mkwargs\u001b[0m\u001b[0;34m)\u001b[0m\u001b[0;34m\u001b[0m\u001b[0m\n\u001b[0m\u001b[1;32m    610\u001b[0m \u001b[0;34m\u001b[0m\u001b[0m\n\u001b[1;32m    611\u001b[0m         \u001b[0;31m# Total elapsed time of the request (approximately)\u001b[0m\u001b[0;34m\u001b[0m\u001b[0;34m\u001b[0m\u001b[0m\n",
      "\u001b[0;32m/Users/cfljam/miniconda3/envs/PCR/lib/python3.5/site-packages/requests/adapters.py\u001b[0m in \u001b[0;36msend\u001b[0;34m(self, request, stream, timeout, verify, cert, proxies)\u001b[0m\n\u001b[1;32m    485\u001b[0m                 \u001b[0;32mraise\u001b[0m \u001b[0mProxyError\u001b[0m\u001b[0;34m(\u001b[0m\u001b[0me\u001b[0m\u001b[0;34m,\u001b[0m \u001b[0mrequest\u001b[0m\u001b[0;34m=\u001b[0m\u001b[0mrequest\u001b[0m\u001b[0;34m)\u001b[0m\u001b[0;34m\u001b[0m\u001b[0m\n\u001b[1;32m    486\u001b[0m \u001b[0;34m\u001b[0m\u001b[0m\n\u001b[0;32m--> 487\u001b[0;31m             \u001b[0;32mraise\u001b[0m \u001b[0mConnectionError\u001b[0m\u001b[0;34m(\u001b[0m\u001b[0me\u001b[0m\u001b[0;34m,\u001b[0m \u001b[0mrequest\u001b[0m\u001b[0;34m=\u001b[0m\u001b[0mrequest\u001b[0m\u001b[0;34m)\u001b[0m\u001b[0;34m\u001b[0m\u001b[0m\n\u001b[0m\u001b[1;32m    488\u001b[0m \u001b[0;34m\u001b[0m\u001b[0m\n\u001b[1;32m    489\u001b[0m         \u001b[0;32mexcept\u001b[0m \u001b[0mClosedPoolError\u001b[0m \u001b[0;32mas\u001b[0m \u001b[0me\u001b[0m\u001b[0;34m:\u001b[0m\u001b[0;34m\u001b[0m\u001b[0m\n",
      "\u001b[0;31mConnectionError\u001b[0m: HTTPSConnectionPool(host='www.dna.utah.edu', port=443): Max retries exceeded with url: /db/services/cgi-bin/udesign.cgi?rs=0&dmso=0&cation=20&seq=TTAGGGCTTCTTACGGAGGCGAGGGGCCGAGGCCCCGAAGAGTGGTTTTTTACTGGTGATATCTCTCTCTCTAAGATTCATGCAGATGAGAATGTCTCTAATATGTTGACGAAGCA&mg=2 (Caused by NewConnectionError('<requests.packages.urllib3.connection.VerifiedHTTPSConnection object at 0x10dd98a90>: Failed to establish a new connection: [Errno 60] Operation timed out',))"
     ]
    }
   ],
   "source": [
    "designer.meltSlice('CHR1:6640-6755')"
   ]
  },
  {
   "cell_type": "markdown",
   "metadata": {
    "deletable": true,
    "editable": true
   },
   "source": [
    "### Check on Prototyped melt method"
   ]
  },
  {
   "cell_type": "code",
   "execution_count": 41,
   "metadata": {
    "collapsed": false,
    "deletable": true,
    "editable": true
   },
   "outputs": [
    {
     "data": {
      "text/plain": [
       "(87.381523272214395, 86.980959097320167)"
      ]
     },
     "execution_count": 41,
     "metadata": {},
     "output_type": "execute_result"
    }
   ],
   "source": [
    "designer.meltSlice('CHR1:2879-3022')"
   ]
  },
  {
   "cell_type": "code",
   "execution_count": 154,
   "metadata": {
    "collapsed": false,
    "deletable": true,
    "editable": true
   },
   "outputs": [
    {
     "name": "stdout",
     "output_type": "stream",
     "text": [
      "/bin/sh: /Users/johnmccallum/miniconda3/envs/Py3PCR/bin/faidx: No such file or directory\r\n"
     ]
    }
   ],
   "source": [
    "!/Users/johnmccallum/miniconda3/envs/Py3PCR/bin/faidx ../test/test-data/AcCHR1_test.fasta CHR1:2879-3022"
   ]
  },
  {
   "cell_type": "code",
   "execution_count": 94,
   "metadata": {
    "collapsed": true
   },
   "outputs": [],
   "source": [
    "Interval"
   ]
  }
 ],
 "metadata": {
  "anaconda-cloud": {},
  "kernelspec": {
   "display_name": "PCR",
   "language": "python",
   "name": "pcr"
  },
  "language_info": {
   "codemirror_mode": {
    "name": "ipython",
    "version": 3
   },
   "file_extension": ".py",
   "mimetype": "text/x-python",
   "name": "python",
   "nbconvert_exporter": "python",
   "pygments_lexer": "ipython3",
   "version": "3.5.2"
  }
 },
 "nbformat": 4,
 "nbformat_minor": 2
}
