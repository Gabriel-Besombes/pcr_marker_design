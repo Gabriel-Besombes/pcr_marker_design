{
 "cells": [
  {
   "cell_type": "markdown",
   "metadata": {},
   "source": [
    "# Design Tests for Running Primer3\n",
    "\n",
    "Links\n",
    "------\n",
    "\n",
    "- http://primer3.sourceforge.net/primer3_manual.htm\n"
   ]
  },
  {
   "cell_type": "code",
   "execution_count": 2,
   "metadata": {
    "collapsed": false
   },
   "outputs": [],
   "source": [
    "import primer3 as p3"
   ]
  },
  {
   "cell_type": "markdown",
   "metadata": {},
   "source": [
    "Example from https://github.com/libnano/primer3-py/blob/master/docs/quickstart.rst#workflow"
   ]
  },
  {
   "cell_type": "code",
   "execution_count": 11,
   "metadata": {
    "collapsed": false
   },
   "outputs": [
    {
     "data": {
      "text/plain": [
       "{'PRIMER_INTERNAL_0': (69, 24),\n",
       " 'PRIMER_INTERNAL_0_GC_PERCENT': 50.0,\n",
       " 'PRIMER_INTERNAL_0_HAIRPIN_TH': 0.0,\n",
       " 'PRIMER_INTERNAL_0_PENALTY': 6.224608874676505,\n",
       " 'PRIMER_INTERNAL_0_SELF_ANY_TH': 0.0,\n",
       " 'PRIMER_INTERNAL_0_SELF_END_TH': 0.0,\n",
       " 'PRIMER_INTERNAL_0_SEQUENCE': 'ACTGGAAGAGAGGGTCATGCAACA',\n",
       " 'PRIMER_INTERNAL_0_TM': 57.775391125323495,\n",
       " 'PRIMER_INTERNAL_1': (69, 24),\n",
       " 'PRIMER_INTERNAL_1_GC_PERCENT': 50.0,\n",
       " 'PRIMER_INTERNAL_1_HAIRPIN_TH': 0.0,\n",
       " 'PRIMER_INTERNAL_1_PENALTY': 6.224608874676505,\n",
       " 'PRIMER_INTERNAL_1_SELF_ANY_TH': 0.0,\n",
       " 'PRIMER_INTERNAL_1_SELF_END_TH': 0.0,\n",
       " 'PRIMER_INTERNAL_1_SEQUENCE': 'ACTGGAAGAGAGGGTCATGCAACA',\n",
       " 'PRIMER_INTERNAL_1_TM': 57.775391125323495,\n",
       " 'PRIMER_INTERNAL_2': (69, 24),\n",
       " 'PRIMER_INTERNAL_2_GC_PERCENT': 50.0,\n",
       " 'PRIMER_INTERNAL_2_HAIRPIN_TH': 0.0,\n",
       " 'PRIMER_INTERNAL_2_PENALTY': 6.224608874676505,\n",
       " 'PRIMER_INTERNAL_2_SELF_ANY_TH': 0.0,\n",
       " 'PRIMER_INTERNAL_2_SELF_END_TH': 0.0,\n",
       " 'PRIMER_INTERNAL_2_SEQUENCE': 'ACTGGAAGAGAGGGTCATGCAACA',\n",
       " 'PRIMER_INTERNAL_2_TM': 57.775391125323495,\n",
       " 'PRIMER_INTERNAL_3': (69, 24),\n",
       " 'PRIMER_INTERNAL_3_GC_PERCENT': 50.0,\n",
       " 'PRIMER_INTERNAL_3_HAIRPIN_TH': 0.0,\n",
       " 'PRIMER_INTERNAL_3_PENALTY': 6.224608874676505,\n",
       " 'PRIMER_INTERNAL_3_SELF_ANY_TH': 0.0,\n",
       " 'PRIMER_INTERNAL_3_SELF_END_TH': 0.0,\n",
       " 'PRIMER_INTERNAL_3_SEQUENCE': 'ACTGGAAGAGAGGGTCATGCAACA',\n",
       " 'PRIMER_INTERNAL_3_TM': 57.775391125323495,\n",
       " 'PRIMER_INTERNAL_4': (69, 24),\n",
       " 'PRIMER_INTERNAL_4_GC_PERCENT': 50.0,\n",
       " 'PRIMER_INTERNAL_4_HAIRPIN_TH': 0.0,\n",
       " 'PRIMER_INTERNAL_4_PENALTY': 6.224608874676505,\n",
       " 'PRIMER_INTERNAL_4_SELF_ANY_TH': 0.0,\n",
       " 'PRIMER_INTERNAL_4_SELF_END_TH': 0.0,\n",
       " 'PRIMER_INTERNAL_4_SEQUENCE': 'ACTGGAAGAGAGGGTCATGCAACA',\n",
       " 'PRIMER_INTERNAL_4_TM': 57.775391125323495,\n",
       " 'PRIMER_INTERNAL_EXPLAIN': 'considered 823, unacceptable product size 808, no internal oligo 9, ok 6',\n",
       " 'PRIMER_INTERNAL_NUM_RETURNED': 5,\n",
       " 'PRIMER_LEFT_0': (46, 21),\n",
       " 'PRIMER_LEFT_0_END_STABILITY': 4.06,\n",
       " 'PRIMER_LEFT_0_GC_PERCENT': 52.38095238095238,\n",
       " 'PRIMER_LEFT_0_HAIRPIN_TH': 0.0,\n",
       " 'PRIMER_LEFT_0_PENALTY': 1.3299057711502655,\n",
       " 'PRIMER_LEFT_0_SELF_ANY_TH': 10.513588697583486,\n",
       " 'PRIMER_LEFT_0_SELF_END_TH': 10.513588697583486,\n",
       " 'PRIMER_LEFT_0_SEQUENCE': 'GCATCAGTGAGTACAGCATGC',\n",
       " 'PRIMER_LEFT_0_TM': 59.670094228849734,\n",
       " 'PRIMER_LEFT_1': (46, 21),\n",
       " 'PRIMER_LEFT_1_END_STABILITY': 4.06,\n",
       " 'PRIMER_LEFT_1_GC_PERCENT': 52.38095238095238,\n",
       " 'PRIMER_LEFT_1_HAIRPIN_TH': 0.0,\n",
       " 'PRIMER_LEFT_1_PENALTY': 1.3299057711502655,\n",
       " 'PRIMER_LEFT_1_SELF_ANY_TH': 10.513588697583486,\n",
       " 'PRIMER_LEFT_1_SELF_END_TH': 10.513588697583486,\n",
       " 'PRIMER_LEFT_1_SEQUENCE': 'GCATCAGTGAGTACAGCATGC',\n",
       " 'PRIMER_LEFT_1_TM': 59.670094228849734,\n",
       " 'PRIMER_LEFT_2': (46, 21),\n",
       " 'PRIMER_LEFT_2_END_STABILITY': 4.06,\n",
       " 'PRIMER_LEFT_2_GC_PERCENT': 52.38095238095238,\n",
       " 'PRIMER_LEFT_2_HAIRPIN_TH': 0.0,\n",
       " 'PRIMER_LEFT_2_PENALTY': 1.3299057711502655,\n",
       " 'PRIMER_LEFT_2_SELF_ANY_TH': 10.513588697583486,\n",
       " 'PRIMER_LEFT_2_SELF_END_TH': 10.513588697583486,\n",
       " 'PRIMER_LEFT_2_SEQUENCE': 'GCATCAGTGAGTACAGCATGC',\n",
       " 'PRIMER_LEFT_2_TM': 59.670094228849734,\n",
       " 'PRIMER_LEFT_3': (46, 21),\n",
       " 'PRIMER_LEFT_3_END_STABILITY': 4.06,\n",
       " 'PRIMER_LEFT_3_GC_PERCENT': 52.38095238095238,\n",
       " 'PRIMER_LEFT_3_HAIRPIN_TH': 0.0,\n",
       " 'PRIMER_LEFT_3_PENALTY': 1.3299057711502655,\n",
       " 'PRIMER_LEFT_3_SELF_ANY_TH': 10.513588697583486,\n",
       " 'PRIMER_LEFT_3_SELF_END_TH': 10.513588697583486,\n",
       " 'PRIMER_LEFT_3_SEQUENCE': 'GCATCAGTGAGTACAGCATGC',\n",
       " 'PRIMER_LEFT_3_TM': 59.670094228849734,\n",
       " 'PRIMER_LEFT_4': (46, 21),\n",
       " 'PRIMER_LEFT_4_END_STABILITY': 4.06,\n",
       " 'PRIMER_LEFT_4_GC_PERCENT': 52.38095238095238,\n",
       " 'PRIMER_LEFT_4_HAIRPIN_TH': 0.0,\n",
       " 'PRIMER_LEFT_4_PENALTY': 1.3299057711502655,\n",
       " 'PRIMER_LEFT_4_SELF_ANY_TH': 10.513588697583486,\n",
       " 'PRIMER_LEFT_4_SELF_END_TH': 10.513588697583486,\n",
       " 'PRIMER_LEFT_4_SEQUENCE': 'GCATCAGTGAGTACAGCATGC',\n",
       " 'PRIMER_LEFT_4_TM': 59.670094228849734,\n",
       " 'PRIMER_LEFT_EXPLAIN': 'considered 2144, GC content failed 36, low tm 1428, high tm 124, ok 556',\n",
       " 'PRIMER_LEFT_NUM_RETURNED': 5,\n",
       " 'PRIMER_PAIR_0_COMPL_ANY_TH': 0.0,\n",
       " 'PRIMER_PAIR_0_COMPL_END_TH': 0.0,\n",
       " 'PRIMER_PAIR_0_PENALTY': 1.373239688566116,\n",
       " 'PRIMER_PAIR_0_PRODUCT_SIZE': 87,\n",
       " 'PRIMER_PAIR_1_COMPL_ANY_TH': 0.0,\n",
       " 'PRIMER_PAIR_1_COMPL_END_TH': 1.5173917264813213,\n",
       " 'PRIMER_PAIR_1_PENALTY': 1.5090296435631672,\n",
       " 'PRIMER_PAIR_1_PRODUCT_SIZE': 94,\n",
       " 'PRIMER_PAIR_2_COMPL_ANY_TH': 0.0,\n",
       " 'PRIMER_PAIR_2_COMPL_END_TH': 0.0,\n",
       " 'PRIMER_PAIR_2_PENALTY': 1.8643178301738885,\n",
       " 'PRIMER_PAIR_2_PRODUCT_SIZE': 98,\n",
       " 'PRIMER_PAIR_3_COMPL_ANY_TH': 0.0,\n",
       " 'PRIMER_PAIR_3_COMPL_END_TH': 0.0,\n",
       " 'PRIMER_PAIR_3_PENALTY': 1.9504613679555973,\n",
       " 'PRIMER_PAIR_3_PRODUCT_SIZE': 85,\n",
       " 'PRIMER_PAIR_4_COMPL_ANY_TH': 0.0,\n",
       " 'PRIMER_PAIR_4_COMPL_END_TH': 0.0,\n",
       " 'PRIMER_PAIR_4_PENALTY': 2.019318015989654,\n",
       " 'PRIMER_PAIR_4_PRODUCT_SIZE': 88,\n",
       " 'PRIMER_PAIR_NUM_RETURNED': 5,\n",
       " 'PRIMER_RIGHT_0': (132, 20),\n",
       " 'PRIMER_RIGHT_0_END_STABILITY': 4.35,\n",
       " 'PRIMER_RIGHT_0_GC_PERCENT': 55.0,\n",
       " 'PRIMER_RIGHT_0_HAIRPIN_TH': 0.0,\n",
       " 'PRIMER_RIGHT_0_PENALTY': 0.043333917415850465,\n",
       " 'PRIMER_RIGHT_0_SELF_ANY_TH': 0.0,\n",
       " 'PRIMER_RIGHT_0_SELF_END_TH': 0.0,\n",
       " 'PRIMER_RIGHT_0_SEQUENCE': 'TCTCCTCCTTAGCCTGCCTT',\n",
       " 'PRIMER_RIGHT_0_TM': 59.95666608258415,\n",
       " 'PRIMER_RIGHT_1': (139, 20),\n",
       " 'PRIMER_RIGHT_1_END_STABILITY': 3.09,\n",
       " 'PRIMER_RIGHT_1_GC_PERCENT': 60.0,\n",
       " 'PRIMER_RIGHT_1_HAIRPIN_TH': 0.0,\n",
       " 'PRIMER_RIGHT_1_PENALTY': 0.17912387241290162,\n",
       " 'PRIMER_RIGHT_1_SELF_ANY_TH': 0.0,\n",
       " 'PRIMER_RIGHT_1_SELF_END_TH': 0.0,\n",
       " 'PRIMER_RIGHT_1_SEQUENCE': 'CAGTGCGTCTCCTCCTTAGC',\n",
       " 'PRIMER_RIGHT_1_TM': 60.1791238724129,\n",
       " 'PRIMER_RIGHT_2': (143, 20),\n",
       " 'PRIMER_RIGHT_2_END_STABILITY': 3.69,\n",
       " 'PRIMER_RIGHT_2_GC_PERCENT': 55.0,\n",
       " 'PRIMER_RIGHT_2_HAIRPIN_TH': 0.0,\n",
       " 'PRIMER_RIGHT_2_PENALTY': 0.534412059023623,\n",
       " 'PRIMER_RIGHT_2_SELF_ANY_TH': 0.0,\n",
       " 'PRIMER_RIGHT_2_SELF_END_TH': 0.0,\n",
       " 'PRIMER_RIGHT_2_SEQUENCE': 'CATTCAGTGCGTCTCCTCCT',\n",
       " 'PRIMER_RIGHT_2_TM': 59.46558794097638,\n",
       " 'PRIMER_RIGHT_3': (130, 20),\n",
       " 'PRIMER_RIGHT_3_END_STABILITY': 2.77,\n",
       " 'PRIMER_RIGHT_3_GC_PERCENT': 55.0,\n",
       " 'PRIMER_RIGHT_3_HAIRPIN_TH': 0.0,\n",
       " 'PRIMER_RIGHT_3_PENALTY': 0.6205555968053318,\n",
       " 'PRIMER_RIGHT_3_SELF_ANY_TH': 0.0,\n",
       " 'PRIMER_RIGHT_3_SELF_END_TH': 0.0,\n",
       " 'PRIMER_RIGHT_3_SEQUENCE': 'TCCTCCTTAGCCTGCCTTTG',\n",
       " 'PRIMER_RIGHT_3_TM': 59.37944440319467,\n",
       " 'PRIMER_RIGHT_4': (133, 20),\n",
       " 'PRIMER_RIGHT_4_END_STABILITY': 4.75,\n",
       " 'PRIMER_RIGHT_4_GC_PERCENT': 60.0,\n",
       " 'PRIMER_RIGHT_4_HAIRPIN_TH': 0.0,\n",
       " 'PRIMER_RIGHT_4_PENALTY': 0.6894122448393887,\n",
       " 'PRIMER_RIGHT_4_SELF_ANY_TH': 0.0,\n",
       " 'PRIMER_RIGHT_4_SELF_END_TH': 0.0,\n",
       " 'PRIMER_RIGHT_4_SEQUENCE': 'GTCTCCTCCTTAGCCTGCCT',\n",
       " 'PRIMER_RIGHT_4_TM': 60.68941224483939,\n",
       " 'PRIMER_RIGHT_EXPLAIN': 'considered 2144, GC content failed 84, low tm 1522, high tm 108, high hairpin stability 10, ok 420',\n",
       " 'PRIMER_RIGHT_NUM_RETURNED': 5}"
      ]
     },
     "execution_count": 11,
     "metadata": {},
     "output_type": "execute_result"
    }
   ],
   "source": [
    "p3.designPrimers(\n",
    "    {\n",
    "        'SEQUENCE_ID': 'MH1000',\n",
    "        'SEQUENCE_TEMPLATE': 'GCTTGCATGCCTGCAGGTCGACTCTAGAGGATCCCCCTACATTTT'\n",
    "                              'AGCATCAGTGAGTACAGCATGCTTACTGGAAGAGAGGGTCATGCA'\n",
    "                              'ACAGATTAGGAGGTAAGTTTGCAAAGGCAGGCTAAGGAGGAGACG'\n",
    "                              'CACTGAATGCCATGGTAAGAACTCTGGACATAAAAATATTGGAAG'\n",
    "                              'TTGTTGAGCAAGTAAAAAAAATGTTTGGAAGTGTTACTTTAGCAA'\n",
    "                              'TGGCAAGAATGATAGTATGGAATAGATTGGCAGAATGAAGGCAAA'\n",
    "                            'ATGATTAGACATATTGCATTAAGGTAAAAAATGATAACTGAAGAA'\n",
    "                              'TTATGTGCCACACTTATTAATAAGAAAGAATATGTGAACCTTGCA'\n",
    "                              'GATGTTTCCCTCTAGTAG',\n",
    "        'SEQUENCE_INCLUDED_REGION': [36,342]\n",
    "    },\n",
    "    {\n",
    "        'PRIMER_OPT_SIZE': 20,\n",
    "        'PRIMER_PICK_INTERNAL_OLIGO': 1,\n",
    "        'PRIMER_INTERNAL_MAX_SELF_END': 8,\n",
    "        'PRIMER_MIN_SIZE': 18,\n",
    "        'PRIMER_MAX_SIZE': 25,\n",
    "        'PRIMER_OPT_TM': 60.0,\n",
    "        'PRIMER_MIN_TM': 57.0,\n",
    "        'PRIMER_MAX_TM': 63.0,\n",
    "        'PRIMER_MIN_GC': 20.0,\n",
    "        'PRIMER_MAX_GC': 80.0,\n",
    "        'PRIMER_MAX_POLY_X': 100,\n",
    "        'PRIMER_INTERNAL_MAX_POLY_X': 100,\n",
    "        'PRIMER_SALT_MONOVALENT': 50.0,\n",
    "        'PRIMER_DNA_CONC': 50.0,\n",
    "        'PRIMER_MAX_NS_ACCEPTED': 0,\n",
    "        'PRIMER_MAX_SELF_ANY': 12,\n",
    "        'PRIMER_MAX_SELF_END': 8,\n",
    "        'PRIMER_PAIR_MAX_COMPL_ANY': 12,\n",
    "        'PRIMER_PAIR_MAX_COMPL_END': 8,\n",
    "        'PRIMER_PRODUCT_SIZE_RANGE': [[75,100],[100,125],[125,150],[150,175],[175,200],[200,225]],\n",
    "    })"
   ]
  },
  {
   "cell_type": "code",
   "execution_count": 12,
   "metadata": {
    "collapsed": true
   },
   "outputs": [],
   "source": [
    "p3_globals={\n",
    "        'PRIMER_OPT_SIZE': 20,\n",
    "        'PRIMER_PICK_INTERNAL_OLIGO': 1,\n",
    "        'PRIMER_INTERNAL_MAX_SELF_END': 8,\n",
    "        'PRIMER_MIN_SIZE': 18,\n",
    "        'PRIMER_MAX_SIZE': 25,\n",
    "        'PRIMER_OPT_TM': 60.0,\n",
    "        'PRIMER_MIN_TM': 57.0,\n",
    "        'PRIMER_MAX_TM': 63.0,\n",
    "        'PRIMER_MIN_GC': 20.0,\n",
    "        'PRIMER_MAX_GC': 80.0,\n",
    "        'PRIMER_MAX_POLY_X': 100,\n",
    "        'PRIMER_INTERNAL_MAX_POLY_X': 100,\n",
    "        'PRIMER_SALT_MONOVALENT': 50.0,\n",
    "        'PRIMER_DNA_CONC': 50.0,\n",
    "        'PRIMER_MAX_NS_ACCEPTED': 0,\n",
    "        'PRIMER_MAX_SELF_ANY': 12,\n",
    "        'PRIMER_MAX_SELF_END': 8,\n",
    "        'PRIMER_PAIR_MAX_COMPL_ANY': 12,\n",
    "        'PRIMER_PAIR_MAX_COMPL_END': 8,\n",
    "        'PRIMER_PRODUCT_SIZE_RANGE': [[75,100],[100,125],[125,150],[150,175],[175,200],[200,225]],\n",
    "    }"
   ]
  },
  {
   "cell_type": "code",
   "execution_count": 13,
   "metadata": {
    "collapsed": true
   },
   "outputs": [],
   "source": [
    "p3_seq=     {\n",
    "        'SEQUENCE_ID': 'MH1000',\n",
    "        'SEQUENCE_TEMPLATE': 'GCTTGCATGCCTGCAGGTCGACTCTAGAGGATCCCCCTACATTTT'\n",
    "                              'AGCATCAGTGAGTACAGCATGCTTACTGGAAGAGAGGGTCATGCA'\n",
    "                              'ACAGATTAGGAGGTAAGTTTGCAAAGGCAGGCTAAGGAGGAGACG'\n",
    "                              'CACTGAATGCCATGGTAAGAACTCTGGACATAAAAATATTGGAAG'\n",
    "                              'TTGTTGAGCAAGTAAAAAAAATGTTTGGAAGTGTTACTTTAGCAA'\n",
    "                              'TGGCAAGAATGATAGTATGGAATAGATTGGCAGAATGAAGGCAAA'\n",
    "                            'ATGATTAGACATATTGCATTAAGGTAAAAAATGATAACTGAAGAA'\n",
    "                              'TTATGTGCCACACTTATTAATAAGAAAGAATATGTGAACCTTGCA'\n",
    "                              'GATGTTTCCCTCTAGTAG',\n",
    "        'SEQUENCE_INCLUDED_REGION': [36,342]\n",
    "    }"
   ]
  },
  {
   "cell_type": "code",
   "execution_count": 15,
   "metadata": {
    "collapsed": false
   },
   "outputs": [],
   "source": [
    "p3_result=p3.designPrimers(p3_seq,p3_globals)"
   ]
  },
  {
   "cell_type": "code",
   "execution_count": 19,
   "metadata": {
    "collapsed": false
   },
   "outputs": [],
   "source": [
    "def run_P3(target_dict,global_dict):\n",
    "    P3_dict=p3.designPrimers(target_dict,global_dict)\n",
    "    ##return iterable list\n",
    "    primer_list=[dict(PRIMER_RIGHT_SEQUENCE=P3_dict.get('PRIMER_RIGHT_'+ str(X) + '_SEQUENCE'),\\\n",
    "    PRIMER_LEFT=P3_dict.get('PRIMER_LEFT_'+ str(X) ),\\\n",
    "    PRIMER_RIGHT=P3_dict.get('PRIMER_RIGHT_'+ str(X) ),\\\n",
    "    PRIMER_LEFT_SEQUENCE=P3_dict.get('PRIMER_LEFT_'+ str(X) + '_SEQUENCE')) for X in range(0,int(P3_dict.get('PRIMER_RIGHT_NUM_RETURNED'))-1)]\n",
    "    return(primer_list)\n"
   ]
  },
  {
   "cell_type": "code",
   "execution_count": 20,
   "metadata": {
    "collapsed": false
   },
   "outputs": [
    {
     "data": {
      "text/plain": [
       "[{'PRIMER_LEFT': (46, 21),\n",
       "  'PRIMER_LEFT_SEQUENCE': 'GCATCAGTGAGTACAGCATGC',\n",
       "  'PRIMER_RIGHT': (132, 20),\n",
       "  'PRIMER_RIGHT_SEQUENCE': 'TCTCCTCCTTAGCCTGCCTT'},\n",
       " {'PRIMER_LEFT': (46, 21),\n",
       "  'PRIMER_LEFT_SEQUENCE': 'GCATCAGTGAGTACAGCATGC',\n",
       "  'PRIMER_RIGHT': (139, 20),\n",
       "  'PRIMER_RIGHT_SEQUENCE': 'CAGTGCGTCTCCTCCTTAGC'},\n",
       " {'PRIMER_LEFT': (46, 21),\n",
       "  'PRIMER_LEFT_SEQUENCE': 'GCATCAGTGAGTACAGCATGC',\n",
       "  'PRIMER_RIGHT': (143, 20),\n",
       "  'PRIMER_RIGHT_SEQUENCE': 'CATTCAGTGCGTCTCCTCCT'},\n",
       " {'PRIMER_LEFT': (46, 21),\n",
       "  'PRIMER_LEFT_SEQUENCE': 'GCATCAGTGAGTACAGCATGC',\n",
       "  'PRIMER_RIGHT': (130, 20),\n",
       "  'PRIMER_RIGHT_SEQUENCE': 'TCCTCCTTAGCCTGCCTTTG'}]"
      ]
     },
     "execution_count": 20,
     "metadata": {},
     "output_type": "execute_result"
    }
   ],
   "source": [
    "run_P3(p3_seq,p3_globals)"
   ]
  },
  {
   "cell_type": "code",
   "execution_count": 25,
   "metadata": {
    "collapsed": true
   },
   "outputs": [],
   "source": [
    "run_P3_out=[{'PRIMER_LEFT': (46, 21),\n",
    "  'PRIMER_LEFT_SEQUENCE': 'GCATCAGTGAGTACAGCATGC',\n",
    "  'PRIMER_RIGHT': (132, 20),\n",
    "  'PRIMER_RIGHT_SEQUENCE': 'TCTCCTCCTTAGCCTGCCTT'},\n",
    " {'PRIMER_LEFT': (46, 21),\n",
    "  'PRIMER_LEFT_SEQUENCE': 'GCATCAGTGAGTACAGCATGC',\n",
    "  'PRIMER_RIGHT': (139, 20),\n",
    "  'PRIMER_RIGHT_SEQUENCE': 'CAGTGCGTCTCCTCCTTAGC'},\n",
    " {'PRIMER_LEFT': (46, 21),\n",
    "  'PRIMER_LEFT_SEQUENCE': 'GCATCAGTGAGTACAGCATGC',\n",
    "  'PRIMER_RIGHT': (143, 20),\n",
    "  'PRIMER_RIGHT_SEQUENCE': 'CATTCAGTGCGTCTCCTCCT'},\n",
    " {'PRIMER_LEFT': (46, 21),\n",
    "  'PRIMER_LEFT_SEQUENCE': 'GCATCAGTGAGTACAGCATGC',\n",
    "  'PRIMER_RIGHT': (130, 20),\n",
    "  'PRIMER_RIGHT_SEQUENCE': 'TCCTCCTTAGCCTGCCTTTG'}]"
   ]
  },
  {
   "cell_type": "markdown",
   "metadata": {},
   "source": [
    "## Test that we get expected output"
   ]
  },
  {
   "cell_type": "code",
   "execution_count": 26,
   "metadata": {
    "collapsed": false
   },
   "outputs": [],
   "source": [
    "assert(run_P3(p3_seq,p3_globals)==run_P3_out)"
   ]
  },
  {
   "cell_type": "code",
   "execution_count": null,
   "metadata": {
    "collapsed": true
   },
   "outputs": [],
   "source": []
  }
 ],
 "metadata": {
  "kernelspec": {
   "display_name": "Python 3",
   "language": "python",
   "name": "python3"
  },
  "language_info": {
   "codemirror_mode": {
    "name": "ipython",
    "version": 3
   },
   "file_extension": ".py",
   "mimetype": "text/x-python",
   "name": "python",
   "nbconvert_exporter": "python",
   "pygments_lexer": "ipython3",
   "version": "3.5.1"
  }
 },
 "nbformat": 4,
 "nbformat_minor": 0
}
