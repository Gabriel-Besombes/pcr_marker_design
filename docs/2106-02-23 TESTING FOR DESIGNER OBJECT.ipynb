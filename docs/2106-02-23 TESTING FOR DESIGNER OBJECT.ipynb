{
 "cells": [
  {
   "cell_type": "code",
   "execution_count": 36,
   "metadata": {
    "collapsed": false,
    "deletable": true,
    "editable": true
   },
   "outputs": [
    {
     "name": "stdout",
     "output_type": "stream",
     "text": [
      "\u001b[33mcommit 2213ea5854e8855191c347c0409500aba66d3173\u001b[m\n",
      "Author: John McCallum <cfljam@users.noreply.github.com>\n",
      "Date:   Tue Feb 23 14:52:01 2016 +1300\n",
      "\n",
      "    updated notebook\n"
     ]
    }
   ],
   "source": [
    "!git log -1"
   ]
  },
  {
   "cell_type": "code",
   "execution_count": 37,
   "metadata": {
    "collapsed": false,
    "deletable": true,
    "editable": true
   },
   "outputs": [
    {
     "name": "stdout",
     "output_type": "stream",
     "text": [
      "origin\thttps://github.com/cfljam/pcr_marker_design (fetch)\r\n",
      "origin\thttps://github.com/cfljam/pcr_marker_design (push)\r\n",
      "upstream\thttps://github.com/PlantandFoodResearch/pcr_marker_design (fetch)\r\n",
      "upstream\thttps://github.com/PlantandFoodResearch/pcr_marker_design (push)\r\n"
     ]
    }
   ],
   "source": [
    "!git remote -v"
   ]
  },
  {
   "cell_type": "code",
   "execution_count": 24,
   "metadata": {
    "collapsed": false,
    "deletable": true,
    "editable": true
   },
   "outputs": [
    {
     "name": "stdout",
     "output_type": "stream",
     "text": [
      "anaconda-client==1.6.1\n",
      "appnope==0.1.0\n",
      "cffi==1.9.1\n",
      "clyent==1.2.2\n",
      "conda==4.2.13\n",
      "cryptography==1.7.1\n",
      "decorator==4.0.11\n",
      "entrypoints==0.2.2\n",
      "idna==2.2\n",
      "ipykernel==4.5.2\n",
      "ipython==5.2.2\n",
      "ipython-genutils==0.1.0\n",
      "ipywidgets==5.2.2\n",
      "Jinja2==2.8\n",
      "jsonschema==2.5.1\n",
      "jupyter-client==5.0.0\n",
      "jupyter-console==5.1.0\n",
      "jupyter-core==4.3.0\n",
      "MarkupSafe==0.23\n",
      "mistune==0.7.3\n",
      "nbconvert==4.2.0\n",
      "nbformat==4.2.0\n",
      "notebook==4.4.1\n",
      "numpy==1.12.0\n",
      "pandas==0.19.2\n",
      "pexpect==4.2.1\n",
      "pickleshare==0.7.3\n",
      "prompt-toolkit==1.0.13\n",
      "ptyprocess==0.5.1\n",
      "pyasn1==0.1.9\n",
      "pycosat==0.6.1\n",
      "pycparser==2.17\n",
      "pycrypto==2.6.1\n",
      "Pygments==2.2.0\n",
      "pyOpenSSL==16.2.0\n",
      "python-dateutil==2.3\n",
      "pytz==2016.10\n",
      "PyYAML==3.12\n",
      "pyzmq==16.0.2\n",
      "qtconsole==4.2.1\n",
      "requests==2.12.4\n",
      "ruamel-yaml===-VERSION\n",
      "simplegeneric==0.8.1\n",
      "six==1.10.0\n",
      "terminado==0.6\n",
      "tornado==4.4.2\n",
      "traitlets==4.3.1\n",
      "wcwidth==0.1.7\n",
      "widgetsnbextension==1.2.6\n",
      "\u001b[33mYou are using pip version 8.1.2, however version 9.0.1 is available.\n",
      "You should consider upgrading via the 'pip install --upgrade pip' command.\u001b[0m\n"
     ]
    }
   ],
   "source": [
    "!pip freeze"
   ]
  },
  {
   "cell_type": "code",
   "execution_count": 3,
   "metadata": {
    "collapsed": false,
    "deletable": true,
    "editable": true
   },
   "outputs": [
    {
     "data": {
      "text/plain": [
       "'/Users/johnmccallum/Documents/pcr_marker_design/docs'"
      ]
     },
     "execution_count": 3,
     "metadata": {},
     "output_type": "execute_result"
    }
   ],
   "source": [
    "pwd"
   ]
  },
  {
   "cell_type": "markdown",
   "metadata": {
    "deletable": true,
    "editable": true
   },
   "source": [
    "### Load up bedtools "
   ]
  },
  {
   "cell_type": "code",
   "execution_count": 34,
   "metadata": {
    "collapsed": true,
    "deletable": true,
    "editable": true
   },
   "outputs": [],
   "source": [
    "\n",
    "from pybedtools import BedTool\n",
    "from pyfaidx import Fasta"
   ]
  },
  {
   "cell_type": "markdown",
   "metadata": {
    "deletable": true,
    "editable": true
   },
   "source": [
    "## Base this on the galaxy  test data\n",
    "\n",
    "Note that this is wrong!\n",
    "\n",
    "1. indel lengths arent correct\n",
    "2. should be 1-based and start==stop for SNPs\n",
    "\n",
    "need to revisit vcf2gvf"
   ]
  },
  {
   "cell_type": "code",
   "execution_count": 85,
   "metadata": {
    "collapsed": false
   },
   "outputs": [
    {
     "name": "stdout",
     "output_type": "stream",
     "text": [
      "k69_93535\tSAMTOOLS\tINDEL\t3\t7\t4.44\t.\t.\tID=k69_93535:SAMTOOLS:INDEL:3;Variant_seq=ATTTCACATCCCATCATCA,ATCACATCCCATCATCA;Reference_seq=ATCA;INDEL;DP=5;VDB=0.0149;AF1=1;AC1=24;DP4=0,0,3,0;MQ=23;FQ=-33.2\r\n",
      "k69_93535\tSAMTOOLS\tINDEL\t5\t6\t4.91\t.\t.\tID=k69_93535:SAMTOOLS:INDEL:5;Variant_seq=CTCATATCCCATCATC,CCGGCC;Reference_seq=C;INDEL;DP=6;VDB=0.0137;AF1=1;AC1=24;DP4=0,0,3,1;MQ=17;FQ=-32.4\r\n",
      "k69_93535\tSAMTOOLS\tSNP\t1141\t1142\t999\t.\t.\tID=k69_93535:SAMTOOLS:SNP:1141;Variant_seq=T;Reference_seq=C;DP=2644;VDB=0.0374;AF1=0.1882;AC1=5;DP4=748,786,225,294;MQ=42;FQ=999;PV4=0.037,0,0.036,0.39\r\n",
      "k69_93535\tSAMTOOLS\tSNP\t1147\t1148\t999\t.\t.\tID=k69_93535:SAMTOOLS:SNP:1147;Variant_seq=G;Reference_seq=C;DP=2645;VDB=0.0371;AF1=0.3527;G3=0.2771,0.7229,6.934e-153;HWE=0.0248;AC1=8;DP4=733,804,447,519;MQ=42;FQ=999;PV4=0.51,0,0.027,1\r\n"
     ]
    }
   ],
   "source": [
    "!head  -n 4 ../test/test-data/targets.gff"
   ]
  },
  {
   "cell_type": "markdown",
   "metadata": {},
   "source": [
    "### Create a Bed Target Set for SNPs only"
   ]
  },
  {
   "cell_type": "code",
   "execution_count": 99,
   "metadata": {
    "collapsed": false,
    "deletable": true,
    "editable": true
   },
   "outputs": [
    {
     "name": "stdout",
     "output_type": "stream",
     "text": [
      "k69_93535\t1140\t1141\r\n",
      "k69_93535\t1146\t1147\r\n",
      "k69_93535\t1335\t1336\r\n",
      "k69_93535\t2\t3\r\n",
      "k69_93535\t660\t661\r\n",
      "k69_93535\t750\t751\r\n",
      "k69_93535\t886\t887\r\n",
      "k69_98089\t1\t2\r\n",
      "k69_98089\t29\t30\r\n",
      "k69_98089\t2\t3\r\n",
      "k69_98089\t452\t453\r\n",
      "k69_98089\t514\t515\r\n",
      "k69_98089\t521\t522\r\n",
      "k69_98089\t549\t550\r\n",
      "k69_98089\t624\t625\r\n",
      "k69_98089\t692\t693\r\n",
      "k69_98089\t716\t717\r\n",
      "k69_98089\t722\t723\r\n",
      "k69_98089\t725\t726\r\n"
     ]
    }
   ],
   "source": [
    "!awk -v OFS='\\t' '/SNP/ {print $1,$4-1,$4}' ../test/test-data/targets.gff | tee  ../test/test-data/targets.snps.bed"
   ]
  },
  {
   "cell_type": "markdown",
   "metadata": {
    "deletable": true,
    "editable": true
   },
   "source": [
    "Use the default Globals settings for Primer3"
   ]
  },
  {
   "cell_type": "code",
   "execution_count": 4,
   "metadata": {
    "collapsed": true,
    "deletable": true,
    "editable": true
   },
   "outputs": [],
   "source": [
    "p3_globals={\n",
    "        'PRIMER_OPT_SIZE': 20,\n",
    "        'PRIMER_PICK_INTERNAL_OLIGO': 0,\n",
    "        'PRIMER_INTERNAL_MAX_SELF_END': 8,\n",
    "        'PRIMER_MIN_SIZE': 18,\n",
    "        'PRIMER_MAX_SIZE': 25,\n",
    "        'PRIMER_OPT_TM': 60.0,\n",
    "        'PRIMER_MIN_TM': 57.0,\n",
    "        'PRIMER_MAX_TM': 63.0,\n",
    "        'PRIMER_MIN_GC': 20.0,\n",
    "        'PRIMER_MAX_GC': 80.0,\n",
    "        'PRIMER_MAX_POLY_X': 100,\n",
    "        'PRIMER_INTERNAL_MAX_POLY_X': 100,\n",
    "        'PRIMER_SALT_MONOVALENT': 50.0,\n",
    "        'PRIMER_DNA_CONC': 50.0,\n",
    "        'PRIMER_MAX_NS_ACCEPTED': 0,\n",
    "        'PRIMER_MAX_SELF_ANY': 12,\n",
    "        'PRIMER_MAX_SELF_END': 8,\n",
    "        'PRIMER_PAIR_MAX_COMPL_ANY': 12,\n",
    "        'PRIMER_PAIR_MAX_COMPL_END': 8,\n",
    "        'PRIMER_PRODUCT_SIZE_RANGE': [60,250],\n",
    "    }"
   ]
  },
  {
   "cell_type": "markdown",
   "metadata": {
    "deletable": true,
    "editable": true
   },
   "source": [
    "### Load up the Module and Create a Designer Object"
   ]
  },
  {
   "cell_type": "code",
   "execution_count": 155,
   "metadata": {
    "collapsed": false,
    "deletable": true,
    "editable": true
   },
   "outputs": [],
   "source": [
    "from pcr_marker_design import design as d\n",
    "test_seq='../test/test-data/targets.fasta'\n",
    "annfile='../test/test-data/targets.snps.bed'\n",
    "des_test=d.PrimerDesign(test_seq,annfile,'Designer Test')"
   ]
  },
  {
   "cell_type": "markdown",
   "metadata": {},
   "source": [
    "### Make a BedTool target"
   ]
  },
  {
   "cell_type": "code",
   "execution_count": 156,
   "metadata": {
    "collapsed": true
   },
   "outputs": [],
   "source": [
    "testBed=BedTool('../test/test-data/targets.gff')"
   ]
  },
  {
   "cell_type": "code",
   "execution_count": 157,
   "metadata": {
    "collapsed": false
   },
   "outputs": [
    {
     "data": {
      "text/plain": [
       "[[1, 1140, 1141],\n",
       " [1, 1146, 1147],\n",
       " [1, 1335, 1336],\n",
       " [1, 2, 3],\n",
       " [1, 660, 661],\n",
       " [1, 750, 751],\n",
       " [1, 886, 887],\n",
       " [1, 1, 2],\n",
       " [1, 29, 30],\n",
       " [1, 2, 3],\n",
       " [1, 452, 453],\n",
       " [1, 514, 515],\n",
       " [1, 521, 522],\n",
       " [1, 549, 550],\n",
       " [1, 624, 625],\n",
       " [1, 692, 693],\n",
       " [1, 716, 717],\n",
       " [1, 722, 723],\n",
       " [1, 725, 726]]"
      ]
     },
     "execution_count": 157,
     "metadata": {},
     "output_type": "execute_result"
    }
   ],
   "source": [
    "[[X.length,X.start,X.end] for X in des_test.annotations]"
   ]
  },
  {
   "cell_type": "markdown",
   "metadata": {
    "deletable": true,
    "editable": true
   },
   "source": [
    "### Create a Target\n",
    "\n",
    "- base this on the test data targets file\n",
    "- do this manually with the from_string option\n",
    "- debtools is zero-indexed"
   ]
  },
  {
   "cell_type": "code",
   "execution_count": 158,
   "metadata": {
    "collapsed": false,
    "deletable": true,
    "editable": true
   },
   "outputs": [
    {
     "name": "stdout",
     "output_type": "stream",
     "text": [
      "k69_93535\t1146\t1147\n",
      "\n"
     ]
    }
   ],
   "source": [
    "target=BedTool(\"k69_93535 1146 1147\",from_string=True)\n",
    "print(target)"
   ]
  },
  {
   "cell_type": "code",
   "execution_count": 212,
   "metadata": {
    "collapsed": false
   },
   "outputs": [
    {
     "data": {
      "text/plain": [
       "1146"
      ]
     },
     "execution_count": 212,
     "metadata": {},
     "output_type": "execute_result"
    }
   ],
   "source": [
    "target[0].start"
   ]
  },
  {
   "cell_type": "code",
   "execution_count": 213,
   "metadata": {
    "collapsed": false,
    "deletable": true,
    "editable": true
   },
   "outputs": [
    {
     "data": {
      "text/plain": [
       "1147"
      ]
     },
     "execution_count": 213,
     "metadata": {},
     "output_type": "execute_result"
    }
   ],
   "source": [
    "target[0].end"
   ]
  },
  {
   "cell_type": "code",
   "execution_count": 216,
   "metadata": {
    "collapsed": false
   },
   "outputs": [
    {
     "data": {
      "text/plain": [
       "1"
      ]
     },
     "execution_count": 216,
     "metadata": {},
     "output_type": "execute_result"
    }
   ],
   "source": [
    "target[0].length"
   ]
  },
  {
   "cell_type": "code",
   "execution_count": 132,
   "metadata": {
    "collapsed": false,
    "deletable": true,
    "editable": true
   },
   "outputs": [
    {
     "data": {
      "text/plain": [
       "250"
      ]
     },
     "execution_count": 132,
     "metadata": {},
     "output_type": "execute_result"
    }
   ],
   "source": [
    "p3_globals['PRIMER_PRODUCT_SIZE_RANGE'][1]"
   ]
  },
  {
   "cell_type": "code",
   "execution_count": 289,
   "metadata": {
    "collapsed": false,
    "deletable": true,
    "editable": true
   },
   "outputs": [
    {
     "data": {
      "text/plain": [
       "{'REF_OFFSET': 896,\n",
       " 'SEQUENCE_EXCLUDED_REGION': [(244, 1), (439, 1)],\n",
       " 'SEQUENCE_ID': 'Designer Test',\n",
       " 'SEQUENCE_TARGET': (250, 1),\n",
       " 'SEQUENCE_TEMPLATE': 'AAATAATGGAGAATAGATGGTTCAAGAATGGATTCGAGCCTGTGAAATATTACATTGAGAATGATAGGTTTCATAAGTGGTGTAGCTTAGACGAAGAGAATGCTAATGACAACGAGGAGGTAGAATCTGGAGATGAATCAGACTCTTCAGTTGCTTCCTGCCCTCCTACACTTAATGAAGGAAAGAAAAAAAGGACAGGGAAGCTTCATAGGCCTTTGAGTCTGAACGCATTTGACATAATTTCCTTTTCCAGAGGATTTGATCTTTCAGGTTTGTTTGAAGAAACGGGAGATGAAACAAGATTTGTGTCGGGTGAAACGATACCAAACATCATATCGAAATTGGAGGAGATTGCAAAAGTGGGTAGTTTCACGTTTAGGAAGAAGGATTGTAGGGTTAGTTTAGAAGGAACGCGAGAAGGAGTGAAGGGCCCTCTTACGATTGGAGCTGAGATATTTGAGCTTACGCCTAGTTTGGTTGTTGTTGAGCTTAAGAAGAAAG',\n",
       " 'TARGET_ID': 'k69_93535:1147-1147'}"
      ]
     },
     "execution_count": 289,
     "metadata": {},
     "output_type": "execute_result"
    }
   ],
   "source": [
    "seq_test=des_test.getseqslicedict(target,p3_globals['PRIMER_PRODUCT_SIZE_RANGE'][1])\n",
    "seq_test"
   ]
  },
  {
   "cell_type": "code",
   "execution_count": 218,
   "metadata": {
    "collapsed": false,
    "deletable": true,
    "editable": true
   },
   "outputs": [
    {
     "data": {
      "text/plain": [
       "'k69_93535:1147-1147'"
      ]
     },
     "execution_count": 218,
     "metadata": {},
     "output_type": "execute_result"
    }
   ],
   "source": [
    "str(seq_test['TARGET_ID'])"
   ]
  },
  {
   "cell_type": "code",
   "execution_count": 219,
   "metadata": {
    "collapsed": false,
    "deletable": true,
    "editable": true
   },
   "outputs": [],
   "source": [
    "import primer3 as P3\n",
    "import pandas as pd"
   ]
  },
  {
   "cell_type": "markdown",
   "metadata": {},
   "source": [
    "### Design Using the Slice and P3 py directly"
   ]
  },
  {
   "cell_type": "code",
   "execution_count": 290,
   "metadata": {
    "collapsed": false,
    "deletable": true,
    "editable": true,
    "scrolled": true
   },
   "outputs": [],
   "source": [
    "P3_test=P3.designPrimers(seq_args=seq_test,\n",
    "                 global_args= p3_globals)"
   ]
  },
  {
   "cell_type": "code",
   "execution_count": 291,
   "metadata": {
    "collapsed": false
   },
   "outputs": [
    {
     "data": {
      "text/plain": [
       "0    5\n",
       "1    5\n",
       "Name: PRIMER_LEFT_NUM_RETURNED, dtype: int64"
      ]
     },
     "execution_count": 291,
     "metadata": {},
     "output_type": "execute_result"
    }
   ],
   "source": [
    "test=pd.DataFrame.from_dict(P3_test)\n",
    "test.PRIMER_LEFT_NUM_RETURNED"
   ]
  },
  {
   "cell_type": "code",
   "execution_count": 292,
   "metadata": {
    "collapsed": false,
    "scrolled": false
   },
   "outputs": [
    {
     "data": {
      "text/plain": [
       "['PRIMER_INTERNAL_EXPLAIN',\n",
       " 'PRIMER_INTERNAL_NUM_RETURNED',\n",
       " 'PRIMER_LEFT_0',\n",
       " 'PRIMER_LEFT_0_END_STABILITY',\n",
       " 'PRIMER_LEFT_0_GC_PERCENT',\n",
       " 'PRIMER_LEFT_0_HAIRPIN_TH',\n",
       " 'PRIMER_LEFT_0_PENALTY',\n",
       " 'PRIMER_LEFT_0_SELF_ANY_TH',\n",
       " 'PRIMER_LEFT_0_SELF_END_TH',\n",
       " 'PRIMER_LEFT_0_SEQUENCE',\n",
       " 'PRIMER_LEFT_0_TM',\n",
       " 'PRIMER_LEFT_1',\n",
       " 'PRIMER_LEFT_1_END_STABILITY',\n",
       " 'PRIMER_LEFT_1_GC_PERCENT',\n",
       " 'PRIMER_LEFT_1_HAIRPIN_TH',\n",
       " 'PRIMER_LEFT_1_PENALTY',\n",
       " 'PRIMER_LEFT_1_SELF_ANY_TH',\n",
       " 'PRIMER_LEFT_1_SELF_END_TH',\n",
       " 'PRIMER_LEFT_1_SEQUENCE',\n",
       " 'PRIMER_LEFT_1_TM',\n",
       " 'PRIMER_LEFT_2',\n",
       " 'PRIMER_LEFT_2_END_STABILITY',\n",
       " 'PRIMER_LEFT_2_GC_PERCENT',\n",
       " 'PRIMER_LEFT_2_HAIRPIN_TH',\n",
       " 'PRIMER_LEFT_2_PENALTY',\n",
       " 'PRIMER_LEFT_2_SELF_ANY_TH',\n",
       " 'PRIMER_LEFT_2_SELF_END_TH',\n",
       " 'PRIMER_LEFT_2_SEQUENCE',\n",
       " 'PRIMER_LEFT_2_TM',\n",
       " 'PRIMER_LEFT_3',\n",
       " 'PRIMER_LEFT_3_END_STABILITY',\n",
       " 'PRIMER_LEFT_3_GC_PERCENT',\n",
       " 'PRIMER_LEFT_3_HAIRPIN_TH',\n",
       " 'PRIMER_LEFT_3_PENALTY',\n",
       " 'PRIMER_LEFT_3_SELF_ANY_TH',\n",
       " 'PRIMER_LEFT_3_SELF_END_TH',\n",
       " 'PRIMER_LEFT_3_SEQUENCE',\n",
       " 'PRIMER_LEFT_3_TM',\n",
       " 'PRIMER_LEFT_4',\n",
       " 'PRIMER_LEFT_4_END_STABILITY',\n",
       " 'PRIMER_LEFT_4_GC_PERCENT',\n",
       " 'PRIMER_LEFT_4_HAIRPIN_TH',\n",
       " 'PRIMER_LEFT_4_PENALTY',\n",
       " 'PRIMER_LEFT_4_SELF_ANY_TH',\n",
       " 'PRIMER_LEFT_4_SELF_END_TH',\n",
       " 'PRIMER_LEFT_4_SEQUENCE',\n",
       " 'PRIMER_LEFT_4_TM',\n",
       " 'PRIMER_LEFT_EXPLAIN',\n",
       " 'PRIMER_LEFT_NUM_RETURNED',\n",
       " 'PRIMER_PAIR_0_COMPL_ANY_TH',\n",
       " 'PRIMER_PAIR_0_COMPL_END_TH',\n",
       " 'PRIMER_PAIR_0_PENALTY',\n",
       " 'PRIMER_PAIR_0_PRODUCT_SIZE',\n",
       " 'PRIMER_PAIR_1_COMPL_ANY_TH',\n",
       " 'PRIMER_PAIR_1_COMPL_END_TH',\n",
       " 'PRIMER_PAIR_1_PENALTY',\n",
       " 'PRIMER_PAIR_1_PRODUCT_SIZE',\n",
       " 'PRIMER_PAIR_2_COMPL_ANY_TH',\n",
       " 'PRIMER_PAIR_2_COMPL_END_TH',\n",
       " 'PRIMER_PAIR_2_PENALTY',\n",
       " 'PRIMER_PAIR_2_PRODUCT_SIZE',\n",
       " 'PRIMER_PAIR_3_COMPL_ANY_TH',\n",
       " 'PRIMER_PAIR_3_COMPL_END_TH',\n",
       " 'PRIMER_PAIR_3_PENALTY',\n",
       " 'PRIMER_PAIR_3_PRODUCT_SIZE',\n",
       " 'PRIMER_PAIR_4_COMPL_ANY_TH',\n",
       " 'PRIMER_PAIR_4_COMPL_END_TH',\n",
       " 'PRIMER_PAIR_4_PENALTY',\n",
       " 'PRIMER_PAIR_4_PRODUCT_SIZE',\n",
       " 'PRIMER_PAIR_NUM_RETURNED',\n",
       " 'PRIMER_RIGHT_0',\n",
       " 'PRIMER_RIGHT_0_END_STABILITY',\n",
       " 'PRIMER_RIGHT_0_GC_PERCENT',\n",
       " 'PRIMER_RIGHT_0_HAIRPIN_TH',\n",
       " 'PRIMER_RIGHT_0_PENALTY',\n",
       " 'PRIMER_RIGHT_0_SELF_ANY_TH',\n",
       " 'PRIMER_RIGHT_0_SELF_END_TH',\n",
       " 'PRIMER_RIGHT_0_SEQUENCE',\n",
       " 'PRIMER_RIGHT_0_TM',\n",
       " 'PRIMER_RIGHT_1',\n",
       " 'PRIMER_RIGHT_1_END_STABILITY',\n",
       " 'PRIMER_RIGHT_1_GC_PERCENT',\n",
       " 'PRIMER_RIGHT_1_HAIRPIN_TH',\n",
       " 'PRIMER_RIGHT_1_PENALTY',\n",
       " 'PRIMER_RIGHT_1_SELF_ANY_TH',\n",
       " 'PRIMER_RIGHT_1_SELF_END_TH',\n",
       " 'PRIMER_RIGHT_1_SEQUENCE',\n",
       " 'PRIMER_RIGHT_1_TM',\n",
       " 'PRIMER_RIGHT_2',\n",
       " 'PRIMER_RIGHT_2_END_STABILITY',\n",
       " 'PRIMER_RIGHT_2_GC_PERCENT',\n",
       " 'PRIMER_RIGHT_2_HAIRPIN_TH',\n",
       " 'PRIMER_RIGHT_2_PENALTY',\n",
       " 'PRIMER_RIGHT_2_SELF_ANY_TH',\n",
       " 'PRIMER_RIGHT_2_SELF_END_TH',\n",
       " 'PRIMER_RIGHT_2_SEQUENCE',\n",
       " 'PRIMER_RIGHT_2_TM',\n",
       " 'PRIMER_RIGHT_3',\n",
       " 'PRIMER_RIGHT_3_END_STABILITY',\n",
       " 'PRIMER_RIGHT_3_GC_PERCENT',\n",
       " 'PRIMER_RIGHT_3_HAIRPIN_TH',\n",
       " 'PRIMER_RIGHT_3_PENALTY',\n",
       " 'PRIMER_RIGHT_3_SELF_ANY_TH',\n",
       " 'PRIMER_RIGHT_3_SELF_END_TH',\n",
       " 'PRIMER_RIGHT_3_SEQUENCE',\n",
       " 'PRIMER_RIGHT_3_TM',\n",
       " 'PRIMER_RIGHT_4',\n",
       " 'PRIMER_RIGHT_4_END_STABILITY',\n",
       " 'PRIMER_RIGHT_4_GC_PERCENT',\n",
       " 'PRIMER_RIGHT_4_HAIRPIN_TH',\n",
       " 'PRIMER_RIGHT_4_PENALTY',\n",
       " 'PRIMER_RIGHT_4_SELF_ANY_TH',\n",
       " 'PRIMER_RIGHT_4_SELF_END_TH',\n",
       " 'PRIMER_RIGHT_4_SEQUENCE',\n",
       " 'PRIMER_RIGHT_4_TM',\n",
       " 'PRIMER_RIGHT_EXPLAIN',\n",
       " 'PRIMER_RIGHT_NUM_RETURNED']"
      ]
     },
     "execution_count": 292,
     "metadata": {},
     "output_type": "execute_result"
    }
   ],
   "source": [
    "[X for X in test.columns]"
   ]
  },
  {
   "cell_type": "markdown",
   "metadata": {},
   "source": [
    "Issues\n",
    "====\n",
    "\n",
    "- need to pass in more metadata\n",
    "- id unless there is one in the bed tool\n",
    "- target sequence and region so we can map back\n",
    "- need a convenient tabular form to filter in pandas"
   ]
  },
  {
   "cell_type": "markdown",
   "metadata": {},
   "source": [
    "### Design Using Module"
   ]
  },
  {
   "cell_type": "code",
   "execution_count": 223,
   "metadata": {
    "collapsed": false
   },
   "outputs": [],
   "source": [
    "from pcr_marker_design import run_p3"
   ]
  },
  {
   "cell_type": "code",
   "execution_count": 224,
   "metadata": {
    "collapsed": false
   },
   "outputs": [
    {
     "data": {
      "text/plain": [
       "[{'PRIMER_LEFT': (194, 20),\n",
       "  'PRIMER_LEFT_SEQUENCE': 'ACAGGGAAGCTTCATAGGCC',\n",
       "  'PRIMER_RIGHT': (424, 20),\n",
       "  'PRIMER_RIGHT_SEQUENCE': 'CACTCCTTCTCGCGTTCCTT',\n",
       "  'TARGET_ID': 'k69_93535:1147-1147'},\n",
       " {'PRIMER_LEFT': (194, 20),\n",
       "  'PRIMER_LEFT_SEQUENCE': 'ACAGGGAAGCTTCATAGGCC',\n",
       "  'PRIMER_RIGHT': (428, 20),\n",
       "  'PRIMER_RIGHT_SEQUENCE': 'CCTTCACTCCTTCTCGCGTT',\n",
       "  'TARGET_ID': 'k69_93535:1147-1147'},\n",
       " {'PRIMER_LEFT': (194, 20),\n",
       "  'PRIMER_LEFT_SEQUENCE': 'ACAGGGAAGCTTCATAGGCC',\n",
       "  'PRIMER_RIGHT': (426, 20),\n",
       "  'PRIMER_RIGHT_SEQUENCE': 'TTCACTCCTTCTCGCGTTCC',\n",
       "  'TARGET_ID': 'k69_93535:1147-1147'},\n",
       " {'PRIMER_LEFT': (209, 20),\n",
       "  'PRIMER_LEFT_SEQUENCE': 'AGGCCTTTGAGTCTGAACGC',\n",
       "  'PRIMER_RIGHT': (424, 20),\n",
       "  'PRIMER_RIGHT_SEQUENCE': 'CACTCCTTCTCGCGTTCCTT',\n",
       "  'TARGET_ID': 'k69_93535:1147-1147'}]"
      ]
     },
     "execution_count": 224,
     "metadata": {},
     "output_type": "execute_result"
    }
   ],
   "source": [
    "run_p3.run_P3(global_dict=p3_globals,target_dict=seq_test)"
   ]
  },
  {
   "cell_type": "code",
   "execution_count": 288,
   "metadata": {
    "collapsed": false
   },
   "outputs": [
    {
     "ename": "TypeError",
     "evalue": "'dict' object is not callable",
     "output_type": "error",
     "traceback": [
      "\u001b[0;31m---------------------------------------------------------------------------\u001b[0m",
      "\u001b[0;31mTypeError\u001b[0m                                 Traceback (most recent call last)",
      "\u001b[0;32m<ipython-input-288-10d483d3bfc3>\u001b[0m in \u001b[0;36m<module>\u001b[0;34m()\u001b[0m\n\u001b[0;32m----> 1\u001b[0;31m \u001b[0mpd\u001b[0m\u001b[0;34m.\u001b[0m\u001b[0mDataFrame\u001b[0m\u001b[0;34m.\u001b[0m\u001b[0mfrom_dict\u001b[0m\u001b[0;34m(\u001b[0m\u001b[0mrun_p3\u001b[0m\u001b[0;34m.\u001b[0m\u001b[0mrun_P3\u001b[0m\u001b[0;34m(\u001b[0m\u001b[0mglobal_dict\u001b[0m\u001b[0;34m=\u001b[0m\u001b[0mp3_globals\u001b[0m\u001b[0;34m,\u001b[0m\u001b[0mtarget_dict\u001b[0m\u001b[0;34m=\u001b[0m\u001b[0mseq_test\u001b[0m\u001b[0;34m)\u001b[0m\u001b[0;34m)\u001b[0m\u001b[0;34m\u001b[0m\u001b[0m\n\u001b[0m",
      "\u001b[0;32m/Users/johnmccallum/Documents/pcr_marker_design/pcr_marker_design/run_p3.py\u001b[0m in \u001b[0;36mrun_P3\u001b[0;34m(target_dict, global_dict)\u001b[0m\n\u001b[1;32m     41\u001b[0m     \u001b[0;32mfor\u001b[0m \u001b[0mi\u001b[0m \u001b[0;32min\u001b[0m \u001b[0mrange\u001b[0m\u001b[0;34m(\u001b[0m\u001b[0;36m0\u001b[0m\u001b[0;34m,\u001b[0m \u001b[0mint\u001b[0m\u001b[0;34m(\u001b[0m\u001b[0mP3_dict\u001b[0m\u001b[0;34m.\u001b[0m\u001b[0mget\u001b[0m\u001b[0;34m(\u001b[0m\u001b[0;34m'PRIMER_RIGHT_NUM_RETURNED'\u001b[0m\u001b[0;34m)\u001b[0m\u001b[0;34m)\u001b[0m \u001b[0;34m-\u001b[0m \u001b[0;36m1\u001b[0m\u001b[0;34m)\u001b[0m\u001b[0;34m:\u001b[0m\u001b[0;34m\u001b[0m\u001b[0m\n\u001b[1;32m     42\u001b[0m         \u001b[0mprimer_dict\u001b[0m\u001b[0;34m=\u001b[0m\u001b[0mdict\u001b[0m\u001b[0;34m(\u001b[0m\u001b[0mTARGET_ID\u001b[0m\u001b[0;34m=\u001b[0m\u001b[0mtarget_dict\u001b[0m\u001b[0;34m.\u001b[0m\u001b[0mget\u001b[0m\u001b[0;34m(\u001b[0m\u001b[0;34m'TARGET_ID'\u001b[0m\u001b[0;34m)\u001b[0m\u001b[0;34m)\u001b[0m\u001b[0;34m\u001b[0m\u001b[0m\n\u001b[0;32m---> 43\u001b[0;31m         \u001b[0mprimer_dict\u001b[0m\u001b[0;34m(\u001b[0m\u001b[0mPRIMER_RIGHT_SEQUENCE\u001b[0m\u001b[0;34m=\u001b[0m\u001b[0mP3_dict\u001b[0m\u001b[0;34m.\u001b[0m\u001b[0mget\u001b[0m\u001b[0;34m(\u001b[0m\u001b[0;34m'PRIMER_RIGHT_'\u001b[0m \u001b[0;34m+\u001b[0m \u001b[0mstr\u001b[0m\u001b[0;34m(\u001b[0m\u001b[0mi\u001b[0m\u001b[0;34m)\u001b[0m \u001b[0;34m+\u001b[0m \u001b[0;34m'_SEQUENCE'\u001b[0m\u001b[0;34m)\u001b[0m\u001b[0;34m)\u001b[0m\u001b[0;34m\u001b[0m\u001b[0m\n\u001b[0m\u001b[1;32m     44\u001b[0m         \u001b[0mprimer_dict\u001b[0m\u001b[0;34m(\u001b[0m\u001b[0mPRIMER_LEFT_SEQUENCE\u001b[0m\u001b[0;34m=\u001b[0m\u001b[0mP3_dict\u001b[0m\u001b[0;34m.\u001b[0m\u001b[0mget\u001b[0m\u001b[0;34m(\u001b[0m\u001b[0;34m'PRIMER_LEFT_'\u001b[0m \u001b[0;34m+\u001b[0m \u001b[0mstr\u001b[0m\u001b[0;34m(\u001b[0m\u001b[0mi\u001b[0m\u001b[0;34m)\u001b[0m \u001b[0;34m+\u001b[0m \u001b[0;34m'_SEQUENCE'\u001b[0m\u001b[0;34m)\u001b[0m\u001b[0;34m)\u001b[0m\u001b[0;34m\u001b[0m\u001b[0m\n\u001b[1;32m     45\u001b[0m         \u001b[0mprimer_list\u001b[0m\u001b[0;34m.\u001b[0m\u001b[0mappend\u001b[0m\u001b[0;34m(\u001b[0m\u001b[0mprimer_dict\u001b[0m\u001b[0;34m)\u001b[0m\u001b[0;34m\u001b[0m\u001b[0m\n",
      "\u001b[0;31mTypeError\u001b[0m: 'dict' object is not callable"
     ]
    }
   ],
   "source": [
    "pd.DataFrame.from_dict(run_p3.run_P3(global_dict=p3_globals,target_dict=seq_test))"
   ]
  },
  {
   "cell_type": "markdown",
   "metadata": {},
   "source": [
    "### Try Design around a longer Target INterval"
   ]
  },
  {
   "cell_type": "markdown",
   "metadata": {},
   "source": [
    "use this magic to force reload when editing source"
   ]
  },
  {
   "cell_type": "code",
   "execution_count": 147,
   "metadata": {
    "collapsed": false
   },
   "outputs": [
    {
     "name": "stdout",
     "output_type": "stream",
     "text": [
      "The autoreload extension is already loaded. To reload it, use:\n",
      "  %reload_ext autoreload\n"
     ]
    }
   ],
   "source": [
    "%load_ext autoreload\n",
    "%autoreload 2"
   ]
  },
  {
   "cell_type": "code",
   "execution_count": 232,
   "metadata": {
    "collapsed": false,
    "deletable": true,
    "editable": true
   },
   "outputs": [],
   "source": [
    "from pcr_marker_design import design as d\n",
    "test_seq=\"../test/test-data/targets.fasta\"\n",
    "annfile= \"../test/test-data/targets.snps.bed\"\n",
    "designer = d.PrimerDesign(test_seq,annfile,'Test')\n",
    "my_target=BedTool(\"k69_93535 1200 1300\",from_string=True)\n",
    "seqslice=designer.getseqslicedict(target,250)"
   ]
  },
  {
   "cell_type": "code",
   "execution_count": 303,
   "metadata": {
    "collapsed": false,
    "deletable": true,
    "editable": true
   },
   "outputs": [
    {
     "data": {
      "text/plain": [
       "{'REF_OFFSET': 896,\n",
       " 'SEQUENCE_EXCLUDED_REGION': [(244, 1), (439, 1)],\n",
       " 'SEQUENCE_ID': 'Test',\n",
       " 'SEQUENCE_TARGET': (250, 1),\n",
       " 'SEQUENCE_TEMPLATE': 'AAATAATGGAGAATAGATGGTTCAAGAATGGATTCGAGCCTGTGAAATATTACATTGAGAATGATAGGTTTCATAAGTGGTGTAGCTTAGACGAAGAGAATGCTAATGACAACGAGGAGGTAGAATCTGGAGATGAATCAGACTCTTCAGTTGCTTCCTGCCCTCCTACACTTAATGAAGGAAAGAAAAAAAGGACAGGGAAGCTTCATAGGCCTTTGAGTCTGAACGCATTTGACATAATTTCCTTTTCCAGAGGATTTGATCTTTCAGGTTTGTTTGAAGAAACGGGAGATGAAACAAGATTTGTGTCGGGTGAAACGATACCAAACATCATATCGAAATTGGAGGAGATTGCAAAAGTGGGTAGTTTCACGTTTAGGAAGAAGGATTGTAGGGTTAGTTTAGAAGGAACGCGAGAAGGAGTGAAGGGCCCTCTTACGATTGGAGCTGAGATATTTGAGCTTACGCCTAGTTTGGTTGTTGTTGAGCTTAAGAAGAAAG',\n",
       " 'TARGET_ID': 'k69_93535:1147-1147'}"
      ]
     },
     "execution_count": 303,
     "metadata": {},
     "output_type": "execute_result"
    }
   ],
   "source": [
    "seqslice"
   ]
  },
  {
   "cell_type": "code",
   "execution_count": 304,
   "metadata": {
    "collapsed": false,
    "deletable": true,
    "editable": true
   },
   "outputs": [
    {
     "ename": "TypeError",
     "evalue": "'NoneType' object is not subscriptable",
     "output_type": "error",
     "traceback": [
      "\u001b[0;31m---------------------------------------------------------------------------\u001b[0m",
      "\u001b[0;31mTypeError\u001b[0m                                 Traceback (most recent call last)",
      "\u001b[0;32m<ipython-input-304-1c8b18d5ffeb>\u001b[0m in \u001b[0;36m<module>\u001b[0;34m()\u001b[0m\n\u001b[0;32m----> 1\u001b[0;31m \u001b[0mrun_p3\u001b[0m\u001b[0;34m.\u001b[0m\u001b[0mrun_P3\u001b[0m\u001b[0;34m(\u001b[0m\u001b[0mglobal_dict\u001b[0m\u001b[0;34m=\u001b[0m\u001b[0mp3_globals\u001b[0m\u001b[0;34m,\u001b[0m\u001b[0mtarget_dict\u001b[0m\u001b[0;34m=\u001b[0m\u001b[0mseqslice\u001b[0m\u001b[0;34m)\u001b[0m\u001b[0;34m\u001b[0m\u001b[0m\n\u001b[0m",
      "\u001b[0;32m/Users/johnmccallum/Documents/pcr_marker_design/pcr_marker_design/run_p3.py\u001b[0m in \u001b[0;36mrun_P3\u001b[0;34m(target_dict, global_dict)\u001b[0m\n\u001b[1;32m     46\u001b[0m         \u001b[0mprimer_dict\u001b[0m\u001b[0;34m[\u001b[0m\u001b[0;34m'PRIMER_LEFT_'\u001b[0m\u001b[0;34m]\u001b[0m\u001b[0;34m=\u001b[0m\u001b[0;34m(\u001b[0m\u001b[0mpr_left\u001b[0m\u001b[0;34m[\u001b[0m\u001b[0;36m0\u001b[0m\u001b[0;34m]\u001b[0m \u001b[0;34m+\u001b[0m \u001b[0mmy_offset\u001b[0m\u001b[0;34m,\u001b[0m\u001b[0mpr_left\u001b[0m\u001b[0;34m[\u001b[0m\u001b[0;36m1\u001b[0m\u001b[0;34m]\u001b[0m\u001b[0;34m)\u001b[0m\u001b[0;34m\u001b[0m\u001b[0m\n\u001b[1;32m     47\u001b[0m         \u001b[0mpr_right\u001b[0m \u001b[0;34m=\u001b[0m \u001b[0mP3_dict\u001b[0m\u001b[0;34m.\u001b[0m\u001b[0mget\u001b[0m\u001b[0;34m(\u001b[0m\u001b[0;34m'PRIMER_RIGHT'\u001b[0m \u001b[0;34m+\u001b[0m \u001b[0mstr\u001b[0m\u001b[0;34m(\u001b[0m\u001b[0mi\u001b[0m\u001b[0;34m)\u001b[0m\u001b[0;34m)\u001b[0m\u001b[0;34m\u001b[0m\u001b[0m\n\u001b[0;32m---> 48\u001b[0;31m         \u001b[0mprimer_dict\u001b[0m\u001b[0;34m[\u001b[0m\u001b[0;34m'PRIMER_RIGHT'\u001b[0m\u001b[0;34m]\u001b[0m \u001b[0;34m=\u001b[0m \u001b[0;34m(\u001b[0m\u001b[0mpr_right\u001b[0m\u001b[0;34m[\u001b[0m\u001b[0;36m0\u001b[0m\u001b[0;34m]\u001b[0m \u001b[0;34m+\u001b[0m \u001b[0mmy_offset\u001b[0m\u001b[0;34m,\u001b[0m \u001b[0mpr_right\u001b[0m\u001b[0;34m[\u001b[0m\u001b[0;36m1\u001b[0m\u001b[0;34m]\u001b[0m\u001b[0;34m)\u001b[0m\u001b[0;34m\u001b[0m\u001b[0m\n\u001b[0m\u001b[1;32m     49\u001b[0m         \u001b[0mprimer_list\u001b[0m\u001b[0;34m.\u001b[0m\u001b[0mappend\u001b[0m\u001b[0;34m(\u001b[0m\u001b[0mprimer_dict\u001b[0m\u001b[0;34m)\u001b[0m\u001b[0;34m\u001b[0m\u001b[0m\n\u001b[1;32m     50\u001b[0m \u001b[0;34m\u001b[0m\u001b[0m\n",
      "\u001b[0;31mTypeError\u001b[0m: 'NoneType' object is not subscriptable"
     ]
    }
   ],
   "source": [
    "run_p3.run_P3(global_dict=p3_globals,target_dict=seqslice)"
   ]
  },
  {
   "cell_type": "code",
   "execution_count": 286,
   "metadata": {
    "collapsed": false
   },
   "outputs": [
    {
     "ename": "TypeError",
     "evalue": "'dict' object is not callable",
     "output_type": "error",
     "traceback": [
      "\u001b[0;31m---------------------------------------------------------------------------\u001b[0m",
      "\u001b[0;31mTypeError\u001b[0m                                 Traceback (most recent call last)",
      "\u001b[0;32m<ipython-input-286-4a8e73c954de>\u001b[0m in \u001b[0;36m<module>\u001b[0;34m()\u001b[0m\n\u001b[0;32m----> 1\u001b[0;31m \u001b[0mpd\u001b[0m\u001b[0;34m.\u001b[0m\u001b[0mDataFrame\u001b[0m\u001b[0;34m.\u001b[0m\u001b[0mfrom_dict\u001b[0m\u001b[0;34m(\u001b[0m\u001b[0mrun_p3\u001b[0m\u001b[0;34m.\u001b[0m\u001b[0mrun_P3\u001b[0m\u001b[0;34m(\u001b[0m\u001b[0mglobal_dict\u001b[0m\u001b[0;34m=\u001b[0m\u001b[0mp3_globals\u001b[0m\u001b[0;34m,\u001b[0m\u001b[0mtarget_dict\u001b[0m\u001b[0;34m=\u001b[0m\u001b[0mseqslice\u001b[0m\u001b[0;34m)\u001b[0m\u001b[0;34m)\u001b[0m\u001b[0;34m\u001b[0m\u001b[0m\n\u001b[0m",
      "\u001b[0;32m/Users/johnmccallum/Documents/pcr_marker_design/pcr_marker_design/run_p3.py\u001b[0m in \u001b[0;36mrun_P3\u001b[0;34m(target_dict, global_dict)\u001b[0m\n\u001b[1;32m     41\u001b[0m     \u001b[0;32mfor\u001b[0m \u001b[0mi\u001b[0m \u001b[0;32min\u001b[0m \u001b[0mrange\u001b[0m\u001b[0;34m(\u001b[0m\u001b[0;36m0\u001b[0m\u001b[0;34m,\u001b[0m \u001b[0mint\u001b[0m\u001b[0;34m(\u001b[0m\u001b[0mP3_dict\u001b[0m\u001b[0;34m.\u001b[0m\u001b[0mget\u001b[0m\u001b[0;34m(\u001b[0m\u001b[0;34m'PRIMER_RIGHT_NUM_RETURNED'\u001b[0m\u001b[0;34m)\u001b[0m\u001b[0;34m)\u001b[0m \u001b[0;34m-\u001b[0m \u001b[0;36m1\u001b[0m\u001b[0;34m)\u001b[0m\u001b[0;34m:\u001b[0m\u001b[0;34m\u001b[0m\u001b[0m\n\u001b[1;32m     42\u001b[0m         \u001b[0mprimer_dict\u001b[0m\u001b[0;34m=\u001b[0m\u001b[0mdict\u001b[0m\u001b[0;34m(\u001b[0m\u001b[0mTARGET_ID\u001b[0m\u001b[0;34m=\u001b[0m\u001b[0mtarget_dict\u001b[0m\u001b[0;34m.\u001b[0m\u001b[0mget\u001b[0m\u001b[0;34m(\u001b[0m\u001b[0;34m'TARGET_ID'\u001b[0m\u001b[0;34m)\u001b[0m\u001b[0;34m)\u001b[0m\u001b[0;34m\u001b[0m\u001b[0m\n\u001b[0;32m---> 43\u001b[0;31m         \u001b[0mprimer_dict\u001b[0m\u001b[0;34m(\u001b[0m\u001b[0mPRIMER_RIGHT_SEQUENCE\u001b[0m\u001b[0;34m=\u001b[0m\u001b[0mP3_dict\u001b[0m\u001b[0;34m.\u001b[0m\u001b[0mget\u001b[0m\u001b[0;34m(\u001b[0m\u001b[0;34m'PRIMER_RIGHT_'\u001b[0m \u001b[0;34m+\u001b[0m \u001b[0mstr\u001b[0m\u001b[0;34m(\u001b[0m\u001b[0mi\u001b[0m\u001b[0;34m)\u001b[0m \u001b[0;34m+\u001b[0m \u001b[0;34m'_SEQUENCE'\u001b[0m\u001b[0;34m)\u001b[0m\u001b[0;34m)\u001b[0m\u001b[0;34m\u001b[0m\u001b[0m\n\u001b[0m\u001b[1;32m     44\u001b[0m         \u001b[0mprimer_dict\u001b[0m\u001b[0;34m(\u001b[0m\u001b[0mPRIMER_LEFT_SEQUENCE\u001b[0m\u001b[0;34m=\u001b[0m\u001b[0mP3_dict\u001b[0m\u001b[0;34m.\u001b[0m\u001b[0mget\u001b[0m\u001b[0;34m(\u001b[0m\u001b[0;34m'PRIMER_LEFT_'\u001b[0m \u001b[0;34m+\u001b[0m \u001b[0mstr\u001b[0m\u001b[0;34m(\u001b[0m\u001b[0mi\u001b[0m\u001b[0;34m)\u001b[0m \u001b[0;34m+\u001b[0m \u001b[0;34m'_SEQUENCE'\u001b[0m\u001b[0;34m)\u001b[0m\u001b[0;34m)\u001b[0m\u001b[0;34m\u001b[0m\u001b[0m\n\u001b[1;32m     45\u001b[0m         \u001b[0mprimer_list\u001b[0m\u001b[0;34m.\u001b[0m\u001b[0mappend\u001b[0m\u001b[0;34m(\u001b[0m\u001b[0mprimer_dict\u001b[0m\u001b[0;34m)\u001b[0m\u001b[0;34m\u001b[0m\u001b[0m\n",
      "\u001b[0;31mTypeError\u001b[0m: 'dict' object is not callable"
     ]
    }
   ],
   "source": [
    "pd.DataFrame.from_dict(run_p3.run_P3(global_dict=p3_globals,target_dict=seqslice))"
   ]
  },
  {
   "cell_type": "code",
   "execution_count": 285,
   "metadata": {
    "collapsed": false
   },
   "outputs": [
    {
     "ename": "TypeError",
     "evalue": "'dict' object is not callable",
     "output_type": "error",
     "traceback": [
      "\u001b[0;31m---------------------------------------------------------------------------\u001b[0m",
      "\u001b[0;31mTypeError\u001b[0m                                 Traceback (most recent call last)",
      "\u001b[0;32m<ipython-input-285-58794d485ad1>\u001b[0m in \u001b[0;36m<module>\u001b[0;34m()\u001b[0m\n\u001b[0;32m----> 1\u001b[0;31m \u001b[0mtmp\u001b[0m\u001b[0;34m=\u001b[0m\u001b[0mrun_p3\u001b[0m\u001b[0;34m.\u001b[0m\u001b[0mrun_P3\u001b[0m\u001b[0;34m(\u001b[0m\u001b[0mglobal_dict\u001b[0m\u001b[0;34m=\u001b[0m\u001b[0mp3_globals\u001b[0m\u001b[0;34m,\u001b[0m\u001b[0mtarget_dict\u001b[0m\u001b[0;34m=\u001b[0m\u001b[0mseqslice\u001b[0m\u001b[0;34m)\u001b[0m\u001b[0;34m\u001b[0m\u001b[0m\n\u001b[0m\u001b[1;32m      2\u001b[0m \u001b[0mtmp\u001b[0m\u001b[0;34m\u001b[0m\u001b[0m\n",
      "\u001b[0;32m/Users/johnmccallum/Documents/pcr_marker_design/pcr_marker_design/run_p3.py\u001b[0m in \u001b[0;36mrun_P3\u001b[0;34m(target_dict, global_dict)\u001b[0m\n\u001b[1;32m     41\u001b[0m     \u001b[0;32mfor\u001b[0m \u001b[0mi\u001b[0m \u001b[0;32min\u001b[0m \u001b[0mrange\u001b[0m\u001b[0;34m(\u001b[0m\u001b[0;36m0\u001b[0m\u001b[0;34m,\u001b[0m \u001b[0mint\u001b[0m\u001b[0;34m(\u001b[0m\u001b[0mP3_dict\u001b[0m\u001b[0;34m.\u001b[0m\u001b[0mget\u001b[0m\u001b[0;34m(\u001b[0m\u001b[0;34m'PRIMER_RIGHT_NUM_RETURNED'\u001b[0m\u001b[0;34m)\u001b[0m\u001b[0;34m)\u001b[0m \u001b[0;34m-\u001b[0m \u001b[0;36m1\u001b[0m\u001b[0;34m)\u001b[0m\u001b[0;34m:\u001b[0m\u001b[0;34m\u001b[0m\u001b[0m\n\u001b[1;32m     42\u001b[0m         \u001b[0mprimer_dict\u001b[0m\u001b[0;34m=\u001b[0m\u001b[0mdict\u001b[0m\u001b[0;34m(\u001b[0m\u001b[0mTARGET_ID\u001b[0m\u001b[0;34m=\u001b[0m\u001b[0mtarget_dict\u001b[0m\u001b[0;34m.\u001b[0m\u001b[0mget\u001b[0m\u001b[0;34m(\u001b[0m\u001b[0;34m'TARGET_ID'\u001b[0m\u001b[0;34m)\u001b[0m\u001b[0;34m)\u001b[0m\u001b[0;34m\u001b[0m\u001b[0m\n\u001b[0;32m---> 43\u001b[0;31m         \u001b[0mprimer_dict\u001b[0m\u001b[0;34m(\u001b[0m\u001b[0mPRIMER_RIGHT_SEQUENCE\u001b[0m\u001b[0;34m=\u001b[0m\u001b[0mP3_dict\u001b[0m\u001b[0;34m.\u001b[0m\u001b[0mget\u001b[0m\u001b[0;34m(\u001b[0m\u001b[0;34m'PRIMER_RIGHT_'\u001b[0m \u001b[0;34m+\u001b[0m \u001b[0mstr\u001b[0m\u001b[0;34m(\u001b[0m\u001b[0mi\u001b[0m\u001b[0;34m)\u001b[0m \u001b[0;34m+\u001b[0m \u001b[0;34m'_SEQUENCE'\u001b[0m\u001b[0;34m)\u001b[0m\u001b[0;34m)\u001b[0m\u001b[0;34m\u001b[0m\u001b[0m\n\u001b[0m\u001b[1;32m     44\u001b[0m         \u001b[0mprimer_dict\u001b[0m\u001b[0;34m(\u001b[0m\u001b[0mPRIMER_LEFT_SEQUENCE\u001b[0m\u001b[0;34m=\u001b[0m\u001b[0mP3_dict\u001b[0m\u001b[0;34m.\u001b[0m\u001b[0mget\u001b[0m\u001b[0;34m(\u001b[0m\u001b[0;34m'PRIMER_LEFT_'\u001b[0m \u001b[0;34m+\u001b[0m \u001b[0mstr\u001b[0m\u001b[0;34m(\u001b[0m\u001b[0mi\u001b[0m\u001b[0;34m)\u001b[0m \u001b[0;34m+\u001b[0m \u001b[0;34m'_SEQUENCE'\u001b[0m\u001b[0;34m)\u001b[0m\u001b[0;34m)\u001b[0m\u001b[0;34m\u001b[0m\u001b[0m\n\u001b[1;32m     45\u001b[0m         \u001b[0mprimer_list\u001b[0m\u001b[0;34m.\u001b[0m\u001b[0mappend\u001b[0m\u001b[0;34m(\u001b[0m\u001b[0mprimer_dict\u001b[0m\u001b[0;34m)\u001b[0m\u001b[0;34m\u001b[0m\u001b[0m\n",
      "\u001b[0;31mTypeError\u001b[0m: 'dict' object is not callable"
     ]
    }
   ],
   "source": [
    "tmp=run_p3.run_P3(global_dict=p3_globals,target_dict=seqslice)\n",
    "tmp"
   ]
  },
  {
   "cell_type": "code",
   "execution_count": 281,
   "metadata": {
    "collapsed": false
   },
   "outputs": [
    {
     "name": "stdout",
     "output_type": "stream",
     "text": [
      "(1423, 20)\n",
      "(1427, 20)\n",
      "(1425, 20)\n",
      "(1423, 20)\n"
     ]
    }
   ],
   "source": [
    "my_offset=999\n",
    "for i in range(0,4):\n",
    "    PR_R=tmp[i]['PRIMER_RIGHT']\n",
    "    my_R=(PR_R[0] + my_offset,PR_R[1])\n",
    "    print(my_R)"
   ]
  },
  {
   "cell_type": "code",
   "execution_count": 284,
   "metadata": {
    "collapsed": false
   },
   "outputs": [
    {
     "data": {
      "text/plain": [
       "{'bar': 123}"
      ]
     },
     "execution_count": 284,
     "metadata": {},
     "output_type": "execute_result"
    }
   ],
   "source": [
    "foo={}\n",
    "foo['bar']=123\n",
    "foo"
   ]
  },
  {
   "cell_type": "markdown",
   "metadata": {},
   "source": [
    "Need to update primer positions based on offset\n",
    "\n",
    "Primer positions are immutable tuples-not ideal\n",
    "\n",
    "SAM region would be ideal"
   ]
  },
  {
   "cell_type": "code",
   "execution_count": 259,
   "metadata": {
    "collapsed": false
   },
   "outputs": [
    {
     "data": {
      "text/plain": [
       "[(194, 20), (194, 20), (194, 20), (209, 20)]"
      ]
     },
     "execution_count": 259,
     "metadata": {},
     "output_type": "execute_result"
    }
   ],
   "source": [
    "[X.pop('PRIMER_LEFT') for X in tmp]"
   ]
  },
  {
   "cell_type": "code",
   "execution_count": 260,
   "metadata": {
    "collapsed": false
   },
   "outputs": [
    {
     "data": {
      "text/plain": [
       "[{'PRIMER_LEFT_SEQUENCE': 'ACAGGGAAGCTTCATAGGCC',\n",
       "  'PRIMER_RIGHT': (424, 20),\n",
       "  'PRIMER_RIGHT_SEQUENCE': 'CACTCCTTCTCGCGTTCCTT',\n",
       "  'TARGET_ID': 'k69_93535:1147-1147'},\n",
       " {'PRIMER_LEFT_SEQUENCE': 'ACAGGGAAGCTTCATAGGCC',\n",
       "  'PRIMER_RIGHT': (428, 20),\n",
       "  'PRIMER_RIGHT_SEQUENCE': 'CCTTCACTCCTTCTCGCGTT',\n",
       "  'TARGET_ID': 'k69_93535:1147-1147'},\n",
       " {'PRIMER_LEFT_SEQUENCE': 'ACAGGGAAGCTTCATAGGCC',\n",
       "  'PRIMER_RIGHT': (426, 20),\n",
       "  'PRIMER_RIGHT_SEQUENCE': 'TTCACTCCTTCTCGCGTTCC',\n",
       "  'TARGET_ID': 'k69_93535:1147-1147'},\n",
       " {'PRIMER_LEFT_SEQUENCE': 'AGGCCTTTGAGTCTGAACGC',\n",
       "  'PRIMER_RIGHT': (424, 20),\n",
       "  'PRIMER_RIGHT_SEQUENCE': 'CACTCCTTCTCGCGTTCCTT',\n",
       "  'TARGET_ID': 'k69_93535:1147-1147'}]"
      ]
     },
     "execution_count": 260,
     "metadata": {},
     "output_type": "execute_result"
    }
   ],
   "source": [
    "tmp"
   ]
  }
 ],
 "metadata": {
  "kernelspec": {
   "display_name": "Python 3",
   "language": "python",
   "name": "python3"
  },
  "language_info": {
   "codemirror_mode": {
    "name": "ipython",
    "version": 3
   },
   "file_extension": ".py",
   "mimetype": "text/x-python",
   "name": "python",
   "nbconvert_exporter": "python",
   "pygments_lexer": "ipython3",
   "version": "3.5.3"
  }
 },
 "nbformat": 4,
 "nbformat_minor": 0
}
