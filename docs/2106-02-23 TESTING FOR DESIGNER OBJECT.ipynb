{
 "cells": [
  {
   "cell_type": "code",
   "execution_count": 36,
   "metadata": {
    "collapsed": false,
    "deletable": true,
    "editable": true
   },
   "outputs": [
    {
     "name": "stdout",
     "output_type": "stream",
     "text": [
      "\u001b[33mcommit 2213ea5854e8855191c347c0409500aba66d3173\u001b[m\n",
      "Author: John McCallum <cfljam@users.noreply.github.com>\n",
      "Date:   Tue Feb 23 14:52:01 2016 +1300\n",
      "\n",
      "    updated notebook\n"
     ]
    }
   ],
   "source": [
    "!git log -1"
   ]
  },
  {
   "cell_type": "code",
   "execution_count": 37,
   "metadata": {
    "collapsed": false,
    "deletable": true,
    "editable": true
   },
   "outputs": [
    {
     "name": "stdout",
     "output_type": "stream",
     "text": [
      "origin\thttps://github.com/cfljam/pcr_marker_design (fetch)\r\n",
      "origin\thttps://github.com/cfljam/pcr_marker_design (push)\r\n",
      "upstream\thttps://github.com/PlantandFoodResearch/pcr_marker_design (fetch)\r\n",
      "upstream\thttps://github.com/PlantandFoodResearch/pcr_marker_design (push)\r\n"
     ]
    }
   ],
   "source": [
    "!git remote -v"
   ]
  },
  {
   "cell_type": "code",
   "execution_count": 24,
   "metadata": {
    "collapsed": false,
    "deletable": true,
    "editable": true
   },
   "outputs": [
    {
     "name": "stdout",
     "output_type": "stream",
     "text": [
      "anaconda-client==1.6.1\n",
      "appnope==0.1.0\n",
      "cffi==1.9.1\n",
      "clyent==1.2.2\n",
      "conda==4.2.13\n",
      "cryptography==1.7.1\n",
      "decorator==4.0.11\n",
      "entrypoints==0.2.2\n",
      "idna==2.2\n",
      "ipykernel==4.5.2\n",
      "ipython==5.2.2\n",
      "ipython-genutils==0.1.0\n",
      "ipywidgets==5.2.2\n",
      "Jinja2==2.8\n",
      "jsonschema==2.5.1\n",
      "jupyter-client==5.0.0\n",
      "jupyter-console==5.1.0\n",
      "jupyter-core==4.3.0\n",
      "MarkupSafe==0.23\n",
      "mistune==0.7.3\n",
      "nbconvert==4.2.0\n",
      "nbformat==4.2.0\n",
      "notebook==4.4.1\n",
      "numpy==1.12.0\n",
      "pandas==0.19.2\n",
      "pexpect==4.2.1\n",
      "pickleshare==0.7.3\n",
      "prompt-toolkit==1.0.13\n",
      "ptyprocess==0.5.1\n",
      "pyasn1==0.1.9\n",
      "pycosat==0.6.1\n",
      "pycparser==2.17\n",
      "pycrypto==2.6.1\n",
      "Pygments==2.2.0\n",
      "pyOpenSSL==16.2.0\n",
      "python-dateutil==2.3\n",
      "pytz==2016.10\n",
      "PyYAML==3.12\n",
      "pyzmq==16.0.2\n",
      "qtconsole==4.2.1\n",
      "requests==2.12.4\n",
      "ruamel-yaml===-VERSION\n",
      "simplegeneric==0.8.1\n",
      "six==1.10.0\n",
      "terminado==0.6\n",
      "tornado==4.4.2\n",
      "traitlets==4.3.1\n",
      "wcwidth==0.1.7\n",
      "widgetsnbextension==1.2.6\n",
      "\u001b[33mYou are using pip version 8.1.2, however version 9.0.1 is available.\n",
      "You should consider upgrading via the 'pip install --upgrade pip' command.\u001b[0m\n"
     ]
    }
   ],
   "source": [
    "!pip freeze"
   ]
  },
  {
   "cell_type": "code",
   "execution_count": 3,
   "metadata": {
    "collapsed": false,
    "deletable": true,
    "editable": true
   },
   "outputs": [
    {
     "data": {
      "text/plain": [
       "'/Users/johnmccallum/Documents/pcr_marker_design/docs'"
      ]
     },
     "execution_count": 3,
     "metadata": {},
     "output_type": "execute_result"
    }
   ],
   "source": [
    "pwd"
   ]
  },
  {
   "cell_type": "markdown",
   "metadata": {
    "deletable": true,
    "editable": true
   },
   "source": [
    "### Load up bedtools "
   ]
  },
  {
   "cell_type": "code",
   "execution_count": 1,
   "metadata": {
    "collapsed": true,
    "deletable": true,
    "editable": true
   },
   "outputs": [],
   "source": [
    "\n",
    "from pybedtools import BedTool\n",
    "from pyfaidx import Fasta"
   ]
  },
  {
   "cell_type": "markdown",
   "metadata": {
    "deletable": true,
    "editable": true
   },
   "source": [
    "## Base this on the galaxy  test data\n",
    "\n",
    "Note that this is wrong!\n",
    "\n",
    "1. indel lengths arent correct\n",
    "2. should be 1-based and start==stop for SNPs\n",
    "\n",
    "need to revisit vcf2gvf"
   ]
  },
  {
   "cell_type": "code",
   "execution_count": 2,
   "metadata": {
    "collapsed": false,
    "deletable": true,
    "editable": true
   },
   "outputs": [
    {
     "name": "stdout",
     "output_type": "stream",
     "text": [
      "k69_93535\tSAMTOOLS\tINDEL\t3\t7\t4.44\t.\t.\tID=k69_93535:SAMTOOLS:INDEL:3;Variant_seq=ATTTCACATCCCATCATCA,ATCACATCCCATCATCA;Reference_seq=ATCA;INDEL;DP=5;VDB=0.0149;AF1=1;AC1=24;DP4=0,0,3,0;MQ=23;FQ=-33.2\r\n",
      "k69_93535\tSAMTOOLS\tINDEL\t5\t6\t4.91\t.\t.\tID=k69_93535:SAMTOOLS:INDEL:5;Variant_seq=CTCATATCCCATCATC,CCGGCC;Reference_seq=C;INDEL;DP=6;VDB=0.0137;AF1=1;AC1=24;DP4=0,0,3,1;MQ=17;FQ=-32.4\r\n",
      "k69_93535\tSAMTOOLS\tSNP\t1141\t1142\t999\t.\t.\tID=k69_93535:SAMTOOLS:SNP:1141;Variant_seq=T;Reference_seq=C;DP=2644;VDB=0.0374;AF1=0.1882;AC1=5;DP4=748,786,225,294;MQ=42;FQ=999;PV4=0.037,0,0.036,0.39\r\n",
      "k69_93535\tSAMTOOLS\tSNP\t1147\t1148\t999\t.\t.\tID=k69_93535:SAMTOOLS:SNP:1147;Variant_seq=G;Reference_seq=C;DP=2645;VDB=0.0371;AF1=0.3527;G3=0.2771,0.7229,6.934e-153;HWE=0.0248;AC1=8;DP4=733,804,447,519;MQ=42;FQ=999;PV4=0.51,0,0.027,1\r\n"
     ]
    }
   ],
   "source": [
    "!head  -n 4 ../test/test-data/targets.gff"
   ]
  },
  {
   "cell_type": "markdown",
   "metadata": {
    "deletable": true,
    "editable": true
   },
   "source": [
    "### Create a Bed Target Set for SNPs only"
   ]
  },
  {
   "cell_type": "code",
   "execution_count": 3,
   "metadata": {
    "collapsed": false,
    "deletable": true,
    "editable": true
   },
   "outputs": [
    {
     "name": "stdout",
     "output_type": "stream",
     "text": [
      "k69_93535\t1140\t1141\r\n",
      "k69_93535\t1146\t1147\r\n",
      "k69_93535\t1335\t1336\r\n",
      "k69_93535\t2\t3\r\n",
      "k69_93535\t660\t661\r\n",
      "k69_93535\t750\t751\r\n",
      "k69_93535\t886\t887\r\n",
      "k69_98089\t1\t2\r\n",
      "k69_98089\t29\t30\r\n",
      "k69_98089\t2\t3\r\n",
      "k69_98089\t452\t453\r\n",
      "k69_98089\t514\t515\r\n",
      "k69_98089\t521\t522\r\n",
      "k69_98089\t549\t550\r\n",
      "k69_98089\t624\t625\r\n",
      "k69_98089\t692\t693\r\n",
      "k69_98089\t716\t717\r\n",
      "k69_98089\t722\t723\r\n",
      "k69_98089\t725\t726\r\n"
     ]
    }
   ],
   "source": [
    "!awk -v OFS='\\t' '/SNP/ {print $1,$4-1,$4}' ../test/test-data/targets.gff | tee  ../test/test-data/targets.snps.bed"
   ]
  },
  {
   "cell_type": "markdown",
   "metadata": {
    "deletable": true,
    "editable": true
   },
   "source": [
    "Use the default Globals settings for Primer3"
   ]
  },
  {
   "cell_type": "code",
   "execution_count": 4,
   "metadata": {
    "collapsed": true,
    "deletable": true,
    "editable": true
   },
   "outputs": [],
   "source": [
    "p3_globals={\n",
    "        'PRIMER_OPT_SIZE': 20,\n",
    "        'PRIMER_PICK_INTERNAL_OLIGO': 0,\n",
    "        'PRIMER_INTERNAL_MAX_SELF_END': 8,\n",
    "        'PRIMER_MIN_SIZE': 18,\n",
    "        'PRIMER_MAX_SIZE': 25,\n",
    "        'PRIMER_OPT_TM': 60.0,\n",
    "        'PRIMER_MIN_TM': 57.0,\n",
    "        'PRIMER_MAX_TM': 63.0,\n",
    "        'PRIMER_MIN_GC': 20.0,\n",
    "        'PRIMER_MAX_GC': 80.0,\n",
    "        'PRIMER_MAX_POLY_X': 100,\n",
    "        'PRIMER_INTERNAL_MAX_POLY_X': 100,\n",
    "        'PRIMER_SALT_MONOVALENT': 50.0,\n",
    "        'PRIMER_DNA_CONC': 50.0,\n",
    "        'PRIMER_MAX_NS_ACCEPTED': 0,\n",
    "        'PRIMER_MAX_SELF_ANY': 12,\n",
    "        'PRIMER_MAX_SELF_END': 8,\n",
    "        'PRIMER_PAIR_MAX_COMPL_ANY': 12,\n",
    "        'PRIMER_PAIR_MAX_COMPL_END': 8,\n",
    "        'PRIMER_PRODUCT_SIZE_RANGE': [60,250],\n",
    "    }"
   ]
  },
  {
   "cell_type": "markdown",
   "metadata": {
    "deletable": true,
    "editable": true
   },
   "source": [
    "### Load up the Module and Create a Designer Object"
   ]
  },
  {
   "cell_type": "code",
   "execution_count": 5,
   "metadata": {
    "collapsed": false,
    "deletable": true,
    "editable": true
   },
   "outputs": [],
   "source": [
    "from pcr_marker_design import design as d\n",
    "test_seq='../test/test-data/targets.fasta'\n",
    "annfile='../test/test-data/targets.snps.bed'\n",
    "des_test=d.PrimerDesign(test_seq,annfile,'Designer Test')"
   ]
  },
  {
   "cell_type": "markdown",
   "metadata": {
    "deletable": true,
    "editable": true
   },
   "source": [
    "### Make a BedTool target"
   ]
  },
  {
   "cell_type": "code",
   "execution_count": 6,
   "metadata": {
    "collapsed": true,
    "deletable": true,
    "editable": true
   },
   "outputs": [],
   "source": [
    "testBed=BedTool('../test/test-data/targets.snps.bed')"
   ]
  },
  {
   "cell_type": "code",
   "execution_count": 7,
   "metadata": {
    "collapsed": false,
    "deletable": true,
    "editable": true
   },
   "outputs": [
    {
     "data": {
      "text/plain": [
       "[[1, 1140, 1141],\n",
       " [1, 1146, 1147],\n",
       " [1, 1335, 1336],\n",
       " [1, 2, 3],\n",
       " [1, 660, 661],\n",
       " [1, 750, 751],\n",
       " [1, 886, 887],\n",
       " [1, 1, 2],\n",
       " [1, 29, 30],\n",
       " [1, 2, 3],\n",
       " [1, 452, 453],\n",
       " [1, 514, 515],\n",
       " [1, 521, 522],\n",
       " [1, 549, 550],\n",
       " [1, 624, 625],\n",
       " [1, 692, 693],\n",
       " [1, 716, 717],\n",
       " [1, 722, 723],\n",
       " [1, 725, 726]]"
      ]
     },
     "execution_count": 7,
     "metadata": {},
     "output_type": "execute_result"
    }
   ],
   "source": [
    "[[X.length,X.start,X.end] for X in testBed]"
   ]
  },
  {
   "cell_type": "markdown",
   "metadata": {
    "deletable": true,
    "editable": true
   },
   "source": [
    "### Create a Target\n",
    "\n",
    "- base this on the test data targets file\n",
    "- do this manually with the from_string option\n",
    "- debtools is zero-indexed"
   ]
  },
  {
   "cell_type": "code",
   "execution_count": 8,
   "metadata": {
    "collapsed": false,
    "deletable": true,
    "editable": true
   },
   "outputs": [
    {
     "name": "stdout",
     "output_type": "stream",
     "text": [
      "k69_93535\t1146\t1147\n",
      "\n"
     ]
    }
   ],
   "source": [
    "target=BedTool(\"k69_93535 1146 1147\",from_string=True)\n",
    "print(target)"
   ]
  },
  {
   "cell_type": "code",
   "execution_count": 9,
   "metadata": {
    "collapsed": false,
    "deletable": true,
    "editable": true
   },
   "outputs": [
    {
     "data": {
      "text/plain": [
       "1146"
      ]
     },
     "execution_count": 9,
     "metadata": {},
     "output_type": "execute_result"
    }
   ],
   "source": [
    "target[0].start"
   ]
  },
  {
   "cell_type": "code",
   "execution_count": 10,
   "metadata": {
    "collapsed": false,
    "deletable": true,
    "editable": true
   },
   "outputs": [
    {
     "data": {
      "text/plain": [
       "1147"
      ]
     },
     "execution_count": 10,
     "metadata": {},
     "output_type": "execute_result"
    }
   ],
   "source": [
    "target[0].end"
   ]
  },
  {
   "cell_type": "code",
   "execution_count": 11,
   "metadata": {
    "collapsed": false,
    "deletable": true,
    "editable": true
   },
   "outputs": [
    {
     "data": {
      "text/plain": [
       "1"
      ]
     },
     "execution_count": 11,
     "metadata": {},
     "output_type": "execute_result"
    }
   ],
   "source": [
    "target[0].length"
   ]
  },
  {
   "cell_type": "code",
   "execution_count": 12,
   "metadata": {
    "collapsed": false,
    "deletable": true,
    "editable": true
   },
   "outputs": [
    {
     "data": {
      "text/plain": [
       "250"
      ]
     },
     "execution_count": 12,
     "metadata": {},
     "output_type": "execute_result"
    }
   ],
   "source": [
    "p3_globals['PRIMER_PRODUCT_SIZE_RANGE'][1]"
   ]
  },
  {
   "cell_type": "code",
   "execution_count": 13,
   "metadata": {
    "collapsed": false,
    "deletable": true,
    "editable": true
   },
   "outputs": [
    {
     "data": {
      "text/plain": [
       "{'REF_OFFSET': 896,\n",
       " 'SEQUENCE_EXCLUDED_REGION': [(244, 1), (439, 1)],\n",
       " 'SEQUENCE_ID': 'Designer Test',\n",
       " 'SEQUENCE_TARGET': (250, 1),\n",
       " 'SEQUENCE_TEMPLATE': 'AAATAATGGAGAATAGATGGTTCAAGAATGGATTCGAGCCTGTGAAATATTACATTGAGAATGATAGGTTTCATAAGTGGTGTAGCTTAGACGAAGAGAATGCTAATGACAACGAGGAGGTAGAATCTGGAGATGAATCAGACTCTTCAGTTGCTTCCTGCCCTCCTACACTTAATGAAGGAAAGAAAAAAAGGACAGGGAAGCTTCATAGGCCTTTGAGTCTGAACGCATTTGACATAATTTCCTTTTCCAGAGGATTTGATCTTTCAGGTTTGTTTGAAGAAACGGGAGATGAAACAAGATTTGTGTCGGGTGAAACGATACCAAACATCATATCGAAATTGGAGGAGATTGCAAAAGTGGGTAGTTTCACGTTTAGGAAGAAGGATTGTAGGGTTAGTTTAGAAGGAACGCGAGAAGGAGTGAAGGGCCCTCTTACGATTGGAGCTGAGATATTTGAGCTTACGCCTAGTTTGGTTGTTGTTGAGCTTAAGAAGAAAG',\n",
       " 'TARGET_ID': 'k69_93535:1147-1147'}"
      ]
     },
     "execution_count": 13,
     "metadata": {},
     "output_type": "execute_result"
    }
   ],
   "source": [
    "seq_test=des_test.getseqslicedict(target,p3_globals['PRIMER_PRODUCT_SIZE_RANGE'][1])\n",
    "seq_test"
   ]
  },
  {
   "cell_type": "code",
   "execution_count": 14,
   "metadata": {
    "collapsed": false,
    "deletable": true,
    "editable": true
   },
   "outputs": [
    {
     "data": {
      "text/plain": [
       "'k69_93535:1147-1147'"
      ]
     },
     "execution_count": 14,
     "metadata": {},
     "output_type": "execute_result"
    }
   ],
   "source": [
    "str(seq_test['TARGET_ID'])"
   ]
  },
  {
   "cell_type": "code",
   "execution_count": 15,
   "metadata": {
    "collapsed": false,
    "deletable": true,
    "editable": true
   },
   "outputs": [],
   "source": [
    "import primer3 as P3\n",
    "import pandas as pd"
   ]
  },
  {
   "cell_type": "markdown",
   "metadata": {
    "deletable": true,
    "editable": true
   },
   "source": [
    "### Design Using the Slice and P3 py directly"
   ]
  },
  {
   "cell_type": "code",
   "execution_count": 16,
   "metadata": {
    "collapsed": false,
    "deletable": true,
    "editable": true,
    "scrolled": true
   },
   "outputs": [],
   "source": [
    "P3_test=P3.designPrimers(seq_args=seq_test,\n",
    "                 global_args= p3_globals)"
   ]
  },
  {
   "cell_type": "code",
   "execution_count": 17,
   "metadata": {
    "collapsed": false,
    "deletable": true,
    "editable": true
   },
   "outputs": [
    {
     "data": {
      "text/plain": [
       "0    5\n",
       "1    5\n",
       "Name: PRIMER_LEFT_NUM_RETURNED, dtype: int64"
      ]
     },
     "execution_count": 17,
     "metadata": {},
     "output_type": "execute_result"
    }
   ],
   "source": [
    "test=pd.DataFrame.from_dict(P3_test)\n",
    "test.PRIMER_LEFT_NUM_RETURNED"
   ]
  },
  {
   "cell_type": "markdown",
   "metadata": {
    "deletable": true,
    "editable": true
   },
   "source": [
    "Issues\n",
    "====\n",
    "\n",
    "- need to pass in more metadata\n",
    "- id unless there is one in the bed tool\n",
    "- target sequence and region so we can map back\n",
    "- need a convenient tabular form to filter in pandas"
   ]
  },
  {
   "cell_type": "markdown",
   "metadata": {
    "deletable": true,
    "editable": true
   },
   "source": [
    "### Design Using Module"
   ]
  },
  {
   "cell_type": "code",
   "execution_count": 18,
   "metadata": {
    "collapsed": false,
    "deletable": true,
    "editable": true
   },
   "outputs": [],
   "source": [
    "from pcr_marker_design import run_p3"
   ]
  },
  {
   "cell_type": "code",
   "execution_count": 19,
   "metadata": {
    "collapsed": false,
    "deletable": true,
    "editable": true
   },
   "outputs": [
    {
     "data": {
      "text/plain": [
       "[{'PRIMER_LEFT': (1090, 20),\n",
       "  'PRIMER_LEFT_SEQUENCE': 'ACAGGGAAGCTTCATAGGCC',\n",
       "  'PRIMER_RIGHT': (1320, 20),\n",
       "  'PRIMER_RIGHT_SEQUENCE': 'CACTCCTTCTCGCGTTCCTT',\n",
       "  'TARGET_ID': 'k69_93535:1147-1147'},\n",
       " {'PRIMER_LEFT': (1090, 20),\n",
       "  'PRIMER_LEFT_SEQUENCE': 'ACAGGGAAGCTTCATAGGCC',\n",
       "  'PRIMER_RIGHT': (1324, 20),\n",
       "  'PRIMER_RIGHT_SEQUENCE': 'CCTTCACTCCTTCTCGCGTT',\n",
       "  'TARGET_ID': 'k69_93535:1147-1147'},\n",
       " {'PRIMER_LEFT': (1090, 20),\n",
       "  'PRIMER_LEFT_SEQUENCE': 'ACAGGGAAGCTTCATAGGCC',\n",
       "  'PRIMER_RIGHT': (1322, 20),\n",
       "  'PRIMER_RIGHT_SEQUENCE': 'TTCACTCCTTCTCGCGTTCC',\n",
       "  'TARGET_ID': 'k69_93535:1147-1147'},\n",
       " {'PRIMER_LEFT': (1105, 20),\n",
       "  'PRIMER_LEFT_SEQUENCE': 'AGGCCTTTGAGTCTGAACGC',\n",
       "  'PRIMER_RIGHT': (1320, 20),\n",
       "  'PRIMER_RIGHT_SEQUENCE': 'CACTCCTTCTCGCGTTCCTT',\n",
       "  'TARGET_ID': 'k69_93535:1147-1147'}]"
      ]
     },
     "execution_count": 19,
     "metadata": {},
     "output_type": "execute_result"
    }
   ],
   "source": [
    "run_p3.run_P3(global_dict=p3_globals,target_dict=seq_test)"
   ]
  },
  {
   "cell_type": "markdown",
   "metadata": {
    "deletable": true,
    "editable": true
   },
   "source": [
    "## Modified to return primer positions in Primer3 format with offset"
   ]
  },
  {
   "cell_type": "code",
   "execution_count": 20,
   "metadata": {
    "collapsed": false,
    "deletable": true,
    "editable": true
   },
   "outputs": [
    {
     "data": {
      "text/html": [
       "<div>\n",
       "<table border=\"1\" class=\"dataframe\">\n",
       "  <thead>\n",
       "    <tr style=\"text-align: right;\">\n",
       "      <th></th>\n",
       "      <th>PRIMER_LEFT</th>\n",
       "      <th>PRIMER_LEFT_SEQUENCE</th>\n",
       "      <th>PRIMER_RIGHT</th>\n",
       "      <th>PRIMER_RIGHT_SEQUENCE</th>\n",
       "      <th>TARGET_ID</th>\n",
       "    </tr>\n",
       "  </thead>\n",
       "  <tbody>\n",
       "    <tr>\n",
       "      <th>0</th>\n",
       "      <td>(1090, 20)</td>\n",
       "      <td>ACAGGGAAGCTTCATAGGCC</td>\n",
       "      <td>(1320, 20)</td>\n",
       "      <td>CACTCCTTCTCGCGTTCCTT</td>\n",
       "      <td>k69_93535:1147-1147</td>\n",
       "    </tr>\n",
       "    <tr>\n",
       "      <th>1</th>\n",
       "      <td>(1090, 20)</td>\n",
       "      <td>ACAGGGAAGCTTCATAGGCC</td>\n",
       "      <td>(1324, 20)</td>\n",
       "      <td>CCTTCACTCCTTCTCGCGTT</td>\n",
       "      <td>k69_93535:1147-1147</td>\n",
       "    </tr>\n",
       "    <tr>\n",
       "      <th>2</th>\n",
       "      <td>(1090, 20)</td>\n",
       "      <td>ACAGGGAAGCTTCATAGGCC</td>\n",
       "      <td>(1322, 20)</td>\n",
       "      <td>TTCACTCCTTCTCGCGTTCC</td>\n",
       "      <td>k69_93535:1147-1147</td>\n",
       "    </tr>\n",
       "    <tr>\n",
       "      <th>3</th>\n",
       "      <td>(1105, 20)</td>\n",
       "      <td>AGGCCTTTGAGTCTGAACGC</td>\n",
       "      <td>(1320, 20)</td>\n",
       "      <td>CACTCCTTCTCGCGTTCCTT</td>\n",
       "      <td>k69_93535:1147-1147</td>\n",
       "    </tr>\n",
       "  </tbody>\n",
       "</table>\n",
       "</div>"
      ],
      "text/plain": [
       "  PRIMER_LEFT  PRIMER_LEFT_SEQUENCE PRIMER_RIGHT PRIMER_RIGHT_SEQUENCE  \\\n",
       "0  (1090, 20)  ACAGGGAAGCTTCATAGGCC   (1320, 20)  CACTCCTTCTCGCGTTCCTT   \n",
       "1  (1090, 20)  ACAGGGAAGCTTCATAGGCC   (1324, 20)  CCTTCACTCCTTCTCGCGTT   \n",
       "2  (1090, 20)  ACAGGGAAGCTTCATAGGCC   (1322, 20)  TTCACTCCTTCTCGCGTTCC   \n",
       "3  (1105, 20)  AGGCCTTTGAGTCTGAACGC   (1320, 20)  CACTCCTTCTCGCGTTCCTT   \n",
       "\n",
       "             TARGET_ID  \n",
       "0  k69_93535:1147-1147  \n",
       "1  k69_93535:1147-1147  \n",
       "2  k69_93535:1147-1147  \n",
       "3  k69_93535:1147-1147  "
      ]
     },
     "execution_count": 20,
     "metadata": {},
     "output_type": "execute_result"
    }
   ],
   "source": [
    "pd.DataFrame.from_dict(run_p3.run_P3(global_dict=p3_globals,target_dict=seq_test))"
   ]
  },
  {
   "cell_type": "markdown",
   "metadata": {
    "deletable": true,
    "editable": true
   },
   "source": [
    "### Try Design around a longer Target INterval"
   ]
  },
  {
   "cell_type": "markdown",
   "metadata": {
    "deletable": true,
    "editable": true
   },
   "source": [
    "use this magic to force reload when editing source"
   ]
  },
  {
   "cell_type": "code",
   "execution_count": 21,
   "metadata": {
    "collapsed": false,
    "deletable": true,
    "editable": true
   },
   "outputs": [],
   "source": [
    "%load_ext autoreload\n",
    "%autoreload 2"
   ]
  },
  {
   "cell_type": "code",
   "execution_count": 22,
   "metadata": {
    "collapsed": false,
    "deletable": true,
    "editable": true
   },
   "outputs": [],
   "source": [
    "from pcr_marker_design import design as d\n",
    "test_seq=\"../test/test-data/targets.fasta\"\n",
    "annfile= \"../test/test-data/targets.snps.bed\"\n",
    "designer = d.PrimerDesign(test_seq,annfile,'Test')\n",
    "my_target=BedTool(\"k69_93535 1200 1300\",from_string=True)\n",
    "seqslice=designer.getseqslicedict(target,250)"
   ]
  },
  {
   "cell_type": "code",
   "execution_count": 23,
   "metadata": {
    "collapsed": false,
    "deletable": true,
    "editable": true
   },
   "outputs": [
    {
     "data": {
      "text/plain": [
       "{'REF_OFFSET': 896,\n",
       " 'SEQUENCE_EXCLUDED_REGION': [(244, 1), (439, 1)],\n",
       " 'SEQUENCE_ID': 'Test',\n",
       " 'SEQUENCE_TARGET': (250, 1),\n",
       " 'SEQUENCE_TEMPLATE': 'AAATAATGGAGAATAGATGGTTCAAGAATGGATTCGAGCCTGTGAAATATTACATTGAGAATGATAGGTTTCATAAGTGGTGTAGCTTAGACGAAGAGAATGCTAATGACAACGAGGAGGTAGAATCTGGAGATGAATCAGACTCTTCAGTTGCTTCCTGCCCTCCTACACTTAATGAAGGAAAGAAAAAAAGGACAGGGAAGCTTCATAGGCCTTTGAGTCTGAACGCATTTGACATAATTTCCTTTTCCAGAGGATTTGATCTTTCAGGTTTGTTTGAAGAAACGGGAGATGAAACAAGATTTGTGTCGGGTGAAACGATACCAAACATCATATCGAAATTGGAGGAGATTGCAAAAGTGGGTAGTTTCACGTTTAGGAAGAAGGATTGTAGGGTTAGTTTAGAAGGAACGCGAGAAGGAGTGAAGGGCCCTCTTACGATTGGAGCTGAGATATTTGAGCTTACGCCTAGTTTGGTTGTTGTTGAGCTTAAGAAGAAAG',\n",
       " 'TARGET_ID': 'k69_93535:1147-1147'}"
      ]
     },
     "execution_count": 23,
     "metadata": {},
     "output_type": "execute_result"
    }
   ],
   "source": [
    "seqslice"
   ]
  },
  {
   "cell_type": "code",
   "execution_count": 24,
   "metadata": {
    "collapsed": false,
    "deletable": true,
    "editable": true
   },
   "outputs": [
    {
     "data": {
      "text/plain": [
       "[{'PRIMER_LEFT': (1090, 20),\n",
       "  'PRIMER_LEFT_SEQUENCE': 'ACAGGGAAGCTTCATAGGCC',\n",
       "  'PRIMER_RIGHT': (1320, 20),\n",
       "  'PRIMER_RIGHT_SEQUENCE': 'CACTCCTTCTCGCGTTCCTT',\n",
       "  'TARGET_ID': 'k69_93535:1147-1147'},\n",
       " {'PRIMER_LEFT': (1090, 20),\n",
       "  'PRIMER_LEFT_SEQUENCE': 'ACAGGGAAGCTTCATAGGCC',\n",
       "  'PRIMER_RIGHT': (1324, 20),\n",
       "  'PRIMER_RIGHT_SEQUENCE': 'CCTTCACTCCTTCTCGCGTT',\n",
       "  'TARGET_ID': 'k69_93535:1147-1147'},\n",
       " {'PRIMER_LEFT': (1090, 20),\n",
       "  'PRIMER_LEFT_SEQUENCE': 'ACAGGGAAGCTTCATAGGCC',\n",
       "  'PRIMER_RIGHT': (1322, 20),\n",
       "  'PRIMER_RIGHT_SEQUENCE': 'TTCACTCCTTCTCGCGTTCC',\n",
       "  'TARGET_ID': 'k69_93535:1147-1147'},\n",
       " {'PRIMER_LEFT': (1105, 20),\n",
       "  'PRIMER_LEFT_SEQUENCE': 'AGGCCTTTGAGTCTGAACGC',\n",
       "  'PRIMER_RIGHT': (1320, 20),\n",
       "  'PRIMER_RIGHT_SEQUENCE': 'CACTCCTTCTCGCGTTCCTT',\n",
       "  'TARGET_ID': 'k69_93535:1147-1147'}]"
      ]
     },
     "execution_count": 24,
     "metadata": {},
     "output_type": "execute_result"
    }
   ],
   "source": [
    "run_p3.run_P3(global_dict=p3_globals,target_dict=seqslice)"
   ]
  },
  {
   "cell_type": "code",
   "execution_count": 25,
   "metadata": {
    "collapsed": false,
    "deletable": true,
    "editable": true
   },
   "outputs": [
    {
     "data": {
      "text/html": [
       "<div>\n",
       "<table border=\"1\" class=\"dataframe\">\n",
       "  <thead>\n",
       "    <tr style=\"text-align: right;\">\n",
       "      <th></th>\n",
       "      <th>PRIMER_LEFT</th>\n",
       "      <th>PRIMER_LEFT_SEQUENCE</th>\n",
       "      <th>PRIMER_RIGHT</th>\n",
       "      <th>PRIMER_RIGHT_SEQUENCE</th>\n",
       "      <th>TARGET_ID</th>\n",
       "    </tr>\n",
       "  </thead>\n",
       "  <tbody>\n",
       "    <tr>\n",
       "      <th>0</th>\n",
       "      <td>(1090, 20)</td>\n",
       "      <td>ACAGGGAAGCTTCATAGGCC</td>\n",
       "      <td>(1320, 20)</td>\n",
       "      <td>CACTCCTTCTCGCGTTCCTT</td>\n",
       "      <td>k69_93535:1147-1147</td>\n",
       "    </tr>\n",
       "    <tr>\n",
       "      <th>1</th>\n",
       "      <td>(1090, 20)</td>\n",
       "      <td>ACAGGGAAGCTTCATAGGCC</td>\n",
       "      <td>(1324, 20)</td>\n",
       "      <td>CCTTCACTCCTTCTCGCGTT</td>\n",
       "      <td>k69_93535:1147-1147</td>\n",
       "    </tr>\n",
       "    <tr>\n",
       "      <th>2</th>\n",
       "      <td>(1090, 20)</td>\n",
       "      <td>ACAGGGAAGCTTCATAGGCC</td>\n",
       "      <td>(1322, 20)</td>\n",
       "      <td>TTCACTCCTTCTCGCGTTCC</td>\n",
       "      <td>k69_93535:1147-1147</td>\n",
       "    </tr>\n",
       "    <tr>\n",
       "      <th>3</th>\n",
       "      <td>(1105, 20)</td>\n",
       "      <td>AGGCCTTTGAGTCTGAACGC</td>\n",
       "      <td>(1320, 20)</td>\n",
       "      <td>CACTCCTTCTCGCGTTCCTT</td>\n",
       "      <td>k69_93535:1147-1147</td>\n",
       "    </tr>\n",
       "  </tbody>\n",
       "</table>\n",
       "</div>"
      ],
      "text/plain": [
       "  PRIMER_LEFT  PRIMER_LEFT_SEQUENCE PRIMER_RIGHT PRIMER_RIGHT_SEQUENCE  \\\n",
       "0  (1090, 20)  ACAGGGAAGCTTCATAGGCC   (1320, 20)  CACTCCTTCTCGCGTTCCTT   \n",
       "1  (1090, 20)  ACAGGGAAGCTTCATAGGCC   (1324, 20)  CCTTCACTCCTTCTCGCGTT   \n",
       "2  (1090, 20)  ACAGGGAAGCTTCATAGGCC   (1322, 20)  TTCACTCCTTCTCGCGTTCC   \n",
       "3  (1105, 20)  AGGCCTTTGAGTCTGAACGC   (1320, 20)  CACTCCTTCTCGCGTTCCTT   \n",
       "\n",
       "             TARGET_ID  \n",
       "0  k69_93535:1147-1147  \n",
       "1  k69_93535:1147-1147  \n",
       "2  k69_93535:1147-1147  \n",
       "3  k69_93535:1147-1147  "
      ]
     },
     "execution_count": 25,
     "metadata": {},
     "output_type": "execute_result"
    }
   ],
   "source": [
    "pd.DataFrame.from_dict(run_p3.run_P3(global_dict=p3_globals,target_dict=seqslice))"
   ]
  },
  {
   "cell_type": "markdown",
   "metadata": {
    "deletable": true,
    "editable": true
   },
   "source": [
    "### Fix up Test Data"
   ]
  },
  {
   "cell_type": "code",
   "execution_count": 26,
   "metadata": {
    "collapsed": false,
    "deletable": true,
    "editable": true
   },
   "outputs": [
    {
     "data": {
      "text/plain": [
       "<function primer3.bindings.runP3Design>"
      ]
     },
     "execution_count": 26,
     "metadata": {},
     "output_type": "execute_result"
    }
   ],
   "source": [
    "P3.runP3Design"
   ]
  },
  {
   "cell_type": "code",
   "execution_count": 27,
   "metadata": {
    "collapsed": false,
    "deletable": true,
    "editable": true
   },
   "outputs": [],
   "source": [
    "p3_test_seq = {\n",
    "        'TARGET_ID' : 'MH1000:',\n",
    "        'SEQUENCE_ID': 'MH1000',\n",
    "        'SEQUENCE_TEMPLATE': 'GCTTGCATGCCTGCAGGTCGACTCTAGAGGATCCCCCTACATTTT'\n",
    "                             'AGCATCAGTGAGTACAGCATGCTTACTGGAAGAGAGGGTCATGCA'\n",
    "                             'ACAGATTAGGAGGTAAGTTTGCAAAGGCAGGCTAAGGAGGAGACG'\n",
    "                             'CACTGAATGCCATGGTAAGAACTCTGGACATAAAAATATTGGAAG'\n",
    "                             'TTGTTGAGCAAGTAAAAAAAATGTTTGGAAGTGTTACTTTAGCAA'\n",
    "                             'TGGCAAGAATGATAGTATGGAATAGATTGGCAGAATGAAGGCAAA'\n",
    "                             'ATGATTAGACATATTGCATTAAGGTAAAAAATGATAACTGAAGAA'\n",
    "                             'TTATGTGCCACACTTATTAATAAGAAAGAATATGTGAACCTTGCA'\n",
    "                             'GATGTTTCCCTCTAGTAG',\n",
    "        'SEQUENCE_INCLUDED_REGION': [36, 342]}\n",
    "\n",
    "p3_test_globals = {\n",
    "        'PRIMER_OPT_SIZE': 20,\n",
    "        'PRIMER_PICK_INTERNAL_OLIGO': 1,\n",
    "        'PRIMER_INTERNAL_MAX_SELF_END': 8,\n",
    "        'PRIMER_MIN_SIZE': 18,\n",
    "        'PRIMER_MAX_SIZE': 25,\n",
    "        'PRIMER_OPT_TM': 60.0,\n",
    "        'PRIMER_MIN_TM': 57.0,\n",
    "        'PRIMER_MAX_TM': 63.0,\n",
    "        'PRIMER_MIN_GC': 20.0,\n",
    "        'PRIMER_MAX_GC': 80.0,\n",
    "        'PRIMER_MAX_POLY_X': 100,\n",
    "        'PRIMER_INTERNAL_MAX_POLY_X': 100,\n",
    "        'PRIMER_SALT_MONOVALENT': 50.0,\n",
    "        'PRIMER_DNA_CONC': 50.0,\n",
    "        'PRIMER_MAX_NS_ACCEPTED': 0,\n",
    "        'PRIMER_MAX_SELF_ANY': 12,\n",
    "        'PRIMER_MAX_SELF_END': 8,\n",
    "        'PRIMER_PAIR_MAX_COMPL_ANY': 12,\n",
    "        'PRIMER_PAIR_MAX_COMPL_END': 8,\n",
    "        'PRIMER_PRODUCT_SIZE_RANGE': [[75, 100], [100, 125], [125, 150], [150, 175], [175, 200], [200, 225]]}"
   ]
  },
  {
   "cell_type": "code",
   "execution_count": 28,
   "metadata": {
    "collapsed": false,
    "deletable": true,
    "editable": true
   },
   "outputs": [
    {
     "data": {
      "text/plain": [
       "[{'PRIMER_LEFT': (46, 21),\n",
       "  'PRIMER_LEFT_SEQUENCE': 'GCATCAGTGAGTACAGCATGC',\n",
       "  'PRIMER_RIGHT': (132, 20),\n",
       "  'PRIMER_RIGHT_SEQUENCE': 'TCTCCTCCTTAGCCTGCCTT',\n",
       "  'TARGET_ID': 'MH1000:'},\n",
       " {'PRIMER_LEFT': (46, 21),\n",
       "  'PRIMER_LEFT_SEQUENCE': 'GCATCAGTGAGTACAGCATGC',\n",
       "  'PRIMER_RIGHT': (139, 20),\n",
       "  'PRIMER_RIGHT_SEQUENCE': 'CAGTGCGTCTCCTCCTTAGC',\n",
       "  'TARGET_ID': 'MH1000:'},\n",
       " {'PRIMER_LEFT': (46, 21),\n",
       "  'PRIMER_LEFT_SEQUENCE': 'GCATCAGTGAGTACAGCATGC',\n",
       "  'PRIMER_RIGHT': (143, 20),\n",
       "  'PRIMER_RIGHT_SEQUENCE': 'CATTCAGTGCGTCTCCTCCT',\n",
       "  'TARGET_ID': 'MH1000:'},\n",
       " {'PRIMER_LEFT': (46, 21),\n",
       "  'PRIMER_LEFT_SEQUENCE': 'GCATCAGTGAGTACAGCATGC',\n",
       "  'PRIMER_RIGHT': (130, 20),\n",
       "  'PRIMER_RIGHT_SEQUENCE': 'TCCTCCTTAGCCTGCCTTTG',\n",
       "  'TARGET_ID': 'MH1000:'}]"
      ]
     },
     "execution_count": 28,
     "metadata": {},
     "output_type": "execute_result"
    }
   ],
   "source": [
    "run_p3.run_P3(global_dict=p3_test_globals,target_dict=p3_test_seq)"
   ]
  },
  {
   "cell_type": "code",
   "execution_count": 29,
   "metadata": {
    "collapsed": false,
    "deletable": true,
    "editable": true
   },
   "outputs": [
    {
     "data": {
      "text/plain": [
       "[{'PRIMER_LEFT': (46, 21),\n",
       "  'PRIMER_LEFT_SEQUENCE': 'GCATCAGTGAGTACAGCATGC',\n",
       "  'PRIMER_RIGHT': (132, 20),\n",
       "  'PRIMER_RIGHT_SEQUENCE': 'TCTCCTCCTTAGCCTGCCTT',\n",
       "  'TARGET_ID': 'MH1000:'},\n",
       " {'PRIMER_LEFT': (46, 21),\n",
       "  'PRIMER_LEFT_SEQUENCE': 'GCATCAGTGAGTACAGCATGC',\n",
       "  'PRIMER_RIGHT': (139, 20),\n",
       "  'PRIMER_RIGHT_SEQUENCE': 'CAGTGCGTCTCCTCCTTAGC',\n",
       "  'TARGET_ID': 'MH1000:'},\n",
       " {'PRIMER_LEFT': (46, 21),\n",
       "  'PRIMER_LEFT_SEQUENCE': 'GCATCAGTGAGTACAGCATGC',\n",
       "  'PRIMER_RIGHT': (143, 20),\n",
       "  'PRIMER_RIGHT_SEQUENCE': 'CATTCAGTGCGTCTCCTCCT',\n",
       "  'TARGET_ID': 'MH1000:'},\n",
       " {'PRIMER_LEFT': (46, 21),\n",
       "  'PRIMER_LEFT_SEQUENCE': 'GCATCAGTGAGTACAGCATGC',\n",
       "  'PRIMER_RIGHT': (130, 20),\n",
       "  'PRIMER_RIGHT_SEQUENCE': 'TCCTCCTTAGCCTGCCTTTG',\n",
       "  'TARGET_ID': 'MH1000:'}]"
      ]
     },
     "execution_count": 29,
     "metadata": {},
     "output_type": "execute_result"
    }
   ],
   "source": [
    "run_p3.run_P3(p3_test_seq, p3_test_globals)"
   ]
  },
  {
   "cell_type": "code",
   "execution_count": null,
   "metadata": {
    "collapsed": true
   },
   "outputs": [],
   "source": []
  },
  {
   "cell_type": "code",
   "execution_count": null,
   "metadata": {
    "collapsed": true
   },
   "outputs": [],
   "source": []
  }
 ],
 "metadata": {
  "kernelspec": {
   "display_name": "Python 3",
   "language": "python",
   "name": "python3"
  },
  "language_info": {
   "codemirror_mode": {
    "name": "ipython",
    "version": 3
   },
   "file_extension": ".py",
   "mimetype": "text/x-python",
   "name": "python",
   "nbconvert_exporter": "python",
   "pygments_lexer": "ipython3",
   "version": "3.5.3"
  }
 },
 "nbformat": 4,
 "nbformat_minor": 0
}
