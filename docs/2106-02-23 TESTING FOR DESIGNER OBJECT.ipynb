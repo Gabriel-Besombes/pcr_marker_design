{
 "cells": [
  {
   "cell_type": "code",
   "execution_count": 36,
   "metadata": {
    "collapsed": false,
    "deletable": true,
    "editable": true
   },
   "outputs": [
    {
     "name": "stdout",
     "output_type": "stream",
     "text": [
      "\u001b[33mcommit 2213ea5854e8855191c347c0409500aba66d3173\u001b[m\n",
      "Author: John McCallum <cfljam@users.noreply.github.com>\n",
      "Date:   Tue Feb 23 14:52:01 2016 +1300\n",
      "\n",
      "    updated notebook\n"
     ]
    }
   ],
   "source": [
    "!git log -1"
   ]
  },
  {
   "cell_type": "code",
   "execution_count": 37,
   "metadata": {
    "collapsed": false,
    "deletable": true,
    "editable": true
   },
   "outputs": [
    {
     "name": "stdout",
     "output_type": "stream",
     "text": [
      "origin\thttps://github.com/cfljam/pcr_marker_design (fetch)\r\n",
      "origin\thttps://github.com/cfljam/pcr_marker_design (push)\r\n",
      "upstream\thttps://github.com/PlantandFoodResearch/pcr_marker_design (fetch)\r\n",
      "upstream\thttps://github.com/PlantandFoodResearch/pcr_marker_design (push)\r\n"
     ]
    }
   ],
   "source": [
    "!git remote -v"
   ]
  },
  {
   "cell_type": "code",
   "execution_count": 24,
   "metadata": {
    "collapsed": false,
    "deletable": true,
    "editable": true
   },
   "outputs": [
    {
     "name": "stdout",
     "output_type": "stream",
     "text": [
      "anaconda-client==1.6.1\n",
      "appnope==0.1.0\n",
      "cffi==1.9.1\n",
      "clyent==1.2.2\n",
      "conda==4.2.13\n",
      "cryptography==1.7.1\n",
      "decorator==4.0.11\n",
      "entrypoints==0.2.2\n",
      "idna==2.2\n",
      "ipykernel==4.5.2\n",
      "ipython==5.2.2\n",
      "ipython-genutils==0.1.0\n",
      "ipywidgets==5.2.2\n",
      "Jinja2==2.8\n",
      "jsonschema==2.5.1\n",
      "jupyter-client==5.0.0\n",
      "jupyter-console==5.1.0\n",
      "jupyter-core==4.3.0\n",
      "MarkupSafe==0.23\n",
      "mistune==0.7.3\n",
      "nbconvert==4.2.0\n",
      "nbformat==4.2.0\n",
      "notebook==4.4.1\n",
      "numpy==1.12.0\n",
      "pandas==0.19.2\n",
      "pexpect==4.2.1\n",
      "pickleshare==0.7.3\n",
      "prompt-toolkit==1.0.13\n",
      "ptyprocess==0.5.1\n",
      "pyasn1==0.1.9\n",
      "pycosat==0.6.1\n",
      "pycparser==2.17\n",
      "pycrypto==2.6.1\n",
      "Pygments==2.2.0\n",
      "pyOpenSSL==16.2.0\n",
      "python-dateutil==2.3\n",
      "pytz==2016.10\n",
      "PyYAML==3.12\n",
      "pyzmq==16.0.2\n",
      "qtconsole==4.2.1\n",
      "requests==2.12.4\n",
      "ruamel-yaml===-VERSION\n",
      "simplegeneric==0.8.1\n",
      "six==1.10.0\n",
      "terminado==0.6\n",
      "tornado==4.4.2\n",
      "traitlets==4.3.1\n",
      "wcwidth==0.1.7\n",
      "widgetsnbextension==1.2.6\n",
      "\u001b[33mYou are using pip version 8.1.2, however version 9.0.1 is available.\n",
      "You should consider upgrading via the 'pip install --upgrade pip' command.\u001b[0m\n"
     ]
    }
   ],
   "source": [
    "!pip freeze"
   ]
  },
  {
   "cell_type": "code",
   "execution_count": 3,
   "metadata": {
    "collapsed": false,
    "deletable": true,
    "editable": true
   },
   "outputs": [
    {
     "data": {
      "text/plain": [
       "'/Users/johnmccallum/Documents/pcr_marker_design/docs'"
      ]
     },
     "execution_count": 3,
     "metadata": {},
     "output_type": "execute_result"
    }
   ],
   "source": [
    "pwd"
   ]
  },
  {
   "cell_type": "markdown",
   "metadata": {
    "deletable": true,
    "editable": true
   },
   "source": [
    "### Load up bedtools "
   ]
  },
  {
   "cell_type": "code",
   "execution_count": 34,
   "metadata": {
    "collapsed": true,
    "deletable": true,
    "editable": true
   },
   "outputs": [],
   "source": [
    "\n",
    "from pybedtools import BedTool\n",
    "from pyfaidx import Fasta"
   ]
  },
  {
   "cell_type": "markdown",
   "metadata": {
    "deletable": true,
    "editable": true
   },
   "source": [
    "## Base this on the galaxy  test data\n",
    "\n",
    "Note that this is wrong!\n",
    "\n",
    "1. indel lengths arent correct\n",
    "2. should be 1-based and start==stop for SNPs\n",
    "\n",
    "need to revisit vcf2gvf"
   ]
  },
  {
   "cell_type": "code",
   "execution_count": 85,
   "metadata": {
    "collapsed": false
   },
   "outputs": [
    {
     "name": "stdout",
     "output_type": "stream",
     "text": [
      "k69_93535\tSAMTOOLS\tINDEL\t3\t7\t4.44\t.\t.\tID=k69_93535:SAMTOOLS:INDEL:3;Variant_seq=ATTTCACATCCCATCATCA,ATCACATCCCATCATCA;Reference_seq=ATCA;INDEL;DP=5;VDB=0.0149;AF1=1;AC1=24;DP4=0,0,3,0;MQ=23;FQ=-33.2\r\n",
      "k69_93535\tSAMTOOLS\tINDEL\t5\t6\t4.91\t.\t.\tID=k69_93535:SAMTOOLS:INDEL:5;Variant_seq=CTCATATCCCATCATC,CCGGCC;Reference_seq=C;INDEL;DP=6;VDB=0.0137;AF1=1;AC1=24;DP4=0,0,3,1;MQ=17;FQ=-32.4\r\n",
      "k69_93535\tSAMTOOLS\tSNP\t1141\t1142\t999\t.\t.\tID=k69_93535:SAMTOOLS:SNP:1141;Variant_seq=T;Reference_seq=C;DP=2644;VDB=0.0374;AF1=0.1882;AC1=5;DP4=748,786,225,294;MQ=42;FQ=999;PV4=0.037,0,0.036,0.39\r\n",
      "k69_93535\tSAMTOOLS\tSNP\t1147\t1148\t999\t.\t.\tID=k69_93535:SAMTOOLS:SNP:1147;Variant_seq=G;Reference_seq=C;DP=2645;VDB=0.0371;AF1=0.3527;G3=0.2771,0.7229,6.934e-153;HWE=0.0248;AC1=8;DP4=733,804,447,519;MQ=42;FQ=999;PV4=0.51,0,0.027,1\r\n"
     ]
    }
   ],
   "source": [
    "!head  -n 4 ../test/test-data/targets.gff"
   ]
  },
  {
   "cell_type": "markdown",
   "metadata": {},
   "source": [
    "### Create a Bed Target Set for SNPs only"
   ]
  },
  {
   "cell_type": "code",
   "execution_count": 99,
   "metadata": {
    "collapsed": false,
    "deletable": true,
    "editable": true
   },
   "outputs": [
    {
     "name": "stdout",
     "output_type": "stream",
     "text": [
      "k69_93535\t1140\t1141\r\n",
      "k69_93535\t1146\t1147\r\n",
      "k69_93535\t1335\t1336\r\n",
      "k69_93535\t2\t3\r\n",
      "k69_93535\t660\t661\r\n",
      "k69_93535\t750\t751\r\n",
      "k69_93535\t886\t887\r\n",
      "k69_98089\t1\t2\r\n",
      "k69_98089\t29\t30\r\n",
      "k69_98089\t2\t3\r\n",
      "k69_98089\t452\t453\r\n",
      "k69_98089\t514\t515\r\n",
      "k69_98089\t521\t522\r\n",
      "k69_98089\t549\t550\r\n",
      "k69_98089\t624\t625\r\n",
      "k69_98089\t692\t693\r\n",
      "k69_98089\t716\t717\r\n",
      "k69_98089\t722\t723\r\n",
      "k69_98089\t725\t726\r\n"
     ]
    }
   ],
   "source": [
    "!awk -v OFS='\\t' '/SNP/ {print $1,$4-1,$4}' ../test/test-data/targets.gff | tee  ../test/test-data/targets.snps.bed"
   ]
  },
  {
   "cell_type": "markdown",
   "metadata": {
    "deletable": true,
    "editable": true
   },
   "source": [
    "Use the default Globals settings for Primer3"
   ]
  },
  {
   "cell_type": "code",
   "execution_count": 4,
   "metadata": {
    "collapsed": true,
    "deletable": true,
    "editable": true
   },
   "outputs": [],
   "source": [
    "p3_globals={\n",
    "        'PRIMER_OPT_SIZE': 20,\n",
    "        'PRIMER_PICK_INTERNAL_OLIGO': 0,\n",
    "        'PRIMER_INTERNAL_MAX_SELF_END': 8,\n",
    "        'PRIMER_MIN_SIZE': 18,\n",
    "        'PRIMER_MAX_SIZE': 25,\n",
    "        'PRIMER_OPT_TM': 60.0,\n",
    "        'PRIMER_MIN_TM': 57.0,\n",
    "        'PRIMER_MAX_TM': 63.0,\n",
    "        'PRIMER_MIN_GC': 20.0,\n",
    "        'PRIMER_MAX_GC': 80.0,\n",
    "        'PRIMER_MAX_POLY_X': 100,\n",
    "        'PRIMER_INTERNAL_MAX_POLY_X': 100,\n",
    "        'PRIMER_SALT_MONOVALENT': 50.0,\n",
    "        'PRIMER_DNA_CONC': 50.0,\n",
    "        'PRIMER_MAX_NS_ACCEPTED': 0,\n",
    "        'PRIMER_MAX_SELF_ANY': 12,\n",
    "        'PRIMER_MAX_SELF_END': 8,\n",
    "        'PRIMER_PAIR_MAX_COMPL_ANY': 12,\n",
    "        'PRIMER_PAIR_MAX_COMPL_END': 8,\n",
    "        'PRIMER_PRODUCT_SIZE_RANGE': [60,250],\n",
    "    }"
   ]
  },
  {
   "cell_type": "markdown",
   "metadata": {
    "deletable": true,
    "editable": true
   },
   "source": [
    "### Load up the Module and Create a Designer Object"
   ]
  },
  {
   "cell_type": "code",
   "execution_count": 155,
   "metadata": {
    "collapsed": false,
    "deletable": true,
    "editable": true
   },
   "outputs": [],
   "source": [
    "from pcr_marker_design import design as d\n",
    "test_seq='../test/test-data/targets.fasta'\n",
    "annfile='../test/test-data/targets.snps.bed'\n",
    "des_test=d.PrimerDesign(test_seq,annfile,'Designer Test')"
   ]
  },
  {
   "cell_type": "markdown",
   "metadata": {},
   "source": [
    "### Make a BedTool target"
   ]
  },
  {
   "cell_type": "code",
   "execution_count": 156,
   "metadata": {
    "collapsed": true
   },
   "outputs": [],
   "source": [
    "testBed=BedTool('../test/test-data/targets.gff')"
   ]
  },
  {
   "cell_type": "code",
   "execution_count": 157,
   "metadata": {
    "collapsed": false
   },
   "outputs": [
    {
     "data": {
      "text/plain": [
       "[[1, 1140, 1141],\n",
       " [1, 1146, 1147],\n",
       " [1, 1335, 1336],\n",
       " [1, 2, 3],\n",
       " [1, 660, 661],\n",
       " [1, 750, 751],\n",
       " [1, 886, 887],\n",
       " [1, 1, 2],\n",
       " [1, 29, 30],\n",
       " [1, 2, 3],\n",
       " [1, 452, 453],\n",
       " [1, 514, 515],\n",
       " [1, 521, 522],\n",
       " [1, 549, 550],\n",
       " [1, 624, 625],\n",
       " [1, 692, 693],\n",
       " [1, 716, 717],\n",
       " [1, 722, 723],\n",
       " [1, 725, 726]]"
      ]
     },
     "execution_count": 157,
     "metadata": {},
     "output_type": "execute_result"
    }
   ],
   "source": [
    "[[X.length,X.start,X.end] for X in des_test.annotations]"
   ]
  },
  {
   "cell_type": "markdown",
   "metadata": {
    "deletable": true,
    "editable": true
   },
   "source": [
    "### Create a Target\n",
    "\n",
    "- base this on the test data targets file\n",
    "- do this manually with the from_string option\n",
    "- debtools is zero-indexed"
   ]
  },
  {
   "cell_type": "code",
   "execution_count": 158,
   "metadata": {
    "collapsed": false,
    "deletable": true,
    "editable": true
   },
   "outputs": [
    {
     "name": "stdout",
     "output_type": "stream",
     "text": [
      "k69_93535\t1146\t1147\n",
      "\n"
     ]
    }
   ],
   "source": [
    "target=BedTool(\"k69_93535 1146 1147\",from_string=True)\n",
    "print(target)"
   ]
  },
  {
   "cell_type": "code",
   "execution_count": 146,
   "metadata": {
    "collapsed": false
   },
   "outputs": [
    {
     "data": {
      "text/plain": [
       "1146"
      ]
     },
     "execution_count": 146,
     "metadata": {},
     "output_type": "execute_result"
    }
   ],
   "source": [
    "target[0].start"
   ]
  },
  {
   "cell_type": "code",
   "execution_count": 131,
   "metadata": {
    "collapsed": false,
    "deletable": true,
    "editable": true
   },
   "outputs": [
    {
     "data": {
      "text/plain": [
       "1147"
      ]
     },
     "execution_count": 131,
     "metadata": {},
     "output_type": "execute_result"
    }
   ],
   "source": [
    "target[0].end"
   ]
  },
  {
   "cell_type": "code",
   "execution_count": 132,
   "metadata": {
    "collapsed": false,
    "deletable": true,
    "editable": true
   },
   "outputs": [
    {
     "data": {
      "text/plain": [
       "250"
      ]
     },
     "execution_count": 132,
     "metadata": {},
     "output_type": "execute_result"
    }
   ],
   "source": [
    "p3_globals['PRIMER_PRODUCT_SIZE_RANGE'][1]"
   ]
  },
  {
   "cell_type": "code",
   "execution_count": 160,
   "metadata": {
    "collapsed": false,
    "deletable": true,
    "editable": true
   },
   "outputs": [
    {
     "data": {
      "text/plain": [
       "{'SEQUENCE_EXCLUDED_REGION': [(244, 1), (439, 1)],\n",
       " 'SEQUENCE_ID': 'Designer Test',\n",
       " 'SEQUENCE_TARGET': (250, 1),\n",
       " 'SEQUENCE_TEMPLATE': 'AAATAATGGAGAATAGATGGTTCAAGAATGGATTCGAGCCTGTGAAATATTACATTGAGAATGATAGGTTTCATAAGTGGTGTAGCTTAGACGAAGAGAATGCTAATGACAACGAGGAGGTAGAATCTGGAGATGAATCAGACTCTTCAGTTGCTTCCTGCCCTCCTACACTTAATGAAGGAAAGAAAAAAAGGACAGGGAAGCTTCATAGGCCTTTGAGTCTGAACGCATTTGACATAATTTCCTTTTCCAGAGGATTTGATCTTTCAGGTTTGTTTGAAGAAACGGGAGATGAAACAAGATTTGTGTCGGGTGAAACGATACCAAACATCATATCGAAATTGGAGGAGATTGCAAAAGTGGGTAGTTTCACGTTTAGGAAGAAGGATTGTAGGGTTAGTTTAGAAGGAACGCGAGAAGGAGTGAAGGGCCCTCTTACGATTGGAGCTGAGATATTTGAGCTTACGCCTAGTTTGGTTGTTGTTGAGCTTAAGAAGAAAG',\n",
       " 'TARGET_ID': 'k69_93535_1146_1147'}"
      ]
     },
     "execution_count": 160,
     "metadata": {},
     "output_type": "execute_result"
    }
   ],
   "source": [
    "seq_test=des_test.getseqslicedict(target,p3_globals['PRIMER_PRODUCT_SIZE_RANGE'][1])\n",
    "seq_test"
   ]
  },
  {
   "cell_type": "code",
   "execution_count": 161,
   "metadata": {
    "collapsed": false,
    "deletable": true,
    "editable": true
   },
   "outputs": [
    {
     "data": {
      "text/plain": [
       "'k69_93535_1146_1147'"
      ]
     },
     "execution_count": 161,
     "metadata": {},
     "output_type": "execute_result"
    }
   ],
   "source": [
    "str(seq_test['TARGET_ID'])"
   ]
  },
  {
   "cell_type": "code",
   "execution_count": 162,
   "metadata": {
    "collapsed": false,
    "deletable": true,
    "editable": true
   },
   "outputs": [],
   "source": [
    "import primer3 as P3"
   ]
  },
  {
   "cell_type": "markdown",
   "metadata": {},
   "source": [
    "### Design Using the Slice and P3 py directly"
   ]
  },
  {
   "cell_type": "code",
   "execution_count": 170,
   "metadata": {
    "collapsed": false,
    "deletable": true,
    "editable": true,
    "scrolled": true
   },
   "outputs": [
    {
     "data": {
      "text/plain": [
       "{'PRIMER_INTERNAL_EXPLAIN': 'considered 24, unacceptable product size 19, ok 5',\n",
       " 'PRIMER_INTERNAL_NUM_RETURNED': 0,\n",
       " 'PRIMER_LEFT_0': (194, 20),\n",
       " 'PRIMER_LEFT_0_END_STABILITY': 5.19,\n",
       " 'PRIMER_LEFT_0_GC_PERCENT': 55.0,\n",
       " 'PRIMER_LEFT_0_HAIRPIN_TH': 0.0,\n",
       " 'PRIMER_LEFT_0_PENALTY': 0.5485098850288068,\n",
       " 'PRIMER_LEFT_0_SELF_ANY_TH': 27.01947809412121,\n",
       " 'PRIMER_LEFT_0_SELF_END_TH': 18.001360791532136,\n",
       " 'PRIMER_LEFT_0_SEQUENCE': 'ACAGGGAAGCTTCATAGGCC',\n",
       " 'PRIMER_LEFT_0_TM': 59.45149011497119,\n",
       " 'PRIMER_LEFT_1': (194, 20),\n",
       " 'PRIMER_LEFT_1_END_STABILITY': 5.19,\n",
       " 'PRIMER_LEFT_1_GC_PERCENT': 55.0,\n",
       " 'PRIMER_LEFT_1_HAIRPIN_TH': 0.0,\n",
       " 'PRIMER_LEFT_1_PENALTY': 0.5485098850288068,\n",
       " 'PRIMER_LEFT_1_SELF_ANY_TH': 27.01947809412121,\n",
       " 'PRIMER_LEFT_1_SELF_END_TH': 18.001360791532136,\n",
       " 'PRIMER_LEFT_1_SEQUENCE': 'ACAGGGAAGCTTCATAGGCC',\n",
       " 'PRIMER_LEFT_1_TM': 59.45149011497119,\n",
       " 'PRIMER_LEFT_2': (194, 20),\n",
       " 'PRIMER_LEFT_2_END_STABILITY': 5.19,\n",
       " 'PRIMER_LEFT_2_GC_PERCENT': 55.0,\n",
       " 'PRIMER_LEFT_2_HAIRPIN_TH': 0.0,\n",
       " 'PRIMER_LEFT_2_PENALTY': 0.5485098850288068,\n",
       " 'PRIMER_LEFT_2_SELF_ANY_TH': 27.01947809412121,\n",
       " 'PRIMER_LEFT_2_SELF_END_TH': 18.001360791532136,\n",
       " 'PRIMER_LEFT_2_SEQUENCE': 'ACAGGGAAGCTTCATAGGCC',\n",
       " 'PRIMER_LEFT_2_TM': 59.45149011497119,\n",
       " 'PRIMER_LEFT_3': (209, 20),\n",
       " 'PRIMER_LEFT_3_END_STABILITY': 4.84,\n",
       " 'PRIMER_LEFT_3_GC_PERCENT': 55.0,\n",
       " 'PRIMER_LEFT_3_HAIRPIN_TH': 0.0,\n",
       " 'PRIMER_LEFT_3_PENALTY': 0.6039746126155023,\n",
       " 'PRIMER_LEFT_3_SELF_ANY_TH': 0.0,\n",
       " 'PRIMER_LEFT_3_SELF_END_TH': 0.0,\n",
       " 'PRIMER_LEFT_3_SEQUENCE': 'AGGCCTTTGAGTCTGAACGC',\n",
       " 'PRIMER_LEFT_3_TM': 60.6039746126155,\n",
       " 'PRIMER_LEFT_4': (209, 20),\n",
       " 'PRIMER_LEFT_4_END_STABILITY': 4.84,\n",
       " 'PRIMER_LEFT_4_GC_PERCENT': 55.0,\n",
       " 'PRIMER_LEFT_4_HAIRPIN_TH': 0.0,\n",
       " 'PRIMER_LEFT_4_PENALTY': 0.6039746126155023,\n",
       " 'PRIMER_LEFT_4_SELF_ANY_TH': 0.0,\n",
       " 'PRIMER_LEFT_4_SELF_END_TH': 0.0,\n",
       " 'PRIMER_LEFT_4_SEQUENCE': 'AGGCCTTTGAGTCTGAACGC',\n",
       " 'PRIMER_LEFT_4_TM': 60.6039746126155,\n",
       " 'PRIMER_LEFT_EXPLAIN': 'considered 1794, overlap excluded region 6, GC content failed 5, low tm 1112, high tm 77, ok 594',\n",
       " 'PRIMER_LEFT_NUM_RETURNED': 5,\n",
       " 'PRIMER_PAIR_0_COMPL_ANY_TH': 0.0,\n",
       " 'PRIMER_PAIR_0_COMPL_END_TH': 0.0,\n",
       " 'PRIMER_PAIR_0_PENALTY': 0.5866689713032542,\n",
       " 'PRIMER_PAIR_0_PRODUCT_SIZE': 231,\n",
       " 'PRIMER_PAIR_1_COMPL_ANY_TH': 0.0,\n",
       " 'PRIMER_PAIR_1_COMPL_END_TH': 0.0,\n",
       " 'PRIMER_PAIR_1_PENALTY': 0.5866689713032542,\n",
       " 'PRIMER_PAIR_1_PRODUCT_SIZE': 235,\n",
       " 'PRIMER_PAIR_2_COMPL_ANY_TH': 0.0,\n",
       " 'PRIMER_PAIR_2_COMPL_END_TH': 0.0,\n",
       " 'PRIMER_PAIR_2_PENALTY': 0.5870363413801556,\n",
       " 'PRIMER_PAIR_2_PRODUCT_SIZE': 233,\n",
       " 'PRIMER_PAIR_3_COMPL_ANY_TH': 12.57817994754231,\n",
       " 'PRIMER_PAIR_3_COMPL_END_TH': 12.57817994754231,\n",
       " 'PRIMER_PAIR_3_PENALTY': 0.6421336988899498,\n",
       " 'PRIMER_PAIR_3_PRODUCT_SIZE': 216,\n",
       " 'PRIMER_PAIR_4_COMPL_ANY_TH': 0.0,\n",
       " 'PRIMER_PAIR_4_COMPL_END_TH': 0.0,\n",
       " 'PRIMER_PAIR_4_PENALTY': 0.6421336988899498,\n",
       " 'PRIMER_PAIR_4_PRODUCT_SIZE': 220,\n",
       " 'PRIMER_PAIR_NUM_RETURNED': 5,\n",
       " 'PRIMER_RIGHT_0': (424, 20),\n",
       " 'PRIMER_RIGHT_0_END_STABILITY': 3.36,\n",
       " 'PRIMER_RIGHT_0_GC_PERCENT': 55.0,\n",
       " 'PRIMER_RIGHT_0_HAIRPIN_TH': 0.0,\n",
       " 'PRIMER_RIGHT_0_PENALTY': 0.03815908627444742,\n",
       " 'PRIMER_RIGHT_0_SELF_ANY_TH': 5.768584490451474,\n",
       " 'PRIMER_RIGHT_0_SELF_END_TH': 0.0,\n",
       " 'PRIMER_RIGHT_0_SEQUENCE': 'CACTCCTTCTCGCGTTCCTT',\n",
       " 'PRIMER_RIGHT_0_TM': 60.03815908627445,\n",
       " 'PRIMER_RIGHT_1': (428, 20),\n",
       " 'PRIMER_RIGHT_1_END_STABILITY': 4.84,\n",
       " 'PRIMER_RIGHT_1_GC_PERCENT': 55.0,\n",
       " 'PRIMER_RIGHT_1_HAIRPIN_TH': 0.0,\n",
       " 'PRIMER_RIGHT_1_PENALTY': 0.03815908627444742,\n",
       " 'PRIMER_RIGHT_1_SELF_ANY_TH': 5.768584490451474,\n",
       " 'PRIMER_RIGHT_1_SELF_END_TH': 0.0,\n",
       " 'PRIMER_RIGHT_1_SEQUENCE': 'CCTTCACTCCTTCTCGCGTT',\n",
       " 'PRIMER_RIGHT_1_TM': 60.03815908627445,\n",
       " 'PRIMER_RIGHT_2': (426, 20),\n",
       " 'PRIMER_RIGHT_2_END_STABILITY': 3.62,\n",
       " 'PRIMER_RIGHT_2_GC_PERCENT': 55.0,\n",
       " 'PRIMER_RIGHT_2_HAIRPIN_TH': 0.0,\n",
       " 'PRIMER_RIGHT_2_PENALTY': 0.03852645635134877,\n",
       " 'PRIMER_RIGHT_2_SELF_ANY_TH': 5.768584490451474,\n",
       " 'PRIMER_RIGHT_2_SELF_END_TH': 0.0,\n",
       " 'PRIMER_RIGHT_2_SEQUENCE': 'TTCACTCCTTCTCGCGTTCC',\n",
       " 'PRIMER_RIGHT_2_TM': 60.03852645635135,\n",
       " 'PRIMER_RIGHT_3': (424, 20),\n",
       " 'PRIMER_RIGHT_3_END_STABILITY': 3.36,\n",
       " 'PRIMER_RIGHT_3_GC_PERCENT': 55.0,\n",
       " 'PRIMER_RIGHT_3_HAIRPIN_TH': 0.0,\n",
       " 'PRIMER_RIGHT_3_PENALTY': 0.03815908627444742,\n",
       " 'PRIMER_RIGHT_3_SELF_ANY_TH': 5.768584490451474,\n",
       " 'PRIMER_RIGHT_3_SELF_END_TH': 0.0,\n",
       " 'PRIMER_RIGHT_3_SEQUENCE': 'CACTCCTTCTCGCGTTCCTT',\n",
       " 'PRIMER_RIGHT_3_TM': 60.03815908627445,\n",
       " 'PRIMER_RIGHT_4': (428, 20),\n",
       " 'PRIMER_RIGHT_4_END_STABILITY': 4.84,\n",
       " 'PRIMER_RIGHT_4_GC_PERCENT': 55.0,\n",
       " 'PRIMER_RIGHT_4_HAIRPIN_TH': 0.0,\n",
       " 'PRIMER_RIGHT_4_PENALTY': 0.03815908627444742,\n",
       " 'PRIMER_RIGHT_4_SELF_ANY_TH': 5.768584490451474,\n",
       " 'PRIMER_RIGHT_4_SELF_END_TH': 0.0,\n",
       " 'PRIMER_RIGHT_4_SEQUENCE': 'CCTTCACTCCTTCTCGCGTT',\n",
       " 'PRIMER_RIGHT_4_TM': 60.03815908627445,\n",
       " 'PRIMER_RIGHT_EXPLAIN': 'considered 1689, overlap excluded region 25, low tm 972, high tm 60, ok 632',\n",
       " 'PRIMER_RIGHT_NUM_RETURNED': 5}"
      ]
     },
     "execution_count": 170,
     "metadata": {},
     "output_type": "execute_result"
    }
   ],
   "source": [
    "P3.designPrimers(seq_args=seq_test,\n",
    "                 global_args= p3_globals)"
   ]
  },
  {
   "cell_type": "markdown",
   "metadata": {},
   "source": [
    "### Design Using Module"
   ]
  },
  {
   "cell_type": "code",
   "execution_count": 172,
   "metadata": {
    "collapsed": false
   },
   "outputs": [],
   "source": [
    "from pcr_marker_design import run_p3"
   ]
  },
  {
   "cell_type": "code",
   "execution_count": 173,
   "metadata": {
    "collapsed": false
   },
   "outputs": [
    {
     "data": {
      "text/plain": [
       "[{'PRIMER_LEFT': (194, 20),\n",
       "  'PRIMER_LEFT_SEQUENCE': 'ACAGGGAAGCTTCATAGGCC',\n",
       "  'PRIMER_RIGHT': (424, 20),\n",
       "  'PRIMER_RIGHT_SEQUENCE': 'CACTCCTTCTCGCGTTCCTT'},\n",
       " {'PRIMER_LEFT': (194, 20),\n",
       "  'PRIMER_LEFT_SEQUENCE': 'ACAGGGAAGCTTCATAGGCC',\n",
       "  'PRIMER_RIGHT': (428, 20),\n",
       "  'PRIMER_RIGHT_SEQUENCE': 'CCTTCACTCCTTCTCGCGTT'},\n",
       " {'PRIMER_LEFT': (194, 20),\n",
       "  'PRIMER_LEFT_SEQUENCE': 'ACAGGGAAGCTTCATAGGCC',\n",
       "  'PRIMER_RIGHT': (426, 20),\n",
       "  'PRIMER_RIGHT_SEQUENCE': 'TTCACTCCTTCTCGCGTTCC'},\n",
       " {'PRIMER_LEFT': (209, 20),\n",
       "  'PRIMER_LEFT_SEQUENCE': 'AGGCCTTTGAGTCTGAACGC',\n",
       "  'PRIMER_RIGHT': (424, 20),\n",
       "  'PRIMER_RIGHT_SEQUENCE': 'CACTCCTTCTCGCGTTCCTT'}]"
      ]
     },
     "execution_count": 173,
     "metadata": {},
     "output_type": "execute_result"
    }
   ],
   "source": [
    "run_p3.run_P3(global_dict=p3_globals,target_dict=seq_test)"
   ]
  },
  {
   "cell_type": "markdown",
   "metadata": {},
   "source": [
    "### Try Design around a longer Target INterval"
   ]
  },
  {
   "cell_type": "code",
   "execution_count": null,
   "metadata": {
    "collapsed": true
   },
   "outputs": [],
   "source": []
  },
  {
   "cell_type": "markdown",
   "metadata": {},
   "source": [
    "use this magic to force reload when editing source"
   ]
  },
  {
   "cell_type": "code",
   "execution_count": 147,
   "metadata": {
    "collapsed": false
   },
   "outputs": [
    {
     "name": "stdout",
     "output_type": "stream",
     "text": [
      "The autoreload extension is already loaded. To reload it, use:\n",
      "  %reload_ext autoreload\n"
     ]
    }
   ],
   "source": [
    "%load_ext autoreload\n",
    "%autoreload 2"
   ]
  },
  {
   "cell_type": "code",
   "execution_count": 154,
   "metadata": {
    "collapsed": false,
    "deletable": true,
    "editable": true
   },
   "outputs": [
    {
     "ename": "ValueError",
     "evalue": "File \"../test/test-data/targets.bed\" does not exist",
     "output_type": "error",
     "traceback": [
      "\u001b[0;31m---------------------------------------------------------------------------\u001b[0m",
      "\u001b[0;31mValueError\u001b[0m                                Traceback (most recent call last)",
      "\u001b[0;32m<ipython-input-154-472909ccf8d8>\u001b[0m in \u001b[0;36m<module>\u001b[0;34m()\u001b[0m\n\u001b[1;32m      3\u001b[0m \u001b[0mannfile\u001b[0m\u001b[0;34m=\u001b[0m \u001b[0;34m\"../test/test-data/targets.bed\"\u001b[0m\u001b[0;34m\u001b[0m\u001b[0m\n\u001b[1;32m      4\u001b[0m \u001b[0mk69_93535_250_290\u001b[0m\u001b[0;34m=\u001b[0m\u001b[0;34m'GACAAAGAGAAAATCCTCAAATCCGGCCTCGTCAACCACA'\u001b[0m\u001b[0;34m\u001b[0m\u001b[0m\n\u001b[0;32m----> 5\u001b[0;31m \u001b[0mdesigner\u001b[0m \u001b[0;34m=\u001b[0m \u001b[0md\u001b[0m\u001b[0;34m.\u001b[0m\u001b[0mPrimerDesign\u001b[0m\u001b[0;34m(\u001b[0m\u001b[0mtest_seq\u001b[0m\u001b[0;34m,\u001b[0m\u001b[0mannfile\u001b[0m\u001b[0;34m,\u001b[0m\u001b[0;34m'Test'\u001b[0m\u001b[0;34m)\u001b[0m\u001b[0;34m\u001b[0m\u001b[0m\n\u001b[0m\u001b[1;32m      6\u001b[0m \u001b[0mseqslice\u001b[0m\u001b[0;34m=\u001b[0m\u001b[0mdesigner\u001b[0m\u001b[0;34m.\u001b[0m\u001b[0mgetseqslicedict\u001b[0m\u001b[0;34m(\u001b[0m\u001b[0mtarget\u001b[0m\u001b[0;34m,\u001b[0m\u001b[0;36m250\u001b[0m\u001b[0;34m)\u001b[0m\u001b[0;34m\u001b[0m\u001b[0m\n",
      "\u001b[0;32m/Users/johnmccallum/Documents/pcr_marker_design/pcr_marker_design/design.py\u001b[0m in \u001b[0;36m__init__\u001b[0;34m(self, reference, annot_file, desc)\u001b[0m\n\u001b[1;32m     38\u001b[0m         \"\"\"\n\u001b[1;32m     39\u001b[0m         \u001b[0mself\u001b[0m\u001b[0;34m.\u001b[0m\u001b[0mreference\u001b[0m \u001b[0;34m=\u001b[0m \u001b[0mFasta\u001b[0m\u001b[0;34m(\u001b[0m\u001b[0mreference\u001b[0m\u001b[0;34m)\u001b[0m\u001b[0;34m\u001b[0m\u001b[0m\n\u001b[0;32m---> 40\u001b[0;31m         \u001b[0mself\u001b[0m\u001b[0;34m.\u001b[0m\u001b[0mannotations\u001b[0m \u001b[0;34m=\u001b[0m \u001b[0mBedTool\u001b[0m\u001b[0;34m(\u001b[0m\u001b[0mannot_file\u001b[0m\u001b[0;34m)\u001b[0m\u001b[0;34m\u001b[0m\u001b[0m\n\u001b[0m\u001b[1;32m     41\u001b[0m         \u001b[0mself\u001b[0m\u001b[0;34m.\u001b[0m\u001b[0mdesc\u001b[0m \u001b[0;34m=\u001b[0m \u001b[0mdesc\u001b[0m\u001b[0;34m\u001b[0m\u001b[0m\n\u001b[1;32m     42\u001b[0m         \u001b[0mself\u001b[0m\u001b[0;34m.\u001b[0m\u001b[0mgenome\u001b[0m \u001b[0;34m=\u001b[0m \u001b[0mre\u001b[0m\u001b[0;34m.\u001b[0m\u001b[0msub\u001b[0m\u001b[0;34m(\u001b[0m\u001b[0;34m\"fasta$\"\u001b[0m\u001b[0;34m,\u001b[0m \u001b[0;34m\"fasta.fai\"\u001b[0m\u001b[0;34m,\u001b[0m \u001b[0mre\u001b[0m\u001b[0;34m.\u001b[0m\u001b[0msub\u001b[0m\u001b[0;34m(\u001b[0m\u001b[0;34m\"fa$\"\u001b[0m\u001b[0;34m,\u001b[0m \u001b[0;34m\"fa.fai\"\u001b[0m\u001b[0;34m,\u001b[0m \u001b[0mself\u001b[0m\u001b[0;34m.\u001b[0m\u001b[0mreference\u001b[0m\u001b[0;34m.\u001b[0m\u001b[0mfilename\u001b[0m\u001b[0;34m)\u001b[0m\u001b[0;34m)\u001b[0m\u001b[0;34m\u001b[0m\u001b[0m\n",
      "\u001b[0;32m/Users/johnmccallum/miniconda3/envs/Py3PCR/lib/python3.5/site-packages/pybedtools/bedtool.py\u001b[0m in \u001b[0;36m__init__\u001b[0;34m(self, fn, from_string, remote)\u001b[0m\n\u001b[1;32m    449\u001b[0m                 \u001b[0;32melse\u001b[0m\u001b[0;34m:\u001b[0m\u001b[0;34m\u001b[0m\u001b[0m\n\u001b[1;32m    450\u001b[0m                     \u001b[0;32mif\u001b[0m \u001b[0;32mnot\u001b[0m \u001b[0mos\u001b[0m\u001b[0;34m.\u001b[0m\u001b[0mpath\u001b[0m\u001b[0;34m.\u001b[0m\u001b[0mexists\u001b[0m\u001b[0;34m(\u001b[0m\u001b[0mfn\u001b[0m\u001b[0;34m)\u001b[0m\u001b[0;34m:\u001b[0m\u001b[0;34m\u001b[0m\u001b[0m\n\u001b[0;32m--> 451\u001b[0;31m                         \u001b[0;32mraise\u001b[0m \u001b[0mValueError\u001b[0m\u001b[0;34m(\u001b[0m\u001b[0;34m'File \"%s\" does not exist'\u001b[0m \u001b[0;34m%\u001b[0m \u001b[0mfn\u001b[0m\u001b[0;34m)\u001b[0m\u001b[0;34m\u001b[0m\u001b[0m\n\u001b[0m\u001b[1;32m    452\u001b[0m                     \u001b[0mself\u001b[0m\u001b[0;34m.\u001b[0m\u001b[0m_isbam\u001b[0m \u001b[0;34m=\u001b[0m \u001b[0misBAM\u001b[0m\u001b[0;34m(\u001b[0m\u001b[0mfn\u001b[0m\u001b[0;34m)\u001b[0m\u001b[0;34m\u001b[0m\u001b[0m\n\u001b[1;32m    453\u001b[0m \u001b[0;34m\u001b[0m\u001b[0m\n",
      "\u001b[0;31mValueError\u001b[0m: File \"../test/test-data/targets.bed\" does not exist"
     ]
    }
   ],
   "source": [
    "from pcr_marker_design import design as d\n",
    "test_seq=\"../test/test-data/targets.fasta\"\n",
    "annfile= \"../test/test-data/targets.bed\"\n",
    "k69_93535_250_290='GACAAAGAGAAAATCCTCAAATCCGGCCTCGTCAACCACA'\n",
    "designer = d.PrimerDesign(test_seq,annfile,'Test')\n",
    "seqslice=designer.getseqslicedict(target,250)"
   ]
  },
  {
   "cell_type": "code",
   "execution_count": 153,
   "metadata": {
    "collapsed": false
   },
   "outputs": [
    {
     "data": {
      "text/plain": [
       "[[5, 2, 7],\n",
       " [2, 4, 6],\n",
       " [2, 1140, 1142],\n",
       " [2, 1146, 1148],\n",
       " [2, 1335, 1337],\n",
       " [2, 2, 4],\n",
       " [2, 660, 662],\n",
       " [2, 750, 752],\n",
       " [2, 886, 888],\n",
       " [5, 1, 6],\n",
       " [4, 2, 6],\n",
       " [3, 3, 6],\n",
       " [2, 4, 6],\n",
       " [2, 721, 723],\n",
       " [2, 725, 727],\n",
       " [3, 728, 731],\n",
       " [8, 740, 748],\n",
       " [7, 741, 748],\n",
       " [6, 742, 748],\n",
       " [2, 1, 3],\n",
       " [2, 29, 31],\n",
       " [2, 2, 4],\n",
       " [2, 452, 454],\n",
       " [2, 514, 516],\n",
       " [2, 521, 523],\n",
       " [2, 549, 551],\n",
       " [2, 624, 626],\n",
       " [2, 692, 694],\n",
       " [2, 716, 718],\n",
       " [2, 722, 724],\n",
       " [2, 725, 727]]"
      ]
     },
     "execution_count": 153,
     "metadata": {},
     "output_type": "execute_result"
    }
   ],
   "source": [
    "[[X.length,X.start,X.end] for X in designer.annotations]"
   ]
  },
  {
   "cell_type": "code",
   "execution_count": 151,
   "metadata": {
    "collapsed": false,
    "deletable": true,
    "editable": true
   },
   "outputs": [
    {
     "data": {
      "text/plain": [
       "{'SEQUENCE_EXCLUDED_REGION': [(244, 2), (439, 2)],\n",
       " 'SEQUENCE_ID': 'Test',\n",
       " 'SEQUENCE_TARGET': (250, 1),\n",
       " 'SEQUENCE_TEMPLATE': 'AAATAATGGAGAATAGATGGTTCAAGAATGGATTCGAGCCTGTGAAATATTACATTGAGAATGATAGGTTTCATAAGTGGTGTAGCTTAGACGAAGAGAATGCTAATGACAACGAGGAGGTAGAATCTGGAGATGAATCAGACTCTTCAGTTGCTTCCTGCCCTCCTACACTTAATGAAGGAAAGAAAAAAAGGACAGGGAAGCTTCATAGGCCTTTGAGTCTGAACGCATTTGACATAATTTCCTTTTCCAGAGGATTTGATCTTTCAGGTTTGTTTGAAGAAACGGGAGATGAAACAAGATTTGTGTCGGGTGAAACGATACCAAACATCATATCGAAATTGGAGGAGATTGCAAAAGTGGGTAGTTTCACGTTTAGGAAGAAGGATTGTAGGGTTAGTTTAGAAGGAACGCGAGAAGGAGTGAAGGGCCCTCTTACGATTGGAGCTGAGATATTTGAGCTTACGCCTAGTTTGGTTGTTGTTGAGCTTAAGAAGAAAG',\n",
       " 'TARGET_ID': 'k69_93535_1146_XX1147'}"
      ]
     },
     "execution_count": 151,
     "metadata": {},
     "output_type": "execute_result"
    }
   ],
   "source": [
    "seqslice"
   ]
  },
  {
   "cell_type": "code",
   "execution_count": 145,
   "metadata": {
    "collapsed": false,
    "deletable": true,
    "editable": true
   },
   "outputs": [
    {
     "data": {
      "text/plain": [
       "[Interval(k69_93535:2-7),\n",
       " Interval(k69_93535:4-6),\n",
       " Interval(k69_93535:1140-1142),\n",
       " Interval(k69_93535:1146-1148),\n",
       " Interval(k69_93535:1335-1337),\n",
       " Interval(k69_93535:2-4),\n",
       " Interval(k69_93535:660-662),\n",
       " Interval(k69_93535:750-752),\n",
       " Interval(k69_93535:886-888)]"
      ]
     },
     "execution_count": 145,
     "metadata": {},
     "output_type": "execute_result"
    }
   ],
   "source": [
    "[X for X in designer.annotations if X.chrom==\"k69_93535\"]"
   ]
  },
  {
   "cell_type": "code",
   "execution_count": 81,
   "metadata": {
    "collapsed": false,
    "deletable": true,
    "editable": true
   },
   "outputs": [
    {
     "data": {
      "text/plain": [
       "[Interval(k69_93535:1140-1142),\n",
       " Interval(k69_93535:1146-1148),\n",
       " Interval(k69_93535:1335-1337)]"
      ]
     },
     "execution_count": 81,
     "metadata": {},
     "output_type": "execute_result"
    }
   ],
   "source": [
    "[X for X in designer.annotations if (X.chrom==\"k69_93535\") & (X.start >1000)& (X.end < 1500)]"
   ]
  },
  {
   "cell_type": "code",
   "execution_count": 60,
   "metadata": {
    "collapsed": false,
    "deletable": true,
    "editable": true
   },
   "outputs": [
    {
     "ename": "SyntaxError",
     "evalue": "invalid syntax (<ipython-input-60-584824af9423>, line 1)",
     "output_type": "error",
     "traceback": [
      "\u001b[0;36m  File \u001b[0;32m\"<ipython-input-60-584824af9423>\"\u001b[0;36m, line \u001b[0;32m1\u001b[0m\n\u001b[0;31m    foo['zip'=1234]\u001b[0m\n\u001b[0m             ^\u001b[0m\n\u001b[0;31mSyntaxError\u001b[0m\u001b[0;31m:\u001b[0m invalid syntax\n"
     ]
    }
   ],
   "source": [
    "foo['zip'=1234]"
   ]
  },
  {
   "cell_type": "code",
   "execution_count": 55,
   "metadata": {
    "collapsed": false,
    "deletable": true,
    "editable": true
   },
   "outputs": [
    {
     "data": {
      "text/plain": [
       "u'GACAAAGAGAAAATCCTCAAATCCGGCCTCGTCAACCACA'"
      ]
     },
     "execution_count": 55,
     "metadata": {},
     "output_type": "execute_result"
    }
   ],
   "source": [
    "seqslice"
   ]
  },
  {
   "cell_type": "code",
   "execution_count": 14,
   "metadata": {
    "collapsed": false,
    "deletable": true,
    "editable": true
   },
   "outputs": [
    {
     "data": {
      "text/plain": [
       "[Interval(k69_93535:2-7),\n",
       " Interval(k69_93535:4-6),\n",
       " Interval(k69_93535:1140-1142),\n",
       " Interval(k69_93535:1146-1148),\n",
       " Interval(k69_93535:1335-1337),\n",
       " Interval(k69_93535:2-4),\n",
       " Interval(k69_93535:660-662),\n",
       " Interval(k69_93535:750-752),\n",
       " Interval(k69_93535:886-888),\n",
       " Interval(k69_98089:1-6),\n",
       " Interval(k69_98089:2-6),\n",
       " Interval(k69_98089:3-6),\n",
       " Interval(k69_98089:4-6),\n",
       " Interval(k69_98089:721-723),\n",
       " Interval(k69_98089:725-727),\n",
       " Interval(k69_98089:728-731),\n",
       " Interval(k69_98089:740-748),\n",
       " Interval(k69_98089:741-748),\n",
       " Interval(k69_98089:742-748),\n",
       " Interval(k69_98089:1-3),\n",
       " Interval(k69_98089:29-31),\n",
       " Interval(k69_98089:2-4),\n",
       " Interval(k69_98089:452-454),\n",
       " Interval(k69_98089:514-516),\n",
       " Interval(k69_98089:521-523),\n",
       " Interval(k69_98089:549-551),\n",
       " Interval(k69_98089:624-626),\n",
       " Interval(k69_98089:692-694),\n",
       " Interval(k69_98089:716-718),\n",
       " Interval(k69_98089:722-724),\n",
       " Interval(k69_98089:725-727)]"
      ]
     },
     "execution_count": 14,
     "metadata": {},
     "output_type": "execute_result"
    }
   ],
   "source": [
    "[X  for X in designer.annotations]"
   ]
  },
  {
   "cell_type": "code",
   "execution_count": 17,
   "metadata": {
    "collapsed": false,
    "deletable": true,
    "editable": true
   },
   "outputs": [
    {
     "data": {
      "text/plain": [
       "{'AC1': '8',\n",
       " 'AF1': '0.3527',\n",
       " 'DP': '2645',\n",
       " 'DP4': '733,804,447,519',\n",
       " 'FQ': '999',\n",
       " 'G3': '0.2771,0.7229,6.934e-153',\n",
       " 'HWE': '0.0248',\n",
       " 'ID': 'k69_93535:SAMTOOLS:SNP:1147',\n",
       " 'MQ': '42',\n",
       " 'PV4': '0.51,0,0.027,1',\n",
       " 'Reference_seq': 'C',\n",
       " 'VDB': '0.0371',\n",
       " 'Variant_seq': 'G'}"
      ]
     },
     "execution_count": 17,
     "metadata": {},
     "output_type": "execute_result"
    }
   ],
   "source": [
    "designer.annotations[3].attrs"
   ]
  },
  {
   "cell_type": "code",
   "execution_count": 20,
   "metadata": {
    "collapsed": false,
    "deletable": true,
    "editable": true
   },
   "outputs": [],
   "source": [
    "b=BedTool(\"k69_93535 1000 1500\",from_string=True)"
   ]
  },
  {
   "cell_type": "code",
   "execution_count": 22,
   "metadata": {
    "collapsed": false,
    "deletable": true,
    "editable": true
   },
   "outputs": [
    {
     "name": "stdout",
     "output_type": "stream",
     "text": [
      "k69_93535\t1141\t1142\n",
      "k69_93535\t1147\t1148\n",
      "k69_93535\t1336\t1337\n",
      "\n"
     ]
    }
   ],
   "source": [
    "print(b.intersect(designer.annotations))"
   ]
  },
  {
   "cell_type": "code",
   "execution_count": 26,
   "metadata": {
    "collapsed": false,
    "deletable": true,
    "editable": true
   },
   "outputs": [],
   "source": [
    "vcf_test= '/Users/cfljam/Documents/galaxy-pcr-markers/test-data/freebayes_out.vcf'"
   ]
  },
  {
   "cell_type": "code",
   "execution_count": 29,
   "metadata": {
    "collapsed": true,
    "deletable": true,
    "editable": true
   },
   "outputs": [],
   "source": [
    "c=BedTool(vcf_test)\n",
    "d=BedTool(\"Chr1 1000 1500\",from_string=True)"
   ]
  },
  {
   "cell_type": "code",
   "execution_count": 34,
   "metadata": {
    "collapsed": false,
    "deletable": true,
    "editable": true
   },
   "outputs": [
    {
     "data": {
      "text/plain": [
       "[(1460, 1), (1480, 1)]"
      ]
     },
     "execution_count": 34,
     "metadata": {},
     "output_type": "execute_result"
    }
   ],
   "source": [
    "[(x. start,x.length) for x in c.intersect(d)[10:120]]"
   ]
  },
  {
   "cell_type": "code",
   "execution_count": 30,
   "metadata": {
    "collapsed": false,
    "deletable": true,
    "editable": true
   },
   "outputs": [
    {
     "name": "stdout",
     "output_type": "stream",
     "text": [
      "Chr1\t1007\t.\tT\tA\t17.1701\t.\tAB=0;ABP=0;AC=2;AF=1;AN=2;AO=1;CIGAR=1X;DP=1;DPRA=0;EPP=5.18177;EPPR=0;HWE=-0;LEN=1;MEANALT=1;MQM=40;MQMR=0;NS=1;NUMALT=1;ODDS=3.91202;PAIRED=0;PAIREDR=0;RO=0;RPP=5.18177;RPPR=0;RUN=1;SAP=5.18177;SRP=0;TYPE=snp;XAI=0.0103093;XAM=0.0309278;XAS=0.0206186;XRI=0;XRM=0;XRS=0;BVAR\tGT:GQ:DP:RO:QR:AO:QA:GL\t1/1:14.1547:1:0:0:1:17:-1.7,-0.30103,0\n",
      "Chr1\t1012\t.\tTGT\tAGA\t17.1701\t.\tAB=0;ABP=0;AC=2;AF=1;AN=2;AO=1;CIGAR=1X1M1X;DP=1;DPRA=0;EPP=5.18177;EPPR=0;HWE=-0;LEN=3;MEANALT=1;MQM=40;MQMR=0;NS=1;NUMALT=1;ODDS=3.91202;PAIRED=0;PAIREDR=0;RO=0;RPP=5.18177;RPPR=0;RUN=1;SAP=5.18177;SRP=0;TYPE=complex;XAI=0;XAM=0.0309278;XAS=0.0309278;XRI=0;XRM=0;XRS=0;BVAR\tGT:GQ:DP:RO:QR:AO:QA:GL\t1/1:14.1547:1:0:0:1:17:-1.7,-0.30103,0\n",
      "Chr1\t1056\t.\tA\tC\t17.1701\t.\tAB=0;ABP=0;AC=2;AF=1;AN=2;AO=1;CIGAR=1X;DP=1;DPRA=0;EPP=5.18177;EPPR=0;HWE=-0;LEN=1;MEANALT=1;MQM=40;MQMR=0;NS=1;NUMALT=1;ODDS=3.91202;PAIRED=0;PAIREDR=0;RO=0;RPP=5.18177;RPPR=0;RUN=1;SAP=5.18177;SRP=0;TYPE=snp;XAI=0.0103093;XAM=0.0309278;XAS=0.0206186;XRI=0;XRM=0;XRS=0;BVAR\tGT:GQ:DP:RO:QR:AO:QA:GL\t1/1:14.1547:1:0:0:1:17:-1.7,-0.30103,0\n",
      "Chr1\t1067\t.\tC\tG\t17.1701\t.\tAB=0;ABP=0;AC=2;AF=1;AN=2;AO=1;CIGAR=1X;DP=1;DPRA=0;EPP=5.18177;EPPR=0;HWE=-0;LEN=1;MEANALT=1;MQM=40;MQMR=0;NS=1;NUMALT=1;ODDS=3.91202;PAIRED=0;PAIREDR=0;RO=0;RPP=5.18177;RPPR=0;RUN=1;SAP=5.18177;SRP=0;TYPE=snp;XAI=0.0103093;XAM=0.0309278;XAS=0.0206186;XRI=0;XRM=0;XRS=0;BVAR\tGT:GQ:DP:RO:QR:AO:QA:GL\t1/1:14.1547:1:0:0:1:17:-1.7,-0.30103,0\n",
      "Chr1\t1257\t.\tC\tG\t17.1701\t.\tAB=0;ABP=0;AC=2;AF=1;AN=2;AO=1;CIGAR=1X;DP=1;DPRA=0;EPP=5.18177;EPPR=0;HWE=-0;LEN=1;MEANALT=1;MQM=0;MQMR=0;NS=1;NUMALT=1;ODDS=3.91202;PAIRED=0;PAIREDR=0;RO=0;RPP=5.18177;RPPR=0;RUN=1;SAP=5.18177;SRP=0;TYPE=snp;XAI=0;XAM=0.03;XAS=0.03;XRI=0;XRM=0;XRS=0;BVAR\tGT:GQ:DP:RO:QR:AO:QA:GL\t1/1:14.1547:1:0:0:1:17:-1.7,-0.30103,0\n",
      "Chr1\t1305\t.\tA\tC\t17.1701\t.\tAB=0;ABP=0;AC=2;AF=1;AN=2;AO=1;CIGAR=1X;DP=1;DPRA=0;EPP=5.18177;EPPR=0;HWE=-0;LEN=1;MEANALT=1;MQM=0;MQMR=0;NS=1;NUMALT=1;ODDS=3.91202;PAIRED=0;PAIREDR=0;RO=0;RPP=5.18177;RPPR=0;RUN=1;SAP=5.18177;SRP=0;TYPE=snp;XAI=0;XAM=0.03;XAS=0.03;XRI=0;XRM=0;XRS=0;BVAR\tGT:GQ:DP:RO:QR:AO:QA:GL\t1/1:14.1547:1:0:0:1:17:-1.7,-0.30103,0\n",
      "Chr1\t1319\t.\tA\tC\t17.1701\t.\tAB=0;ABP=0;AC=2;AF=1;AN=2;AO=1;CIGAR=1X;DP=1;DPRA=0;EPP=5.18177;EPPR=0;HWE=-0;LEN=1;MEANALT=1;MQM=0;MQMR=0;NS=1;NUMALT=1;ODDS=3.91202;PAIRED=0;PAIREDR=0;RO=0;RPP=5.18177;RPPR=0;RUN=1;SAP=5.18177;SRP=0;TYPE=snp;XAI=0;XAM=0.03;XAS=0.03;XRI=0;XRM=0;XRS=0;BVAR\tGT:GQ:DP:RO:QR:AO:QA:GL\t1/1:14.1547:1:0:0:1:17:-1.7,-0.30103,0\n",
      "Chr1\t1330\t.\tC\tG\t17.1701\t.\tAB=0;ABP=0;AC=2;AF=1;AN=2;AO=1;CIGAR=1X;DP=1;DPRA=0;EPP=5.18177;EPPR=0;HWE=-0;LEN=1;MEANALT=1;MQM=0;MQMR=0;NS=1;NUMALT=1;ODDS=3.91202;PAIRED=0;PAIREDR=0;RO=0;RPP=5.18177;RPPR=0;RUN=1;SAP=5.18177;SRP=0;TYPE=snp;XAI=0;XAM=0.03;XAS=0.03;XRI=0;XRM=0;XRS=0;BVAR\tGT:GQ:DP:RO:QR:AO:QA:GL\t1/1:14.1547:1:0:0:1:17:-1.7,-0.30103,0\n",
      "Chr1\t1441\t.\tA\tT\t17.1701\t.\tAB=0;ABP=0;AC=2;AF=1;AN=2;AO=1;CIGAR=1X;DP=1;DPRA=0;EPP=5.18177;EPPR=0;HWE=-0;LEN=1;MEANALT=1;MQM=40;MQMR=0;NS=1;NUMALT=1;ODDS=3.91202;PAIRED=0;PAIREDR=0;RO=0;RPP=5.18177;RPPR=0;RUN=1;SAP=5.18177;SRP=0;TYPE=snp;XAI=0.0105263;XAM=0.0421053;XAS=0.0315789;XRI=0;XRM=0;XRS=0;BVAR\tGT:GQ:DP:RO:QR:AO:QA:GL\t1/1:14.1547:1:0:0:1:17:-1.7,-0.30103,0\n",
      "Chr1\t1451\t.\tC\tA\t17.1701\t.\tAB=0;ABP=0;AC=2;AF=1;AN=2;AO=1;CIGAR=1X;DP=1;DPRA=0;EPP=5.18177;EPPR=0;HWE=-0;LEN=1;MEANALT=1;MQM=40;MQMR=0;NS=1;NUMALT=1;ODDS=3.91202;PAIRED=0;PAIREDR=0;RO=0;RPP=5.18177;RPPR=0;RUN=1;SAP=5.18177;SRP=0;TYPE=snp;XAI=0.0105263;XAM=0.0421053;XAS=0.0315789;XRI=0;XRM=0;XRS=0;BVAR\tGT:GQ:DP:RO:QR:AO:QA:GL\t1/1:14.1547:1:0:0:1:17:-1.7,-0.30103,0\n",
      "Chr1\t1460\t.\tCTCTG\tATCTC\t17.1701\t.\tAB=0;ABP=0;AC=2;AF=1;AN=2;AO=1;CIGAR=1X3M1X;DP=1;DPRA=0;EPP=5.18177;EPPR=0;HWE=-0;LEN=5;MEANALT=1;MQM=40;MQMR=0;NS=1;NUMALT=1;ODDS=3.91202;PAIRED=0;PAIREDR=0;RO=0;RPP=5.18177;RPPR=0;RUN=1;SAP=5.18177;SRP=0;TYPE=complex;XAI=0;XAM=0.0421053;XAS=0.0421053;XRI=0;XRM=0;XRS=0;BVAR\tGT:GQ:DP:RO:QR:AO:QA:GL\t1/1:14.1547:1:0:0:1:17:-1.7,-0.30103,0\n",
      "Chr1\t1480\t.\tG\tC\t17.1701\t.\tAB=0;ABP=0;AC=2;AF=1;AN=2;AO=1;CIGAR=1X;DP=1;DPRA=0;EPP=5.18177;EPPR=0;HWE=-0;LEN=1;MEANALT=1;MQM=40;MQMR=0;NS=1;NUMALT=1;ODDS=3.91202;PAIRED=0;PAIREDR=0;RO=0;RPP=5.18177;RPPR=0;RUN=1;SAP=5.18177;SRP=0;TYPE=snp;XAI=0.0105263;XAM=0.0421053;XAS=0.0315789;XRI=0;XRM=0;XRS=0;BVAR\tGT:GQ:DP:RO:QR:AO:QA:GL\t1/1:14.1547:1:0:0:1:17:-1.7,-0.30103,0\n",
      "\n"
     ]
    }
   ],
   "source": [
    "print(c.intersect(d))"
   ]
  }
 ],
 "metadata": {
  "kernelspec": {
   "display_name": "Python 3",
   "language": "python",
   "name": "python3"
  },
  "language_info": {
   "codemirror_mode": {
    "name": "ipython",
    "version": 3
   },
   "file_extension": ".py",
   "mimetype": "text/x-python",
   "name": "python",
   "nbconvert_exporter": "python",
   "pygments_lexer": "ipython3",
   "version": "3.5.3"
  }
 },
 "nbformat": 4,
 "nbformat_minor": 0
}
