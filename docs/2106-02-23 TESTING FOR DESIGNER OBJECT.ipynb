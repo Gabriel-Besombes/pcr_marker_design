{
 "cells": [
  {
   "cell_type": "code",
   "execution_count": 36,
   "metadata": {
    "collapsed": false
   },
   "outputs": [
    {
     "name": "stdout",
     "output_type": "stream",
     "text": [
      "\u001b[33mcommit 2213ea5854e8855191c347c0409500aba66d3173\u001b[m\n",
      "Author: John McCallum <cfljam@users.noreply.github.com>\n",
      "Date:   Tue Feb 23 14:52:01 2016 +1300\n",
      "\n",
      "    updated notebook\n"
     ]
    }
   ],
   "source": [
    "!git log -1"
   ]
  },
  {
   "cell_type": "code",
   "execution_count": 37,
   "metadata": {
    "collapsed": false
   },
   "outputs": [
    {
     "name": "stdout",
     "output_type": "stream",
     "text": [
      "origin\thttps://github.com/cfljam/pcr_marker_design (fetch)\r\n",
      "origin\thttps://github.com/cfljam/pcr_marker_design (push)\r\n",
      "upstream\thttps://github.com/PlantandFoodResearch/pcr_marker_design (fetch)\r\n",
      "upstream\thttps://github.com/PlantandFoodResearch/pcr_marker_design (push)\r\n"
     ]
    }
   ],
   "source": [
    "!git remote -v"
   ]
  },
  {
   "cell_type": "code",
   "execution_count": 38,
   "metadata": {
    "collapsed": false
   },
   "outputs": [
    {
     "name": "stdout",
     "output_type": "stream",
     "text": [
      "appnope==0.1.0\r\n",
      "backports-abc==0.4\r\n",
      "backports.ssl-match-hostname==3.4.0.2\r\n",
      "bcbio-gff==0.6.2\r\n",
      "biopython==1.66\r\n",
      "Cython==0.23.4\r\n",
      "decorator==4.0.6\r\n",
      "gister==1.0.23\r\n",
      "ipykernel==4.2.2\r\n",
      "ipython==4.1.1\r\n",
      "ipython-genutils==0.1.0\r\n",
      "ipywidgets==4.1.1\r\n",
      "Jinja2==2.8\r\n",
      "jsonschema==2.4.0\r\n",
      "jupyter==1.0.0\r\n",
      "jupyter-client==4.1.1\r\n",
      "jupyter-console==4.1.0\r\n",
      "jupyter-core==4.0.6\r\n",
      "MarkupSafe==0.23\r\n",
      "mistune==0.7.1\r\n",
      "nbconvert==4.1.0\r\n",
      "nbformat==4.0.1\r\n",
      "notebook==4.1.0\r\n",
      "numpy==1.10.4\r\n",
      "pandas==0.17.1\r\n",
      "path.py==0.0.0\r\n",
      "-e git+https://github.com/cfljam/pcr_marker_design@2213ea5854e8855191c347c0409500aba66d3173#egg=pcr_marker_design\r\n",
      "-e git+https://github.com/cfljam/galaxy-pcr-markers@1767a0e5204a2ddb49e08648b5d8e3cf78eacb95#egg=PCRMarkerDesign\r\n",
      "pexpect==3.3\r\n",
      "pickleshare==0.5\r\n",
      "primer3-py==0.4.3\r\n",
      "ptyprocess==0.5\r\n",
      "py==1.4.31\r\n",
      "pybedtools==0.7.6\r\n",
      "pyfaidx==0.4.4\r\n",
      "Pygments==2.1\r\n",
      "pysam==0.8.4\r\n",
      "pytest==2.8.7\r\n",
      "python-dateutil==2.4.2\r\n",
      "pytz==2015.7\r\n",
      "pyzmq==15.2.0\r\n",
      "qtconsole==4.1.1\r\n",
      "requests==2.9.1\r\n",
      "scipy==0.17.0\r\n",
      "simplegeneric==0.8.1\r\n",
      "singledispatch==3.4.0.3\r\n",
      "six==1.10.0\r\n",
      "terminado==0.5\r\n",
      "tornado==4.3\r\n",
      "traitlets==4.1.0\r\n",
      "wheel==0.29.0\r\n"
     ]
    }
   ],
   "source": [
    "!pip freeze"
   ]
  },
  {
   "cell_type": "code",
   "execution_count": 92,
   "metadata": {
    "collapsed": true
   },
   "outputs": [],
   "source": [
    "\n",
    "from pybedtools import BedTool\n",
    "from pyfaidx import Fasta"
   ]
  },
  {
   "cell_type": "code",
   "execution_count": 4,
   "metadata": {
    "collapsed": true
   },
   "outputs": [],
   "source": [
    "\n",
    "test_ann=\"../test/test-data/targets.gff\""
   ]
  },
  {
   "cell_type": "code",
   "execution_count": 94,
   "metadata": {
    "collapsed": false
   },
   "outputs": [
    {
     "data": {
      "text/plain": [
       "u'/Users/cfljam/Documents/pcr_marker_design/docs'"
      ]
     },
     "execution_count": 94,
     "metadata": {},
     "output_type": "execute_result"
    }
   ],
   "source": [
    "pwd"
   ]
  },
  {
   "cell_type": "code",
   "execution_count": 16,
   "metadata": {
    "collapsed": true
   },
   "outputs": [],
   "source": [
    "p3_globals={\n",
    "        'PRIMER_OPT_SIZE': 20,\n",
    "        'PRIMER_PICK_INTERNAL_OLIGO': 0,\n",
    "        'PRIMER_INTERNAL_MAX_SELF_END': 8,\n",
    "        'PRIMER_MIN_SIZE': 18,\n",
    "        'PRIMER_MAX_SIZE': 25,\n",
    "        'PRIMER_OPT_TM': 60.0,\n",
    "        'PRIMER_MIN_TM': 57.0,\n",
    "        'PRIMER_MAX_TM': 63.0,\n",
    "        'PRIMER_MIN_GC': 20.0,\n",
    "        'PRIMER_MAX_GC': 80.0,\n",
    "        'PRIMER_MAX_POLY_X': 100,\n",
    "        'PRIMER_INTERNAL_MAX_POLY_X': 100,\n",
    "        'PRIMER_SALT_MONOVALENT': 50.0,\n",
    "        'PRIMER_DNA_CONC': 50.0,\n",
    "        'PRIMER_MAX_NS_ACCEPTED': 0,\n",
    "        'PRIMER_MAX_SELF_ANY': 12,\n",
    "        'PRIMER_MAX_SELF_END': 8,\n",
    "        'PRIMER_PAIR_MAX_COMPL_ANY': 12,\n",
    "        'PRIMER_PAIR_MAX_COMPL_END': 8,\n",
    "        'PRIMER_PRODUCT_SIZE_RANGE': [60,250],\n",
    "    }"
   ]
  },
  {
   "cell_type": "code",
   "execution_count": 263,
   "metadata": {
    "collapsed": false
   },
   "outputs": [],
   "source": [
    "class PrimerDesign:\n",
    "    \"\"\"A primer design object that is primed\n",
    "    with genome reference and variant data\n",
    "    \"\"\"\n",
    "    def __init__(self, reference,annot_file,desc):\n",
    "        self.reference = Fasta(reference)\n",
    "        self.annotations=BedTool(annot_file)\n",
    "        self.desc=desc\n",
    "        self.genome=self.reference.filename.replace(\"fasta\",\"fasta.fai\")\n",
    "\n",
    "\n",
    "    def getseqslice(self,contig,start,end):\n",
    "        seqslice=self.reference[contig][start:end]\n",
    "        annslice=[X for X in self.annotations if (X.chrom==contig) & (X.start >start) & (X.end < end)]\n",
    "        myslice=dict(seq=seqslice,ann=annslice)\n",
    "        return myslice\n",
    "    \n",
    "    def getseqslicedict(self,target,max_size):\n",
    "        \"\"\"Pass a target to a designer and get a dictionary\n",
    "        slice that we can pass to P3\n",
    "        \"\"\"\n",
    "        target_int=target.slop(b=max_size,g=self.genome)\n",
    "        offset=target_int[0].start\n",
    "        sldic=dict(SEQUENCE_ID=self.desc)\n",
    "        sldic['TARGET_ID']=target[0].chrom+ \"_\" + str(target_int[0].start) +\"_\" + str(target_int[0].end)\n",
    "        sldic['SEQUENCE_TEMPLATE']=self.reference[target[0].chrom][target_int[0].start:target_int[0].end].seq\n",
    "        slice_annot=[(X.start -offset,X.length) for X in (self.annotations - target) if (X.chrom==target[0].chrom) & \\\n",
    "                     (X.start > target_int[0].start) & (X.end < target_int[0].end)]\n",
    "        sldic['SEQUENCE_EXCLUDED_REGION']=slice_annot\n",
    "        sldic['SEQUENCE_INCLUDED_REGION']= (target[0].start -offset,target[0].length)\n",
    "        return sldic\n"
   ]
  },
  {
   "cell_type": "code",
   "execution_count": 39,
   "metadata": {
    "collapsed": false
   },
   "outputs": [],
   "source": [
    "from pcr_marker_design import design as d\n",
    "from pybedtools import BedTool\n",
    "\n",
    "test_seq='../test/test-data/targets.fasta'\n",
    "annfile='../test/test-data/targets.gff'\n",
    "foo=d.PrimerDesign(test_seq,annfile,'target')"
   ]
  },
  {
   "cell_type": "code",
   "execution_count": 38,
   "metadata": {
    "collapsed": false
   },
   "outputs": [
    {
     "data": {
      "text/plain": [
       "<module 'pcr_marker_design.design' from '/Users/cfljam/Documents/pcr_marker_design/pcr_marker_design/design.py'>"
      ]
     },
     "execution_count": 38,
     "metadata": {},
     "output_type": "execute_result"
    }
   ],
   "source": [
    "reload(d)"
   ]
  },
  {
   "cell_type": "code",
   "execution_count": 29,
   "metadata": {
    "collapsed": false
   },
   "outputs": [
    {
     "name": "stdout",
     "output_type": "stream",
     "text": [
      "k69_93535\t1146\t1147\n",
      "\n"
     ]
    }
   ],
   "source": [
    "target=BedTool(\"k69_93535 1146 1147\",from_string=True)\n",
    "print(target)"
   ]
  },
  {
   "cell_type": "code",
   "execution_count": 30,
   "metadata": {
    "collapsed": false
   },
   "outputs": [
    {
     "data": {
      "text/plain": [
       "1146"
      ]
     },
     "execution_count": 30,
     "metadata": {},
     "output_type": "execute_result"
    }
   ],
   "source": [
    "target[0].start"
   ]
  },
  {
   "cell_type": "code",
   "execution_count": 31,
   "metadata": {
    "collapsed": false
   },
   "outputs": [
    {
     "data": {
      "text/plain": [
       "250"
      ]
     },
     "execution_count": 31,
     "metadata": {},
     "output_type": "execute_result"
    }
   ],
   "source": [
    "p3_globals['PRIMER_PRODUCT_SIZE_RANGE'][1]"
   ]
  },
  {
   "cell_type": "code",
   "execution_count": 40,
   "metadata": {
    "collapsed": false
   },
   "outputs": [
    {
     "data": {
      "text/plain": [
       "{'SEQUENCE_EXCLUDED_REGION': [(244, 2), (439, 2)],\n",
       " 'SEQUENCE_ID': 'target',\n",
       " 'SEQUENCE_TARGET': (250, 1),\n",
       " 'SEQUENCE_TEMPLATE': 'AAATAATGGAGAATAGATGGTTCAAGAATGGATTCGAGCCTGTGAAATATTACATTGAGAATGATAGGTTTCATAAGTGGTGTAGCTTAGACGAAGAGAATGCTAATGACAACGAGGAGGTAGAATCTGGAGATGAATCAGACTCTTCAGTTGCTTCCTGCCCTCCTACACTTAATGAAGGAAAGAAAAAAAGGACAGGGAAGCTTCATAGGCCTTTGAGTCTGAACGCATTTGACATAATTTCCTTTTCCAGAGGATTTGATCTTTCAGGTTTGTTTGAAGAAACGGGAGATGAAACAAGATTTGTGTCGGGTGAAACGATACCAAACATCATATCGAAATTGGAGGAGATTGCAAAAGTGGGTAGTTTCACGTTTAGGAAGAAGGATTGTAGGGTTAGTTTAGAAGGAACGCGAGAAGGAGTGAAGGGCCCTCTTACGATTGGAGCTGAGATATTTGAGCTTACGCCTAGTTTGGTTGTTGTTGAGCTTAAGAAGAAAG',\n",
       " 'TARGET_ID': 'k69_93535_896_1397'}"
      ]
     },
     "execution_count": 40,
     "metadata": {},
     "output_type": "execute_result"
    }
   ],
   "source": [
    "seq_test=foo.getseqslicedict(target,p3_globals['PRIMER_PRODUCT_SIZE_RANGE'][1])\n",
    "seq_test"
   ]
  },
  {
   "cell_type": "code",
   "execution_count": 27,
   "metadata": {
    "collapsed": false
   },
   "outputs": [
    {
     "data": {
      "text/plain": [
       "'k69_93535_896_1397'"
      ]
     },
     "execution_count": 27,
     "metadata": {},
     "output_type": "execute_result"
    }
   ],
   "source": [
    "str(seq_test['TARGET_ID'])"
   ]
  },
  {
   "cell_type": "code",
   "execution_count": 20,
   "metadata": {
    "collapsed": false
   },
   "outputs": [],
   "source": [
    "import primer3 as P3"
   ]
  },
  {
   "cell_type": "code",
   "execution_count": 41,
   "metadata": {
    "collapsed": false
   },
   "outputs": [
    {
     "data": {
      "text/plain": [
       "{'PRIMER_INTERNAL_0': (304L, 26L),\n",
       " 'PRIMER_INTERNAL_0_GC_PERCENT': 46.15384615384615,\n",
       " 'PRIMER_INTERNAL_0_HAIRPIN_TH': 42.41935812013236,\n",
       " 'PRIMER_INTERNAL_0_PENALTY': 7.074487853621633,\n",
       " 'PRIMER_INTERNAL_0_SELF_ANY_TH': 0.844755456581197,\n",
       " 'PRIMER_INTERNAL_0_SELF_END_TH': 0.0,\n",
       " 'PRIMER_INTERNAL_0_SEQUENCE': 'TGTGTCGGGTGAAACGATACCAAACA',\n",
       " 'PRIMER_INTERNAL_0_TM': 58.92551214637837,\n",
       " 'PRIMER_INTERNAL_1': (304L, 26L),\n",
       " 'PRIMER_INTERNAL_1_GC_PERCENT': 46.15384615384615,\n",
       " 'PRIMER_INTERNAL_1_HAIRPIN_TH': 42.41935812013236,\n",
       " 'PRIMER_INTERNAL_1_PENALTY': 7.074487853621633,\n",
       " 'PRIMER_INTERNAL_1_SELF_ANY_TH': 0.844755456581197,\n",
       " 'PRIMER_INTERNAL_1_SELF_END_TH': 0.0,\n",
       " 'PRIMER_INTERNAL_1_SEQUENCE': 'TGTGTCGGGTGAAACGATACCAAACA',\n",
       " 'PRIMER_INTERNAL_1_TM': 58.92551214637837,\n",
       " 'PRIMER_INTERNAL_2': (304L, 26L),\n",
       " 'PRIMER_INTERNAL_2_GC_PERCENT': 46.15384615384615,\n",
       " 'PRIMER_INTERNAL_2_HAIRPIN_TH': 42.41935812013236,\n",
       " 'PRIMER_INTERNAL_2_PENALTY': 7.074487853621633,\n",
       " 'PRIMER_INTERNAL_2_SELF_ANY_TH': 0.844755456581197,\n",
       " 'PRIMER_INTERNAL_2_SELF_END_TH': 0.0,\n",
       " 'PRIMER_INTERNAL_2_SEQUENCE': 'TGTGTCGGGTGAAACGATACCAAACA',\n",
       " 'PRIMER_INTERNAL_2_TM': 58.92551214637837,\n",
       " 'PRIMER_INTERNAL_3': (304L, 26L),\n",
       " 'PRIMER_INTERNAL_3_GC_PERCENT': 46.15384615384615,\n",
       " 'PRIMER_INTERNAL_3_HAIRPIN_TH': 42.41935812013236,\n",
       " 'PRIMER_INTERNAL_3_PENALTY': 7.074487853621633,\n",
       " 'PRIMER_INTERNAL_3_SELF_ANY_TH': 0.844755456581197,\n",
       " 'PRIMER_INTERNAL_3_SELF_END_TH': 0.0,\n",
       " 'PRIMER_INTERNAL_3_SEQUENCE': 'TGTGTCGGGTGAAACGATACCAAACA',\n",
       " 'PRIMER_INTERNAL_3_TM': 58.92551214637837,\n",
       " 'PRIMER_INTERNAL_4': (304L, 26L),\n",
       " 'PRIMER_INTERNAL_4_GC_PERCENT': 46.15384615384615,\n",
       " 'PRIMER_INTERNAL_4_HAIRPIN_TH': 42.41935812013236,\n",
       " 'PRIMER_INTERNAL_4_PENALTY': 7.074487853621633,\n",
       " 'PRIMER_INTERNAL_4_SELF_ANY_TH': 0.844755456581197,\n",
       " 'PRIMER_INTERNAL_4_SELF_END_TH': 0.0,\n",
       " 'PRIMER_INTERNAL_4_SEQUENCE': 'TGTGTCGGGTGAAACGATACCAAACA',\n",
       " 'PRIMER_INTERNAL_4_TM': 58.92551214637837,\n",
       " 'PRIMER_INTERNAL_EXPLAIN': 'considered 24, unacceptable product size 19, ok 5',\n",
       " 'PRIMER_INTERNAL_NUM_RETURNED': 5L,\n",
       " 'PRIMER_LEFT_0': (194L, 20L),\n",
       " 'PRIMER_LEFT_0_END_STABILITY': 5.19,\n",
       " 'PRIMER_LEFT_0_GC_PERCENT': 55.0,\n",
       " 'PRIMER_LEFT_0_HAIRPIN_TH': 0.0,\n",
       " 'PRIMER_LEFT_0_PENALTY': 0.5485098850288068,\n",
       " 'PRIMER_LEFT_0_SELF_ANY_TH': 14.281185332787231,\n",
       " 'PRIMER_LEFT_0_SELF_END_TH': 7.548278344245659,\n",
       " 'PRIMER_LEFT_0_SEQUENCE': 'ACAGGGAAGCTTCATAGGCC',\n",
       " 'PRIMER_LEFT_0_TM': 59.45149011497119,\n",
       " 'PRIMER_LEFT_1': (194L, 20L),\n",
       " 'PRIMER_LEFT_1_END_STABILITY': 5.19,\n",
       " 'PRIMER_LEFT_1_GC_PERCENT': 55.0,\n",
       " 'PRIMER_LEFT_1_HAIRPIN_TH': 0.0,\n",
       " 'PRIMER_LEFT_1_PENALTY': 0.5485098850288068,\n",
       " 'PRIMER_LEFT_1_SELF_ANY_TH': 14.281185332787231,\n",
       " 'PRIMER_LEFT_1_SELF_END_TH': 7.548278344245659,\n",
       " 'PRIMER_LEFT_1_SEQUENCE': 'ACAGGGAAGCTTCATAGGCC',\n",
       " 'PRIMER_LEFT_1_TM': 59.45149011497119,\n",
       " 'PRIMER_LEFT_2': (194L, 20L),\n",
       " 'PRIMER_LEFT_2_END_STABILITY': 5.19,\n",
       " 'PRIMER_LEFT_2_GC_PERCENT': 55.0,\n",
       " 'PRIMER_LEFT_2_HAIRPIN_TH': 0.0,\n",
       " 'PRIMER_LEFT_2_PENALTY': 0.5485098850288068,\n",
       " 'PRIMER_LEFT_2_SELF_ANY_TH': 14.281185332787231,\n",
       " 'PRIMER_LEFT_2_SELF_END_TH': 7.548278344245659,\n",
       " 'PRIMER_LEFT_2_SEQUENCE': 'ACAGGGAAGCTTCATAGGCC',\n",
       " 'PRIMER_LEFT_2_TM': 59.45149011497119,\n",
       " 'PRIMER_LEFT_3': (209L, 20L),\n",
       " 'PRIMER_LEFT_3_END_STABILITY': 4.84,\n",
       " 'PRIMER_LEFT_3_GC_PERCENT': 55.0,\n",
       " 'PRIMER_LEFT_3_HAIRPIN_TH': 0.0,\n",
       " 'PRIMER_LEFT_3_PENALTY': 0.6039746126155023,\n",
       " 'PRIMER_LEFT_3_SELF_ANY_TH': 1.4308035498013965,\n",
       " 'PRIMER_LEFT_3_SELF_END_TH': 0.0,\n",
       " 'PRIMER_LEFT_3_SEQUENCE': 'AGGCCTTTGAGTCTGAACGC',\n",
       " 'PRIMER_LEFT_3_TM': 60.6039746126155,\n",
       " 'PRIMER_LEFT_4': (209L, 20L),\n",
       " 'PRIMER_LEFT_4_END_STABILITY': 4.84,\n",
       " 'PRIMER_LEFT_4_GC_PERCENT': 55.0,\n",
       " 'PRIMER_LEFT_4_HAIRPIN_TH': 0.0,\n",
       " 'PRIMER_LEFT_4_PENALTY': 0.6039746126155023,\n",
       " 'PRIMER_LEFT_4_SELF_ANY_TH': 1.4308035498013965,\n",
       " 'PRIMER_LEFT_4_SELF_END_TH': 0.0,\n",
       " 'PRIMER_LEFT_4_SEQUENCE': 'AGGCCTTTGAGTCTGAACGC',\n",
       " 'PRIMER_LEFT_4_TM': 60.6039746126155,\n",
       " 'PRIMER_LEFT_EXPLAIN': 'considered 1794, overlap excluded region 6, GC content failed 5, low tm 1112, high tm 77, ok 594',\n",
       " 'PRIMER_LEFT_NUM_RETURNED': 5L,\n",
       " 'PRIMER_PAIR_0_COMPL_ANY_TH': 0.6554620699526481,\n",
       " 'PRIMER_PAIR_0_COMPL_END_TH': 0.0,\n",
       " 'PRIMER_PAIR_0_PENALTY': 0.5866689713032542,\n",
       " 'PRIMER_PAIR_0_PRODUCT_SIZE': 231L,\n",
       " 'PRIMER_PAIR_1_COMPL_ANY_TH': 0.0,\n",
       " 'PRIMER_PAIR_1_COMPL_END_TH': 0.0,\n",
       " 'PRIMER_PAIR_1_PENALTY': 0.5866689713032542,\n",
       " 'PRIMER_PAIR_1_PRODUCT_SIZE': 235L,\n",
       " 'PRIMER_PAIR_2_COMPL_ANY_TH': 0.0,\n",
       " 'PRIMER_PAIR_2_COMPL_END_TH': 0.0,\n",
       " 'PRIMER_PAIR_2_PENALTY': 0.5870363413801556,\n",
       " 'PRIMER_PAIR_2_PRODUCT_SIZE': 233L,\n",
       " 'PRIMER_PAIR_3_COMPL_ANY_TH': 0.0,\n",
       " 'PRIMER_PAIR_3_COMPL_END_TH': 0.0,\n",
       " 'PRIMER_PAIR_3_PENALTY': 0.6421336988899498,\n",
       " 'PRIMER_PAIR_3_PRODUCT_SIZE': 216L,\n",
       " 'PRIMER_PAIR_4_COMPL_ANY_TH': 0.0,\n",
       " 'PRIMER_PAIR_4_COMPL_END_TH': 0.0,\n",
       " 'PRIMER_PAIR_4_PENALTY': 0.6421336988899498,\n",
       " 'PRIMER_PAIR_4_PRODUCT_SIZE': 220L,\n",
       " 'PRIMER_PAIR_NUM_RETURNED': 5L,\n",
       " 'PRIMER_RIGHT_0': (424L, 20L),\n",
       " 'PRIMER_RIGHT_0_END_STABILITY': 3.36,\n",
       " 'PRIMER_RIGHT_0_GC_PERCENT': 55.0,\n",
       " 'PRIMER_RIGHT_0_HAIRPIN_TH': 0.0,\n",
       " 'PRIMER_RIGHT_0_PENALTY': 0.03815908627444742,\n",
       " 'PRIMER_RIGHT_0_SELF_ANY_TH': 5.768584490451474,\n",
       " 'PRIMER_RIGHT_0_SELF_END_TH': 0.0,\n",
       " 'PRIMER_RIGHT_0_SEQUENCE': 'CACTCCTTCTCGCGTTCCTT',\n",
       " 'PRIMER_RIGHT_0_TM': 60.03815908627445,\n",
       " 'PRIMER_RIGHT_1': (428L, 20L),\n",
       " 'PRIMER_RIGHT_1_END_STABILITY': 4.84,\n",
       " 'PRIMER_RIGHT_1_GC_PERCENT': 55.0,\n",
       " 'PRIMER_RIGHT_1_HAIRPIN_TH': 0.0,\n",
       " 'PRIMER_RIGHT_1_PENALTY': 0.03815908627444742,\n",
       " 'PRIMER_RIGHT_1_SELF_ANY_TH': 5.768584490451474,\n",
       " 'PRIMER_RIGHT_1_SELF_END_TH': 0.0,\n",
       " 'PRIMER_RIGHT_1_SEQUENCE': 'CCTTCACTCCTTCTCGCGTT',\n",
       " 'PRIMER_RIGHT_1_TM': 60.03815908627445,\n",
       " 'PRIMER_RIGHT_2': (426L, 20L),\n",
       " 'PRIMER_RIGHT_2_END_STABILITY': 3.62,\n",
       " 'PRIMER_RIGHT_2_GC_PERCENT': 55.0,\n",
       " 'PRIMER_RIGHT_2_HAIRPIN_TH': 0.0,\n",
       " 'PRIMER_RIGHT_2_PENALTY': 0.03852645635134877,\n",
       " 'PRIMER_RIGHT_2_SELF_ANY_TH': 5.768584490451474,\n",
       " 'PRIMER_RIGHT_2_SELF_END_TH': 0.0,\n",
       " 'PRIMER_RIGHT_2_SEQUENCE': 'TTCACTCCTTCTCGCGTTCC',\n",
       " 'PRIMER_RIGHT_2_TM': 60.03852645635135,\n",
       " 'PRIMER_RIGHT_3': (424L, 20L),\n",
       " 'PRIMER_RIGHT_3_END_STABILITY': 3.36,\n",
       " 'PRIMER_RIGHT_3_GC_PERCENT': 55.0,\n",
       " 'PRIMER_RIGHT_3_HAIRPIN_TH': 0.0,\n",
       " 'PRIMER_RIGHT_3_PENALTY': 0.03815908627444742,\n",
       " 'PRIMER_RIGHT_3_SELF_ANY_TH': 5.768584490451474,\n",
       " 'PRIMER_RIGHT_3_SELF_END_TH': 0.0,\n",
       " 'PRIMER_RIGHT_3_SEQUENCE': 'CACTCCTTCTCGCGTTCCTT',\n",
       " 'PRIMER_RIGHT_3_TM': 60.03815908627445,\n",
       " 'PRIMER_RIGHT_4': (428L, 20L),\n",
       " 'PRIMER_RIGHT_4_END_STABILITY': 4.84,\n",
       " 'PRIMER_RIGHT_4_GC_PERCENT': 55.0,\n",
       " 'PRIMER_RIGHT_4_HAIRPIN_TH': 0.0,\n",
       " 'PRIMER_RIGHT_4_PENALTY': 0.03815908627444742,\n",
       " 'PRIMER_RIGHT_4_SELF_ANY_TH': 5.768584490451474,\n",
       " 'PRIMER_RIGHT_4_SELF_END_TH': 0.0,\n",
       " 'PRIMER_RIGHT_4_SEQUENCE': 'CCTTCACTCCTTCTCGCGTT',\n",
       " 'PRIMER_RIGHT_4_TM': 60.03815908627445,\n",
       " 'PRIMER_RIGHT_EXPLAIN': 'considered 1682, overlap excluded region 26, low tm 967, high tm 60, ok 629',\n",
       " 'PRIMER_RIGHT_NUM_RETURNED': 5L}"
      ]
     },
     "execution_count": 41,
     "metadata": {},
     "output_type": "execute_result"
    }
   ],
   "source": [
    "P3.designPrimers(seq_args=foo.getseqslicedict(target,p3_globals['PRIMER_PRODUCT_SIZE_RANGE'][1]),global_args= p3_globals)"
   ]
  },
  {
   "cell_type": "code",
   "execution_count": 203,
   "metadata": {
    "collapsed": false
   },
   "outputs": [
    {
     "data": {
      "text/plain": [
       "u'k69_93535'"
      ]
     },
     "execution_count": 203,
     "metadata": {},
     "output_type": "execute_result"
    }
   ],
   "source": [
    "target[0].chrom"
   ]
  },
  {
   "cell_type": "code",
   "execution_count": 210,
   "metadata": {
    "collapsed": false
   },
   "outputs": [
    {
     "name": "stdout",
     "output_type": "stream",
     "text": [
      "k69_93535\t1046\t1247\n",
      "\n"
     ]
    }
   ],
   "source": [
    "print(target.slop(b=100,g=foo.genome))"
   ]
  },
  {
   "cell_type": "code",
   "execution_count": 212,
   "metadata": {
    "collapsed": false
   },
   "outputs": [
    {
     "data": {
      "text/plain": [
       "1046"
      ]
     },
     "execution_count": 212,
     "metadata": {},
     "output_type": "execute_result"
    }
   ],
   "source": [
    "target.slop(b=100,g=foo.genome)[0].start"
   ]
  },
  {
   "cell_type": "code",
   "execution_count": 111,
   "metadata": {
    "collapsed": false
   },
   "outputs": [
    {
     "data": {
      "text/plain": [
       "{'foo': 'bar', 'seqid': 'test1'}"
      ]
     },
     "execution_count": 111,
     "metadata": {},
     "output_type": "execute_result"
    }
   ],
   "source": [
    "test={'seqid': 'test1'}\n",
    "test['foo']='bar'\n",
    "test"
   ]
  },
  {
   "cell_type": "code",
   "execution_count": 100,
   "metadata": {
    "collapsed": false
   },
   "outputs": [],
   "source": [
    "from pcr_marker_design import design as d\n",
    "test_seq=\"../test/test-data/targets.fasta\"\n",
    "annfile= \"../test/test-data/targets.gff\"\n",
    "k69_93535_250_290='GACAAAGAGAAAATCCTCAAATCCGGCCTCGTCAACCACA'\n",
    "designer = d.PrimerDesign(test_seq,annfile)\n",
    "seqslice=designer.getseqslice('k69_93535',250,290)"
   ]
  },
  {
   "cell_type": "code",
   "execution_count": 96,
   "metadata": {
    "collapsed": false
   },
   "outputs": [
    {
     "data": {
      "text/plain": [
       "u'AATGACAACGAGGAGGTAGAATCTGGAGATGAATCAGACTCTTCAGTTGCTTCCTGCCCTCCTACACTTAATGAAGGAAAGAAAAAAAGGACAGGGAAGCTTCATAGGCCTTTGAGTCTGAACGCATTTGACATAATTTCCTTTTCCAGAGGATTTGATCTTTCAGGTTTGTTTGAAGAAACGGGAGATGAAACAAGATTTGTGTCGGGTGAAACGATACCAAACATCATATCGAAATTGGAGGAGATTGCAAAAGTGGGTAGTTTCACGTTTAGGAAGAAGGATTGTAGGGTTAGTTTAGAAGGAACGCGAGAAGGAGTGAAGGGCCCTCTTACGATTGGAGCTGAGATATTTGAGCTTACGCCTAGTTTGGTTGTTGTTGAGCTTAAGAAGAAAGCAGGAGACAAAGCAGAGTACGAGGAGTTTTGTAACAAGGAGTTGAAACCTGGGTTGCTACATCTCATGTTTCCTAATGGCGGTGTTCCTTCCAACACAACTTC'"
      ]
     },
     "execution_count": 96,
     "metadata": {},
     "output_type": "execute_result"
    }
   ],
   "source": [
    "designer.getseqslice('k69_93535',1000,1500)"
   ]
  },
  {
   "cell_type": "code",
   "execution_count": 77,
   "metadata": {
    "collapsed": false
   },
   "outputs": [
    {
     "data": {
      "text/plain": [
       "[Interval(k69_93535:2-7),\n",
       " Interval(k69_93535:4-6),\n",
       " Interval(k69_93535:1140-1142),\n",
       " Interval(k69_93535:1146-1148),\n",
       " Interval(k69_93535:1335-1337),\n",
       " Interval(k69_93535:2-4),\n",
       " Interval(k69_93535:660-662),\n",
       " Interval(k69_93535:750-752),\n",
       " Interval(k69_93535:886-888)]"
      ]
     },
     "execution_count": 77,
     "metadata": {},
     "output_type": "execute_result"
    }
   ],
   "source": [
    "[X for X in designer.annotations if X.chrom==\"k69_93535\"]"
   ]
  },
  {
   "cell_type": "code",
   "execution_count": 81,
   "metadata": {
    "collapsed": false
   },
   "outputs": [
    {
     "data": {
      "text/plain": [
       "[Interval(k69_93535:1140-1142),\n",
       " Interval(k69_93535:1146-1148),\n",
       " Interval(k69_93535:1335-1337)]"
      ]
     },
     "execution_count": 81,
     "metadata": {},
     "output_type": "execute_result"
    }
   ],
   "source": [
    "[X for X in designer.annotations if (X.chrom==\"k69_93535\") & (X.start >1000)& (X.end < 1500)]"
   ]
  },
  {
   "cell_type": "code",
   "execution_count": 60,
   "metadata": {
    "collapsed": false
   },
   "outputs": [
    {
     "ename": "SyntaxError",
     "evalue": "invalid syntax (<ipython-input-60-584824af9423>, line 1)",
     "output_type": "error",
     "traceback": [
      "\u001b[0;36m  File \u001b[0;32m\"<ipython-input-60-584824af9423>\"\u001b[0;36m, line \u001b[0;32m1\u001b[0m\n\u001b[0;31m    foo['zip'=1234]\u001b[0m\n\u001b[0m             ^\u001b[0m\n\u001b[0;31mSyntaxError\u001b[0m\u001b[0;31m:\u001b[0m invalid syntax\n"
     ]
    }
   ],
   "source": [
    "foo['zip'=1234]"
   ]
  },
  {
   "cell_type": "code",
   "execution_count": 55,
   "metadata": {
    "collapsed": false
   },
   "outputs": [
    {
     "data": {
      "text/plain": [
       "u'GACAAAGAGAAAATCCTCAAATCCGGCCTCGTCAACCACA'"
      ]
     },
     "execution_count": 55,
     "metadata": {},
     "output_type": "execute_result"
    }
   ],
   "source": [
    "seqslice"
   ]
  },
  {
   "cell_type": "code",
   "execution_count": 14,
   "metadata": {
    "collapsed": false
   },
   "outputs": [
    {
     "data": {
      "text/plain": [
       "[Interval(k69_93535:2-7),\n",
       " Interval(k69_93535:4-6),\n",
       " Interval(k69_93535:1140-1142),\n",
       " Interval(k69_93535:1146-1148),\n",
       " Interval(k69_93535:1335-1337),\n",
       " Interval(k69_93535:2-4),\n",
       " Interval(k69_93535:660-662),\n",
       " Interval(k69_93535:750-752),\n",
       " Interval(k69_93535:886-888),\n",
       " Interval(k69_98089:1-6),\n",
       " Interval(k69_98089:2-6),\n",
       " Interval(k69_98089:3-6),\n",
       " Interval(k69_98089:4-6),\n",
       " Interval(k69_98089:721-723),\n",
       " Interval(k69_98089:725-727),\n",
       " Interval(k69_98089:728-731),\n",
       " Interval(k69_98089:740-748),\n",
       " Interval(k69_98089:741-748),\n",
       " Interval(k69_98089:742-748),\n",
       " Interval(k69_98089:1-3),\n",
       " Interval(k69_98089:29-31),\n",
       " Interval(k69_98089:2-4),\n",
       " Interval(k69_98089:452-454),\n",
       " Interval(k69_98089:514-516),\n",
       " Interval(k69_98089:521-523),\n",
       " Interval(k69_98089:549-551),\n",
       " Interval(k69_98089:624-626),\n",
       " Interval(k69_98089:692-694),\n",
       " Interval(k69_98089:716-718),\n",
       " Interval(k69_98089:722-724),\n",
       " Interval(k69_98089:725-727)]"
      ]
     },
     "execution_count": 14,
     "metadata": {},
     "output_type": "execute_result"
    }
   ],
   "source": [
    "[X  for X in designer.annotations]"
   ]
  },
  {
   "cell_type": "code",
   "execution_count": 17,
   "metadata": {
    "collapsed": false
   },
   "outputs": [
    {
     "data": {
      "text/plain": [
       "{'AC1': '8',\n",
       " 'AF1': '0.3527',\n",
       " 'DP': '2645',\n",
       " 'DP4': '733,804,447,519',\n",
       " 'FQ': '999',\n",
       " 'G3': '0.2771,0.7229,6.934e-153',\n",
       " 'HWE': '0.0248',\n",
       " 'ID': 'k69_93535:SAMTOOLS:SNP:1147',\n",
       " 'MQ': '42',\n",
       " 'PV4': '0.51,0,0.027,1',\n",
       " 'Reference_seq': 'C',\n",
       " 'VDB': '0.0371',\n",
       " 'Variant_seq': 'G'}"
      ]
     },
     "execution_count": 17,
     "metadata": {},
     "output_type": "execute_result"
    }
   ],
   "source": [
    "designer.annotations[3].attrs"
   ]
  },
  {
   "cell_type": "code",
   "execution_count": 20,
   "metadata": {
    "collapsed": false
   },
   "outputs": [],
   "source": [
    "b=BedTool(\"k69_93535 1000 1500\",from_string=True)"
   ]
  },
  {
   "cell_type": "code",
   "execution_count": 22,
   "metadata": {
    "collapsed": false
   },
   "outputs": [
    {
     "name": "stdout",
     "output_type": "stream",
     "text": [
      "k69_93535\t1141\t1142\n",
      "k69_93535\t1147\t1148\n",
      "k69_93535\t1336\t1337\n",
      "\n"
     ]
    }
   ],
   "source": [
    "print(b.intersect(designer.annotations))"
   ]
  },
  {
   "cell_type": "code",
   "execution_count": 26,
   "metadata": {
    "collapsed": false
   },
   "outputs": [],
   "source": [
    "vcf_test= '/Users/cfljam/Documents/galaxy-pcr-markers/test-data/freebayes_out.vcf'"
   ]
  },
  {
   "cell_type": "code",
   "execution_count": 29,
   "metadata": {
    "collapsed": true
   },
   "outputs": [],
   "source": [
    "c=BedTool(vcf_test)\n",
    "d=BedTool(\"Chr1 1000 1500\",from_string=True)"
   ]
  },
  {
   "cell_type": "code",
   "execution_count": 34,
   "metadata": {
    "collapsed": false
   },
   "outputs": [
    {
     "data": {
      "text/plain": [
       "[(1460, 1), (1480, 1)]"
      ]
     },
     "execution_count": 34,
     "metadata": {},
     "output_type": "execute_result"
    }
   ],
   "source": [
    "[(x. start,x.length) for x in c.intersect(d)[10:120]]"
   ]
  },
  {
   "cell_type": "code",
   "execution_count": 30,
   "metadata": {
    "collapsed": false
   },
   "outputs": [
    {
     "name": "stdout",
     "output_type": "stream",
     "text": [
      "Chr1\t1007\t.\tT\tA\t17.1701\t.\tAB=0;ABP=0;AC=2;AF=1;AN=2;AO=1;CIGAR=1X;DP=1;DPRA=0;EPP=5.18177;EPPR=0;HWE=-0;LEN=1;MEANALT=1;MQM=40;MQMR=0;NS=1;NUMALT=1;ODDS=3.91202;PAIRED=0;PAIREDR=0;RO=0;RPP=5.18177;RPPR=0;RUN=1;SAP=5.18177;SRP=0;TYPE=snp;XAI=0.0103093;XAM=0.0309278;XAS=0.0206186;XRI=0;XRM=0;XRS=0;BVAR\tGT:GQ:DP:RO:QR:AO:QA:GL\t1/1:14.1547:1:0:0:1:17:-1.7,-0.30103,0\n",
      "Chr1\t1012\t.\tTGT\tAGA\t17.1701\t.\tAB=0;ABP=0;AC=2;AF=1;AN=2;AO=1;CIGAR=1X1M1X;DP=1;DPRA=0;EPP=5.18177;EPPR=0;HWE=-0;LEN=3;MEANALT=1;MQM=40;MQMR=0;NS=1;NUMALT=1;ODDS=3.91202;PAIRED=0;PAIREDR=0;RO=0;RPP=5.18177;RPPR=0;RUN=1;SAP=5.18177;SRP=0;TYPE=complex;XAI=0;XAM=0.0309278;XAS=0.0309278;XRI=0;XRM=0;XRS=0;BVAR\tGT:GQ:DP:RO:QR:AO:QA:GL\t1/1:14.1547:1:0:0:1:17:-1.7,-0.30103,0\n",
      "Chr1\t1056\t.\tA\tC\t17.1701\t.\tAB=0;ABP=0;AC=2;AF=1;AN=2;AO=1;CIGAR=1X;DP=1;DPRA=0;EPP=5.18177;EPPR=0;HWE=-0;LEN=1;MEANALT=1;MQM=40;MQMR=0;NS=1;NUMALT=1;ODDS=3.91202;PAIRED=0;PAIREDR=0;RO=0;RPP=5.18177;RPPR=0;RUN=1;SAP=5.18177;SRP=0;TYPE=snp;XAI=0.0103093;XAM=0.0309278;XAS=0.0206186;XRI=0;XRM=0;XRS=0;BVAR\tGT:GQ:DP:RO:QR:AO:QA:GL\t1/1:14.1547:1:0:0:1:17:-1.7,-0.30103,0\n",
      "Chr1\t1067\t.\tC\tG\t17.1701\t.\tAB=0;ABP=0;AC=2;AF=1;AN=2;AO=1;CIGAR=1X;DP=1;DPRA=0;EPP=5.18177;EPPR=0;HWE=-0;LEN=1;MEANALT=1;MQM=40;MQMR=0;NS=1;NUMALT=1;ODDS=3.91202;PAIRED=0;PAIREDR=0;RO=0;RPP=5.18177;RPPR=0;RUN=1;SAP=5.18177;SRP=0;TYPE=snp;XAI=0.0103093;XAM=0.0309278;XAS=0.0206186;XRI=0;XRM=0;XRS=0;BVAR\tGT:GQ:DP:RO:QR:AO:QA:GL\t1/1:14.1547:1:0:0:1:17:-1.7,-0.30103,0\n",
      "Chr1\t1257\t.\tC\tG\t17.1701\t.\tAB=0;ABP=0;AC=2;AF=1;AN=2;AO=1;CIGAR=1X;DP=1;DPRA=0;EPP=5.18177;EPPR=0;HWE=-0;LEN=1;MEANALT=1;MQM=0;MQMR=0;NS=1;NUMALT=1;ODDS=3.91202;PAIRED=0;PAIREDR=0;RO=0;RPP=5.18177;RPPR=0;RUN=1;SAP=5.18177;SRP=0;TYPE=snp;XAI=0;XAM=0.03;XAS=0.03;XRI=0;XRM=0;XRS=0;BVAR\tGT:GQ:DP:RO:QR:AO:QA:GL\t1/1:14.1547:1:0:0:1:17:-1.7,-0.30103,0\n",
      "Chr1\t1305\t.\tA\tC\t17.1701\t.\tAB=0;ABP=0;AC=2;AF=1;AN=2;AO=1;CIGAR=1X;DP=1;DPRA=0;EPP=5.18177;EPPR=0;HWE=-0;LEN=1;MEANALT=1;MQM=0;MQMR=0;NS=1;NUMALT=1;ODDS=3.91202;PAIRED=0;PAIREDR=0;RO=0;RPP=5.18177;RPPR=0;RUN=1;SAP=5.18177;SRP=0;TYPE=snp;XAI=0;XAM=0.03;XAS=0.03;XRI=0;XRM=0;XRS=0;BVAR\tGT:GQ:DP:RO:QR:AO:QA:GL\t1/1:14.1547:1:0:0:1:17:-1.7,-0.30103,0\n",
      "Chr1\t1319\t.\tA\tC\t17.1701\t.\tAB=0;ABP=0;AC=2;AF=1;AN=2;AO=1;CIGAR=1X;DP=1;DPRA=0;EPP=5.18177;EPPR=0;HWE=-0;LEN=1;MEANALT=1;MQM=0;MQMR=0;NS=1;NUMALT=1;ODDS=3.91202;PAIRED=0;PAIREDR=0;RO=0;RPP=5.18177;RPPR=0;RUN=1;SAP=5.18177;SRP=0;TYPE=snp;XAI=0;XAM=0.03;XAS=0.03;XRI=0;XRM=0;XRS=0;BVAR\tGT:GQ:DP:RO:QR:AO:QA:GL\t1/1:14.1547:1:0:0:1:17:-1.7,-0.30103,0\n",
      "Chr1\t1330\t.\tC\tG\t17.1701\t.\tAB=0;ABP=0;AC=2;AF=1;AN=2;AO=1;CIGAR=1X;DP=1;DPRA=0;EPP=5.18177;EPPR=0;HWE=-0;LEN=1;MEANALT=1;MQM=0;MQMR=0;NS=1;NUMALT=1;ODDS=3.91202;PAIRED=0;PAIREDR=0;RO=0;RPP=5.18177;RPPR=0;RUN=1;SAP=5.18177;SRP=0;TYPE=snp;XAI=0;XAM=0.03;XAS=0.03;XRI=0;XRM=0;XRS=0;BVAR\tGT:GQ:DP:RO:QR:AO:QA:GL\t1/1:14.1547:1:0:0:1:17:-1.7,-0.30103,0\n",
      "Chr1\t1441\t.\tA\tT\t17.1701\t.\tAB=0;ABP=0;AC=2;AF=1;AN=2;AO=1;CIGAR=1X;DP=1;DPRA=0;EPP=5.18177;EPPR=0;HWE=-0;LEN=1;MEANALT=1;MQM=40;MQMR=0;NS=1;NUMALT=1;ODDS=3.91202;PAIRED=0;PAIREDR=0;RO=0;RPP=5.18177;RPPR=0;RUN=1;SAP=5.18177;SRP=0;TYPE=snp;XAI=0.0105263;XAM=0.0421053;XAS=0.0315789;XRI=0;XRM=0;XRS=0;BVAR\tGT:GQ:DP:RO:QR:AO:QA:GL\t1/1:14.1547:1:0:0:1:17:-1.7,-0.30103,0\n",
      "Chr1\t1451\t.\tC\tA\t17.1701\t.\tAB=0;ABP=0;AC=2;AF=1;AN=2;AO=1;CIGAR=1X;DP=1;DPRA=0;EPP=5.18177;EPPR=0;HWE=-0;LEN=1;MEANALT=1;MQM=40;MQMR=0;NS=1;NUMALT=1;ODDS=3.91202;PAIRED=0;PAIREDR=0;RO=0;RPP=5.18177;RPPR=0;RUN=1;SAP=5.18177;SRP=0;TYPE=snp;XAI=0.0105263;XAM=0.0421053;XAS=0.0315789;XRI=0;XRM=0;XRS=0;BVAR\tGT:GQ:DP:RO:QR:AO:QA:GL\t1/1:14.1547:1:0:0:1:17:-1.7,-0.30103,0\n",
      "Chr1\t1460\t.\tCTCTG\tATCTC\t17.1701\t.\tAB=0;ABP=0;AC=2;AF=1;AN=2;AO=1;CIGAR=1X3M1X;DP=1;DPRA=0;EPP=5.18177;EPPR=0;HWE=-0;LEN=5;MEANALT=1;MQM=40;MQMR=0;NS=1;NUMALT=1;ODDS=3.91202;PAIRED=0;PAIREDR=0;RO=0;RPP=5.18177;RPPR=0;RUN=1;SAP=5.18177;SRP=0;TYPE=complex;XAI=0;XAM=0.0421053;XAS=0.0421053;XRI=0;XRM=0;XRS=0;BVAR\tGT:GQ:DP:RO:QR:AO:QA:GL\t1/1:14.1547:1:0:0:1:17:-1.7,-0.30103,0\n",
      "Chr1\t1480\t.\tG\tC\t17.1701\t.\tAB=0;ABP=0;AC=2;AF=1;AN=2;AO=1;CIGAR=1X;DP=1;DPRA=0;EPP=5.18177;EPPR=0;HWE=-0;LEN=1;MEANALT=1;MQM=40;MQMR=0;NS=1;NUMALT=1;ODDS=3.91202;PAIRED=0;PAIREDR=0;RO=0;RPP=5.18177;RPPR=0;RUN=1;SAP=5.18177;SRP=0;TYPE=snp;XAI=0.0105263;XAM=0.0421053;XAS=0.0315789;XRI=0;XRM=0;XRS=0;BVAR\tGT:GQ:DP:RO:QR:AO:QA:GL\t1/1:14.1547:1:0:0:1:17:-1.7,-0.30103,0\n",
      "\n"
     ]
    }
   ],
   "source": [
    "print(c.intersect(d))"
   ]
  }
 ],
 "metadata": {
  "kernelspec": {
   "display_name": "Python 2",
   "language": "python",
   "name": "python2"
  },
  "language_info": {
   "codemirror_mode": {
    "name": "ipython",
    "version": 2
   },
   "file_extension": ".py",
   "mimetype": "text/x-python",
   "name": "python",
   "nbconvert_exporter": "python",
   "pygments_lexer": "ipython2",
   "version": "2.7.11"
  }
 },
 "nbformat": 4,
 "nbformat_minor": 0
}
