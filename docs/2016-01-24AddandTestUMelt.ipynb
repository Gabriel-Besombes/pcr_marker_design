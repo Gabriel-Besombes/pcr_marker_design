{
 "cells": [
  {
   "cell_type": "markdown",
   "metadata": {},
   "source": [
    "# Translate Umelt Functions to Python3\n",
    "\n",
    "Use refactoring tool https://docs.python.org/2/library/2to3.html#"
   ]
  },
  {
   "cell_type": "code",
   "execution_count": 2,
   "metadata": {
    "collapsed": false
   },
   "outputs": [
    {
     "name": "stdout",
     "output_type": "stream",
     "text": [
      "RefactoringTool: Skipping optional fixer: buffer\n",
      "RefactoringTool: Skipping optional fixer: idioms\n",
      "RefactoringTool: Skipping optional fixer: set_literal\n",
      "RefactoringTool: Skipping optional fixer: ws_comma\n",
      "RefactoringTool: Refactored /Users/cfljam/Documents/galaxy-pcr-markers/umelt_service.py\n",
      "--- /Users/cfljam/Documents/galaxy-pcr-markers/umelt_service.py\t(original)\n",
      "+++ /Users/cfljam/Documents/galaxy-pcr-markers/umelt_service.py\t(refactored)\n",
      "@@ -2,8 +2,8 @@\n",
      " \n",
      " ##interrogate umelt service at Univ of Utah\n",
      " import sys\n",
      "-import urllib\n",
      "-import urllib2\n",
      "+import urllib.request, urllib.parse, urllib.error\n",
      "+import urllib.request, urllib.error, urllib.parse\n",
      " import xml.etree.ElementTree as ET\n",
      " import numpy as np\n",
      " import scipy as sp\n",
      "@@ -17,16 +17,16 @@\n",
      " # Query UW melt prediction service for a single sequence, returning default array for helicity, assuming within temperature range of 65-95\n",
      " def getmelt(input_seq):\n",
      "     values = {'seq' : input_seq, 'rs':0, 'dmso':0,'cation': 20 ,'mg': 2} # Note the buffer conditions\n",
      "-    data = urllib.urlencode(values)\n",
      "-    req = urllib2.Request(url, data)\n",
      "+    data = urllib.parse.urlencode(values)\n",
      "+    req = urllib.request.Request(url, data)\n",
      "     try:\n",
      "-        response = urllib2.urlopen(req,timeout=timeout_sec)\n",
      "-    except urllib2.HTTPError, e:\n",
      "-        print >> sys.stderr, 'The server couldn\\'t fulfill the request.'\n",
      "-        print >> sys.stderr, 'Error code: ', e.code\n",
      "-    except urllib2.URLError, e:\n",
      "-        print >> sys.stderr, 'We failed to reach a server.'\n",
      "-        print >> sys.stderr, 'Reason: ', e.reason\n",
      "+        response = urllib.request.urlopen(req,timeout=timeout_sec)\n",
      "+    except urllib.error.HTTPError as e:\n",
      "+        print('The server couldn\\'t fulfill the request.', file=sys.stderr)\n",
      "+        print('Error code: ', e.code, file=sys.stderr)\n",
      "+    except urllib.error.URLError as e:\n",
      "+        print('We failed to reach a server.', file=sys.stderr)\n",
      "+        print('Reason: ', e.reason, file=sys.stderr)\n",
      "     else:\n",
      "         melt_data = response.read()\n",
      "         tree = ET.fromstring(melt_data)\n",
      "RefactoringTool: Files that need to be modified:\n",
      "RefactoringTool: /Users/cfljam/Documents/galaxy-pcr-markers/umelt_service.py\n"
     ]
    }
   ],
   "source": [
    "! 2to3  /Users/cfljam/Documents/galaxy-pcr-markers/umelt_service.py"
   ]
  },
  {
   "cell_type": "markdown",
   "metadata": {},
   "source": [
    "## Copy file into new repo and refactor in-place\n",
    "\n",
    "no-backup with -n flag"
   ]
  },
  {
   "cell_type": "code",
   "execution_count": 5,
   "metadata": {
    "collapsed": false
   },
   "outputs": [
    {
     "name": "stdout",
     "output_type": "stream",
     "text": [
      "--- /Users/cfljam/Documents/pcr_marker_design/pcr_marker_design/umelt_service.py\t(original)\n",
      "+++ /Users/cfljam/Documents/pcr_marker_design/pcr_marker_design/umelt_service.py\t(refactored)\n",
      "@@ -2,8 +2,8 @@\n",
      " \n",
      " ##interrogate umelt service at Univ of Utah\n",
      " import sys\n",
      "-import urllib\n",
      "-import urllib2\n",
      "+import urllib.request, urllib.parse, urllib.error\n",
      "+import urllib.request, urllib.error, urllib.parse\n",
      " import xml.etree.ElementTree as ET\n",
      " import numpy as np\n",
      " import scipy as sp\n",
      "@@ -17,16 +17,16 @@\n",
      " # Query UW melt prediction service for a single sequence, returning default array for helicity, assuming within temperature range of 65-95\n",
      " def getmelt(input_seq):\n",
      "     values = {'seq' : input_seq, 'rs':0, 'dmso':0,'cation': 20 ,'mg': 2} # Note the buffer conditions\n",
      "-    data = urllib.urlencode(values)\n",
      "-    req = urllib2.Request(url, data)\n",
      "+    data = urllib.parse.urlencode(values)\n",
      "+    req = urllib.request.Request(url, data)\n",
      "     try:\n",
      "-        response = urllib2.urlopen(req,timeout=timeout_sec)\n",
      "-    except urllib2.HTTPError, e:\n",
      "-        print >> sys.stderr, 'The server couldn\\'t fulfill the request.'\n",
      "-        print >> sys.stderr, 'Error code: ', e.code\n",
      "-    except urllib2.URLError, e:\n",
      "-        print >> sys.stderr, 'We failed to reach a server.'\n",
      "-        print >> sys.stderr, 'Reason: ', e.reason\n",
      "+        response = urllib.request.urlopen(req,timeout=timeout_sec)\n",
      "+    except urllib.error.HTTPError as e:\n",
      "+        print('The server couldn\\'t fulfill the request.', file=sys.stderr)\n",
      "+        print('Error code: ', e.code, file=sys.stderr)\n",
      "+    except urllib.error.URLError as e:\n",
      "+        print('We failed to reach a server.', file=sys.stderr)\n",
      "+        print('Reason: ', e.reason, file=sys.stderr)\n",
      "     else:\n",
      "         melt_data = response.read()\n",
      "         tree = ET.fromstring(melt_data)\n"
     ]
    },
    {
     "name": "stderr",
     "output_type": "stream",
     "text": [
      "RefactoringTool: Skipping optional fixer: buffer\n",
      "RefactoringTool: Skipping optional fixer: idioms\n",
      "RefactoringTool: Skipping optional fixer: set_literal\n",
      "RefactoringTool: Skipping optional fixer: ws_comma\n",
      "RefactoringTool: Refactored /Users/cfljam/Documents/pcr_marker_design/pcr_marker_design/umelt_service.py\n",
      "RefactoringTool: Files that were modified:\n",
      "RefactoringTool: /Users/cfljam/Documents/pcr_marker_design/pcr_marker_design/umelt_service.py\n"
     ]
    }
   ],
   "source": [
    "%%bash\n",
    "cp /Users/cfljam/Documents/galaxy-pcr-markers/umelt_service.py \\\n",
    "/Users/cfljam/Documents/pcr_marker_design/pcr_marker_design/umelt_service.py \n",
    "2to3 -n -w /Users/cfljam/Documents/pcr_marker_design/pcr_marker_design/umelt_service.py "
   ]
  },
  {
   "cell_type": "markdown",
   "metadata": {},
   "source": [
    "### Try out Python3 version"
   ]
  },
  {
   "cell_type": "code",
   "execution_count": null,
   "metadata": {
    "collapsed": true
   },
   "outputs": [],
   "source": []
  }
 ],
 "metadata": {
  "kernelspec": {
   "display_name": "Python 3",
   "language": "python",
   "name": "python3"
  },
  "language_info": {
   "codemirror_mode": {
    "name": "ipython",
    "version": 3
   },
   "file_extension": ".py",
   "mimetype": "text/x-python",
   "name": "python",
   "nbconvert_exporter": "python",
   "pygments_lexer": "ipython3",
   "version": "3.5.1"
  }
 },
 "nbformat": 4,
 "nbformat_minor": 0
}
