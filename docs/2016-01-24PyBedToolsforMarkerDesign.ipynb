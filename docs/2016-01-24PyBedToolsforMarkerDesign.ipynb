{
 "cells": [
  {
   "cell_type": "markdown",
   "metadata": {},
   "source": [
    "# Explore usage of PyBedtools for Marker Design I/O\n",
    "\n",
    "See \n",
    "\n",
    "- http://bedtools.readthedocs.org/en/latest/\n",
    "- http://pythonhosted.org/pybedtools/\n",
    "\n",
    "\n",
    "Can Tabix Bedtools see http://daler.github.io/pybedtools/autodocs/pybedtools.bedtool.BedTool.tabix.html#pybedtools.bedtool.BedTool.tabix\n",
    "\n",
    "Might be simpler to slice out fasta using pyfaidx \n",
    "\n",
    "-------\n",
    "\n",
    "### Explore usage with Fasta\n",
    "\n",
    "Could possibly use this to get sequence of an amplicon\n",
    "\n",
    "http://pythonhosted.org/pybedtools/autodocs/pybedtools.bedtool.BedTool.seq.html#pybedtools.bedtool.BedTool.seq\n",
    "\n",
    "also consider other pure py tools https://pypi.python.org/pypi/pyfaidx"
   ]
  },
  {
   "cell_type": "code",
   "execution_count": 78,
   "metadata": {
    "collapsed": false
   },
   "outputs": [
    {
     "name": "stdout",
     "output_type": "stream",
     "text": [
      "pybedtools==0.7.6\r\n"
     ]
    }
   ],
   "source": [
    "!pip freeze | grep pybedtools"
   ]
  },
  {
   "cell_type": "code",
   "execution_count": 79,
   "metadata": {
    "collapsed": false
   },
   "outputs": [
    {
     "name": "stdout",
     "output_type": "stream",
     "text": [
      "Using Anaconda Cloud api site https://api.anaconda.org\r\n",
      "# conda environments:\r\n",
      "#\r\n",
      "_build                   /Users/johnmccallum/miniconda3/envs/_build\r\n",
      "py2PCR                   /Users/johnmccallum/miniconda3/envs/py2PCR\r\n",
      "py3-r-env                /Users/johnmccallum/miniconda3/envs/py3-r-env\r\n",
      "py3markers            *  /Users/johnmccallum/miniconda3/envs/py3markers\r\n",
      "root                     /Users/johnmccallum/miniconda3\r\n",
      "\r\n"
     ]
    }
   ],
   "source": [
    "!conda info -e"
   ]
  },
  {
   "cell_type": "code",
   "execution_count": 2,
   "metadata": {
    "collapsed": false
   },
   "outputs": [],
   "source": [
    "from pybedtools import BedTool"
   ]
  },
  {
   "cell_type": "code",
   "execution_count": 3,
   "metadata": {
    "collapsed": true
   },
   "outputs": [],
   "source": [
    "from pybedtools import example_filename"
   ]
  },
  {
   "cell_type": "markdown",
   "metadata": {},
   "source": [
    "### Example from docs"
   ]
  },
  {
   "cell_type": "code",
   "execution_count": 4,
   "metadata": {
    "collapsed": false
   },
   "outputs": [
    {
     "name": "stdout",
     "output_type": "stream",
     "text": [
      ">chr1:1-10\n",
      "GATGAGTCT\n",
      ">chr1:50-55\n",
      "CCATC\n",
      "\n"
     ]
    }
   ],
   "source": [
    "a = BedTool(\"\"\"\n",
    "... chr1 1 10\n",
    "... chr1 50 55\"\"\", from_string=True)\n",
    "fasta = example_filename('test.fa')\n",
    "a = a.sequence(fi=fasta)\n",
    "print(open(a.seqfn).read())"
   ]
  },
  {
   "cell_type": "markdown",
   "metadata": {},
   "source": [
    "**NOTE** that VCF location is 1-based, versus bed/py 0-based"
   ]
  },
  {
   "cell_type": "markdown",
   "metadata": {},
   "source": [
    "### Do same with original test data"
   ]
  },
  {
   "cell_type": "code",
   "execution_count": 5,
   "metadata": {
    "collapsed": false
   },
   "outputs": [
    {
     "name": "stdout",
     "output_type": "stream",
     "text": [
      "384um_251453690362217.txt  targets                    targets.fasta              targets.fasta.fai          targets.gff\r\n"
     ]
    }
   ],
   "source": [
    "ls ../test/test-data/"
   ]
  },
  {
   "cell_type": "markdown",
   "metadata": {},
   "source": [
    "#### Need an indexed  genome file"
   ]
  },
  {
   "cell_type": "code",
   "execution_count": 6,
   "metadata": {
    "collapsed": true
   },
   "outputs": [],
   "source": [
    "!samtools faidx ../test/test-data/targets.fasta"
   ]
  },
  {
   "cell_type": "code",
   "execution_count": 7,
   "metadata": {
    "collapsed": false
   },
   "outputs": [
    {
     "name": "stdout",
     "output_type": "stream",
     "text": [
      "k69_93535\t1628\t11\t60\t61\r\n",
      "k69_98089\t749\t1678\t60\t61\r\n"
     ]
    }
   ],
   "source": [
    "cat ../test/test-data/targets.fasta.fai"
   ]
  },
  {
   "cell_type": "code",
   "execution_count": 8,
   "metadata": {
    "collapsed": false
   },
   "outputs": [
    {
     "name": "stdout",
     "output_type": "stream",
     "text": [
      "k69_93535:SAMTOOLS:SNP:1147\r\n",
      "k69_93535:SAMTOOLS:SNP:1336\r\n",
      "k69_98089:SAMTOOLS:SNP:30\r\n",
      "k69_98089:SAMTOOLS:SNP:550\r\n",
      "k69_98089:SAMTOOLS:SNP:625\r\n"
     ]
    }
   ],
   "source": [
    "cat ../test/test-data/targets"
   ]
  },
  {
   "cell_type": "code",
   "execution_count": 9,
   "metadata": {
    "collapsed": true
   },
   "outputs": [],
   "source": [
    "PRIMER_PRODUCT_SIZE_RANGE=[60,120]"
   ]
  },
  {
   "cell_type": "code",
   "execution_count": 10,
   "metadata": {
    "collapsed": false
   },
   "outputs": [
    {
     "data": {
      "text/plain": [
       "120"
      ]
     },
     "execution_count": 10,
     "metadata": {},
     "output_type": "execute_result"
    }
   ],
   "source": [
    "PRIMER_PRODUCT_SIZE_RANGE[1]"
   ]
  },
  {
   "cell_type": "markdown",
   "metadata": {},
   "source": [
    "### Make a target bed"
   ]
  },
  {
   "cell_type": "code",
   "execution_count": 11,
   "metadata": {
    "collapsed": false
   },
   "outputs": [],
   "source": [
    "b=BedTool(\"k69_93535 1146 1147\",from_string=True)"
   ]
  },
  {
   "cell_type": "markdown",
   "metadata": {},
   "source": [
    "### Check the properties of this and how to access them\n",
    "\n",
    " see https://pythonhosted.org/pybedtools/intervals.html"
   ]
  },
  {
   "cell_type": "code",
   "execution_count": 12,
   "metadata": {
    "collapsed": false
   },
   "outputs": [
    {
     "data": {
      "text/plain": [
       "'k69_93535'"
      ]
     },
     "execution_count": 12,
     "metadata": {},
     "output_type": "execute_result"
    }
   ],
   "source": [
    "b[0].chrom"
   ]
  },
  {
   "cell_type": "code",
   "execution_count": 13,
   "metadata": {
    "collapsed": false
   },
   "outputs": [
    {
     "data": {
      "text/plain": [
       "1146"
      ]
     },
     "execution_count": 13,
     "metadata": {},
     "output_type": "execute_result"
    }
   ],
   "source": [
    "b[0].start"
   ]
  },
  {
   "cell_type": "code",
   "execution_count": 14,
   "metadata": {
    "collapsed": false
   },
   "outputs": [
    {
     "data": {
      "text/plain": [
       "1"
      ]
     },
     "execution_count": 14,
     "metadata": {},
     "output_type": "execute_result"
    }
   ],
   "source": [
    "b[0].length"
   ]
  },
  {
   "cell_type": "markdown",
   "metadata": {},
   "source": [
    "### attach a sequence to it"
   ]
  },
  {
   "cell_type": "code",
   "execution_count": 15,
   "metadata": {
    "collapsed": false
   },
   "outputs": [],
   "source": [
    "b=b.sequence(fi='../test/test-data/targets.fasta')"
   ]
  },
  {
   "cell_type": "code",
   "execution_count": 16,
   "metadata": {
    "collapsed": false
   },
   "outputs": [
    {
     "name": "stdout",
     "output_type": "stream",
     "text": [
      "k69_93535\t1146\t1147\n",
      "\n"
     ]
    }
   ],
   "source": [
    "print(b)"
   ]
  },
  {
   "cell_type": "code",
   "execution_count": 17,
   "metadata": {
    "collapsed": false
   },
   "outputs": [],
   "source": [
    "c=BedTool('../test/test-data/targets.gff')"
   ]
  },
  {
   "cell_type": "code",
   "execution_count": 18,
   "metadata": {
    "collapsed": false
   },
   "outputs": [
    {
     "name": "stdout",
     "output_type": "stream",
     "text": [
      "k69_93535\tSAMTOOLS\tSNP\t1147\t1147\t999\t.\t.\tID=k69_93535:SAMTOOLS:SNP:1147;Variant_seq=G;Reference_seq=C;DP=2645;VDB=0.0371;AF1=0.3527;G3=0.2771,0.7229,6.934e-153;HWE=0.0248;AC1=8;DP4=733,804,447,519;MQ=42;FQ=999;PV4=0.51,0,0.027,1\n",
      "\n"
     ]
    }
   ],
   "source": [
    "print(c.intersect(b))"
   ]
  },
  {
   "cell_type": "markdown",
   "metadata": {},
   "source": [
    "### Can use subtraction to exclude our target\n",
    "\n",
    "here we get the features in our design window and then remove the target to create an exclude"
   ]
  },
  {
   "cell_type": "code",
   "execution_count": 19,
   "metadata": {
    "collapsed": false
   },
   "outputs": [
    {
     "name": "stdout",
     "output_type": "stream",
     "text": [
      "k69_93535\tSAMTOOLS\tSNP\t1141\t1142\t999\t.\t.\tID=k69_93535:SAMTOOLS:SNP:1141;Variant_seq=T;Reference_seq=C;DP=2644;VDB=0.0374;AF1=0.1882;AC1=5;DP4=748,786,225,294;MQ=42;FQ=999;PV4=0.037,0,0.036,0.39\n",
      "k69_93535\tSAMTOOLS\tSNP\t1147\t1148\t999\t.\t.\tID=k69_93535:SAMTOOLS:SNP:1147;Variant_seq=G;Reference_seq=C;DP=2645;VDB=0.0371;AF1=0.3527;G3=0.2771,0.7229,6.934e-153;HWE=0.0248;AC1=8;DP4=733,804,447,519;MQ=42;FQ=999;PV4=0.51,0,0.027,1\n",
      "\n"
     ]
    }
   ],
   "source": [
    "max_product_size=PRIMER_PRODUCT_SIZE_RANGE[1]\n",
    "target_exclude=c.intersect(b.slop(b=max_product_size,g='../test/test-data/targets.fasta.fai')).subtract(b)\n",
    "print(target_exclude)"
   ]
  },
  {
   "cell_type": "code",
   "execution_count": 20,
   "metadata": {
    "collapsed": false
   },
   "outputs": [
    {
     "name": "stdout",
     "output_type": "stream",
     "text": [
      "k69_93535\t1026\t1267\n",
      "\n"
     ]
    }
   ],
   "source": [
    "print(b.slop(b=max_product_size,g='../test/test-data/targets.fasta.fai'))"
   ]
  },
  {
   "cell_type": "markdown",
   "metadata": {},
   "source": [
    "### Use Getfasta to extract the window of sequence\n",
    "\n",
    "- need the genome or fai index for slop"
   ]
  },
  {
   "cell_type": "code",
   "execution_count": 21,
   "metadata": {
    "collapsed": true
   },
   "outputs": [],
   "source": [
    "target_window=b.slop(b=max_product_size,g='../test/test-data/targets.fasta.fai')"
   ]
  },
  {
   "cell_type": "code",
   "execution_count": 22,
   "metadata": {
    "collapsed": false
   },
   "outputs": [
    {
     "name": "stdout",
     "output_type": "stream",
     "text": [
      "k69_93535\t1026\t1267\n",
      "\n"
     ]
    }
   ],
   "source": [
    "print(target_window)"
   ]
  },
  {
   "cell_type": "code",
   "execution_count": 23,
   "metadata": {
    "collapsed": false
   },
   "outputs": [],
   "source": [
    "target_window=target_window.sequence(fi='../test/test-data/targets.fasta')"
   ]
  },
  {
   "cell_type": "code",
   "execution_count": 24,
   "metadata": {
    "collapsed": false
   },
   "outputs": [
    {
     "data": {
      "text/plain": [
       "'>k69_93535:1026-1267\\nAGATGAATCAGACTCTTCAGTTGCTTCCTGCCCTCCTACACTTAATGAAGGAAAGAAAAAAAGGACAGGGAAGCTTCATAGGCCTTTGAGTCTGAACGCATTTGACATAATTTCCTTTTCCAGAGGATTTGATCTTTCAGGTTTGTTTGAAGAAACGGGAGATGAAACAAGATTTGTGTCGGGTGAAACGATACCAAACATCATATCGAAATTGGAGGAGATTGCAAAAGTGGGTAGTTTC\\n'"
      ]
     },
     "execution_count": 24,
     "metadata": {},
     "output_type": "execute_result"
    }
   ],
   "source": [
    "open(target_window.seqfn).read()"
   ]
  },
  {
   "cell_type": "code",
   "execution_count": 25,
   "metadata": {
    "collapsed": false
   },
   "outputs": [],
   "source": [
    "fo=open(target_window.seqfn)"
   ]
  },
  {
   "cell_type": "code",
   "execution_count": 26,
   "metadata": {
    "collapsed": false
   },
   "outputs": [
    {
     "data": {
      "text/plain": [
       "'AGATGAATCAGACTCTTCAGTTGCTTCCTGCCCTCCTACACTTAATGAAGGAAAGAAAAAAAGGACAGGGAAGCTTCATAGGCCTTTGAGTCTGAACGCATTTGACATAATTTCCTTTTCCAGAGGATTTGATCTTTCAGGTTTGTTTGAAGAAACGGGAGATGAAACAAGATTTGTGTCGGGTGAAACGATACCAAACATCATATCGAAATTGGAGGAGATTGCAAAAGTGGGTAGTTTC'"
      ]
     },
     "execution_count": 26,
     "metadata": {},
     "output_type": "execute_result"
    }
   ],
   "source": [
    "fo.readlines()[1].strip('\\n')"
   ]
  },
  {
   "cell_type": "markdown",
   "metadata": {},
   "source": [
    "### Do Same with Pyfaidx"
   ]
  },
  {
   "cell_type": "code",
   "execution_count": 27,
   "metadata": {
    "collapsed": false
   },
   "outputs": [
    {
     "data": {
      "text/plain": [
       "odict_keys(['k69_93535', 'k69_98089'])"
      ]
     },
     "execution_count": 27,
     "metadata": {},
     "output_type": "execute_result"
    }
   ],
   "source": [
    "from pyfaidx import Fasta\n",
    "target_seqs=Fasta('../test/test-data/targets.fasta')\n",
    "target_seqs.keys()"
   ]
  },
  {
   "cell_type": "code",
   "execution_count": 28,
   "metadata": {
    "collapsed": false
   },
   "outputs": [
    {
     "data": {
      "text/plain": [
       "'GACAAAGAGAAAATCCTCAAATCCGGCCTCGTCAACCACACCAAACGCGAGATCTCAATCCTCCGCCGTCTTCGTCATCCGAACGTCGTCGAGCTCTTCG'"
      ]
     },
     "execution_count": 28,
     "metadata": {},
     "output_type": "execute_result"
    }
   ],
   "source": [
    " target_seqs['k69_93535'][250:350].seq"
   ]
  },
  {
   "cell_type": "markdown",
   "metadata": {},
   "source": [
    "This is much nicer way to do it"
   ]
  },
  {
   "cell_type": "markdown",
   "metadata": {},
   "source": [
    "### HOWTO Nudge all the annotations relative to the reference slice\n",
    "\n",
    "we should be able to use bedtools [shift](http://bedtools.readthedocs.org/en/latest/content/tools/shift.html?highlight=shift)\n",
    "\n",
    "but that doesnt seem to be implemented in pybedtools"
   ]
  },
  {
   "cell_type": "code",
   "execution_count": 29,
   "metadata": {
    "collapsed": false
   },
   "outputs": [
    {
     "name": "stdout",
     "output_type": "stream",
     "text": [
      "k69_93535\tSAMTOOLS\tSNP\t1141\t1142\t999\t.\t.\tID=k69_93535:SAMTOOLS:SNP:1141;Variant_seq=T;Reference_seq=C;DP=2644;VDB=0.0374;AF1=0.1882;AC1=5;DP4=748,786,225,294;MQ=42;FQ=999;PV4=0.037,0,0.036,0.39\n",
      "k69_93535\tSAMTOOLS\tSNP\t1147\t1148\t999\t.\t.\tID=k69_93535:SAMTOOLS:SNP:1147;Variant_seq=G;Reference_seq=C;DP=2645;VDB=0.0371;AF1=0.3527;G3=0.2771,0.7229,6.934e-153;HWE=0.0248;AC1=8;DP4=733,804,447,519;MQ=42;FQ=999;PV4=0.51,0,0.027,1\n",
      "\n"
     ]
    }
   ],
   "source": [
    "print(c.intersect(target_window))"
   ]
  },
  {
   "cell_type": "markdown",
   "metadata": {},
   "source": [
    "#### Just need to get tuples in form [start,length] for primer3-py\n",
    "\n",
    "*How come intervals for SNP are 2 bp??*"
   ]
  },
  {
   "cell_type": "code",
   "execution_count": 54,
   "metadata": {
    "collapsed": false
   },
   "outputs": [
    {
     "name": "stdout",
     "output_type": "stream",
     "text": [
      "k69_93535\t1026\t1267\n",
      "\n"
     ]
    }
   ],
   "source": [
    "print(target_window)"
   ]
  },
  {
   "cell_type": "code",
   "execution_count": 31,
   "metadata": {
    "collapsed": false
   },
   "outputs": [
    {
     "data": {
      "text/plain": [
       "[(1140, 2), (1146, 2)]"
      ]
     },
     "execution_count": 31,
     "metadata": {},
     "output_type": "execute_result"
    }
   ],
   "source": [
    "[(X.start,X.length) for X in c.intersect(target_window)]"
   ]
  },
  {
   "cell_type": "code",
   "execution_count": 32,
   "metadata": {
    "collapsed": false
   },
   "outputs": [
    {
     "data": {
      "text/plain": [
       "1026"
      ]
     },
     "execution_count": 32,
     "metadata": {},
     "output_type": "execute_result"
    }
   ],
   "source": [
    "offset=target_window[0].start\n",
    "offset"
   ]
  },
  {
   "cell_type": "markdown",
   "metadata": {},
   "source": [
    "### can adjust annotations for design like.."
   ]
  },
  {
   "cell_type": "code",
   "execution_count": 33,
   "metadata": {
    "collapsed": false
   },
   "outputs": [
    {
     "data": {
      "text/plain": [
       "[(114, 2), (120, 2)]"
      ]
     },
     "execution_count": 33,
     "metadata": {},
     "output_type": "execute_result"
    }
   ],
   "source": [
    "[(X.start - offset,X.length) for X in c.intersect(target_window)]"
   ]
  },
  {
   "cell_type": "markdown",
   "metadata": {},
   "source": [
    "### Could Create a Design Target Dict Like so.."
   ]
  },
  {
   "cell_type": "code",
   "execution_count": 62,
   "metadata": {
    "collapsed": false
   },
   "outputs": [],
   "source": [
    " target_dict={'SEQUENCE_ID': b[0].chrom + \"_\" + str(b[0].start) }   "
   ]
  },
  {
   "cell_type": "code",
   "execution_count": 63,
   "metadata": {
    "collapsed": false
   },
   "outputs": [],
   "source": [
    "target_dict['SEQUENCE_TARGET']=[b[0].start - offset,b[0].length]"
   ]
  },
  {
   "cell_type": "code",
   "execution_count": 64,
   "metadata": {
    "collapsed": false
   },
   "outputs": [],
   "source": [
    "target_dict['SEQUENCE_EXCLUDED_REGION']=[(X.start - offset,X.length) for X in c.intersect(target_window) - b]"
   ]
  },
  {
   "cell_type": "code",
   "execution_count": 65,
   "metadata": {
    "collapsed": false
   },
   "outputs": [
    {
     "data": {
      "text/plain": [
       "'AGATGAATCAGACTCTTCAGTTGCTTCCTGCCCTCCTACACTTAATGAAGGAAAGAAAAAAAGGACAGGGAAGCTTCATAGGCCTTTGAGTCTGAACGCATTTGACATAATTTCCTTTTCCAGAGGATTTGATCTTTCAGGTTTGTTTGAAGAAACGGGAGATGAAACAAGATTTGTGTCGGGTGAAACGATACCAAACATCATATCGAAATTGGAGGAGATTGCAAAAGTGGGTAGTTTC'"
      ]
     },
     "execution_count": 65,
     "metadata": {},
     "output_type": "execute_result"
    }
   ],
   "source": [
    "target_seqs[target_window[0].chrom][target_window[0].start:target_window[0].end].seq"
   ]
  },
  {
   "cell_type": "code",
   "execution_count": 66,
   "metadata": {
    "collapsed": false
   },
   "outputs": [],
   "source": [
    "target_dict['SEQUENCE_TEMPLATE']=target_seqs[target_window[0].chrom][target_window[0].start:target_window[0].end].seq"
   ]
  },
  {
   "cell_type": "code",
   "execution_count": 73,
   "metadata": {
    "collapsed": false
   },
   "outputs": [
    {
     "data": {
      "text/plain": [
       "{'SEQUENCE_EXCLUDED_REGION': [(114, 2)],\n",
       " 'SEQUENCE_ID': 'k69_93535_1146',\n",
       " 'SEQUENCE_TARGET': [120, 1],\n",
       " 'SEQUENCE_TEMPLATE': 'AGATGAATCAGACTCTTCAGTTGCTTCCTGCCCTCCTACACTTAATGAAGGAAAGAAAAAAAGGACAGGGAAGCTTCATAGGCCTTTGAGTCTGAACGCATTTGACATAATTTCCTTTTCCAGAGGATTTGATCTTTCAGGTTTGTTTGAAGAAACGGGAGATGAAACAAGATTTGTGTCGGGTGAAACGATACCAAACATCATATCGAAATTGGAGGAGATTGCAAAAGTGGGTAGTTTC'}"
      ]
     },
     "execution_count": 73,
     "metadata": {},
     "output_type": "execute_result"
    }
   ],
   "source": [
    "target_dict"
   ]
  },
  {
   "cell_type": "code",
   "execution_count": 74,
   "metadata": {
    "collapsed": true
   },
   "outputs": [],
   "source": [
    " import primer3 as P3"
   ]
  },
  {
   "cell_type": "code",
   "execution_count": 75,
   "metadata": {
    "collapsed": true
   },
   "outputs": [],
   "source": [
    "p3_test_globals={\n",
    "        'PRIMER_OPT_SIZE': 20,\n",
    "        'PRIMER_PICK_INTERNAL_OLIGO': 0,\n",
    "        'PRIMER_INTERNAL_MAX_SELF_END': 8,\n",
    "        'PRIMER_MIN_SIZE': 18,\n",
    "        'PRIMER_MAX_SIZE': 25,\n",
    "        'PRIMER_OPT_TM': 60.0,\n",
    "        'PRIMER_MIN_TM': 57.0,\n",
    "        'PRIMER_MAX_TM': 63.0,\n",
    "        'PRIMER_MIN_GC': 20.0,\n",
    "        'PRIMER_MAX_GC': 80.0,\n",
    "        'PRIMER_MAX_POLY_X': 100,\n",
    "        'PRIMER_INTERNAL_MAX_POLY_X': 100,\n",
    "        'PRIMER_SALT_MONOVALENT': 50.0,\n",
    "        'PRIMER_DNA_CONC': 50.0,\n",
    "        'PRIMER_MAX_NS_ACCEPTED': 0,\n",
    "        'PRIMER_MAX_SELF_ANY': 12,\n",
    "        'PRIMER_MAX_SELF_END': 8,\n",
    "        'PRIMER_PAIR_MAX_COMPL_ANY': 12,\n",
    "        'PRIMER_PAIR_MAX_COMPL_END': 8,\n",
    "        'PRIMER_PRODUCT_SIZE_RANGE': [[75,100]],\n",
    "    }"
   ]
  },
  {
   "cell_type": "code",
   "execution_count": 76,
   "metadata": {
    "collapsed": false,
    "scrolled": false
   },
   "outputs": [
    {
     "data": {
      "text/plain": [
       "{'PRIMER_INTERNAL_EXPLAIN': 'considered 11816, unacceptable product size 11808, ok 8',\n",
       " 'PRIMER_INTERNAL_NUM_RETURNED': 0,\n",
       " 'PRIMER_LEFT_0': (64, 20),\n",
       " 'PRIMER_LEFT_0_END_STABILITY': 5.19,\n",
       " 'PRIMER_LEFT_0_GC_PERCENT': 55.0,\n",
       " 'PRIMER_LEFT_0_HAIRPIN_TH': 0.0,\n",
       " 'PRIMER_LEFT_0_PENALTY': 0.5485098850288068,\n",
       " 'PRIMER_LEFT_0_SELF_ANY_TH': 14.281185332787231,\n",
       " 'PRIMER_LEFT_0_SELF_END_TH': 7.548278344245659,\n",
       " 'PRIMER_LEFT_0_SEQUENCE': 'ACAGGGAAGCTTCATAGGCC',\n",
       " 'PRIMER_LEFT_0_TM': 59.45149011497119,\n",
       " 'PRIMER_LEFT_1': (64, 20),\n",
       " 'PRIMER_LEFT_1_END_STABILITY': 5.19,\n",
       " 'PRIMER_LEFT_1_GC_PERCENT': 55.0,\n",
       " 'PRIMER_LEFT_1_HAIRPIN_TH': 0.0,\n",
       " 'PRIMER_LEFT_1_PENALTY': 0.5485098850288068,\n",
       " 'PRIMER_LEFT_1_SELF_ANY_TH': 14.281185332787231,\n",
       " 'PRIMER_LEFT_1_SELF_END_TH': 7.548278344245659,\n",
       " 'PRIMER_LEFT_1_SEQUENCE': 'ACAGGGAAGCTTCATAGGCC',\n",
       " 'PRIMER_LEFT_1_TM': 59.45149011497119,\n",
       " 'PRIMER_LEFT_2': (79, 20),\n",
       " 'PRIMER_LEFT_2_END_STABILITY': 4.84,\n",
       " 'PRIMER_LEFT_2_GC_PERCENT': 55.0,\n",
       " 'PRIMER_LEFT_2_HAIRPIN_TH': 0.0,\n",
       " 'PRIMER_LEFT_2_PENALTY': 0.6039746126155023,\n",
       " 'PRIMER_LEFT_2_SELF_ANY_TH': 1.4308035498013965,\n",
       " 'PRIMER_LEFT_2_SELF_END_TH': 0.0,\n",
       " 'PRIMER_LEFT_2_SEQUENCE': 'AGGCCTTTGAGTCTGAACGC',\n",
       " 'PRIMER_LEFT_2_TM': 60.6039746126155,\n",
       " 'PRIMER_LEFT_3': (79, 20),\n",
       " 'PRIMER_LEFT_3_END_STABILITY': 4.84,\n",
       " 'PRIMER_LEFT_3_GC_PERCENT': 55.0,\n",
       " 'PRIMER_LEFT_3_HAIRPIN_TH': 0.0,\n",
       " 'PRIMER_LEFT_3_PENALTY': 0.6039746126155023,\n",
       " 'PRIMER_LEFT_3_SELF_ANY_TH': 1.4308035498013965,\n",
       " 'PRIMER_LEFT_3_SELF_END_TH': 0.0,\n",
       " 'PRIMER_LEFT_3_SEQUENCE': 'AGGCCTTTGAGTCTGAACGC',\n",
       " 'PRIMER_LEFT_3_TM': 60.6039746126155,\n",
       " 'PRIMER_LEFT_4': (64, 20),\n",
       " 'PRIMER_LEFT_4_END_STABILITY': 5.19,\n",
       " 'PRIMER_LEFT_4_GC_PERCENT': 55.0,\n",
       " 'PRIMER_LEFT_4_HAIRPIN_TH': 0.0,\n",
       " 'PRIMER_LEFT_4_PENALTY': 0.5485098850288068,\n",
       " 'PRIMER_LEFT_4_SELF_ANY_TH': 14.281185332787231,\n",
       " 'PRIMER_LEFT_4_SELF_END_TH': 7.548278344245659,\n",
       " 'PRIMER_LEFT_4_SEQUENCE': 'ACAGGGAAGCTTCATAGGCC',\n",
       " 'PRIMER_LEFT_4_TM': 59.45149011497119,\n",
       " 'PRIMER_LEFT_EXPLAIN': 'considered 754, overlap excluded region 6, GC content failed 1, low tm 372, high tm 75, ok 300',\n",
       " 'PRIMER_LEFT_NUM_RETURNED': 5,\n",
       " 'PRIMER_PAIR_0_COMPL_ANY_TH': 3.048596396968719,\n",
       " 'PRIMER_PAIR_0_COMPL_END_TH': 0.966554575716998,\n",
       " 'PRIMER_PAIR_0_PENALTY': 3.6781474421808866,\n",
       " 'PRIMER_PAIR_0_PRODUCT_SIZE': 95,\n",
       " 'PRIMER_PAIR_1_COMPL_ANY_TH': 0.0,\n",
       " 'PRIMER_PAIR_1_COMPL_END_TH': 0.0,\n",
       " 'PRIMER_PAIR_1_PENALTY': 3.6781474421808866,\n",
       " 'PRIMER_PAIR_1_PRODUCT_SIZE': 96,\n",
       " 'PRIMER_PAIR_2_COMPL_ANY_TH': 2.9856842203185465,\n",
       " 'PRIMER_PAIR_2_COMPL_END_TH': 6.534619568810683,\n",
       " 'PRIMER_PAIR_2_PENALTY': 3.733612169767582,\n",
       " 'PRIMER_PAIR_2_PRODUCT_SIZE': 80,\n",
       " 'PRIMER_PAIR_3_COMPL_ANY_TH': 2.9856842203185465,\n",
       " 'PRIMER_PAIR_3_COMPL_END_TH': 6.534619568810683,\n",
       " 'PRIMER_PAIR_3_PENALTY': 3.733612169767582,\n",
       " 'PRIMER_PAIR_3_PRODUCT_SIZE': 81,\n",
       " 'PRIMER_PAIR_4_COMPL_ANY_TH': 0.0,\n",
       " 'PRIMER_PAIR_4_COMPL_END_TH': 0.0,\n",
       " 'PRIMER_PAIR_4_PENALTY': 3.906627492931193,\n",
       " 'PRIMER_PAIR_4_PRODUCT_SIZE': 96,\n",
       " 'PRIMER_PAIR_NUM_RETURNED': 5,\n",
       " 'PRIMER_RIGHT_0': (158, 23),\n",
       " 'PRIMER_RIGHT_0_END_STABILITY': 3.86,\n",
       " 'PRIMER_RIGHT_0_GC_PERCENT': 43.47826086956522,\n",
       " 'PRIMER_RIGHT_0_HAIRPIN_TH': 41.93883632492344,\n",
       " 'PRIMER_RIGHT_0_PENALTY': 3.12963755715208,\n",
       " 'PRIMER_RIGHT_0_SELF_ANY_TH': 0.0,\n",
       " 'PRIMER_RIGHT_0_SELF_END_TH': 0.0,\n",
       " 'PRIMER_RIGHT_0_SEQUENCE': 'CCCGTTTCTTCAAACAAACCTGA',\n",
       " 'PRIMER_RIGHT_0_TM': 59.87036244284792,\n",
       " 'PRIMER_RIGHT_1': (159, 23),\n",
       " 'PRIMER_RIGHT_1_END_STABILITY': 4.0,\n",
       " 'PRIMER_RIGHT_1_GC_PERCENT': 43.47826086956522,\n",
       " 'PRIMER_RIGHT_1_HAIRPIN_TH': 41.93883632492344,\n",
       " 'PRIMER_RIGHT_1_PENALTY': 3.12963755715208,\n",
       " 'PRIMER_RIGHT_1_SELF_ANY_TH': 0.0,\n",
       " 'PRIMER_RIGHT_1_SELF_END_TH': 0.0,\n",
       " 'PRIMER_RIGHT_1_SEQUENCE': 'TCCCGTTTCTTCAAACAAACCTG',\n",
       " 'PRIMER_RIGHT_1_TM': 59.87036244284792,\n",
       " 'PRIMER_RIGHT_2': (158, 23),\n",
       " 'PRIMER_RIGHT_2_END_STABILITY': 3.86,\n",
       " 'PRIMER_RIGHT_2_GC_PERCENT': 43.47826086956522,\n",
       " 'PRIMER_RIGHT_2_HAIRPIN_TH': 41.93883632492344,\n",
       " 'PRIMER_RIGHT_2_PENALTY': 3.12963755715208,\n",
       " 'PRIMER_RIGHT_2_SELF_ANY_TH': 0.0,\n",
       " 'PRIMER_RIGHT_2_SELF_END_TH': 0.0,\n",
       " 'PRIMER_RIGHT_2_SEQUENCE': 'CCCGTTTCTTCAAACAAACCTGA',\n",
       " 'PRIMER_RIGHT_2_TM': 59.87036244284792,\n",
       " 'PRIMER_RIGHT_3': (159, 23),\n",
       " 'PRIMER_RIGHT_3_END_STABILITY': 4.0,\n",
       " 'PRIMER_RIGHT_3_GC_PERCENT': 43.47826086956522,\n",
       " 'PRIMER_RIGHT_3_HAIRPIN_TH': 41.93883632492344,\n",
       " 'PRIMER_RIGHT_3_PENALTY': 3.12963755715208,\n",
       " 'PRIMER_RIGHT_3_SELF_ANY_TH': 0.0,\n",
       " 'PRIMER_RIGHT_3_SELF_END_TH': 0.0,\n",
       " 'PRIMER_RIGHT_3_SEQUENCE': 'TCCCGTTTCTTCAAACAAACCTG',\n",
       " 'PRIMER_RIGHT_3_TM': 59.87036244284792,\n",
       " 'PRIMER_RIGHT_4': (159, 22),\n",
       " 'PRIMER_RIGHT_4_END_STABILITY': 3.5,\n",
       " 'PRIMER_RIGHT_4_GC_PERCENT': 40.90909090909091,\n",
       " 'PRIMER_RIGHT_4_HAIRPIN_TH': 41.93883632492344,\n",
       " 'PRIMER_RIGHT_4_PENALTY': 3.3581176079023862,\n",
       " 'PRIMER_RIGHT_4_SELF_ANY_TH': 0.0,\n",
       " 'PRIMER_RIGHT_4_SELF_END_TH': 0.0,\n",
       " 'PRIMER_RIGHT_4_SEQUENCE': 'TCCCGTTTCTTCAAACAAACCT',\n",
       " 'PRIMER_RIGHT_4_TM': 58.641882392097614,\n",
       " 'PRIMER_RIGHT_EXPLAIN': 'considered 796, low tm 501, high tm 5, high hairpin stability 2, ok 288',\n",
       " 'PRIMER_RIGHT_NUM_RETURNED': 5}"
      ]
     },
     "execution_count": 76,
     "metadata": {},
     "output_type": "execute_result"
    }
   ],
   "source": [
    "P3.designPrimers(target_dict,p3_test_globals)"
   ]
  },
  {
   "cell_type": "code",
   "execution_count": 77,
   "metadata": {
    "collapsed": false
   },
   "outputs": [
    {
     "name": "stdout",
     "output_type": "stream",
     "text": [
      "https://gist.github.com/3f0147e858c40eb95433\r\n"
     ]
    }
   ],
   "source": [
    "!gister -d 'How to use pybedtools to drive bulk design' 2016-01-24PyBedToolsforMarkerDesign.ipynb"
   ]
  },
  {
   "cell_type": "code",
   "execution_count": 68,
   "metadata": {
    "collapsed": false
   },
   "outputs": [
    {
     "name": "stdout",
     "output_type": "stream",
     "text": [
      "https://gist.github.com/3b24004be19d1f55ad25\r\n"
     ]
    }
   ],
   "source": [
    "!gister -e https://gist.github.com/3b24004be19d1f55ad25 2016-01-24PyBedToolsforMarkerDesign.ipynb"
   ]
  }
 ],
 "metadata": {
  "kernelspec": {
   "display_name": "Python 3",
   "language": "python",
   "name": "python3"
  },
  "language_info": {
   "codemirror_mode": {
    "name": "ipython",
    "version": 3
   },
   "file_extension": ".py",
   "mimetype": "text/x-python",
   "name": "python",
   "nbconvert_exporter": "python",
   "pygments_lexer": "ipython3",
   "version": "3.5.1"
  }
 },
 "nbformat": 4,
 "nbformat_minor": 0
}
