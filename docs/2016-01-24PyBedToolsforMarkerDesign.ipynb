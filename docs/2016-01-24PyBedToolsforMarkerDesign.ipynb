{
 "cells": [
  {
   "cell_type": "markdown",
   "metadata": {},
   "source": [
    "# Explore usage of PyBedtools for Marker Design I/O\n",
    "\n",
    "See \n",
    "\n",
    "- http://bedtools.readthedocs.org/en/latest/\n",
    "- http://pythonhosted.org/pybedtools/\n",
    "\n",
    "### Explore usage with Fasta\n",
    "\n",
    "Could possibly use this to get sequence of an amplicon\n",
    "\n",
    "http://pythonhosted.org/pybedtools/autodocs/pybedtools.bedtool.BedTool.seq.html#pybedtools.bedtool.BedTool.seq"
   ]
  },
  {
   "cell_type": "code",
   "execution_count": 97,
   "metadata": {
    "collapsed": true
   },
   "outputs": [],
   "source": [
    "import pybedtools\n",
    "from pybedtools import BedTool"
   ]
  },
  {
   "cell_type": "markdown",
   "metadata": {},
   "source": [
    "### Example from docs"
   ]
  },
  {
   "cell_type": "code",
   "execution_count": 38,
   "metadata": {
    "collapsed": false
   },
   "outputs": [
    {
     "name": "stdout",
     "output_type": "stream",
     "text": [
      ">chr1:1-10\n",
      "GATGAGTCT\n",
      ">chr1:50-55\n",
      "CCATC\n",
      "\n"
     ]
    }
   ],
   "source": [
    "a = BedTool(\"\"\"\n",
    "... chr1 1 10\n",
    "... chr1 50 55\"\"\", from_string=True)\n",
    "fasta = pybedtools.example_filename('test.fa')\n",
    "a = a.sequence(fi=fasta)\n",
    "print(open(a.seqfn).read())"
   ]
  },
  {
   "cell_type": "markdown",
   "metadata": {},
   "source": [
    "### Do same with original test data"
   ]
  },
  {
   "cell_type": "code",
   "execution_count": 2,
   "metadata": {
    "collapsed": false
   },
   "outputs": [
    {
     "name": "stdout",
     "output_type": "stream",
     "text": [
      ">k69_93535\r\n",
      ">k69_98089\r\n"
     ]
    }
   ],
   "source": [
    "!grep '>' /Users/cfljam/Documents/galaxy-pcr-markers/test-data/targets.fasta"
   ]
  },
  {
   "cell_type": "code",
   "execution_count": 90,
   "metadata": {
    "collapsed": false
   },
   "outputs": [
    {
     "name": "stdout",
     "output_type": "stream",
     "text": [
      "k69_93535\t25\t255\n",
      "\n"
     ]
    }
   ],
   "source": [
    "b= BedTool(\"k69_93535 25 255\",from_string=True)\n",
    "b=b.sequence(fi=fn)\n",
    "print(b)"
   ]
  },
  {
   "cell_type": "code",
   "execution_count": 96,
   "metadata": {
    "collapsed": false,
    "scrolled": false
   },
   "outputs": [],
   "source": [
    "b.seq?"
   ]
  },
  {
   "cell_type": "code",
   "execution_count": 91,
   "metadata": {
    "collapsed": false
   },
   "outputs": [
    {
     "data": {
      "text/plain": [
       "'>k69_93535:25-255\\nAGTTTCTCGCCCTCTCCACAGCGCTTTGAAGCGCTTTTAATGGCAGCAGATGCCGCCTCAGATCTCCCAAACCGACCCATTCCTAACACTCTCAGAAGATCCGATTCCAATTCCGTTCTACTGAACAAATACGAGCTGGGCAAGCTCCTCGGCCATGGAAATTTCGCCAAGGTTTACCTCGCCCGCAACCTCGCCTCCAACGAAGAAGTCGCTATCAAAGTCTTCGACAA\\n'"
      ]
     },
     "execution_count": 91,
     "metadata": {},
     "output_type": "execute_result"
    }
   ],
   "source": [
    "open(b.seqfn).read()"
   ]
  },
  {
   "cell_type": "markdown",
   "metadata": {},
   "source": [
    "Will be working with design globals accesible as dict\n",
    "\n",
    "In design mode we would like to  :\n",
    "\n",
    "- load up a fasta\n",
    "- load up a vcf\n",
    "- create dicts for a given target from this\n",
    "    - work with just sub-sequence of fasta i.e. target length +/- product size max slop\n",
    "    - just work with variants in this region\n",
    "    - Target interval which will be vcf record ref feature length\n",
    "    - mask which will be all regions but the target\n",
    "\n",
    "Try using test data from galaxy-pcr-markers and Hong Yang\n",
    "\n",
    "Kiwifruit_pseudomolecule.fa.gz (needs to be bgzipped, not gzipped, and indexed with tabix)\n",
    "\n",
    "Try with specific target in vcf file\n",
    "```\n",
    "Chr1\t10082\t.\tA\tC\n",
    "```\n",
    "\n",
    "(No name for this. How do we handle naming? Assume in many contexts these will have a name..)\n",
    "\n",
    "**NB** The following works fine with uncompressed fasta, fails with bgzipped"
   ]
  },
  {
   "cell_type": "code",
   "execution_count": 156,
   "metadata": {
    "collapsed": false
   },
   "outputs": [
    {
     "data": {
      "text/plain": [
       "'>Chr1:9000-10000\\nTATAACCTGACTAACCATGAACCTGGGTAGAATTCCACTCCTCCACCAAATTTTTTAACTTAACCAAGCATAAATGAATCTGAACGGTTTTAGCCCCCAATTTATATCCTCGTCCACTAACAATAGAAGGCAATGATCAGACAAGTTTCTGTGTAGACCCTACAAAATCAATTTTGGGAAATTCTGTCATTCTCTATCAATAAGAACTCTATCCAACTTGCTCCAGCTTTCATTTTCTTGAAGATTCAACCAAGTGAATTTCCTAACACATAGTGGTAAGTCAACCAAATCCATAAAATGGATGAAATTGTTGAATTCCCTCGTGGCACTGGTGACCCTTGTACTCCCCTTTCTTTTTCCTATTCTTCTTATCTCATTAAGAAGCCTGTATTTAGTGTTACGTGGGGAATCCAAAAAATTGTTTCGGAAGAAGCTAGCGTCACACTACTTAAATGACATGATCTAGTGAGTCTAATCAGCTTCACAGGGCTGAAGCCCTTGCTTCTAGATGCTGTTTTATTTATTTTTCGCACTGTGCTATCTTCCATTTCTGATATCATTTGGTTTGTTGCAAAATCATTATCTAACCAATGTATATCGTACTGTCATCTAAATTACCATAAGAAAAGAAATGTAGAGATGCTTCATTAGATAGTATTGTAGAAAATAAACAAATCTCTTTGGAAGTTAATTTAGAAAGTAACTGAGGGAGTTTGGTCATTCTTGCAGTCAGGGTATGCTTTGTTTTTTACCTGGCTCAGGTGATGCCATTAGCGCAACGCTTGGAAAAGAATTTTGTGTTTGAATCTCTTAATTTTGTGCTGAGGTTATTATTGGTGAATAGCAATCTTTTACGGAAGTACTCTTCCAGATGAGGTGCCAAAAAGTGGAAAATTATAAAGGTACACCTCGAGGTTTATTTTTGCAAGGTGAAAAAATTCTTTGTTTCTCCTTGTATTTCTACAGGTTTTCTCTCTTAGTCTCCTGCACTTCTTTCTAT\\n'"
      ]
     },
     "execution_count": 156,
     "metadata": {},
     "output_type": "execute_result"
    }
   ],
   "source": [
    "my_target=BedTool(\"Chr1 9000 10000\",from_string= True)\n",
    "HY_ref='/Users/cfljam/Documents/Kiwifruit_pseudomolecule.fa'\n",
    "my_target=my_target.sequence(fi=HY_ref)\n",
    "open(my_target.seqfn).read()"
   ]
  },
  {
   "cell_type": "markdown",
   "metadata": {},
   "source": [
    "**NOTE** that VCF location is 1-based, versus bed/py 0-based\n",
    "\n",
    "so bedtools interval for our SNP is 10081-10082"
   ]
  },
  {
   "cell_type": "code",
   "execution_count": 157,
   "metadata": {
    "collapsed": false
   },
   "outputs": [
    {
     "data": {
      "text/plain": [
       "'>Chr1:10080-10083\\nGAT\\n'"
      ]
     },
     "execution_count": 157,
     "metadata": {},
     "output_type": "execute_result"
    }
   ],
   "source": [
    "my_snp=BedTool(\"Chr1 10080 10083\",from_string= True).sequence(fi=HY_ref)\n",
    "open(my_snp.seqfn).read()"
   ]
  },
  {
   "cell_type": "markdown",
   "metadata": {},
   "source": [
    "So...could get string for Primer 3 by reading second line of this tmp file\n",
    "\n",
    "### Try with bedtools"
   ]
  },
  {
   "cell_type": "code",
   "execution_count": 146,
   "metadata": {
    "collapsed": false
   },
   "outputs": [
    {
     "name": "stdout",
     "output_type": "stream",
     "text": [
      "Chr1\t9000\t10000\n",
      ">Chr1:9000-10000\n",
      "TATAACCTGACTAACCATGAACCTGGGTAGAATTCCACTCCTCCACCAAATTTTTTAACTTAACCAAGCATAAATGAATCTGAACGGTTTTAGCCCCCAATTTATATCCTCGTCCACTAACAATAGAAGGCAATGATCAGACAAGTTTCTGTGTAGACCCTACAAAATCAATTTTGGGAAATTCTGTCATTCTCTATCAATAAGAACTCTATCCAACTTGCTCCAGCTTTCATTTTCTTGAAGATTCAACCAAGTGAATTTCCTAACACATAGTGGTAAGTCAACCAAATCCATAAAATGGATGAAATTGTTGAATTCCCTCGTGGCACTGGTGACCCTTGTACTCCCCTTTCTTTTTCCTATTCTTCTTATCTCATTAAGAAGCCTGTATTTAGTGTTACGTGGGGAATCCAAAAAATTGTTTCGGAAGAAGCTAGCGTCACACTACTTAAATGACATGATCTAGTGAGTCTAATCAGCTTCACAGGGCTGAAGCCCTTGCTTCTAGATGCTGTTTTATTTATTTTTCGCACTGTGCTATCTTCCATTTCTGATATCATTTGGTTTGTTGCAAAATCATTATCTAACCAATGTATATCGTACTGTCATCTAAATTACCATAAGAAAAGAAATGTAGAGATGCTTCATTAGATAGTATTGTAGAAAATAAACAAATCTCTTTGGAAGTTAATTTAGAAAGTAACTGAGGGAGTTTGGTCATTCTTGCAGTCAGGGTATGCTTTGTTTTTTACCTGGCTCAGGTGATGCCATTAGCGCAACGCTTGGAAAAGAATTTTGTGTTTGAATCTCTTAATTTTGTGCTGAGGTTATTATTGGTGAATAGCAATCTTTTACGGAAGTACTCTTCCAGATGAGGTGCCAAAAAGTGGAAAATTATAAAGGTACACCTCGAGGTTTATTTTTGCAAGGTGAAAAAATTCTTTGTTTCTCCTTGTATTTCTACAGGTTTTCTCTCTTAGTCTCCTGCACTTCTTTCTAT\n"
     ]
    }
   ],
   "source": [
    "%%bash\n",
    "cat /Users/cfljam/Documents/test.bed\n",
    "bedtools getfasta -fi /Users/cfljam/Documents/Kiwifruit_pseudomolecule.fa \\\n",
    "                    -bed /Users/cfljam/Documents/test.bed \\\n",
    "                    -fo test.fasta\n",
    "head test.fasta"
   ]
  }
 ],
 "metadata": {
  "kernelspec": {
   "display_name": "Python 3",
   "language": "python",
   "name": "python3"
  },
  "language_info": {
   "codemirror_mode": {
    "name": "ipython",
    "version": 3
   },
   "file_extension": ".py",
   "mimetype": "text/x-python",
   "name": "python",
   "nbconvert_exporter": "python",
   "pygments_lexer": "ipython3",
   "version": "3.5.1"
  }
 },
 "nbformat": 4,
 "nbformat_minor": 0
}
