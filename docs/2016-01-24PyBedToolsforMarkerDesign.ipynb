{
 "cells": [
  {
   "cell_type": "markdown",
   "metadata": {},
   "source": [
    "# Explore usage of PyBedtools for Marker Design I/O\n",
    "\n",
    "See \n",
    "\n",
    "- http://bedtools.readthedocs.org/en/latest/\n",
    "- http://pythonhosted.org/pybedtools/\n",
    "\n",
    "### Explore usage with Fasta\n",
    "\n",
    "Could possibly use this to get sequence of an amplicon\n",
    "\n",
    "http://pythonhosted.org/pybedtools/autodocs/pybedtools.bedtool.BedTool.seq.html#pybedtools.bedtool.BedTool.seq\n",
    "\n",
    "also consider other pure py tools https://pypi.python.org/pypi/pyfaidx"
   ]
  },
  {
   "cell_type": "code",
   "execution_count": 9,
   "metadata": {
    "collapsed": false
   },
   "outputs": [
    {
     "data": {
      "text/plain": [
       "'/Users/johnmccallum/anaconda/envs/py3-r-env/bin/python3'"
      ]
     },
     "execution_count": 9,
     "metadata": {},
     "output_type": "execute_result"
    }
   ],
   "source": [
    "import sys\n",
    "sys.executable"
   ]
  },
  {
   "cell_type": "code",
   "execution_count": 8,
   "metadata": {
    "collapsed": false
   },
   "outputs": [
    {
     "data": {
      "text/plain": [
       "['',\n",
       " '/Users/johnmccallum/anaconda/envs/py3-r-env/lib/python35.zip',\n",
       " '/Users/johnmccallum/anaconda/envs/py3-r-env/lib/python3.5',\n",
       " '/Users/johnmccallum/anaconda/envs/py3-r-env/lib/python3.5/plat-darwin',\n",
       " '/Users/johnmccallum/anaconda/envs/py3-r-env/lib/python3.5/lib-dynload',\n",
       " '/Users/johnmccallum/miniconda3/envs/py3-r-env/lib/python3.5/site-packages/setuptools-19.4-py3.5.egg',\n",
       " '/Users/johnmccallum/anaconda/envs/py3-r-env/lib/python3.5/site-packages',\n",
       " '/Users/johnmccallum/anaconda/envs/py3-r-env/lib/python3.5/site-packages/IPython/extensions',\n",
       " '/Users/johnmccallum/.ipython']"
      ]
     },
     "execution_count": 8,
     "metadata": {},
     "output_type": "execute_result"
    }
   ],
   "source": [
    "sys.path"
   ]
  },
  {
   "cell_type": "code",
   "execution_count": 2,
   "metadata": {
    "collapsed": false
   },
   "outputs": [
    {
     "name": "stdout",
     "output_type": "stream",
     "text": [
      "pybedtools==0.7.6\r\n"
     ]
    }
   ],
   "source": [
    "!pip freeze | grep pybedtools"
   ]
  },
  {
   "cell_type": "code",
   "execution_count": 28,
   "metadata": {
    "collapsed": false
   },
   "outputs": [],
   "source": [
    "import pybedtools\n",
    "from pybedtools import BedTool"
   ]
  },
  {
   "cell_type": "code",
   "execution_count": 8,
   "metadata": {
    "collapsed": true
   },
   "outputs": [],
   "source": [
    "from pybedtools import example_filename"
   ]
  },
  {
   "cell_type": "markdown",
   "metadata": {},
   "source": [
    "### Example from docs"
   ]
  },
  {
   "cell_type": "code",
   "execution_count": 9,
   "metadata": {
    "collapsed": false
   },
   "outputs": [
    {
     "name": "stdout",
     "output_type": "stream",
     "text": [
      ">chr1:1-10\n",
      "GATGAGTCT\n",
      ">chr1:50-55\n",
      "CCATC\n",
      "\n"
     ]
    }
   ],
   "source": [
    "a = BedTool(\"\"\"\n",
    "... chr1 1 10\n",
    "... chr1 50 55\"\"\", from_string=True)\n",
    "fasta = example_filename('test.fa')\n",
    "a = a.sequence(fi=fasta)\n",
    "print(open(a.seqfn).read())"
   ]
  },
  {
   "cell_type": "markdown",
   "metadata": {},
   "source": [
    "### Do same with original test data"
   ]
  },
  {
   "cell_type": "code",
   "execution_count": 10,
   "metadata": {
    "collapsed": false
   },
   "outputs": [
    {
     "name": "stdout",
     "output_type": "stream",
     "text": [
      "384um_251453690362217.txt  targets                    targets.fasta              targets.gff\r\n"
     ]
    }
   ],
   "source": [
    "ls /Users/johnmccallum/Documents/pcr_marker_design/test/test-data/"
   ]
  },
  {
   "cell_type": "markdown",
   "metadata": {},
   "source": [
    "Need a genome file"
   ]
  },
  {
   "cell_type": "code",
   "execution_count": 31,
   "metadata": {
    "collapsed": false
   },
   "outputs": [
    {
     "name": "stdout",
     "output_type": "stream",
     "text": [
      "k69_93535\t1628\t11\t60\t61\r\n",
      "k69_98089\t749\t1678\t60\t61\r\n"
     ]
    }
   ],
   "source": [
    "cat ../test/test-data/targets.fasta.fai"
   ]
  },
  {
   "cell_type": "code",
   "execution_count": 30,
   "metadata": {
    "collapsed": true
   },
   "outputs": [],
   "source": [
    "pybedtools.chromsizes?"
   ]
  },
  {
   "cell_type": "code",
   "execution_count": 90,
   "metadata": {
    "collapsed": false
   },
   "outputs": [
    {
     "name": "stdout",
     "output_type": "stream",
     "text": [
      "k69_93535\t25\t255\n",
      "\n"
     ]
    }
   ],
   "source": [
    "b= BedTool(\"k69_93535 25 255\",from_string=True)\n",
    "b=b.sequence(fi=fn)\n",
    "print(b)"
   ]
  },
  {
   "cell_type": "code",
   "execution_count": 11,
   "metadata": {
    "collapsed": true
   },
   "outputs": [],
   "source": [
    "c=BedTool('/Users/johnmccallum/Documents/pcr_marker_design/test/test-data/targets.gff')"
   ]
  },
  {
   "cell_type": "code",
   "execution_count": 17,
   "metadata": {
    "collapsed": false
   },
   "outputs": [
    {
     "name": "stdout",
     "output_type": "stream",
     "text": [
      "k69_93535:SAMTOOLS:SNP:1147\r\n",
      "k69_93535:SAMTOOLS:SNP:1336\r\n",
      "k69_98089:SAMTOOLS:SNP:30\r\n",
      "k69_98089:SAMTOOLS:SNP:550\r\n",
      "k69_98089:SAMTOOLS:SNP:625\r\n"
     ]
    }
   ],
   "source": [
    "!cat /Users/johnmccallum/Documents/pcr_marker_design/test/test-data/targets"
   ]
  },
  {
   "cell_type": "code",
   "execution_count": 18,
   "metadata": {
    "collapsed": true
   },
   "outputs": [],
   "source": [
    "t1=BedTool('k69_93535 1146 1147',from_string=True)"
   ]
  },
  {
   "cell_type": "markdown",
   "metadata": {},
   "source": [
    "Get annotations within _max product size_"
   ]
  },
  {
   "cell_type": "code",
   "execution_count": 44,
   "metadata": {
    "collapsed": false
   },
   "outputs": [
    {
     "name": "stdout",
     "output_type": "stream",
     "text": [
      "k69_93535\tSAMTOOLS\tSNP\t1141\t1142\t999\t.\t.\tID=k69_93535:SAMTOOLS:SNP:1141;Variant_seq=T;Reference_seq=C;DP=2644;VDB=0.0374;AF1=0.1882;AC1=5;DP4=748,786,225,294;MQ=42;FQ=999;PV4=0.037,0,0.036,0.39\n",
      "k69_93535\tSAMTOOLS\tSNP\t1147\t1148\t999\t.\t.\tID=k69_93535:SAMTOOLS:SNP:1147;Variant_seq=G;Reference_seq=C;DP=2645;VDB=0.0371;AF1=0.3527;G3=0.2771,0.7229,6.934e-153;HWE=0.0248;AC1=8;DP4=733,804,447,519;MQ=42;FQ=999;PV4=0.51,0,0.027,1\n",
      "k69_93535\tSAMTOOLS\tSNP\t1336\t1337\t999\t.\t.\tID=k69_93535:SAMTOOLS:SNP:1336;Variant_seq=A;Reference_seq=G;DP=2211;VDB=0.0395;AF1=0.4583;G3=0.08329,0.9167,1.041e-76;HWE=0.000925;AC1=11;DP4=487,645,470,542;MQ=35;FQ=999;PV4=0.12,0,0.00016,0.36\n",
      "\n"
     ]
    }
   ],
   "source": [
    "max_product_size=200\n",
    "my_target_region=c.intersect(t1.slop(b=max_product_size,g='../test/test-data/targets.fasta.fai'))\n",
    "print(my_target_region)"
   ]
  },
  {
   "cell_type": "markdown",
   "metadata": {},
   "source": [
    "Can use operator overloading to exclude our target"
   ]
  },
  {
   "cell_type": "code",
   "execution_count": 45,
   "metadata": {
    "collapsed": false
   },
   "outputs": [
    {
     "name": "stdout",
     "output_type": "stream",
     "text": [
      "k69_93535\tSAMTOOLS\tSNP\t1141\t1142\t999\t.\t.\tID=k69_93535:SAMTOOLS:SNP:1141;Variant_seq=T;Reference_seq=C;DP=2644;VDB=0.0374;AF1=0.1882;AC1=5;DP4=748,786,225,294;MQ=42;FQ=999;PV4=0.037,0,0.036,0.39\n",
      "k69_93535\tSAMTOOLS\tSNP\t1336\t1337\t999\t.\t.\tID=k69_93535:SAMTOOLS:SNP:1336;Variant_seq=A;Reference_seq=G;DP=2211;VDB=0.0395;AF1=0.4583;G3=0.08329,0.9167,1.041e-76;HWE=0.000925;AC1=11;DP4=487,645,470,542;MQ=35;FQ=999;PV4=0.12,0,0.00016,0.36\n",
      "\n"
     ]
    }
   ],
   "source": [
    "print(my_target_region - t1)"
   ]
  },
  {
   "cell_type": "markdown",
   "metadata": {
    "collapsed": false,
    "scrolled": false
   },
   "source": [
    "b.seq?"
   ]
  },
  {
   "cell_type": "code",
   "execution_count": 91,
   "metadata": {
    "collapsed": false
   },
   "outputs": [
    {
     "data": {
      "text/plain": [
       "'>k69_93535:25-255\\nAGTTTCTCGCCCTCTCCACAGCGCTTTGAAGCGCTTTTAATGGCAGCAGATGCCGCCTCAGATCTCCCAAACCGACCCATTCCTAACACTCTCAGAAGATCCGATTCCAATTCCGTTCTACTGAACAAATACGAGCTGGGCAAGCTCCTCGGCCATGGAAATTTCGCCAAGGTTTACCTCGCCCGCAACCTCGCCTCCAACGAAGAAGTCGCTATCAAAGTCTTCGACAA\\n'"
      ]
     },
     "execution_count": 91,
     "metadata": {},
     "output_type": "execute_result"
    }
   ],
   "source": [
    "open(b.seqfn).read()"
   ]
  },
  {
   "cell_type": "markdown",
   "metadata": {},
   "source": [
    "Will be working with design globals accesible as dict\n",
    "\n",
    "In design mode we would like to  :\n",
    "\n",
    "- load up a fasta\n",
    "- load up a vcf\n",
    "- create dicts for a given target from this\n",
    "    - work with just sub-sequence of fasta i.e. target length +/- product size max slop\n",
    "    - just work with variants in this region\n",
    "    - Target interval which will be vcf record ref feature length\n",
    "    - mask which will be all regions but the target\n",
    "\n",
    "Try using test data from galaxy-pcr-markers and Hong Yang\n",
    "\n",
    "Kiwifruit_pseudomolecule.fa.gz (needs to be bgzipped, not gzipped, and indexed with tabix)\n",
    "\n",
    "Try with specific target in vcf file\n",
    "```\n",
    "Chr1\t10082\t.\tA\tC\n",
    "```\n",
    "\n",
    "(No name for this. How do we handle naming? Assume in many contexts these will have a name..)\n",
    "\n",
    "**NB** The following works fine with uncompressed fasta, fails with bgzipped"
   ]
  },
  {
   "cell_type": "code",
   "execution_count": 156,
   "metadata": {
    "collapsed": false
   },
   "outputs": [
    {
     "data": {
      "text/plain": [
       "'>Chr1:9000-10000\\nTATAACCTGACTAACCATGAACCTGGGTAGAATTCCACTCCTCCACCAAATTTTTTAACTTAACCAAGCATAAATGAATCTGAACGGTTTTAGCCCCCAATTTATATCCTCGTCCACTAACAATAGAAGGCAATGATCAGACAAGTTTCTGTGTAGACCCTACAAAATCAATTTTGGGAAATTCTGTCATTCTCTATCAATAAGAACTCTATCCAACTTGCTCCAGCTTTCATTTTCTTGAAGATTCAACCAAGTGAATTTCCTAACACATAGTGGTAAGTCAACCAAATCCATAAAATGGATGAAATTGTTGAATTCCCTCGTGGCACTGGTGACCCTTGTACTCCCCTTTCTTTTTCCTATTCTTCTTATCTCATTAAGAAGCCTGTATTTAGTGTTACGTGGGGAATCCAAAAAATTGTTTCGGAAGAAGCTAGCGTCACACTACTTAAATGACATGATCTAGTGAGTCTAATCAGCTTCACAGGGCTGAAGCCCTTGCTTCTAGATGCTGTTTTATTTATTTTTCGCACTGTGCTATCTTCCATTTCTGATATCATTTGGTTTGTTGCAAAATCATTATCTAACCAATGTATATCGTACTGTCATCTAAATTACCATAAGAAAAGAAATGTAGAGATGCTTCATTAGATAGTATTGTAGAAAATAAACAAATCTCTTTGGAAGTTAATTTAGAAAGTAACTGAGGGAGTTTGGTCATTCTTGCAGTCAGGGTATGCTTTGTTTTTTACCTGGCTCAGGTGATGCCATTAGCGCAACGCTTGGAAAAGAATTTTGTGTTTGAATCTCTTAATTTTGTGCTGAGGTTATTATTGGTGAATAGCAATCTTTTACGGAAGTACTCTTCCAGATGAGGTGCCAAAAAGTGGAAAATTATAAAGGTACACCTCGAGGTTTATTTTTGCAAGGTGAAAAAATTCTTTGTTTCTCCTTGTATTTCTACAGGTTTTCTCTCTTAGTCTCCTGCACTTCTTTCTAT\\n'"
      ]
     },
     "execution_count": 156,
     "metadata": {},
     "output_type": "execute_result"
    }
   ],
   "source": [
    "my_target=BedTool(\"Chr1 9000 10000\",from_string= True)\n",
    "HY_ref='/Users/cfljam/Documents/Kiwifruit_pseudomolecule.fa'\n",
    "my_target=my_target.sequence(fi=HY_ref)\n",
    "open(my_target.seqfn).read()"
   ]
  },
  {
   "cell_type": "markdown",
   "metadata": {},
   "source": [
    "**NOTE** that VCF location is 1-based, versus bed/py 0-based\n",
    "\n",
    "so bedtools interval for our SNP is 10081-10082"
   ]
  },
  {
   "cell_type": "code",
   "execution_count": 157,
   "metadata": {
    "collapsed": false
   },
   "outputs": [
    {
     "data": {
      "text/plain": [
       "'>Chr1:10080-10083\\nGAT\\n'"
      ]
     },
     "execution_count": 157,
     "metadata": {},
     "output_type": "execute_result"
    }
   ],
   "source": [
    "my_snp=BedTool(\"Chr1 10080 10083\",from_string= True).sequence(fi=HY_ref)\n",
    "open(my_snp.seqfn).read()"
   ]
  },
  {
   "cell_type": "markdown",
   "metadata": {},
   "source": [
    "So...could get string for Primer 3 by reading second line of this tmp file\n",
    "\n",
    "### Try with bedtools"
   ]
  },
  {
   "cell_type": "code",
   "execution_count": 146,
   "metadata": {
    "collapsed": false
   },
   "outputs": [
    {
     "name": "stdout",
     "output_type": "stream",
     "text": [
      "Chr1\t9000\t10000\n",
      ">Chr1:9000-10000\n",
      "TATAACCTGACTAACCATGAACCTGGGTAGAATTCCACTCCTCCACCAAATTTTTTAACTTAACCAAGCATAAATGAATCTGAACGGTTTTAGCCCCCAATTTATATCCTCGTCCACTAACAATAGAAGGCAATGATCAGACAAGTTTCTGTGTAGACCCTACAAAATCAATTTTGGGAAATTCTGTCATTCTCTATCAATAAGAACTCTATCCAACTTGCTCCAGCTTTCATTTTCTTGAAGATTCAACCAAGTGAATTTCCTAACACATAGTGGTAAGTCAACCAAATCCATAAAATGGATGAAATTGTTGAATTCCCTCGTGGCACTGGTGACCCTTGTACTCCCCTTTCTTTTTCCTATTCTTCTTATCTCATTAAGAAGCCTGTATTTAGTGTTACGTGGGGAATCCAAAAAATTGTTTCGGAAGAAGCTAGCGTCACACTACTTAAATGACATGATCTAGTGAGTCTAATCAGCTTCACAGGGCTGAAGCCCTTGCTTCTAGATGCTGTTTTATTTATTTTTCGCACTGTGCTATCTTCCATTTCTGATATCATTTGGTTTGTTGCAAAATCATTATCTAACCAATGTATATCGTACTGTCATCTAAATTACCATAAGAAAAGAAATGTAGAGATGCTTCATTAGATAGTATTGTAGAAAATAAACAAATCTCTTTGGAAGTTAATTTAGAAAGTAACTGAGGGAGTTTGGTCATTCTTGCAGTCAGGGTATGCTTTGTTTTTTACCTGGCTCAGGTGATGCCATTAGCGCAACGCTTGGAAAAGAATTTTGTGTTTGAATCTCTTAATTTTGTGCTGAGGTTATTATTGGTGAATAGCAATCTTTTACGGAAGTACTCTTCCAGATGAGGTGCCAAAAAGTGGAAAATTATAAAGGTACACCTCGAGGTTTATTTTTGCAAGGTGAAAAAATTCTTTGTTTCTCCTTGTATTTCTACAGGTTTTCTCTCTTAGTCTCCTGCACTTCTTTCTAT\n"
     ]
    }
   ],
   "source": [
    "%%bash\n",
    "cat /Users/cfljam/Documents/test.bed\n",
    "bedtools getfasta -fi /Users/cfljam/Documents/Kiwifruit_pseudomolecule.fa \\\n",
    "                    -bed /Users/cfljam/Documents/test.bed \\\n",
    "                    -fo test.fasta\n",
    "head test.fasta"
   ]
  }
 ],
 "metadata": {
  "kernelspec": {
   "display_name": "Python 3",
   "language": "python",
   "name": "python3"
  },
  "language_info": {
   "codemirror_mode": {
    "name": "ipython",
    "version": 3
   },
   "file_extension": ".py",
   "mimetype": "text/x-python",
   "name": "python",
   "nbconvert_exporter": "python",
   "pygments_lexer": "ipython3",
   "version": "3.5.1"
  }
 },
 "nbformat": 4,
 "nbformat_minor": 0
}
