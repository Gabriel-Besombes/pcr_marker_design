{
 "cells": [
  {
   "cell_type": "markdown",
   "metadata": {},
   "source": [
    "# Test Whether Design Primers is Working\n",
    "\n",
    ">Test whether we can design using the old test data"
   ]
  },
  {
   "cell_type": "code",
   "execution_count": 1,
   "metadata": {
    "collapsed": false
   },
   "outputs": [
    {
     "name": "stdout",
     "output_type": "stream",
     "text": [
      "total 840\r\n",
      "-rw-------@ 1 cfljam  2071257606    3591 29 Jan  2016 384um_251453690362217.txt\r\n",
      "-rw-r--r--  1 cfljam  2071257606  363591 15 Aug 21:16 Chr9_Myb210.vcf\r\n",
      "-rw-r--r--  1 cfljam  2071257606   38535 15 Aug 21:16 Chr9_Myb210.vcf.gz\r\n",
      "-rw-r--r--  1 cfljam  2071257606     136 19 Feb 13:46 targets\r\n",
      "-rw-r--r--  1 cfljam  2071257606    2440 19 Feb 13:46 targets.fasta\r\n",
      "-rw-r--r--  1 cfljam  2071257606      49 24 Feb 10:55 targets.fasta.fai\r\n",
      "-rw-r--r--  1 cfljam  2071257606    6584 19 Feb 13:46 targets.gff\r\n"
     ]
    }
   ],
   "source": [
    "!ls -l ../test/test-data/"
   ]
  },
  {
   "cell_type": "code",
   "execution_count": 4,
   "metadata": {
    "collapsed": false
   },
   "outputs": [
    {
     "name": "stdout",
     "output_type": "stream",
     "text": [
      "LICENSE                    \u001b[34mpcr_marker_design.egg-info\u001b[m\u001b[m\r\n",
      "README.md                  setup.py\r\n",
      "README.rst                 \u001b[34mtest\u001b[m\u001b[m\r\n",
      "\u001b[31mdesign_primers.py\u001b[m\u001b[m          tox.ini\r\n",
      "\u001b[34mdocs\u001b[m\u001b[m                       umelt_classes.dia\r\n",
      "\u001b[34mpcr_marker_design\u001b[m\u001b[m          umelt_classes.svg\r\n"
     ]
    }
   ],
   "source": [
    "!ls .."
   ]
  },
  {
   "cell_type": "code",
   "execution_count": 5,
   "metadata": {
    "collapsed": false
   },
   "outputs": [
    {
     "name": "stdout",
     "output_type": "stream",
     "text": [
      "\n",
      "Oops, an argument is missing/invalid, exiting...\n",
      "\n"
     ]
    },
    {
     "name": "stderr",
     "output_type": "stream",
     "text": [
      "usage: design_primers.py [-h] -i IN_FILE -g GFF_FILE -T TARGET_FILE [-u]\n",
      "                         [-n MAX_PRIMERS] [-p PROD_MIN_SIZE]\n",
      "                         [-P PROD_MAX_SIZE] [-l OPT_PRIMER_LENGTH]\n",
      "                         [-m MAX_TM_DIFF] [-t OPTIMUM_TM] [-G OPT_GC_PERCENT]\n",
      "                         [-x MAXPOLYX] [-c GC_CLAMP] [-e MAXSELFEND]\n",
      "                         [-a MAXSELFANY] [-maxgc MAXGC] [-mingc MINGC]\n",
      "                         [-d TARGET_DELIM]\n",
      "design_primers.py: error: argument -i is required\n"
     ]
    }
   ],
   "source": [
    "%run ../design_primers.py"
   ]
  }
 ],
 "metadata": {
  "kernelspec": {
   "display_name": "Python 2",
   "language": "python",
   "name": "python2"
  },
  "language_info": {
   "codemirror_mode": {
    "name": "ipython",
    "version": 2
   },
   "file_extension": ".py",
   "mimetype": "text/x-python",
   "name": "python",
   "nbconvert_exporter": "python",
   "pygments_lexer": "ipython2",
   "version": "2.7.12"
  }
 },
 "nbformat": 4,
 "nbformat_minor": 0
}
