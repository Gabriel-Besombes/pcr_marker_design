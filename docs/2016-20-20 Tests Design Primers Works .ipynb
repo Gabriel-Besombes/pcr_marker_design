{
 "cells": [
  {
   "cell_type": "markdown",
   "metadata": {},
   "source": [
    "# Test Whether Design Primers is Working\n",
    "\n",
    ">Test whether we can design using the old test data"
   ]
  },
  {
   "cell_type": "code",
   "execution_count": 3,
   "metadata": {
    "collapsed": false
   },
   "outputs": [
    {
     "name": "stdout",
     "output_type": "stream",
     "text": [
      "total 40\r\n",
      "-rw-r--r--  1 johnmccallum  staff  3591 20 Feb 06:01 384um_251453690362217.txt\r\n",
      "-rw-r--r--  1 johnmccallum  staff   136 20 Feb 06:01 targets\r\n",
      "-rw-r--r--  1 johnmccallum  staff  2440 20 Feb 06:01 targets.fasta\r\n",
      "-rw-r--r--  1 johnmccallum  staff  6584 20 Feb 06:01 targets.gff\r\n"
     ]
    }
   ],
   "source": [
    "!ls -l ../test/test-data/"
   ]
  },
  {
   "cell_type": "code",
   "execution_count": 5,
   "metadata": {
    "collapsed": false
   },
   "outputs": [
    {
     "ename": "TabError",
     "evalue": "inconsistent use of tabs and spaces in indentation (design_primers.py, line 147)",
     "output_type": "error",
     "traceback": [
      "\u001b[0;36m  File \u001b[0;32m\"/Users/johnmccallum/Documents/pcr_marker_design/pcr_marker_design/design_primers.py\"\u001b[0;36m, line \u001b[0;32m147\u001b[0m\n\u001b[0;31m    exclude_feat = list(targetRec.features) ##list copy to avoid possible side-effects\u001b[0m\n\u001b[0m                                                                                      ^\u001b[0m\n\u001b[0;31mTabError\u001b[0m\u001b[0;31m:\u001b[0m inconsistent use of tabs and spaces in indentation\n"
     ]
    }
   ],
   "source": [
    "%run ../pcr_marker_design/design_primers.py"
   ]
  }
 ],
 "metadata": {
  "kernelspec": {
   "display_name": "Python 3",
   "language": "python",
   "name": "python3"
  },
  "language_info": {
   "codemirror_mode": {
    "name": "ipython",
    "version": 3
   },
   "file_extension": ".py",
   "mimetype": "text/x-python",
   "name": "python",
   "nbconvert_exporter": "python",
   "pygments_lexer": "ipython3",
   "version": "3.5.1"
  }
 },
 "nbformat": 4,
 "nbformat_minor": 0
}
